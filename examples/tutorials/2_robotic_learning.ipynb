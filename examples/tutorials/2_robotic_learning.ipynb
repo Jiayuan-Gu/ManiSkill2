{
  "nbformat": 4,
  "nbformat_minor": 0,
  "metadata": {
    "colab": {
      "provenance": [],
      "collapsed_sections": [
        "1T7S6wmryEub"
      ],
      "authorship_tag": "ABX9TyNkzdUPrI4FnA63YQf76BhQ",
      "include_colab_link": true
    },
    "kernelspec": {
      "name": "python3",
      "display_name": "Python 3"
    },
    "language_info": {
      "name": "python"
    },
    "accelerator": "GPU",
    "gpuClass": "standard",
    "widgets": {
      "application/vnd.jupyter.widget-state+json": {
        "4bbf9c9406074ef79806915f24bab739": {
          "model_module": "@jupyter-widgets/controls",
          "model_name": "HBoxModel",
          "model_module_version": "1.5.0",
          "state": {
            "_dom_classes": [],
            "_model_module": "@jupyter-widgets/controls",
            "_model_module_version": "1.5.0",
            "_model_name": "HBoxModel",
            "_view_count": null,
            "_view_module": "@jupyter-widgets/controls",
            "_view_module_version": "1.5.0",
            "_view_name": "HBoxView",
            "box_style": "",
            "children": [
              "IPY_MODEL_54241f7833df4179a4730827b80c773a",
              "IPY_MODEL_ae3eb1ebb19346858b304b2100f57f1e",
              "IPY_MODEL_73485cb8cbc348c49488cdbbf903e386"
            ],
            "layout": "IPY_MODEL_f9c85613d1124ac09aaa23a69e385555"
          }
        },
        "54241f7833df4179a4730827b80c773a": {
          "model_module": "@jupyter-widgets/controls",
          "model_name": "HTMLModel",
          "model_module_version": "1.5.0",
          "state": {
            "_dom_classes": [],
            "_model_module": "@jupyter-widgets/controls",
            "_model_module_version": "1.5.0",
            "_model_name": "HTMLModel",
            "_view_count": null,
            "_view_module": "@jupyter-widgets/controls",
            "_view_module_version": "1.5.0",
            "_view_name": "HTMLView",
            "description": "",
            "description_tooltip": null,
            "layout": "IPY_MODEL_33c584a7626240279ee50e604ab70fe1",
            "placeholder": "​",
            "style": "IPY_MODEL_f8013782bd294bc7b84df3092f84f5f5",
            "value": "100%"
          }
        },
        "ae3eb1ebb19346858b304b2100f57f1e": {
          "model_module": "@jupyter-widgets/controls",
          "model_name": "FloatProgressModel",
          "model_module_version": "1.5.0",
          "state": {
            "_dom_classes": [],
            "_model_module": "@jupyter-widgets/controls",
            "_model_module_version": "1.5.0",
            "_model_name": "FloatProgressModel",
            "_view_count": null,
            "_view_module": "@jupyter-widgets/controls",
            "_view_module_version": "1.5.0",
            "_view_name": "ProgressView",
            "bar_style": "success",
            "description": "",
            "description_tooltip": null,
            "layout": "IPY_MODEL_ee5e84e4941a4c638463aa2b95683d8b",
            "max": 200,
            "min": 0,
            "orientation": "horizontal",
            "style": "IPY_MODEL_a812d49d000c4a7bac3247b6fc89a2ee",
            "value": 200
          }
        },
        "73485cb8cbc348c49488cdbbf903e386": {
          "model_module": "@jupyter-widgets/controls",
          "model_name": "HTMLModel",
          "model_module_version": "1.5.0",
          "state": {
            "_dom_classes": [],
            "_model_module": "@jupyter-widgets/controls",
            "_model_module_version": "1.5.0",
            "_model_name": "HTMLModel",
            "_view_count": null,
            "_view_module": "@jupyter-widgets/controls",
            "_view_module_version": "1.5.0",
            "_view_name": "HTMLView",
            "description": "",
            "description_tooltip": null,
            "layout": "IPY_MODEL_cee599e498a1465c8206ca994c42e44f",
            "placeholder": "​",
            "style": "IPY_MODEL_93baa18066af4dde901d9aca8c89a889",
            "value": " 200/200 [00:24&lt;00:00,  7.66it/s]"
          }
        },
        "f9c85613d1124ac09aaa23a69e385555": {
          "model_module": "@jupyter-widgets/base",
          "model_name": "LayoutModel",
          "model_module_version": "1.2.0",
          "state": {
            "_model_module": "@jupyter-widgets/base",
            "_model_module_version": "1.2.0",
            "_model_name": "LayoutModel",
            "_view_count": null,
            "_view_module": "@jupyter-widgets/base",
            "_view_module_version": "1.2.0",
            "_view_name": "LayoutView",
            "align_content": null,
            "align_items": null,
            "align_self": null,
            "border": null,
            "bottom": null,
            "display": null,
            "flex": null,
            "flex_flow": null,
            "grid_area": null,
            "grid_auto_columns": null,
            "grid_auto_flow": null,
            "grid_auto_rows": null,
            "grid_column": null,
            "grid_gap": null,
            "grid_row": null,
            "grid_template_areas": null,
            "grid_template_columns": null,
            "grid_template_rows": null,
            "height": null,
            "justify_content": null,
            "justify_items": null,
            "left": null,
            "margin": null,
            "max_height": null,
            "max_width": null,
            "min_height": null,
            "min_width": null,
            "object_fit": null,
            "object_position": null,
            "order": null,
            "overflow": null,
            "overflow_x": null,
            "overflow_y": null,
            "padding": null,
            "right": null,
            "top": null,
            "visibility": null,
            "width": null
          }
        },
        "33c584a7626240279ee50e604ab70fe1": {
          "model_module": "@jupyter-widgets/base",
          "model_name": "LayoutModel",
          "model_module_version": "1.2.0",
          "state": {
            "_model_module": "@jupyter-widgets/base",
            "_model_module_version": "1.2.0",
            "_model_name": "LayoutModel",
            "_view_count": null,
            "_view_module": "@jupyter-widgets/base",
            "_view_module_version": "1.2.0",
            "_view_name": "LayoutView",
            "align_content": null,
            "align_items": null,
            "align_self": null,
            "border": null,
            "bottom": null,
            "display": null,
            "flex": null,
            "flex_flow": null,
            "grid_area": null,
            "grid_auto_columns": null,
            "grid_auto_flow": null,
            "grid_auto_rows": null,
            "grid_column": null,
            "grid_gap": null,
            "grid_row": null,
            "grid_template_areas": null,
            "grid_template_columns": null,
            "grid_template_rows": null,
            "height": null,
            "justify_content": null,
            "justify_items": null,
            "left": null,
            "margin": null,
            "max_height": null,
            "max_width": null,
            "min_height": null,
            "min_width": null,
            "object_fit": null,
            "object_position": null,
            "order": null,
            "overflow": null,
            "overflow_x": null,
            "overflow_y": null,
            "padding": null,
            "right": null,
            "top": null,
            "visibility": null,
            "width": null
          }
        },
        "f8013782bd294bc7b84df3092f84f5f5": {
          "model_module": "@jupyter-widgets/controls",
          "model_name": "DescriptionStyleModel",
          "model_module_version": "1.5.0",
          "state": {
            "_model_module": "@jupyter-widgets/controls",
            "_model_module_version": "1.5.0",
            "_model_name": "DescriptionStyleModel",
            "_view_count": null,
            "_view_module": "@jupyter-widgets/base",
            "_view_module_version": "1.2.0",
            "_view_name": "StyleView",
            "description_width": ""
          }
        },
        "ee5e84e4941a4c638463aa2b95683d8b": {
          "model_module": "@jupyter-widgets/base",
          "model_name": "LayoutModel",
          "model_module_version": "1.2.0",
          "state": {
            "_model_module": "@jupyter-widgets/base",
            "_model_module_version": "1.2.0",
            "_model_name": "LayoutModel",
            "_view_count": null,
            "_view_module": "@jupyter-widgets/base",
            "_view_module_version": "1.2.0",
            "_view_name": "LayoutView",
            "align_content": null,
            "align_items": null,
            "align_self": null,
            "border": null,
            "bottom": null,
            "display": null,
            "flex": null,
            "flex_flow": null,
            "grid_area": null,
            "grid_auto_columns": null,
            "grid_auto_flow": null,
            "grid_auto_rows": null,
            "grid_column": null,
            "grid_gap": null,
            "grid_row": null,
            "grid_template_areas": null,
            "grid_template_columns": null,
            "grid_template_rows": null,
            "height": null,
            "justify_content": null,
            "justify_items": null,
            "left": null,
            "margin": null,
            "max_height": null,
            "max_width": null,
            "min_height": null,
            "min_width": null,
            "object_fit": null,
            "object_position": null,
            "order": null,
            "overflow": null,
            "overflow_x": null,
            "overflow_y": null,
            "padding": null,
            "right": null,
            "top": null,
            "visibility": null,
            "width": null
          }
        },
        "a812d49d000c4a7bac3247b6fc89a2ee": {
          "model_module": "@jupyter-widgets/controls",
          "model_name": "ProgressStyleModel",
          "model_module_version": "1.5.0",
          "state": {
            "_model_module": "@jupyter-widgets/controls",
            "_model_module_version": "1.5.0",
            "_model_name": "ProgressStyleModel",
            "_view_count": null,
            "_view_module": "@jupyter-widgets/base",
            "_view_module_version": "1.2.0",
            "_view_name": "StyleView",
            "bar_color": null,
            "description_width": ""
          }
        },
        "cee599e498a1465c8206ca994c42e44f": {
          "model_module": "@jupyter-widgets/base",
          "model_name": "LayoutModel",
          "model_module_version": "1.2.0",
          "state": {
            "_model_module": "@jupyter-widgets/base",
            "_model_module_version": "1.2.0",
            "_model_name": "LayoutModel",
            "_view_count": null,
            "_view_module": "@jupyter-widgets/base",
            "_view_module_version": "1.2.0",
            "_view_name": "LayoutView",
            "align_content": null,
            "align_items": null,
            "align_self": null,
            "border": null,
            "bottom": null,
            "display": null,
            "flex": null,
            "flex_flow": null,
            "grid_area": null,
            "grid_auto_columns": null,
            "grid_auto_flow": null,
            "grid_auto_rows": null,
            "grid_column": null,
            "grid_gap": null,
            "grid_row": null,
            "grid_template_areas": null,
            "grid_template_columns": null,
            "grid_template_rows": null,
            "height": null,
            "justify_content": null,
            "justify_items": null,
            "left": null,
            "margin": null,
            "max_height": null,
            "max_width": null,
            "min_height": null,
            "min_width": null,
            "object_fit": null,
            "object_position": null,
            "order": null,
            "overflow": null,
            "overflow_x": null,
            "overflow_y": null,
            "padding": null,
            "right": null,
            "top": null,
            "visibility": null,
            "width": null
          }
        },
        "93baa18066af4dde901d9aca8c89a889": {
          "model_module": "@jupyter-widgets/controls",
          "model_name": "DescriptionStyleModel",
          "model_module_version": "1.5.0",
          "state": {
            "_model_module": "@jupyter-widgets/controls",
            "_model_module_version": "1.5.0",
            "_model_name": "DescriptionStyleModel",
            "_view_count": null,
            "_view_module": "@jupyter-widgets/base",
            "_view_module_version": "1.2.0",
            "_view_name": "StyleView",
            "description_width": ""
          }
        },
        "d0fdaa42e8364074bf55e4ba4bf4d80f": {
          "model_module": "@jupyter-widgets/controls",
          "model_name": "HBoxModel",
          "model_module_version": "1.5.0",
          "state": {
            "_dom_classes": [],
            "_model_module": "@jupyter-widgets/controls",
            "_model_module_version": "1.5.0",
            "_model_name": "HBoxModel",
            "_view_count": null,
            "_view_module": "@jupyter-widgets/controls",
            "_view_module_version": "1.5.0",
            "_view_name": "HBoxView",
            "box_style": "",
            "children": [
              "IPY_MODEL_798790c7e8f242e7b4eea8705ad0f156",
              "IPY_MODEL_fffd0d997b6c4fa38b40bb98c9732d1d",
              "IPY_MODEL_71a7e02a1b3e4db091950061d834ca19"
            ],
            "layout": "IPY_MODEL_33a50921e9c84998a739e408040efa8f"
          }
        },
        "798790c7e8f242e7b4eea8705ad0f156": {
          "model_module": "@jupyter-widgets/controls",
          "model_name": "HTMLModel",
          "model_module_version": "1.5.0",
          "state": {
            "_dom_classes": [],
            "_model_module": "@jupyter-widgets/controls",
            "_model_module_version": "1.5.0",
            "_model_name": "HTMLModel",
            "_view_count": null,
            "_view_module": "@jupyter-widgets/controls",
            "_view_module_version": "1.5.0",
            "_view_name": "HTMLView",
            "description": "",
            "description_tooltip": null,
            "layout": "IPY_MODEL_bf2ab2c3f4414d1d977d8ef59eee87ed",
            "placeholder": "​",
            "style": "IPY_MODEL_b8f3f1a3bd094262a0474512e9dbbb0f",
            "value": "  1%"
          }
        },
        "fffd0d997b6c4fa38b40bb98c9732d1d": {
          "model_module": "@jupyter-widgets/controls",
          "model_name": "FloatProgressModel",
          "model_module_version": "1.5.0",
          "state": {
            "_dom_classes": [],
            "_model_module": "@jupyter-widgets/controls",
            "_model_module_version": "1.5.0",
            "_model_name": "FloatProgressModel",
            "_view_count": null,
            "_view_module": "@jupyter-widgets/controls",
            "_view_module_version": "1.5.0",
            "_view_name": "ProgressView",
            "bar_style": "",
            "description": "",
            "description_tooltip": null,
            "layout": "IPY_MODEL_3157cbaff18f4ba4b567168e3b51e96b",
            "max": 30000,
            "min": 0,
            "orientation": "horizontal",
            "style": "IPY_MODEL_4159e990def2410a85f0dd611683521b",
            "value": 193
          }
        },
        "71a7e02a1b3e4db091950061d834ca19": {
          "model_module": "@jupyter-widgets/controls",
          "model_name": "HTMLModel",
          "model_module_version": "1.5.0",
          "state": {
            "_dom_classes": [],
            "_model_module": "@jupyter-widgets/controls",
            "_model_module_version": "1.5.0",
            "_model_name": "HTMLModel",
            "_view_count": null,
            "_view_module": "@jupyter-widgets/controls",
            "_view_module_version": "1.5.0",
            "_view_name": "HTMLView",
            "description": "",
            "description_tooltip": null,
            "layout": "IPY_MODEL_bb4904bfada4485bae303dc720b341ab",
            "placeholder": "​",
            "style": "IPY_MODEL_349bc30ee42b4297ab753929d4ed9eaa",
            "value": " 193/30000 [03:31&lt;9:01:46,  1.09s/it, loss=0.00709]"
          }
        },
        "33a50921e9c84998a739e408040efa8f": {
          "model_module": "@jupyter-widgets/base",
          "model_name": "LayoutModel",
          "model_module_version": "1.2.0",
          "state": {
            "_model_module": "@jupyter-widgets/base",
            "_model_module_version": "1.2.0",
            "_model_name": "LayoutModel",
            "_view_count": null,
            "_view_module": "@jupyter-widgets/base",
            "_view_module_version": "1.2.0",
            "_view_name": "LayoutView",
            "align_content": null,
            "align_items": null,
            "align_self": null,
            "border": null,
            "bottom": null,
            "display": null,
            "flex": null,
            "flex_flow": null,
            "grid_area": null,
            "grid_auto_columns": null,
            "grid_auto_flow": null,
            "grid_auto_rows": null,
            "grid_column": null,
            "grid_gap": null,
            "grid_row": null,
            "grid_template_areas": null,
            "grid_template_columns": null,
            "grid_template_rows": null,
            "height": null,
            "justify_content": null,
            "justify_items": null,
            "left": null,
            "margin": null,
            "max_height": null,
            "max_width": null,
            "min_height": null,
            "min_width": null,
            "object_fit": null,
            "object_position": null,
            "order": null,
            "overflow": null,
            "overflow_x": null,
            "overflow_y": null,
            "padding": null,
            "right": null,
            "top": null,
            "visibility": null,
            "width": null
          }
        },
        "bf2ab2c3f4414d1d977d8ef59eee87ed": {
          "model_module": "@jupyter-widgets/base",
          "model_name": "LayoutModel",
          "model_module_version": "1.2.0",
          "state": {
            "_model_module": "@jupyter-widgets/base",
            "_model_module_version": "1.2.0",
            "_model_name": "LayoutModel",
            "_view_count": null,
            "_view_module": "@jupyter-widgets/base",
            "_view_module_version": "1.2.0",
            "_view_name": "LayoutView",
            "align_content": null,
            "align_items": null,
            "align_self": null,
            "border": null,
            "bottom": null,
            "display": null,
            "flex": null,
            "flex_flow": null,
            "grid_area": null,
            "grid_auto_columns": null,
            "grid_auto_flow": null,
            "grid_auto_rows": null,
            "grid_column": null,
            "grid_gap": null,
            "grid_row": null,
            "grid_template_areas": null,
            "grid_template_columns": null,
            "grid_template_rows": null,
            "height": null,
            "justify_content": null,
            "justify_items": null,
            "left": null,
            "margin": null,
            "max_height": null,
            "max_width": null,
            "min_height": null,
            "min_width": null,
            "object_fit": null,
            "object_position": null,
            "order": null,
            "overflow": null,
            "overflow_x": null,
            "overflow_y": null,
            "padding": null,
            "right": null,
            "top": null,
            "visibility": null,
            "width": null
          }
        },
        "b8f3f1a3bd094262a0474512e9dbbb0f": {
          "model_module": "@jupyter-widgets/controls",
          "model_name": "DescriptionStyleModel",
          "model_module_version": "1.5.0",
          "state": {
            "_model_module": "@jupyter-widgets/controls",
            "_model_module_version": "1.5.0",
            "_model_name": "DescriptionStyleModel",
            "_view_count": null,
            "_view_module": "@jupyter-widgets/base",
            "_view_module_version": "1.2.0",
            "_view_name": "StyleView",
            "description_width": ""
          }
        },
        "3157cbaff18f4ba4b567168e3b51e96b": {
          "model_module": "@jupyter-widgets/base",
          "model_name": "LayoutModel",
          "model_module_version": "1.2.0",
          "state": {
            "_model_module": "@jupyter-widgets/base",
            "_model_module_version": "1.2.0",
            "_model_name": "LayoutModel",
            "_view_count": null,
            "_view_module": "@jupyter-widgets/base",
            "_view_module_version": "1.2.0",
            "_view_name": "LayoutView",
            "align_content": null,
            "align_items": null,
            "align_self": null,
            "border": null,
            "bottom": null,
            "display": null,
            "flex": null,
            "flex_flow": null,
            "grid_area": null,
            "grid_auto_columns": null,
            "grid_auto_flow": null,
            "grid_auto_rows": null,
            "grid_column": null,
            "grid_gap": null,
            "grid_row": null,
            "grid_template_areas": null,
            "grid_template_columns": null,
            "grid_template_rows": null,
            "height": null,
            "justify_content": null,
            "justify_items": null,
            "left": null,
            "margin": null,
            "max_height": null,
            "max_width": null,
            "min_height": null,
            "min_width": null,
            "object_fit": null,
            "object_position": null,
            "order": null,
            "overflow": null,
            "overflow_x": null,
            "overflow_y": null,
            "padding": null,
            "right": null,
            "top": null,
            "visibility": null,
            "width": null
          }
        },
        "4159e990def2410a85f0dd611683521b": {
          "model_module": "@jupyter-widgets/controls",
          "model_name": "ProgressStyleModel",
          "model_module_version": "1.5.0",
          "state": {
            "_model_module": "@jupyter-widgets/controls",
            "_model_module_version": "1.5.0",
            "_model_name": "ProgressStyleModel",
            "_view_count": null,
            "_view_module": "@jupyter-widgets/base",
            "_view_module_version": "1.2.0",
            "_view_name": "StyleView",
            "bar_color": null,
            "description_width": ""
          }
        },
        "bb4904bfada4485bae303dc720b341ab": {
          "model_module": "@jupyter-widgets/base",
          "model_name": "LayoutModel",
          "model_module_version": "1.2.0",
          "state": {
            "_model_module": "@jupyter-widgets/base",
            "_model_module_version": "1.2.0",
            "_model_name": "LayoutModel",
            "_view_count": null,
            "_view_module": "@jupyter-widgets/base",
            "_view_module_version": "1.2.0",
            "_view_name": "LayoutView",
            "align_content": null,
            "align_items": null,
            "align_self": null,
            "border": null,
            "bottom": null,
            "display": null,
            "flex": null,
            "flex_flow": null,
            "grid_area": null,
            "grid_auto_columns": null,
            "grid_auto_flow": null,
            "grid_auto_rows": null,
            "grid_column": null,
            "grid_gap": null,
            "grid_row": null,
            "grid_template_areas": null,
            "grid_template_columns": null,
            "grid_template_rows": null,
            "height": null,
            "justify_content": null,
            "justify_items": null,
            "left": null,
            "margin": null,
            "max_height": null,
            "max_width": null,
            "min_height": null,
            "min_width": null,
            "object_fit": null,
            "object_position": null,
            "order": null,
            "overflow": null,
            "overflow_x": null,
            "overflow_y": null,
            "padding": null,
            "right": null,
            "top": null,
            "visibility": null,
            "width": null
          }
        },
        "349bc30ee42b4297ab753929d4ed9eaa": {
          "model_module": "@jupyter-widgets/controls",
          "model_name": "DescriptionStyleModel",
          "model_module_version": "1.5.0",
          "state": {
            "_model_module": "@jupyter-widgets/controls",
            "_model_module_version": "1.5.0",
            "_model_name": "DescriptionStyleModel",
            "_view_count": null,
            "_view_module": "@jupyter-widgets/base",
            "_view_module_version": "1.2.0",
            "_view_name": "StyleView",
            "description_width": ""
          }
        }
      }
    }
  },
  "cells": [
    {
      "cell_type": "markdown",
      "metadata": {
        "id": "view-in-github",
        "colab_type": "text"
      },
      "source": [
        "<a href=\"https://colab.research.google.com/github/haosulab/ManiSkill2/blob/tutorials/examples/tutorials/2_robotic_learning.ipynb\" target=\"_parent\"><img src=\"https://colab.research.google.com/assets/colab-badge.svg\" alt=\"Open In Colab\"/></a>"
      ]
    },
    {
      "cell_type": "markdown",
      "source": [
        "# Setup Code\n",
        "\n",
        "To begin, prepare the colab environment by clicking the play button below. This will install all dependencies for the future code. This can up to 1.5 minutes"
      ],
      "metadata": {
        "id": "1T7S6wmryEub"
      }
    },
    {
      "cell_type": "code",
      "execution_count": 1,
      "metadata": {
        "id": "kYugcL-gfwfz",
        "colab": {
          "base_uri": "https://localhost:8080/",
          "height": 1000
        },
        "outputId": "02764a69-ebef-4218-d4b1-0d4871d2b55f"
      },
      "outputs": [
        {
          "output_type": "stream",
          "name": "stdout",
          "text": [
            "Cloning into 'ManiSkill2'...\n",
            "remote: Enumerating objects: 986, done.\u001b[K\n",
            "remote: Counting objects: 100% (287/287), done.\u001b[K\n",
            "remote: Compressing objects: 100% (131/131), done.\u001b[K\n",
            "remote: Total 986 (delta 190), reused 207 (delta 151), pack-reused 699\u001b[K\n",
            "Receiving objects: 100% (986/986), 14.31 MiB | 21.00 MiB/s, done.\n",
            "Resolving deltas: 100% (447/447), done.\n",
            "Looking in indexes: https://pypi.org/simple, https://us-python.pkg.dev/colab-wheels/public/simple/\n",
            "Collecting sapien\n",
            "  Downloading sapien-2.1.0-cp38-cp38-manylinux2014_x86_64.whl (23.4 MB)\n",
            "\u001b[2K     \u001b[90m━━━━━━━━━━━━━━━━━━━━━━━━━━━━━━━━━━━━━━━━\u001b[0m \u001b[32m23.4/23.4 MB\u001b[0m \u001b[31m9.0 MB/s\u001b[0m eta \u001b[36m0:00:00\u001b[0m\n",
            "\u001b[?25hCollecting gym==0.21.0\n",
            "  Downloading gym-0.21.0.tar.gz (1.5 MB)\n",
            "\u001b[2K     \u001b[90m━━━━━━━━━━━━━━━━━━━━━━━━━━━━━━━━━━━━━━━━\u001b[0m \u001b[32m1.5/1.5 MB\u001b[0m \u001b[31m54.8 MB/s\u001b[0m eta \u001b[36m0:00:00\u001b[0m\n",
            "\u001b[?25h  Preparing metadata (setup.py) ... \u001b[?25l\u001b[?25hdone\n",
            "Requirement already satisfied: pyyaml in /usr/local/lib/python3.8/dist-packages (6.0)\n",
            "Requirement already satisfied: tabulate in /usr/local/lib/python3.8/dist-packages (0.8.10)\n",
            "Requirement already satisfied: tqdm in /usr/local/lib/python3.8/dist-packages (4.64.1)\n",
            "Requirement already satisfied: h5py in /usr/local/lib/python3.8/dist-packages (3.1.0)\n",
            "Collecting transforms3d\n",
            "  Downloading transforms3d-0.4.1.tar.gz (1.4 MB)\n",
            "\u001b[2K     \u001b[90m━━━━━━━━━━━━━━━━━━━━━━━━━━━━━━━━━━━━━━━━\u001b[0m \u001b[32m1.4/1.4 MB\u001b[0m \u001b[31m55.1 MB/s\u001b[0m eta \u001b[36m0:00:00\u001b[0m\n",
            "\u001b[?25h  Preparing metadata (setup.py) ... \u001b[?25l\u001b[?25hdone\n",
            "Requirement already satisfied: opencv-python in /usr/local/lib/python3.8/dist-packages (4.6.0.66)\n",
            "Requirement already satisfied: imageio in /usr/local/lib/python3.8/dist-packages (2.9.0)\n",
            "Collecting trimesh\n",
            "  Downloading trimesh-3.17.1-py3-none-any.whl (669 kB)\n",
            "\u001b[2K     \u001b[90m━━━━━━━━━━━━━━━━━━━━━━━━━━━━━━━━━━━━━━\u001b[0m \u001b[32m669.2/669.2 KB\u001b[0m \u001b[31m25.9 MB/s\u001b[0m eta \u001b[36m0:00:00\u001b[0m\n",
            "\u001b[?25hCollecting open3d\n",
            "  Downloading open3d-0.16.0-cp38-cp38-manylinux_2_27_x86_64.whl (422.5 MB)\n",
            "\u001b[2K     \u001b[90m━━━━━━━━━━━━━━━━━━━━━━━━━━━━━━━━━━━━━━━\u001b[0m \u001b[32m422.5/422.5 MB\u001b[0m \u001b[31m3.7 MB/s\u001b[0m eta \u001b[36m0:00:00\u001b[0m\n",
            "\u001b[?25hCollecting rtree\n",
            "  Downloading Rtree-1.0.1-cp38-cp38-manylinux_2_17_x86_64.manylinux2014_x86_64.whl (1.0 MB)\n",
            "\u001b[2K     \u001b[90m━━━━━━━━━━━━━━━━━━━━━━━━━━━━━━━━━━━━━━━━\u001b[0m \u001b[32m1.0/1.0 MB\u001b[0m \u001b[31m46.2 MB/s\u001b[0m eta \u001b[36m0:00:00\u001b[0m\n",
            "\u001b[?25hCollecting GitPython\n",
            "  Downloading GitPython-3.1.30-py3-none-any.whl (184 kB)\n",
            "\u001b[2K     \u001b[90m━━━━━━━━━━━━━━━━━━━━━━━━━━━━━━━━━━━━━━\u001b[0m \u001b[32m184.0/184.0 KB\u001b[0m \u001b[31m26.3 MB/s\u001b[0m eta \u001b[36m0:00:00\u001b[0m\n",
            "\u001b[?25hCollecting stable-baselines3\n",
            "  Downloading stable_baselines3-1.6.2-py3-none-any.whl (170 kB)\n",
            "\u001b[2K     \u001b[90m━━━━━━━━━━━━━━━━━━━━━━━━━━━━━━━━━━━━━━\u001b[0m \u001b[32m170.0/170.0 KB\u001b[0m \u001b[31m24.4 MB/s\u001b[0m eta \u001b[36m0:00:00\u001b[0m\n",
            "\u001b[?25hRequirement already satisfied: numpy>=1.18.0 in /usr/local/lib/python3.8/dist-packages (from gym==0.21.0) (1.21.6)\n",
            "Requirement already satisfied: cloudpickle>=1.2.0 in /usr/local/lib/python3.8/dist-packages (from gym==0.21.0) (1.5.0)\n",
            "Requirement already satisfied: requests>=2.22 in /usr/local/lib/python3.8/dist-packages (from sapien) (2.25.1)\n",
            "Requirement already satisfied: pillow in /usr/local/lib/python3.8/dist-packages (from imageio) (7.1.2)\n",
            "Collecting imageio-ffmpeg\n",
            "  Downloading imageio_ffmpeg-0.4.7-py3-none-manylinux2010_x86_64.whl (26.9 MB)\n",
            "\u001b[2K     \u001b[90m━━━━━━━━━━━━━━━━━━━━━━━━━━━━━━━━━━━━━━━━\u001b[0m \u001b[32m26.9/26.9 MB\u001b[0m \u001b[31m62.2 MB/s\u001b[0m eta \u001b[36m0:00:00\u001b[0m\n",
            "\u001b[?25hCollecting addict\n",
            "  Downloading addict-2.4.0-py3-none-any.whl (3.8 kB)\n",
            "Collecting configargparse\n",
            "  Downloading ConfigArgParse-1.5.3-py3-none-any.whl (20 kB)\n",
            "Collecting pyquaternion\n",
            "  Downloading pyquaternion-0.9.9-py3-none-any.whl (14 kB)\n",
            "Requirement already satisfied: pandas>=1.0 in /usr/local/lib/python3.8/dist-packages (from open3d) (1.3.5)\n",
            "Collecting dash>=2.6.0\n",
            "  Downloading dash-2.7.1-py3-none-any.whl (9.9 MB)\n",
            "\u001b[2K     \u001b[90m━━━━━━━━━━━━━━━━━━━━━━━━━━━━━━━━━━━━━━━━\u001b[0m \u001b[32m9.9/9.9 MB\u001b[0m \u001b[31m77.5 MB/s\u001b[0m eta \u001b[36m0:00:00\u001b[0m\n",
            "\u001b[?25hCollecting nbformat==5.5.0\n",
            "  Downloading nbformat-5.5.0-py3-none-any.whl (75 kB)\n",
            "\u001b[2K     \u001b[90m━━━━━━━━━━━━━━━━━━━━━━━━━━━━━━━━━━━━━━━━\u001b[0m \u001b[32m75.3/75.3 KB\u001b[0m \u001b[31m11.4 MB/s\u001b[0m eta \u001b[36m0:00:00\u001b[0m\n",
            "\u001b[?25hRequirement already satisfied: ipywidgets>=7.6.0 in /usr/local/lib/python3.8/dist-packages (from open3d) (7.7.1)\n",
            "Requirement already satisfied: scikit-learn>=0.21 in /usr/local/lib/python3.8/dist-packages (from open3d) (1.0.2)\n",
            "Collecting pillow\n",
            "  Downloading Pillow-9.4.0-cp38-cp38-manylinux_2_17_x86_64.manylinux2014_x86_64.whl (3.3 MB)\n",
            "\u001b[2K     \u001b[90m━━━━━━━━━━━━━━━━━━━━━━━━━━━━━━━━━━━━━━━━\u001b[0m \u001b[32m3.3/3.3 MB\u001b[0m \u001b[31m86.7 MB/s\u001b[0m eta \u001b[36m0:00:00\u001b[0m\n",
            "\u001b[?25hRequirement already satisfied: matplotlib>=3 in /usr/local/lib/python3.8/dist-packages (from open3d) (3.2.2)\n",
            "Requirement already satisfied: traitlets>=5.1 in /usr/local/lib/python3.8/dist-packages (from nbformat==5.5.0->open3d) (5.7.1)\n",
            "Requirement already satisfied: jsonschema>=2.6 in /usr/local/lib/python3.8/dist-packages (from nbformat==5.5.0->open3d) (4.3.3)\n",
            "Requirement already satisfied: fastjsonschema in /usr/local/lib/python3.8/dist-packages (from nbformat==5.5.0->open3d) (2.16.2)\n",
            "Requirement already satisfied: jupyter_core in /usr/local/lib/python3.8/dist-packages (from nbformat==5.5.0->open3d) (5.1.1)\n",
            "Collecting gitdb<5,>=4.0.1\n",
            "  Downloading gitdb-4.0.10-py3-none-any.whl (62 kB)\n",
            "\u001b[2K     \u001b[90m━━━━━━━━━━━━━━━━━━━━━━━━━━━━━━━━━━━━━━━━\u001b[0m \u001b[32m62.7/62.7 KB\u001b[0m \u001b[31m8.8 MB/s\u001b[0m eta \u001b[36m0:00:00\u001b[0m\n",
            "\u001b[?25hCollecting importlib-metadata~=4.13\n",
            "  Downloading importlib_metadata-4.13.0-py3-none-any.whl (23 kB)\n",
            "Requirement already satisfied: torch>=1.11 in /usr/local/lib/python3.8/dist-packages (from stable-baselines3) (1.13.0+cu116)\n",
            "Collecting dash-table==5.0.0\n",
            "  Downloading dash_table-5.0.0-py3-none-any.whl (3.9 kB)\n",
            "Requirement already satisfied: plotly>=5.0.0 in /usr/local/lib/python3.8/dist-packages (from dash>=2.6.0->open3d) (5.5.0)\n",
            "Collecting dash-core-components==2.0.0\n",
            "  Downloading dash_core_components-2.0.0-py3-none-any.whl (3.8 kB)\n",
            "Requirement already satisfied: Flask>=1.0.4 in /usr/local/lib/python3.8/dist-packages (from dash>=2.6.0->open3d) (1.1.4)\n",
            "Collecting dash-html-components==2.0.0\n",
            "  Downloading dash_html_components-2.0.0-py3-none-any.whl (4.1 kB)\n",
            "Collecting smmap<6,>=3.0.1\n",
            "  Downloading smmap-5.0.0-py3-none-any.whl (24 kB)\n",
            "Requirement already satisfied: zipp>=0.5 in /usr/local/lib/python3.8/dist-packages (from importlib-metadata~=4.13->stable-baselines3) (3.11.0)\n",
            "Requirement already satisfied: ipykernel>=4.5.1 in /usr/local/lib/python3.8/dist-packages (from ipywidgets>=7.6.0->open3d) (5.3.4)\n",
            "Requirement already satisfied: widgetsnbextension~=3.6.0 in /usr/local/lib/python3.8/dist-packages (from ipywidgets>=7.6.0->open3d) (3.6.1)\n",
            "Requirement already satisfied: jupyterlab-widgets>=1.0.0 in /usr/local/lib/python3.8/dist-packages (from ipywidgets>=7.6.0->open3d) (3.0.5)\n",
            "Requirement already satisfied: ipython-genutils~=0.2.0 in /usr/local/lib/python3.8/dist-packages (from ipywidgets>=7.6.0->open3d) (0.2.0)\n",
            "Requirement already satisfied: ipython>=4.0.0 in /usr/local/lib/python3.8/dist-packages (from ipywidgets>=7.6.0->open3d) (7.9.0)\n",
            "Requirement already satisfied: kiwisolver>=1.0.1 in /usr/local/lib/python3.8/dist-packages (from matplotlib>=3->open3d) (1.4.4)\n",
            "Requirement already satisfied: pyparsing!=2.0.4,!=2.1.2,!=2.1.6,>=2.0.1 in /usr/local/lib/python3.8/dist-packages (from matplotlib>=3->open3d) (3.0.9)\n",
            "Requirement already satisfied: python-dateutil>=2.1 in /usr/local/lib/python3.8/dist-packages (from matplotlib>=3->open3d) (2.8.2)\n",
            "Requirement already satisfied: cycler>=0.10 in /usr/local/lib/python3.8/dist-packages (from matplotlib>=3->open3d) (0.11.0)\n",
            "Requirement already satisfied: pytz>=2017.3 in /usr/local/lib/python3.8/dist-packages (from pandas>=1.0->open3d) (2022.7)\n",
            "Requirement already satisfied: urllib3<1.27,>=1.21.1 in /usr/local/lib/python3.8/dist-packages (from requests>=2.22->sapien) (1.24.3)\n",
            "Requirement already satisfied: chardet<5,>=3.0.2 in /usr/local/lib/python3.8/dist-packages (from requests>=2.22->sapien) (4.0.0)\n",
            "Requirement already satisfied: certifi>=2017.4.17 in /usr/local/lib/python3.8/dist-packages (from requests>=2.22->sapien) (2022.12.7)\n",
            "Requirement already satisfied: idna<3,>=2.5 in /usr/local/lib/python3.8/dist-packages (from requests>=2.22->sapien) (2.10)\n",
            "Requirement already satisfied: scipy>=1.1.0 in /usr/local/lib/python3.8/dist-packages (from scikit-learn>=0.21->open3d) (1.7.3)\n",
            "Requirement already satisfied: threadpoolctl>=2.0.0 in /usr/local/lib/python3.8/dist-packages (from scikit-learn>=0.21->open3d) (3.1.0)\n",
            "Requirement already satisfied: joblib>=0.11 in /usr/local/lib/python3.8/dist-packages (from scikit-learn>=0.21->open3d) (1.2.0)\n",
            "Requirement already satisfied: typing-extensions in /usr/local/lib/python3.8/dist-packages (from torch>=1.11->stable-baselines3) (4.4.0)\n",
            "Requirement already satisfied: Werkzeug<2.0,>=0.15 in /usr/local/lib/python3.8/dist-packages (from Flask>=1.0.4->dash>=2.6.0->open3d) (1.0.1)\n",
            "Requirement already satisfied: Jinja2<3.0,>=2.10.1 in /usr/local/lib/python3.8/dist-packages (from Flask>=1.0.4->dash>=2.6.0->open3d) (2.11.3)\n",
            "Requirement already satisfied: click<8.0,>=5.1 in /usr/local/lib/python3.8/dist-packages (from Flask>=1.0.4->dash>=2.6.0->open3d) (7.1.2)\n",
            "Requirement already satisfied: itsdangerous<2.0,>=0.24 in /usr/local/lib/python3.8/dist-packages (from Flask>=1.0.4->dash>=2.6.0->open3d) (1.1.0)\n",
            "Requirement already satisfied: tornado>=4.2 in /usr/local/lib/python3.8/dist-packages (from ipykernel>=4.5.1->ipywidgets>=7.6.0->open3d) (6.0.4)\n",
            "Requirement already satisfied: jupyter-client in /usr/local/lib/python3.8/dist-packages (from ipykernel>=4.5.1->ipywidgets>=7.6.0->open3d) (6.1.12)\n",
            "Requirement already satisfied: prompt-toolkit<2.1.0,>=2.0.0 in /usr/local/lib/python3.8/dist-packages (from ipython>=4.0.0->ipywidgets>=7.6.0->open3d) (2.0.10)\n",
            "Requirement already satisfied: backcall in /usr/local/lib/python3.8/dist-packages (from ipython>=4.0.0->ipywidgets>=7.6.0->open3d) (0.2.0)\n",
            "Collecting jedi>=0.10\n",
            "  Downloading jedi-0.18.2-py2.py3-none-any.whl (1.6 MB)\n",
            "\u001b[2K     \u001b[90m━━━━━━━━━━━━━━━━━━━━━━━━━━━━━━━━━━━━━━━━\u001b[0m \u001b[32m1.6/1.6 MB\u001b[0m \u001b[31m66.5 MB/s\u001b[0m eta \u001b[36m0:00:00\u001b[0m\n",
            "\u001b[?25hRequirement already satisfied: pickleshare in /usr/local/lib/python3.8/dist-packages (from ipython>=4.0.0->ipywidgets>=7.6.0->open3d) (0.7.5)\n",
            "Requirement already satisfied: setuptools>=18.5 in /usr/local/lib/python3.8/dist-packages (from ipython>=4.0.0->ipywidgets>=7.6.0->open3d) (57.4.0)\n",
            "Requirement already satisfied: decorator in /usr/local/lib/python3.8/dist-packages (from ipython>=4.0.0->ipywidgets>=7.6.0->open3d) (4.4.2)\n",
            "Requirement already satisfied: pygments in /usr/local/lib/python3.8/dist-packages (from ipython>=4.0.0->ipywidgets>=7.6.0->open3d) (2.6.1)\n",
            "Requirement already satisfied: pexpect in /usr/local/lib/python3.8/dist-packages (from ipython>=4.0.0->ipywidgets>=7.6.0->open3d) (4.8.0)\n",
            "Requirement already satisfied: attrs>=17.4.0 in /usr/local/lib/python3.8/dist-packages (from jsonschema>=2.6->nbformat==5.5.0->open3d) (22.2.0)\n",
            "Requirement already satisfied: pyrsistent!=0.17.0,!=0.17.1,!=0.17.2,>=0.14.0 in /usr/local/lib/python3.8/dist-packages (from jsonschema>=2.6->nbformat==5.5.0->open3d) (0.19.2)\n",
            "Requirement already satisfied: importlib-resources>=1.4.0 in /usr/local/lib/python3.8/dist-packages (from jsonschema>=2.6->nbformat==5.5.0->open3d) (5.10.1)\n",
            "Requirement already satisfied: tenacity>=6.2.0 in /usr/local/lib/python3.8/dist-packages (from plotly>=5.0.0->dash>=2.6.0->open3d) (8.1.0)\n",
            "Requirement already satisfied: six in /usr/local/lib/python3.8/dist-packages (from plotly>=5.0.0->dash>=2.6.0->open3d) (1.15.0)\n",
            "Requirement already satisfied: notebook>=4.4.1 in /usr/local/lib/python3.8/dist-packages (from widgetsnbextension~=3.6.0->ipywidgets>=7.6.0->open3d) (5.7.16)\n",
            "Requirement already satisfied: platformdirs>=2.5 in /usr/local/lib/python3.8/dist-packages (from jupyter_core->nbformat==5.5.0->open3d) (2.6.0)\n",
            "Requirement already satisfied: parso<0.9.0,>=0.8.0 in /usr/local/lib/python3.8/dist-packages (from jedi>=0.10->ipython>=4.0.0->ipywidgets>=7.6.0->open3d) (0.8.3)\n",
            "Requirement already satisfied: MarkupSafe>=0.23 in /usr/local/lib/python3.8/dist-packages (from Jinja2<3.0,>=2.10.1->Flask>=1.0.4->dash>=2.6.0->open3d) (2.0.1)\n",
            "Requirement already satisfied: prometheus-client in /usr/local/lib/python3.8/dist-packages (from notebook>=4.4.1->widgetsnbextension~=3.6.0->ipywidgets>=7.6.0->open3d) (0.15.0)\n",
            "Requirement already satisfied: terminado>=0.8.1 in /usr/local/lib/python3.8/dist-packages (from notebook>=4.4.1->widgetsnbextension~=3.6.0->ipywidgets>=7.6.0->open3d) (0.13.3)\n",
            "Requirement already satisfied: Send2Trash in /usr/local/lib/python3.8/dist-packages (from notebook>=4.4.1->widgetsnbextension~=3.6.0->ipywidgets>=7.6.0->open3d) (1.8.0)\n",
            "Requirement already satisfied: pyzmq>=17 in /usr/local/lib/python3.8/dist-packages (from notebook>=4.4.1->widgetsnbextension~=3.6.0->ipywidgets>=7.6.0->open3d) (23.2.1)\n",
            "Requirement already satisfied: nbconvert<6.0 in /usr/local/lib/python3.8/dist-packages (from notebook>=4.4.1->widgetsnbextension~=3.6.0->ipywidgets>=7.6.0->open3d) (5.6.1)\n",
            "Requirement already satisfied: wcwidth in /usr/local/lib/python3.8/dist-packages (from prompt-toolkit<2.1.0,>=2.0.0->ipython>=4.0.0->ipywidgets>=7.6.0->open3d) (0.2.5)\n",
            "Requirement already satisfied: ptyprocess>=0.5 in /usr/local/lib/python3.8/dist-packages (from pexpect->ipython>=4.0.0->ipywidgets>=7.6.0->open3d) (0.7.0)\n",
            "Requirement already satisfied: testpath in /usr/local/lib/python3.8/dist-packages (from nbconvert<6.0->notebook>=4.4.1->widgetsnbextension~=3.6.0->ipywidgets>=7.6.0->open3d) (0.6.0)\n",
            "Requirement already satisfied: mistune<2,>=0.8.1 in /usr/local/lib/python3.8/dist-packages (from nbconvert<6.0->notebook>=4.4.1->widgetsnbextension~=3.6.0->ipywidgets>=7.6.0->open3d) (0.8.4)\n",
            "Requirement already satisfied: bleach in /usr/local/lib/python3.8/dist-packages (from nbconvert<6.0->notebook>=4.4.1->widgetsnbextension~=3.6.0->ipywidgets>=7.6.0->open3d) (5.0.1)\n",
            "Requirement already satisfied: entrypoints>=0.2.2 in /usr/local/lib/python3.8/dist-packages (from nbconvert<6.0->notebook>=4.4.1->widgetsnbextension~=3.6.0->ipywidgets>=7.6.0->open3d) (0.4)\n",
            "Requirement already satisfied: defusedxml in /usr/local/lib/python3.8/dist-packages (from nbconvert<6.0->notebook>=4.4.1->widgetsnbextension~=3.6.0->ipywidgets>=7.6.0->open3d) (0.7.1)\n",
            "Requirement already satisfied: pandocfilters>=1.4.1 in /usr/local/lib/python3.8/dist-packages (from nbconvert<6.0->notebook>=4.4.1->widgetsnbextension~=3.6.0->ipywidgets>=7.6.0->open3d) (1.5.0)\n",
            "Requirement already satisfied: webencodings in /usr/local/lib/python3.8/dist-packages (from bleach->nbconvert<6.0->notebook>=4.4.1->widgetsnbextension~=3.6.0->ipywidgets>=7.6.0->open3d) (0.5.1)\n",
            "Building wheels for collected packages: gym, transforms3d\n",
            "  Building wheel for gym (setup.py) ... \u001b[?25l\u001b[?25hdone\n",
            "  Created wheel for gym: filename=gym-0.21.0-py3-none-any.whl size=1616820 sha256=f80daf6efe8e745e601ae087f066fe1e2244a962b8031db2ffa5126877065636\n",
            "  Stored in directory: /root/.cache/pip/wheels/27/6d/b3/a3a6e10704795c9b9000f1ab2dc480dfe7bed42f5972806e73\n",
            "  Building wheel for transforms3d (setup.py) ... \u001b[?25l\u001b[?25hdone\n",
            "  Created wheel for transforms3d: filename=transforms3d-0.4.1-py3-none-any.whl size=1376772 sha256=fefe4002a7cd52d2ad19e3996539c39bed490a82ffaddbad50cd5314e233ec82\n",
            "  Stored in directory: /root/.cache/pip/wheels/7b/f0/88/0198ac6eca77ffa36e7247595585e9ec34e1dcc327847ebe73\n",
            "Successfully built gym transforms3d\n",
            "Installing collected packages: dash-table, dash-html-components, dash-core-components, addict, trimesh, transforms3d, smmap, rtree, pyquaternion, pillow, jedi, importlib-metadata, imageio-ffmpeg, gym, configargparse, sapien, gitdb, stable-baselines3, nbformat, GitPython, dash, open3d\n",
            "  Attempting uninstall: pillow\n",
            "    Found existing installation: Pillow 7.1.2\n",
            "    Uninstalling Pillow-7.1.2:\n",
            "      Successfully uninstalled Pillow-7.1.2\n",
            "  Attempting uninstall: importlib-metadata\n",
            "    Found existing installation: importlib-metadata 5.2.0\n",
            "    Uninstalling importlib-metadata-5.2.0:\n",
            "      Successfully uninstalled importlib-metadata-5.2.0\n",
            "  Attempting uninstall: gym\n",
            "    Found existing installation: gym 0.25.2\n",
            "    Uninstalling gym-0.25.2:\n",
            "      Successfully uninstalled gym-0.25.2\n",
            "  Attempting uninstall: nbformat\n",
            "    Found existing installation: nbformat 5.7.1\n",
            "    Uninstalling nbformat-5.7.1:\n",
            "      Successfully uninstalled nbformat-5.7.1\n",
            "Successfully installed GitPython-3.1.30 addict-2.4.0 configargparse-1.5.3 dash-2.7.1 dash-core-components-2.0.0 dash-html-components-2.0.0 dash-table-5.0.0 gitdb-4.0.10 gym-0.21.0 imageio-ffmpeg-0.4.7 importlib-metadata-4.13.0 jedi-0.18.2 nbformat-5.5.0 open3d-0.16.0 pillow-9.4.0 pyquaternion-0.9.9 rtree-1.0.1 sapien-2.1.0 smmap-5.0.0 stable-baselines3-1.6.2 transforms3d-0.4.1 trimesh-3.17.1\n"
          ]
        },
        {
          "output_type": "display_data",
          "data": {
            "application/vnd.colab-display-data+json": {
              "pip_warning": {
                "packages": [
                  "PIL"
                ]
              }
            }
          },
          "metadata": {}
        },
        {
          "output_type": "stream",
          "name": "stdout",
          "text": [
            "Looking in indexes: https://pypi.org/simple, https://us-python.pkg.dev/colab-wheels/public/simple/\n",
            "Requirement already satisfied: gdown in /usr/local/lib/python3.8/dist-packages (4.4.0)\n",
            "Collecting gdown\n",
            "  Downloading gdown-4.6.0-py3-none-any.whl (14 kB)\n",
            "Requirement already satisfied: tqdm in /usr/local/lib/python3.8/dist-packages (from gdown) (4.64.1)\n",
            "Requirement already satisfied: filelock in /usr/local/lib/python3.8/dist-packages (from gdown) (3.8.2)\n",
            "Requirement already satisfied: six in /usr/local/lib/python3.8/dist-packages (from gdown) (1.15.0)\n",
            "Requirement already satisfied: requests[socks] in /usr/local/lib/python3.8/dist-packages (from gdown) (2.25.1)\n",
            "Requirement already satisfied: beautifulsoup4 in /usr/local/lib/python3.8/dist-packages (from gdown) (4.6.3)\n",
            "Requirement already satisfied: idna<3,>=2.5 in /usr/local/lib/python3.8/dist-packages (from requests[socks]->gdown) (2.10)\n",
            "Requirement already satisfied: urllib3<1.27,>=1.21.1 in /usr/local/lib/python3.8/dist-packages (from requests[socks]->gdown) (1.24.3)\n",
            "Requirement already satisfied: certifi>=2017.4.17 in /usr/local/lib/python3.8/dist-packages (from requests[socks]->gdown) (2022.12.7)\n",
            "Requirement already satisfied: chardet<5,>=3.0.2 in /usr/local/lib/python3.8/dist-packages (from requests[socks]->gdown) (4.0.0)\n",
            "Requirement already satisfied: PySocks!=1.5.7,>=1.5.6 in /usr/local/lib/python3.8/dist-packages (from requests[socks]->gdown) (1.7.1)\n",
            "Installing collected packages: gdown\n",
            "  Attempting uninstall: gdown\n",
            "    Found existing installation: gdown 4.4.0\n",
            "    Uninstalling gdown-4.4.0:\n",
            "      Successfully uninstalled gdown-4.4.0\n",
            "Successfully installed gdown-4.6.0\n",
            "Reading package lists... Done\n",
            "Building dependency tree       \n",
            "Reading state information... Done\n",
            "The following package was automatically installed and is no longer required:\n",
            "  libnvidia-common-460\n",
            "Use 'apt autoremove' to remove it.\n",
            "The following additional packages will be installed:\n",
            "  libvulkan1 mesa-vulkan-drivers\n",
            "The following NEW packages will be installed:\n",
            "  libvulkan-dev libvulkan1 mesa-vulkan-drivers\n",
            "0 upgraded, 3 newly installed, 0 to remove and 21 not upgraded.\n",
            "Need to get 3,632 kB of archives.\n",
            "After this operation, 22.2 MB of additional disk space will be used.\n",
            "Get:1 http://archive.ubuntu.com/ubuntu bionic-updates/universe amd64 mesa-vulkan-drivers amd64 20.0.8-0ubuntu1~18.04.1 [3,059 kB]\n",
            "Get:2 http://ppa.launchpad.net/graphics-drivers/ppa/ubuntu bionic/main amd64 libvulkan1 amd64 1.1.126.0-2~gpu18.04.1 [101 kB]\n",
            "Get:3 http://ppa.launchpad.net/graphics-drivers/ppa/ubuntu bionic/main amd64 libvulkan-dev amd64 1.1.126.0-2~gpu18.04.1 [472 kB]\n",
            "Fetched 3,632 kB in 0s (25.6 MB/s)\n",
            "Selecting previously unselected package libvulkan1:amd64.\n",
            "(Reading database ... 124016 files and directories currently installed.)\n",
            "Preparing to unpack .../libvulkan1_1.1.126.0-2~gpu18.04.1_amd64.deb ...\n",
            "Unpacking libvulkan1:amd64 (1.1.126.0-2~gpu18.04.1) ...\n",
            "Selecting previously unselected package libvulkan-dev:amd64.\n",
            "Preparing to unpack .../libvulkan-dev_1.1.126.0-2~gpu18.04.1_amd64.deb ...\n",
            "Unpacking libvulkan-dev:amd64 (1.1.126.0-2~gpu18.04.1) ...\n",
            "Selecting previously unselected package mesa-vulkan-drivers:amd64.\n",
            "Preparing to unpack .../mesa-vulkan-drivers_20.0.8-0ubuntu1~18.04.1_amd64.deb ...\n",
            "Unpacking mesa-vulkan-drivers:amd64 (20.0.8-0ubuntu1~18.04.1) ...\n",
            "Setting up libvulkan1:amd64 (1.1.126.0-2~gpu18.04.1) ...\n",
            "Setting up mesa-vulkan-drivers:amd64 (20.0.8-0ubuntu1~18.04.1) ...\n",
            "Setting up libvulkan-dev:amd64 (1.1.126.0-2~gpu18.04.1) ...\n",
            "Processing triggers for libc-bin (2.27-3ubuntu1.6) ...\n",
            "running develop\n",
            "running egg_info\n",
            "creating mani_skill2.egg-info\n",
            "writing mani_skill2.egg-info/PKG-INFO\n",
            "writing dependency_links to mani_skill2.egg-info/dependency_links.txt\n",
            "writing top-level names to mani_skill2.egg-info/top_level.txt\n",
            "writing manifest file 'mani_skill2.egg-info/SOURCES.txt'\n",
            "adding license file 'LICENSE'\n",
            "writing manifest file 'mani_skill2.egg-info/SOURCES.txt'\n",
            "running build_ext\n",
            "Creating /usr/local/lib/python3.8/dist-packages/mani-skill2.egg-link (link to .)\n",
            "Adding mani-skill2 0.3.0 to easy-install.pth file\n",
            "\n",
            "Installed /content/ManiSkill2\n",
            "Processing dependencies for mani-skill2==0.3.0\n",
            "Finished processing dependencies for mani-skill2==0.3.0\n"
          ]
        }
      ],
      "source": [
        "!git clone https://github.com/haosulab/ManiSkill2.git\n",
        "!pip install sapien gym==0.21.0 pyyaml tabulate tqdm h5py transforms3d opencv-python imageio imageio[ffmpeg] trimesh open3d rtree GitPython stable-baselines3\n",
        "!pip install --upgrade --no-cache-dir gdown # necessary as colab uses an outdated version. see https://github.com/wkentaro/gdown/issues/43\n",
        "!apt-get install libvulkan-dev\n",
        "!cd ManiSkill2 && python setup.py develop"
      ]
    },
    {
      "cell_type": "code",
      "source": [
        "try:\n",
        "    import google.colab\n",
        "    IN_COLAB = True\n",
        "except:\n",
        "    IN_COLAB = False\n",
        "\n",
        "if IN_COLAB:\n",
        "    import site\n",
        "    site.main() # run this so local pip installs are recognized"
      ],
      "metadata": {
        "id": "nWP-k5bbvC5C"
      },
      "execution_count": 22,
      "outputs": []
    },
    {
      "cell_type": "markdown",
      "source": [
        "# Robotic Learning Tutorial, basic Imitation Learning and Reinforcement Learning\n",
        "\n",
        "This notebook will go over two baselines for solving the [ManiSkill](https://github.com/haosulab/ManiSkill2) environments, Imitation Learning and Reinforcement Learning. We will be using the [Stable Baselines 3 (SB3)](https://github.com/DLR-RM/stable-baselines3) package and our own LiftCube enviornment as part of this tutorial with RGBD observations.\n",
        "\n",
        "A single-file code version of the RL section of this tutorial can be found here: https://github.com/haosulab/ManiSkill2/tree/main/examples/tutorials/sb3_ppo_liftcube.py\n",
        "\n",
        "First, we will import all required packages"
      ],
      "metadata": {
        "id": "q_jwRVKoPRXs"
      }
    },
    {
      "cell_type": "code",
      "source": [
        "# Import required packages\n",
        "import gym\n",
        "import gym.spaces as spaces\n",
        "from tqdm.notebook import tqdm\n",
        "import numpy as np\n",
        "import mani_skill2.envs\n",
        "from mani_skill2.utils.wrappers import RecordEpisode\n",
        "import h5py\n",
        "from mani_skill2.utils.io_utils import load_json\n",
        "import matplotlib.pyplot as plt\n",
        "import torch.nn as nn\n",
        "import torch as th\n",
        "import cv2\n",
        "from stable_baselines3 import PPO\n",
        "from stable_baselines3.common.callbacks import EvalCallback, CheckpointCallback\n",
        "from stable_baselines3.common.evaluation import evaluate_policy\n",
        "from stable_baselines3.common.vec_env import SubprocVecEnv, VecMonitor, VecVideoRecorder\n",
        "from stable_baselines3.common.utils import set_random_seed\n",
        "from stable_baselines3.common.torch_layers import BaseFeaturesExtractor\n",
        "from torch.utils.data import Dataset, DataLoader"
      ],
      "metadata": {
        "id": "shSyf4FQPR22"
      },
      "execution_count": 23,
      "outputs": []
    },
    {
      "cell_type": "markdown",
      "source": [
        "SB3 won't work out of the box due to observations including depth data as well as being in a format different to what SB3 requires. To remind ourselves, lets create an environment and inspect the observations"
      ],
      "metadata": {
        "id": "LofwfGDlPavE"
      }
    },
    {
      "cell_type": "code",
      "source": [
        "env_id = \"LiftCube-v0\"\n",
        "obs_mode = \"rgbd\"\n",
        "control_mode = \"pd_ee_delta_pose\"\n",
        "reward_mode = \"dense\"\n",
        "# create our environment with our configs and then reset to a clean state\n",
        "env = gym.make(env_id, obs_mode=obs_mode, reward_mode=reward_mode, control_mode=control_mode)\n",
        "obs = env.reset()\n",
        "\n",
        "# take a look at the current state\n",
        "img = env.render(mode=\"cameras\")\n",
        "plt.imshow(img)\n",
        "env.close()"
      ],
      "metadata": {
        "id": "NNT4Fi6ZPTa4",
        "colab": {
          "base_uri": "https://localhost:8080/",
          "height": 269
        },
        "outputId": "71353b2b-88d5-4164-c753-5317e8bc3d53"
      },
      "execution_count": 2,
      "outputs": [
        {
          "output_type": "display_data",
          "data": {
            "text/plain": [
              "<Figure size 432x288 with 1 Axes>"
            ],
            "image/png": "[encoded data removed]"
          },
          "metadata": {
            "needs_background": "light"
          }
        }
      ]
    },
    {
      "cell_type": "code",
      "source": [
        "# the observations\n",
        "print(\"The raw observation\", obs.keys()) \n",
        "print(\"The data in the observation:\")\n",
        "print(\"image\", obs[\"image\"].keys())\n",
        "print(\"agent\", obs[\"agent\"].keys())\n",
        "print(\"extra\", obs[\"extra\"].keys())"
      ],
      "metadata": {
        "id": "Ih_PagxUPe8Q",
        "colab": {
          "base_uri": "https://localhost:8080/"
        },
        "outputId": "5d6998d2-c477-427d-d393-0465f1116404"
      },
      "execution_count": 3,
      "outputs": [
        {
          "output_type": "stream",
          "name": "stdout",
          "text": [
            "The raw observation odict_keys(['image', 'agent', 'extra'])\n",
            "The data in the observation:\n",
            "image odict_keys(['hand_camera', 'base_camera'])\n",
            "agent odict_keys(['qpos', 'qvel', 'controller', 'base_pose'])\n",
            "extra odict_keys(['tcp_pose'])\n"
          ]
        }
      ]
    },
    {
      "cell_type": "markdown",
      "source": [
        "There's quite a few things, all of which are important for solving the robotics environments! For in-depth details on the exact data stored here, see the wiki: https://github.com/haosulab/ManiSkill2/wiki/Observation-Space"
      ],
      "metadata": {
        "id": "tF-xYcxqmkC9"
      }
    },
    {
      "cell_type": "markdown",
      "source": [
        "## 1 Adapting ManiSkill environments for Stable Baselines with an Observation Wrapper\n",
        "\n",
        "If you look at the observation space and the returned observation, you will notice that it is a nested dictionary with different values in there, including both image data from cameras and state data about the robot.\n",
        "\n",
        "SB3 won't be able to use this out of the box so we can define a custom observation wrapper to make the ManiSkill environment conform with SB3. Here, we are simply going to take the two RGB images, two depth images from both cameras (base camera and hand camera) and the state data and create a workable observation for SB3.\n",
        "\n",
        "Feel free to the use the code as is and skip this section. If you want additional customization such as using robot segmentation data, point cloud data etc., you will need to edit the below wrapper appropriately."
      ],
      "metadata": {
        "id": "TdnjOKZ5ml3I"
      }
    },
    {
      "cell_type": "code",
      "source": [
        "class ManiSkillRGBDWrapper(gym.ObservationWrapper):\n",
        "    def __init__(self, env, image_size=(128, 128)) -> None:\n",
        "        super().__init__(env)\n",
        "        obs_space = env.observation_space\n",
        "        self.image_size = image_size\n",
        "        \n",
        "        # We want the following states to be kept in the observations. \n",
        "        # obs_space is the original environment's observation space\n",
        "        state_spaces = [\n",
        "            obs_space[\"agent\"]['base_pose'], # pose of the robot\n",
        "            obs_space[\"agent\"]['qpos'], # robot configuration position\n",
        "            obs_space[\"agent\"]['qvel'], # robot configuration velocity\n",
        "        ]\n",
        "        for k in obs_space[\"extra\"]:\n",
        "            # includes gripper pose and goal information depending on environment\n",
        "            state_spaces.append(obs_space[\"extra\"][k])\n",
        "        # Define the new state space\n",
        "        state_size = sum([space.shape[0] for space in state_spaces])\n",
        "        state_space = spaces.Box(-float(\"inf\"), float(\"inf\"), shape=(state_size, ))\n",
        "        \n",
        "        # Get the image dimensions. Note that there is a base_camera and a hand_camera, both of which output the same shape\n",
        "        h, w, _ = obs_space[\"image\"][\"base_camera\"][\"rgb\"].shape\n",
        "        if self.image_size is not None:\n",
        "            h, w = self.image_size\n",
        "        new_shape = (h, w, 8) # the shape is HxWx8, where 8 comes from combining two RGB images and two depth images\n",
        "        low = np.full(new_shape, -float(\"inf\"))\n",
        "        high = np.full(new_shape, float(\"inf\"))\n",
        "        rgbd_space = spaces.Box(low, high, dtype=obs_space[\"image\"][\"base_camera\"][\"rgb\"].dtype)\n",
        "        \n",
        "        # create the observation space\n",
        "        self.observation_space = spaces.Dict({\n",
        "            \"rgbd\": rgbd_space,\n",
        "            \"state\": state_space\n",
        "        })\n",
        "\n",
        "    @staticmethod # make this static so both RL and IL tutorials can use this\n",
        "    def convert_observation(observation, image_size):\n",
        "        # This function replaces the original observations. We scale down images by 255 and \n",
        "        # flatten the states in the original observations\n",
        "        image_obs = observation[\"image\"]\n",
        "        rgb = image_obs[\"base_camera\"][\"rgb\"] / 255.0\n",
        "        depth = image_obs[\"base_camera\"][\"depth\"]\n",
        "        rgb2 = image_obs[\"hand_camera\"][\"rgb\"] / 255.0\n",
        "        depth2 = image_obs[\"hand_camera\"][\"depth\"]\n",
        "\n",
        "        # optionally resize images\n",
        "        if image_size is not None and image_size != (rgb.shape[0], rgb.shape[1]):\n",
        "            rgb = cv2.resize(rgb, image_size, interpolation=cv2.INTER_LINEAR)\n",
        "            depth = cv2.resize(depth, image_size, interpolation=cv2.INTER_LINEAR)[:,:,None]\n",
        "            rgb2 = cv2.resize(rgb2, image_size, interpolation=cv2.INTER_LINEAR)\n",
        "            depth2 = cv2.resize(depth2, image_size, interpolation=cv2.INTER_LINEAR)[:,:,None]\n",
        "        from mani_skill2.utils.common import flatten_state_dict\n",
        "        state = np.hstack([\n",
        "            flatten_state_dict(observation[\"agent\"]),\n",
        "            flatten_state_dict(observation[\"extra\"])\n",
        "        ])\n",
        "        \n",
        "        # combine the RGB and depth images\n",
        "        rgbd = np.concatenate([rgb, depth, rgb2, depth2], axis=2)\n",
        "        obs = dict(rgbd=rgbd, state=state)\n",
        "        return obs\n",
        "    def observation(self, observation):\n",
        "        return ManiSkillRGBDWrapper.convert_observation(observation, image_size=self.image_size)\n",
        "\n",
        "    def step(self, action):\n",
        "        o, r, d, info = super().step(action)\n",
        "        d = False\n",
        "        if info[\"elapsed_steps\"] >= 100:\n",
        "            # trunate episodes after 100 steps rather than the default 200 steps for faster training\n",
        "            # set TimeLimit.truncated to True to tell SB3 it's a truncation and not task success\n",
        "            info[\"TimeLimit.truncated\"] = True\n",
        "            d = True\n",
        "        return o,r,d,info\n"
      ],
      "metadata": {
        "id": "G8dAIBkMPdoJ"
      },
      "execution_count": 4,
      "outputs": []
    },
    {
      "cell_type": "markdown",
      "source": [
        "We can now wrap the original environment and we'll see the returned observations are now more compact and importantly usable by SB3"
      ],
      "metadata": {
        "id": "3r7hmN2inRSM"
      }
    },
    {
      "cell_type": "code",
      "source": [
        "env = gym.make(env_id, obs_mode=obs_mode, reward_mode=reward_mode, control_mode=control_mode)\n",
        "env = ManiSkillRGBDWrapper(env)\n",
        "obs = env.reset()\n",
        "print(obs.keys())\n",
        "print(\"rgbd shape\", obs[\"rgbd\"].shape)\n",
        "print(\"state shape\", obs[\"state\"].shape)\n",
        "env.close()"
      ],
      "metadata": {
        "id": "EcxD1ep2nTQK",
        "colab": {
          "base_uri": "https://localhost:8080/"
        },
        "outputId": "9e4efe76-52ac-460b-86f1-ae881665f6a3"
      },
      "execution_count": 5,
      "outputs": [
        {
          "output_type": "stream",
          "name": "stdout",
          "text": [
            "dict_keys(['rgbd', 'state'])\n",
            "rgbd shape (128, 128, 8)\n",
            "state shape (32,)\n"
          ]
        }
      ]
    },
    {
      "cell_type": "markdown",
      "source": [
        "## 2 Creating a model to process RGBD and State data\n",
        "\n",
        "SB3 natively doesn't support processing RGB data with depth information, so we will need to create a custom network to process that data. We can make use of the SB3 BaseExtractor class to do this so we can fit our model into any of SB3's algorithms. For more details on feature extractors see the SB3 docs: https://stable-baselines3.readthedocs.io/en/master/guide/custom_policy.html#custom-feature-extractor\n",
        "\n",
        "The following code will be useful for creating features from observations in both reinforcement learning and imitation learning"
      ],
      "metadata": {
        "id": "bNF39XEAnVlm"
      }
    },
    {
      "cell_type": "code",
      "source": [
        "class CustomExtractor(BaseFeaturesExtractor):\n",
        "    def __init__(self, observation_space: gym.spaces.Dict):\n",
        "        super().__init__(observation_space, features_dim=1)\n",
        "\n",
        "        extractors = {}\n",
        "\n",
        "        total_concat_size = 0\n",
        "        feature_size = 256\n",
        "\n",
        "        for key, subspace in observation_space.spaces.items():\n",
        "            # We go through all subspaces in the observation space.\n",
        "            # We know there will only be \"rgbd\" and \"state\", so we handle those below\n",
        "            if key == \"rgbd\":\n",
        "                # here we use a NatureCNN architecture to process images, but any architecture is permissble here\n",
        "                in_channels = subspace.shape[-1]\n",
        "                cnn = nn.Sequential(\n",
        "                    nn.Conv2d(in_channels=in_channels, out_channels=32, kernel_size=8, stride=4, padding=0),\n",
        "                    nn.ReLU(),\n",
        "                    nn.Conv2d(in_channels=32, out_channels=64, kernel_size=4, stride=2, padding=0),\n",
        "                    nn.ReLU(),\n",
        "                    nn.Conv2d(in_channels=64, out_channels=64, kernel_size=3, stride=1, padding=0),\n",
        "                    nn.ReLU(),\n",
        "                    nn.Flatten()\n",
        "                )\n",
        "                \n",
        "                # to easily figure out the dimensions after flattening, we pass a test tensor\n",
        "                test_tensor = th.zeros([subspace.shape[2], subspace.shape[0], subspace.shape[1]])\n",
        "                with th.no_grad():\n",
        "                    n_flatten = cnn(test_tensor[None]).shape[1]\n",
        "                fc = nn.Sequential(nn.Linear(n_flatten, feature_size), nn.ReLU())\n",
        "                extractors[\"rgbd\"] = nn.Sequential(cnn, fc)\n",
        "                total_concat_size += feature_size\n",
        "            elif key == \"state\":\n",
        "                # for state data we simply pass it through a single linear layer\n",
        "                state_size = subspace.shape[0]\n",
        "                extractors[\"state\"] = nn.Linear(state_size, 64)\n",
        "                total_concat_size += 64\n",
        "\n",
        "        self.extractors = nn.ModuleDict(extractors)\n",
        "        self._features_dim = total_concat_size\n",
        "\n",
        "    def forward(self, observations) -> th.Tensor:\n",
        "        encoded_tensor_list = []\n",
        "        # self.extractors contain nn.Modules that do all the processing.\n",
        "        for key, extractor in self.extractors.items():\n",
        "            if key == \"rgbd\":\n",
        "                observations[key] = observations[key].permute((0, 3, 1, 2))\n",
        "            encoded_tensor_list.append(extractor(observations[key]))\n",
        "        # Return a (B, self._features_dim) PyTorch tensor, where B is batch dimension.\n",
        "        return th.cat(encoded_tensor_list, dim=1)"
      ],
      "metadata": {
        "id": "SsgrC7ocnUye"
      },
      "execution_count": 6,
      "outputs": []
    },
    {
      "cell_type": "markdown",
      "source": [
        "## 3 Robotic Learning (RL and IL)\n",
        "\n",
        "This section will go through how to train your agent to solve the PickCube task with SB3, using the code we've written above. First to setup, we will define a `make_env` function which enables creating the desired environment easily, vectorize it, as well as record videos locally during training."
      ],
      "metadata": {
        "id": "MIBHiT4wozWh"
      }
    },
    {
      "cell_type": "code",
      "source": [
        "def make_env(env_id: str, rank: int, seed: int = 0, record_dir = None):\n",
        "    def _init() -> gym.Env:\n",
        "        import mani_skill2.envs\n",
        "        env = gym.make(env_id, obs_mode=obs_mode, reward_mode=reward_mode, control_mode=control_mode)\n",
        "        env.goal_height = 0.15 # make env easier so we can train faster for tutorial purposes\n",
        "        env = ManiSkillRGBDWrapper(env, image_size=(128,128))\n",
        "        if record_dir is not None:\n",
        "            env = RecordEpisode(env, record_dir, info_on_video=True, render_mode=\"cameras\")\n",
        "        env.seed(seed+rank)\n",
        "        return env\n",
        "    set_random_seed(seed)\n",
        "    return _init"
      ],
      "metadata": {
        "id": "JbcUp2rqozO5"
      },
      "execution_count": 7,
      "outputs": []
    },
    {
      "cell_type": "markdown",
      "source": [
        "### 3.1 Reinforcement Learning\n",
        "\n",
        "We have a custom model / feature extractor ready, an observation wrapper that allows SB3 to work with ManiSkill environments, now that is left is to setup an RL agent and train, evaluate, and monitor it. In this tutorial we will use PPO.\n",
        "\n",
        "First, we will create vectorized environments to speed up training by creating a `make_env` function. In this function we also add a parameter `record` to let you create environments that automatically record videos and saves them locally during training/evaluation."
      ],
      "metadata": {
        "id": "19NmPtC7o4mR"
      }
    },
    {
      "cell_type": "code",
      "source": [
        "num_cpu = 2 # you can increases this and decrease the n_steps parameter if you have more cores to speed up training\n",
        "\n",
        "# create one eval environment\n",
        "eval_env = SubprocVecEnv([make_env(env_id, i, record_dir=\"logs/videos\") for i in range(1)])\n",
        "eval_env = VecMonitor(eval_env) # attach this so SB3 can log reward metrics\n",
        "eval_env.reset()\n",
        "\n",
        "# create num_cpu training environments\n",
        "env = SubprocVecEnv([make_env(env_id, i) for i in range(num_cpu)])\n",
        "env = VecMonitor(env)\n",
        "obs = env.reset()"
      ],
      "metadata": {
        "id": "T2glrHcXoX3c"
      },
      "execution_count": 10,
      "outputs": []
    },
    {
      "cell_type": "markdown",
      "source": [
        "To help monitor our training, we can create an evaluation callback function as well as a checkpoint callback function using SB3. The evaluation callback will periodically evaluate the agent without noise and save results to the logs folder. The `eval_env` has `record=True` so it will also save videos to `logs/videos`. Whenever the evaluation reward has improved, it will save a new best model as well. The checkpoint callback will periodically save the training progress over time. "
      ],
      "metadata": {
        "id": "DGO65RDTo9ba"
      }
    },
    {
      "cell_type": "code",
      "source": [
        "eval_callback = EvalCallback(eval_env, best_model_save_path=\"./logs/\",\n",
        "                         log_path=\"./logs/\", eval_freq=4000*8,\n",
        "                         deterministic=True, render=False)\n",
        "checkpoint_callback = CheckpointCallback(\n",
        "    save_freq=4000*8,\n",
        "    save_path=\"./logs/\",\n",
        "    name_prefix=\"rl_model\",\n",
        "    save_replay_buffer=True,\n",
        "    save_vecnormalize=True,\n",
        ")"
      ],
      "metadata": {
        "id": "U4boL-jVo6up"
      },
      "execution_count": 11,
      "outputs": []
    },
    {
      "cell_type": "markdown",
      "source": [
        "#### 3.1.1 RL Training with PPO\n",
        "Finally, we can begin training. We will define the policy configuration as well as training configuration. The configs provided are tuned are already and will be able to train out a succesful LiftCube policy. The configs are set to perform a rollout of 3200 steps split across each parallel environment, and update the policy with batch size 400 for 5 epochs. Once we've interacted with the environment for over 200_000 steps, training is stopped and the final model is saved to `logs/latest_model`.\n",
        "\n",
        "To keep track of training progress you can go to `logs/videos` and download the evaluation videos saved during training. This can take up to 2 hours to finish training on Google Colab. To speed up training you can use a compute with more CPU cores and/or a more powerful GPU."
      ],
      "metadata": {
        "id": "DKDwLPiAvEoE"
      }
    },
    {
      "cell_type": "code",
      "source": [
        "set_random_seed(0)\n",
        "rollout_steps = 3200\n",
        "policy_kwargs = dict(features_extractor_class=CustomExtractor, net_arch=[256, 128])\n",
        "model = PPO(\"MultiInputPolicy\", env, policy_kwargs=policy_kwargs, verbose=1,\n",
        "    n_steps=rollout_steps // num_cpu, batch_size=400,\n",
        "    n_epochs=5,\n",
        "    tensorboard_log=\"./logs\",\n",
        "    gamma=0.8,\n",
        "    target_kl=0.2,\n",
        "    ent_coef=0,\n",
        "    max_grad_norm=0.5,\n",
        "    learning_rate=3e-4\n",
        ")\n",
        "model.learn(200_000, callback=[checkpoint_callback, eval_callback],)\n",
        "model.save(\"./logs/latest_model\")\n",
        "\n",
        "# optionally load back the model that was saved\n",
        "model = model.load(\"./logs/latest_model\")"
      ],
      "metadata": {
        "id": "sai8lHHcvG5J"
      },
      "execution_count": null,
      "outputs": []
    },
    {
      "cell_type": "markdown",
      "source": [
        "#### 3.1.2 Evaluation\n",
        "Once a model is trained, whether you ran the script above or downloaded the pretrained policy, you can run below to evaluate it and save some videos. Turn render=True if you have a GUI\n"
      ],
      "metadata": {
        "id": "q4DkwBoZRSpu"
      }
    },
    {
      "cell_type": "code",
      "source": [
        "eval_env.close() # close the old eval env\n",
        "# make a new one that saves to a different directory\n",
        "eval_env = SubprocVecEnv([make_env(env_id, i, record_dir=\"logs/eval_videos\") for i in range(1)])\n",
        "eval_env = VecMonitor(eval_env) # attach this so SB3 can log reward metrics\n",
        "eval_env.reset()\n",
        "\n",
        "results = evaluate_policy(model, eval_env, deterministic=True, render=False, return_episode_rewards=True, n_eval_episodes=5)\n",
        "print(results)"
      ],
      "metadata": {
        "colab": {
          "base_uri": "https://localhost:8080/"
        },
        "id": "jTdNiAmSZ6xF",
        "outputId": "55972ada-a442-4c70-e12f-3a58e3f6fcdf"
      },
      "execution_count": null,
      "outputs": [
        {
          "output_type": "stream",
          "name": "stdout",
          "text": [
            "([213.22704, 210.63857, 212.30019, 213.22131, 215.07123], [100, 100, 100, 100, 100])\n"
          ]
        }
      ]
    },
    {
      "cell_type": "code",
      "source": [
        "from IPython.display import Video\n",
        "Video(\"./logs/eval_videos/2.mp4\", embed=True) # Watch one of the replays"
      ],
      "metadata": {
        "colab": {
          "base_uri": "https://localhost:8080/",
          "height": 533
        },
        "id": "K9l6AjvCdGjj",
        "outputId": "5793bc0d-45b4-4af0-c72c-8a0b9225345e"
      },
      "execution_count": null,
      "outputs": [
        {
          "output_type": "execute_result",
          "data": {
            "text/plain": [
              "<IPython.core.display.Video object>"
            ],
            "text/html": [
              "<video controls  >\n",
              " <source src=\"data:video/mp4;base64,AAAAIGZ0eXBpc29tAAACAGlzb21pc28yYXZjMW1wNDEAAAAIZnJlZQACOm1tZGF0AAACrgYF//+q3EXpvebZSLeWLNgg2SPu73gyNjQgLSBjb3JlIDE1OSByMjk5MSAxNzcxYjU1IC0gSC4yNjQvTVBFRy00IEFWQyBjb2RlYyAtIENvcHlsZWZ0IDIwMDMtMjAxOSAtIGh0dHA6Ly93d3cudmlkZW9sYW4ub3JnL3gyNjQuaHRtbCAtIG9wdGlvbnM6IGNhYmFjPTEgcmVmPTMgZGVibG9jaz0xOjA6MCBhbmFseXNlPTB4MzoweDExMyBtZT1oZXggc3VibWU9NyBwc3k9MSBwc3lfcmQ9MS4wMDowLjAwIG1peGVkX3JlZj0xIG1lX3JhbmdlPTE2IGNocm9tYV9tZT0xIHRyZWxsaXM9MSA4eDhkY3Q9MSBjcW09MCBkZWFkem9uZT0yMSwxMSBmYXN0X3Bza2lwPTEgY2hyb21hX3FwX29mZnNldD0tMiB0aHJlYWRzPTMgbG9va2FoZWFkX3RocmVhZHM9MSBzbGljZWRfdGhyZWFkcz0wIG5yPTAgZGVjaW1hdGU9MSBpbnRlcmxhY2VkPTAgYmx1cmF5X2NvbXBhdD0wIGNvbnN0cmFpbmVkX2ludHJhPTAgYmZyYW1lcz0zIGJfcHlyYW1pZD0yIGJfYWRhcHQ9MSBiX2JpYXM9MCBkaXJlY3Q9MSB3ZWlnaHRiPTEgb3Blbl9nb3A9MCB3ZWlnaHRwPTIga2V5aW50PTI1MCBrZXlpbnRfbWluPTIwIHNjZW5lY3V0PTQwIGludHJhX3JlZnJlc2g9MCByY19sb29rYWhlYWQ9NDAgcmM9Y3JmIG1idHJlZT0xIGNyZj0yNS4wIHFjb21wPTAuNjAgcXBtaW49MCBxcG1heD02OSBxcHN0ZXA9NCBpcF9yYXRpbz0xLjQwIGFxPTE6MS4wMACAAAATMGWIhAA7//727L4FNhTIUJcRLMXaSnA+KqSAgHc0wAAAAwAAAwAqFSTJK+hh0pMzFnpVhpO9W0hssLUuJV6wsDgAAA7f+YbSAGasFElG713cAo5bxObHrchlUILaeJYNso0j013KVisa8Gn5xJf8f12dmKNjFAqX36rhIk628IxrIHRSZOB9q4vYiSxjZv77RFovYcEQz51ZYs/H1dgWA+s88G9QZ3h+e9NgDN82uOyHtpzve9c6NtBlDlx1Q8N2Hbd2AKI/YCUPll2C28Io/7yS83sriN4B4QgDDNo1Dy5GZRxHe0G+RlAvAG3xiuij92ucU9QbqBBbCSSwmgfXI5Rjt3Bi9pjg17ur4olu5QpR62BB07dOYeenZTCYTFzvhpq4c3JyoDkrpK1pXzJQIntVnFgbAkWl0YB5T7YZR071ogbfRgStSkg2qKEImLZ+gHYphJVOAAAo2WsDSBXAhNJj9g3w0Snio9EKoearPomNAJgnW3A9U/UsUOqLJDcq/1XqXjVlIT98ytfpo2/79qj9zRiv587954c7B4GwgtkXtN+WBgmHpR+jKLlq0hiCgl9HWiYvO5uuz6BCd95JRGLZZHichGiCQr1ON5lbEgv8xT4Y/8+0YKi9ch71nVY/DgArmvycyBjU9WBjGhBY8elQWL/ovybl5l9AAHoq70C5lMFXG1jpXg5twS01br25hoSrXbvXBJhINUzAAFt4g9z7idMCO+ZKQlvCBxnmWDlQC72Szd17WjHRB2lMFc5BCIl+5OIJ0IUwJa3s9GuJkn3Q7rXyZahnqmM5wSzObF9Ar1+FE+JQLQO6Fu6J4j0Bpf+xPJe+ez+7yOnrt82yJYqj2JTJdfvzvoTxR4AWm/BXE6UG9YvuBneWbE/qA0DJhD3lflv6eqLuIGwkL7U2a6Te0cZ5HdQXygOVuCR+TPBwjwOiiYo6gdag/uLjkG3zx8dRGIH/PXHMf5dPanOdW2HcobARkIbgh49ZP7vGC3aMLMtg64L9bXhX/BstbcEKhkAIyL2kvVTZXzGvYtTRewGayczeVY2zu6rZZH+rM4EhH5Ba4Jsw/X9lmPCNs0nXy0qH8vnsTioTzs77lHJXLzh5ZMoEvt1xmjheOe099ivRg/wlir7qaL7rMmcYShntKTs1UL7EDaNIXGPhJrJXYZqtNj+LD2a+w+FEXA+Iwt008/l0DK0AVIZ8yKWAjT5tnm8ZttwFXjQZ4YagNTrlU47LFiYQyuCBO+xATVf5dsXAYsBtvdQs+FdJyQfHlE31dCZGOyAzYS6gQ4rwv7fJ2LyDVZ0rBeF4o8As1kv/yLyA7j0u3XYRbsk4HyNzSG3bc62Td0z4oDcVkvlxhgxZK0KYxXgAU8dZAlFPOdvCrv3Wy1tKDjH1UdmN/xzJPrm4Es2hXKFV6MKLNcX3C9guWVkufWgQoiQ6obyv7htDX0PBcgYakuoPimKJZdI8FgTgDvwawcFktXN/FcRTk1xm87pZ4YU6LF8mRoj8WlCrDt7APP/wRX73pqO28Z+6CFXEnAsl2R48xK2sQiprVt0jKFHhK0uFh5gjTq9/oQAKahv7gUWefLRur36YMgUR70kDG3AjTdjBmHvWU/sy7UvIi6njSSUpVBgbG+Cs8C9xA3gy24l9FokX9NOxJd2C+VCKu26VGp/S2VGPc0TyHkAdUJAEJz1qnxP8naV9Bu1izbYRSDz+H7hdNR6jH+YJ4NgX8IDIx7ECZPXuG7JHNGMFVR+/9yuoNmgGq1CsUFPHdBXrGvZg+DPAlVE6ICZ8nlX0XfHC+VZtb89ogPI+Gmma8J5gXcBMGM/W8tD+j9qzLQ2elmdztqgEx2K5pkM9SFwbFh4HcpK7ceb3PhK+ZV+r+DylaSDGIr0+plarUyGeN9YRw24Znupi0Fuki6E/ulOUFdb3Di6/sPv8fHB1ymx7s4Scgn3rGvEqNiAOMedVvdN3RmkEnIg/o90hHWPe3BXCzFxUMk/936qFYu31R0VhO57xqKqOf4NjM81shuefxLpMB33NfZ30Mk/LUIcWO8RIOKQbvdk4uNcm4HfxmR9zP8PyIS4dK+JIjB9kGW/GuiHYSIXrAi6EdZl2klnW00thOhiGgPdJvuVTUuR6PkGmC59ANY261Va7msAAEx8gTkoKErONGGLFoKFFALpnDli4GzOMpLudOpbk9D/hIojQ8r5Ayjv6yaLl1DBeD/py0TIyr7KWtV2+qyJW3QjD2488SY0f05GGj8K3oNHA4310gyBJpelXPA3ntHrMmSl28pq0KhtMK8Pwlm7pVuM191hns7KYxDK/hzwZ6o84tTYBV8+uu7IJqIaPSeWY5uYLXTuBL3ieZNUh0ywWYR01dAu2xn+zwAIeZFIKRbj52pqlVFCSYxm4S6WuucwvxMpqby4WMzb1K+QlLvGItDJ8/TZE5Kntul3ksfayVhymiGoaus5tjuTtHMGzp5rzPziMvFDBagzNeIrODnqHJ9E4on2ahBD7JUhKZwVtuM6FHzz69WURZvULFaqMKcumx4RQx28Rc79Ye2+ilrbpmsjeEWBS4A++cdzknpf9UZIll6VBvw30zxjgzxu4vf8DnHr1pCIsbcqR97auI4KxV8xC02rX6PUVth4GIsqH2KwB30cxAlM+3xwv0257HIb+7JlQ6vDVJybsZEwCs9k3twol8ftyJiCMJaIKAbZ+GIRT/u2tY3dJSXdQKuGJ8JWCX1SII0iW//TXzG6LFQd+lApsazB/Yc6rSPnPlzbYB6rvR8yPDIcUD3nkgupvU9GR9lRm3ZFyA5iy48cscbDVTTOLkOdcX6eOEVz7sjuK637aeOLDH+bR2/67/FjuTDHJ4LwLzcVzPajD3f7rXPYPzOkUz4hf7KlCXENACcIK90P1//m2uGPv/QSUVjQ2c+CgqrB2Opm2IX8YX7NBEgHRVHhXqVOqiMPIcfI5ewQVyEpouJmtQgz4EH5yAThMmvtL6w5pLNu9/ZsL82WOfpwolN8TZM6UzrgCzwtHY14ebwssSpCHMRnqfY1Kidiu2FoFoeeJe4nvRAOac5GC20tabHFd84/WDpvmmdPCQGy3CxeOSby8T5de270Uv5nZSsxMO7dEAmOpRaMiBmhVcU7t97qpzTH1XETaW0d+gmSUWMfhUr2cD0uRL9WwV6MElLC4sAGjJ+BmN/Wt1YQuaG3cwnKKrWisiKl7LKjXFfDRDoYZsegmlN1MLAbm+lVem0Tb/OctBodR55kWXGh2AsmlraKB/iMpIHzOtfJEHgChoyDdwlQlakSHCXyy0SJAS8ywA1e+oqbG+1h43ZKX2YTPovy1Rl0A0NZVdxaF52zW2RcjYCIOxGAn0ZclhliBEhVaUOR6HqvxiWOx2laFkV++lXIBcbNAZ2Qd2Hyziadaeo/YYusX6z4iGJPqkrdquoncA2rLKPwbclec2otZ9UMyTkrOinfQuuDfAtevN57QsBcnq2IJfW5tMdficQTpUfCX4fdUA4UGUZ7BdK79rUXXKi9MbmAYbbeko9vf67wizMW5tQ5nLnVmT0H9nxz2R1jjuA5cM4QgxIlUWxWVcT5AyMg9tW58vp1hautOs+jr4Frc8oRe3o1BquLTiP4iOH7NV1abzhQ59RQdoNao1mc18Z4XctTVlfIUeKBCoxLoPstx3lcThF2seGwg33gZ9GLvO95oFMdjvw4VowGDtNi72vxOp3d5xv9gRBJKnavz1uC//aMsW6vOYFhK+IrzSOezKXTBaa748IkK0xNU00kFM+ghJqb3mtmgC8Hn1rPQkjhCr7VlsOKKeV6BBJ3GBGTddCjk6P9nl6a63pQjIaTKP25TquI6b1A829frMGDfJ/cJ7qKRj/rkE5txmIPhtpzMczqCL++cSGIZx3d+VFrI5ZxfpYIuz6MNCD1teINQg5uML7ndZPO6mrGY//Fo+f8dGVW3ltqz6L2sdBUCvJWf7/ExwdfQfXsjJt4OtgivJFRJCInTCdLInJw8umpbADxid8ycnLt4QmVL3VmT8a7r+IK50idputMbdB3lfr77bXQw/L3Y1wVg3+qXgcCgbp2/5UJopSgUmwJJyO5noKwBGIIIr2UC+4bSvv3jLxZemyinHgKebwuaklUA7dgvqZtY3VW9W/Ox9+FNdCbYDYY83cS9mq+XWs6LMlYmDT0UpCUOlNXJdZdCDBitkXXJ5X+rsSRuBgTq/q+ADtQa8TuGsqUlO+aEEbnv51O+Vvl6L7yJ1yCEIKMTl9A73nQXfoW2jVHfk7oOTSd55Zms/wxYLL9hTRlXxHyr0DHgE+99C8LdRbGFxIiGAHWsp/D0AWdhRPFbUF5MISXYN3gba3udfB+Hb3lYvzdYGHewNn0tE4AF7JuZ5AdiFyTCfQQcl16pvsyhiACV0M7blELvQhsmuCylH/tDXael8P3HDm2d8swCtDun+i7pfBY0OTDNqdztrRJDE2LVkocxjP0Oy+dQJ4xvN2nQtcVRDyoTM917kXHlTmob7mxRZXOyCNoFsBxHq/xJM4rBfT3b/pk1b1hJBYZReZ457EYfpiOLkP6ZU4EJflWkoscmgROfXD1ypCZ8t44AbE0NUWfi/hWaBUqPS7d+zxTbuBQLQGEnevbFeoEKdRIGEQzUa+LxJREDMJtK+HTRMHuf7LTQ4WZMWTNY1aX/FwS36JLBmA9W2uFmTFnRqH1bft8Sxi69DGuYQOzrDsSyN4BMJW1CR6od/8BHOzgKJmVMDMuHKJCS8ZI3DnJbVBucGdY5sTUL7weq3hYBg9AI+DsBdFKKG/FOSjTZ+QC7XgLRcduHzBF0jrvCaLF4AAYIA03UQZKThlDMugnPjgWhNvveeFsm85Fbo3+BKPoKprSL7AMt4gcfLAD+3sfpjoQgMs7hJ1G+Z8ZJMD9fyvUuaCfldIABwKvftO0pY9uKIkLRE3KoBVR5j63TL8hetX/o2gR5XGM9ZWphF7SQRBKLN4WEzNVHojNgmalvWBJzK2oLOePZ3+haZ1rSrXNqPAkRzJBta1mE7fRLDiZLzs8nw7zb9yjaPpL4LNuXaqgccf/MSq9Hn8if7iozgz/qxR/psGOK87/uScI3xVGeQilivWqUy442uEz0eTIcxzvaXtinlcdu9e3vQK9ua2elvn0FSfiswbr33bwszzNcfUXUtBYFso3YzYywAl4nUfyVEDeDFwNuZ46ixlJ9OvYavEWekFMRhhEVDEZptVs3BptRoBgYf7pswxCRcCvptqb84GtYKap56+82C6g/Mrs5pU5kKWaQU+7LdESLMRI0Vw2apy8Gk6lMDzAPFGuIq193sFTQfgHNWcMhNFGk/I5DTHDYCRscHPMqAOn/rOZK/jFE3YFLTLRr648vAszPxxt/0nkUDqyB6yoMURDK/6ExrL+2Z23qNDqHs/SVqKCFuvHACZBLIZ2OzMWWqS9UAuqt5PFtPefXIIJy6Sh3Oj/vJSUKPThTfdCxMibKO+gF7wSX+1oB6K700pl5j5NN+bMICZDRDwQb+80x6yEXh6Tash7G+UKAA934TVqfwUgoovOZ0s614Gg90/198MwMaLiI9/4B1B8qd+UrmoekTXkTvWumU1wbkfr9g1rVM3B4I3MCz9fwGw/ts7l7H8XK9sN4J7/wjWp1R08Uk8ReM32NKmbjmm/n1OvtF1Iwr1gMJMt1K4f0QN6WMd3uPn65bhz0FenErF+N3Q/TwAEodnxLAvpJBKppFsrfi0mvwAAZfyrDGuWW3WuZ2HMmKsuOszxWDPcPcuYNDgxOBKs0Z+NeQzaX6/bsPEsJm1KqrZx5Umqah56IYQ6B2vZck03rFxN7b0FGz+8t+qG4MaJ4HMYe0n1ttui7LMgBv00zBuk1aVofTbu9uxfRSBs5ThXT1hqmZr7fPqPhpXYJ+0utGDcXgnJHCiivJys4NbF8eHEAOoKWpY9vKd4gBdU7ubr9seG2r8NaAZiULVNECSmoA5Lt9TDcRsTgvV941wf3YGqbPNq7bLw4Zpm3wrJSWqQfv78hjZVTb/89qXLpOcESEYRI0SpHK7qObuIzz9XgwTXzGLEUMw2QBHBGx6JtN/BFYq1R9RMZoWCY+VEvc98WFBYpGRyPpTq1XUhPh+vIkrysKEom2WfEF4WNXtyHxnZa4yeXbEPfSCeirEj2E8eEXHnkuI64OXxABZcdatdJEajYtwF15K5VQlXheYeEABVHNd2QB7pmZ7YaVvSwGC6X4oWv3SImmJIkWMwO8kvaS1xLu7R4GKCiovDMjvVOCWgzSMR4Sh72gA1lsyNZRrXwVerE1wRR4Q2bR5D/Wi9B37Tk2nC1rIiszBz1n6v+Qi6SOxkKu9RhYdYNZIEOHS0N8ADhxiMnMwEDyAO9nevfrxX2mkj/6ehRgADspZEfpSDELjLuDkRpm2BdejrZW/WpqtXO2N00nZCFTWWwc12K5JZ+9+dqRNhEgAADi9RfcXlBk6pbfcg7ge1L2B/QRwLApJIM/IlQewOqtADHh6MH5Zbc8XFP4bGToJgBmphs5L9QUYnnwMqNhwwt9eeOGT9wPu8lW8iOYUEAADjFQZokbEX/ZI7OGfWGbT/XMKS+Vyzpvl+nKbbV+zmhNHi9HjfGhe7CpluHb56ljxs0SGgGmhoGfTb8+jxj4b+LT/blMpaFO7ZdRAxgXqx5dgFKIJsS2gi+/8+qJ8FMoaumv+Uga5q5qXhvOEEfDBs4mSzErWjnrgLcSXK/moVeQvs2hcdWobVb3D2fIgQdxyrrk2OByl7XNjWZSKa5WHrPOJ9y7XZIF8aFj537QbUNdTSqAGJf8SAopPABNNf0aQY+5uW7jHqSlEZRe6MHJlVKENzSJ52ApXMamWIQkThnfHxK310HYI1ZHwQ4wiUv0ly4gatnj0BJD4XsnJMjQQHAl0QXfC+lO1D7fc0QvYt3ljByn6XNr5cQoXicM4ObPE3CoSl7bHwfkXA7SHYsZCDnp0duHGb5apN41KmJqCj3Jmn4Dvd+vQVaLw5IxsR4dKRS2QMnzLEJz52D66cCOp1fRoQodiGx1qLaqKWOUBUx3OubmUwV4HzkkqAczWaLzzY1W2M3uDTbi1no7v6K4A0RWWA0zIWdQHA7mc44UiLhhu2BV8GvvDyE+DkuBX6ccmUaMkLLv9G44Hr3wE0I5urS8Qy8Gg///nj7FFqc3jLn2peUMX279Y/U61Bcds8CM0e/GWMzHkWNW5cMd8P6uPvfYKODsuXT+QEak/VZup8/kT53gqdc0CyWFoLayf49flbyTsI3GSTvhFdrJUhQbw/wxOkQpEd5KlR+cmwI6GnQkWBk8cxU2AjcQrrO/IqJI42Ksu43I72A+j/WZpocxo3pfRr3GfsXHf2G+U7efm1NMoATFy+dRUDYX6ZeB70bBNAd2P+8tIZ6WNcdm6E7yPxVhQmIDAJpxZGedahxXcZpSJlkTdjrm09zfmZkHpfL89z68dLjfDXNQwAaA383DXiMAaWoVkTxcldlikkRC+yRgvOVYIg1ujrbqYQD7N4FRyQTGuk9Ec3ucoD+/bQQ0fgOP2ucrcAlWLmnkg20BmKK62NZc1EyahWHdxD55yJ/Hrk44gGtbY6C7MFuefDAT9Eac2hBpO6PbW+gLIlY4M+ZDpo2e2ZCHPqqFyd7ZTwHtPdb6/wvh9woClwyJBAO0bdp7zTkBDwxAqpE73kAp9sJb6BU2tsfUmlPDl/j2u0PP/KomAdLiIyB9jCwgwBMAZD1LwHPmE7uQOR75SzEViDaELMaeqwXzB9CTdp4BALqhOMBJ1/WSyX+O9lI6ppL+wAs1Mi/N5Dr/DB+t4dP4AG8v5HL09/Ri52rqvwBy4BukNBWYhqkl3GtAJHxFjm5yowlACv14BTvhWED119ZzOZSk+s5rTnJHTnz/Z5Ak+xE7ybR6hRiqp3lbDQBXBSsPu39uK7szqN3bylB6ZM3wWKAT6pd7tGOJ09THW8ABZfn6lw+xIejJwbE0T98EU70qz5IN1AbbZQPtZbEOK7jo/0CobkMaHClBWZWGnOHkZHqNCx0LAIfi7kS9VLz+qvDadx2JN3r5JI/eE7+SxFsoe4OJOzHfyyPOf9XhuuBe8L+Ea/tswftl8QpDk5JMMG+le2KJ2f3/gOMLFrKQT5v/WeISsu2Cxiaj8hGk6lO3kwQDYCgh/2X52o7hLiJhydbaYc3qG17CsCl/7VN14MJ6AGubLNfbDymqyglQWWoK8cqjmcOFdSjTUYHZl4gYrMaMeMpe8eOsHE6V781XgVZ3j7pI+pDWpSR12z4vAx9dzmrf1njIrIPuBdn/ugkUAN2Fs6XsjiHwKlir26GGFXrOYpkWptgvugo9gTYMkBI6l7hSZxiIUvVSesRGK6U0pc8i9+qIFZeioAOnQwQnHzQBVfs9cacqbE2KJBdYA5IwyAq5pGSfv9vka+wyV3NXAhtHRlWS8t8cELwa30r/+fTodWb1N1MRsZxj8B6m0fLIndYyYnNMCnPwtR59fY3gDGIuyyBrKggOPCeVEnauuSQ+HvKM8N9JxU4OU/NQzfZfFGUN8/lLLQ5vyVX+DhSOralpgDjY0ZwRT7473lB9VIRXLzlNXXiZpinbfVtik1LO3ZhzLj1LZ9XTnDu1zA6nGKpPVXx6RoitLPQo7ChHOt2db6UBUqmFXXu5bdasES0SM3khPNZ+OlhG4xwGGSDwEcnCCot1vRBovZJOAfIJaF8qs+1avSKhWRLEHqigBqQ0rnYKxqkzFAEq0KcL337YP37LrOR6RE6gznsnIFxQIuaf4/Egh12l2mDTY7qxBeQfTbosWwbXDxifloEZeuZbC1oXC5dfXURHgh0YK3p8Ohy1vetyzJO0miYkM/pMHitMo8cp1agiOs6BB9NEUqv+3jU9HU3ZgleRVEdgqq4Eww71INXpXXWrOZbfJUSPUUY8it/8eAB9d18kws/iKpD34qHh4Gvy4Mj/6/eqA+aDTsTa5pWs2NaIdao/W/nXdhrQmg60ZPwWsY5AU6MUe316HKm2eUILcC5hmOj5nkFcgXfWLoHtOBo7dO/ybhPiV5+JJyY4SNABjPMXI6dd0kJAh2ch2e4CBbjaXaqtneDxvVcjU9T0IQmLuF8QecOIHHNi44lQggyzQyhQorpK22843R7TDGGT9jCl5S1KzrDYvtLIBO07FCUNqGFJujNZT6v+Ar6+ITBfLLIm6r5pV2oSB70mrdwdY7df1t0jIYhAE0qgYyI2JdgrKzfB6FC63fa3AAwC2pUe42TM6rXZ+LhAfhVHJtfweNMBHgboXKUJzErDGek4PqWLhJ/6LASEg/zKjWfOjdQ96NQ+NXr6k6pXFs9xihS+AyErl9lheWSw6jyV6WIZU895HkZJ8PrVoJXm+lEZvvhZxLgGQRBf2HW0+dJb9N9WZ2arfQX0coTQY3gC6Cm76NV8thkzZ6Vml//7MZjhHjGv93MsZ1vtipMTIiDugtZ7c6mUf2DHgHk/tpFuBCtNGMVt914yfAbw+P0dpLd/FhW0qBTljCYWBAWxXt4+kL7XMABPKpE12R2HoaLLorqZWo79EdIMRv5MwQPi5CW8EIn1KOuAk+P+dm5IV/jKS7aLtN2N0nFAAefKXBsIDgtdgnsEu6kylW4/4TA9PE0IHhkROftxuvlgi52Vecx/fYmU3KRGuKr+s5LPGAPojlKdIkR26NNaewSgn6FfwsCrYGUuRsH32mxTU1jZhQmTG6ENjCnO9Xo84h2lHF8ay871TigZADSr4Ka7XwzGV0/EhvA4j0k7MpEFqlHSudS0K7xCiv1QIMxaEHHKIheF4xHCNIT6bzyg4uf/9wE9rt52ylzMcQyyCGrcSmqxcZPaAM/UCEG3avSPWtEruA0S49oDM9ovxjdsoSMuH+IknonqPyivOx29XMo/wf1K2xmZp5KXQ7LYkDNBjuiVRquk4k8WqcoKV+0HpjKAzUuqbeXiJe+xYzNEU0cF03eYkcft7kurqaBbf5Oakon35X0lMEr8wkubWVF/yFQWSLuirk+qTnUki7mH+6A3qBO2BxoVtROI2DptyA1Id636IubXiKMcsQAj04GyVOvvWPUbzAcuyZoyQAK6gsgX3bVmXbGT0EIRAJFlP1HaRztmqOhWGDtszIFxZe+XcNcTpDDTpFejlBpNA3HtkyCdVnU8yJSBM8+uKZIVp59ZP1kwS18iL7NwZnpxb0c0BX61i2/ry/vVPLcDhIyh5qeTpMRHyeyFoYjB5Z1nvOhVx9nP47dR9tPdsuhQOYEoP2EUNWMaTxPzE5fW+lrvUeE4DxreE6ex82OXIZBiliAYqQ47EUJkRx2VPUjzqM4aPHnwXGkCHUvgtzBwkhO2lrC4fA1FbY99eVFBoxI6GCgAD55MWQG8nRnyBlzQ6pIP6OgxyAsg7y/qzxKah7I/A7IOE8WKhNpf12inmxIKTcFDtKOydj6oGDiEqUVWjf49Ky0OjghTuaYU5GrESFhxfbqAAAudJnEe2tLtyIx6a0xmQAHwVjcSgERbpurRIff/m9k0JEzRdM8D47O7FxYVyWQU5c02ahOqZra/fhhpL/UEcorgaYTsaE1TCEyaPlC0kYCCu2OgDYwjVliXR1llTZhCL6JFoc3/6UzqPF7wnJcHR/vG6FyOYuHd//8Ae26gDbG7U3cfmfRPU4+JIeCUsgll3+boqYPBemOkcRvQhB4eMDs57a3zgMLA/Uda0JFCn0u4EnqcsTBS8Swjd03veH4Na70WYaxgjRZKxuOsTeGvZwv5OBfKA4bBNgEUECY2RMP7uPzSRayBZW06IANn007+k3YHMF5k41y7N83ed3Ib492kRMMVzv/5s6brfe07UyOPGWm+Fh8ZsjGpr6HFxsAhZPFZu8OuaY9MutFizBqzHSZ2O0hU6enYa5GyNSUQMScHiH9aDOMOx3XHv1sWGYg2axzR3o3bcg7ElKTR5TE3KDCH0qRbXQpOo547dwZu05i2yFNX8YTZSjSP/PvNg1wtpmsBKepI/P35XubeyejxLR8t35ZApzeuWd3GC3Xek0b2okg2pigk020bKMXyaOVQp9Y4aPSJEkwbxvMI35PJX+vG6vtm6u6U7FuJJD7P/BSL6BDj1zO4cqW0vGFicUql+wi2PeO9FjuwnKDUBvo/3MBJfIF1Siov/jxJuR0yD74+wMnLg+qfVNPKfhNZph+bMwtcks+XBoKM0PnXcfT6wC7cBV2PGQMUEg9V+QE6kXHuxSWqtPPxOkRRbX03ITxIuIVvFI1lInCzTp+3ImA6WkUiSysW/u55j6Wwh/otdhKu0htPDRzOLqWVU2NJUams/JxTvfgJ8/EkmgatJnGthHpU2YKCjf027EQ3uYrjJ5nqWH6aZKiIjS9CyI1kAfgKYoy7BgABawtEZGz83UO0inIT4YD8SlZL2TtkzYp/It2z2D0/jU8KciEvjyLcmvCR+fHmQ7/slQeYnXvLes7OOZbjyXJaUgcNSMIULmW5XO2pWb+QKmzHQKVLRWATQAn2xbq+2G1lzcYPSOKO6PbhiK39Ck1P2LQRYrYzcNDNoIUTqtFSG2YT5CSNb4mmz6LWa6ObDA/536Zde6BJlkdZzMGq6HucDTcFjyTbYDjSlbw4Ub//fLXtBiiUZr7wF3lK1/6UoWgBYAAcgjucJJPB7I3FM8YMZ44rIvtxKESCzE85DUDynmffinzuChgNbeOp339wjV02IuV6tPu9uowzay3JDIPIaZGbt3r6UylyuMuW96kOT8o0PNBSxZwNS9IhD8xRpv/5b8c7YODL2eku8vuJNcI5qPS1osFgaqwagwfLa2qFxl14tH4yjt/pHoizUtBpQFTdVJBssWg/csMTFcETq80SbNeRofsCTMn00foq3ESXk1vgrkPYV+9qd++CSM+ZJ4mJZH+mK48LTAB8WS4NOZSPmlQXNKwwzNTDavrLyJCu8ts6U1DLVSxGCSkfnTGIgIorucFKGU1DCbA3bZjyHZX8W20X8W8e3Er/595Paz/YVeKhuhYFC5JRR9USb/LoSOGoI6fvbQTcGGRVHChCfDP5tc95YRSjs3XiWducS0UnmrIUrF90AOnUJ64j2vjyFds+szWn24qA7ZxPb1FIVzL9iEf6qzsfiPrTZY2p7ChTTFPqHV8H3FkGnzWzD9QsMiS+/3/1tfHkoicKhJOZU191i6VzgDAb+6/zlDwhm8RfN8xgz8v+g2nNyAEyL+aQSQXkMk6OWeXWk3t5qiUz+ZUMUacuwJNxvWL/uZd/n3u+ntPA+vB3XT1P1w5m978WZW2JGkcysQAtx/0hQSunQ86CZzyXLB8mSwSR/mRMWJR0zEHvxxZjpnDqf3nq+KmrPyliU5OQDOaaezw/9RVPdqKQxvx7MP3RbrGGA99Zeb/7AeRiS02qhCvn5Uasds3IPar055DOCZknuITwaCPV1UzK+a8jo1keZ1f2XdQ87UYqmOmjly17hd8pprxtGOBUGryLUODtMtO2QIbXPLEobae68n6nHILXXhGboMnCQgmTJrpObiPi2tSSsfs4NOjLDbElCfVOrqVakyK+alDvlFlEqdXhHx4zMEdKFQ7BMsHZ0crQ/hpzGGmEFxA4vE4KFi4kMo0OSRx8SO0qMiSXQNmUKj7BP3IpUdDBbvDNOmzkP8q6vhRqtsm+Fc+VvJGM48dJ7g1dHI/G2CynfSFeNpEcjZexJaNrH9Wx4Mv3rU3h2ygB7JbMCmeJ86k1NMdeRuAA2KcexiLo4GYCEqeZFlOlroT5OktxISHcJHE13ZAXSggnQALkSok9qRvQU1vqXF3xFw5GsLP+VS08CvX7fTvidpy1NXS63x3KxUDdcY6IMOzgisB0U8ibJVTRLAZ138F5s9uKkUMOohlIUrn3fNMhlg0VVO+THJcqebqiGsgtx0yLd8kSOC4Fd8Wf0VaRStuWo4jdA3tEgjSo7Hn1qIhDAz63BgdTlSkPwl1+ANIsJutvqhBQVftQxIdw8CgdRa4w4ERei1VAQR/55Y6c/0/CYMyaZG8r88vE9XGdZq1R/BktJirvvKCUKjhFWPoxztrsdHdIKoLiXGiZvACg8Y6t0N82cNcyqc6HxDfh0UiSyjVp8M/HHwaFpGF4Nj5j1dzaeJfwJ5QJAqMhuhoxVs6p3/34NlVHSWxAUkOKSEgR27/fKjP9yPDyErdK3OZt7kOvIOjxRGpRAlKav9DBIuaLqi98ViwQDGTxqeL3b3XiIzqEq3Zu+RnTK4GArJc+APrqP5uIhvqKY9s6mXPRj3a2Os5Emokbwrv6+yxFZGy/1lETDoFxrWSoNeDMnxSxoJvJhQqFCUI4XDD4CtygLFf72WiO410vqlOeKIMh24O0InLek7+RxVboEGQJ8pr2hJUxgLiav0+ziRYkI0r+nS9kwJH20mnqdA5wpBwGwQEPLEsOP1ye7tLZarfyQEWfnTX1xKw1ImwQcTrULH/7jT24FPC2+X+D46Wses+PPtZufxqetNGhPt4sARGv0j/9fFJ3aeqM1Ej/6gzYUfsyoEyUjbNY65Ugw5oJx1p/R6agw+gAP8s/r0GKEPHUGrcTHnUEtgRb8pW+9EXaK90tJTSKA8HtQPv22n8URiAbsRQvG2CQoBJM9QKqbEtkh9RjwBw63npfWaEojUbqfZNrZZt5qnmeB8ynHv70dZwlanK/gOivW+oFSS17fymCD4a/R8LjWkpmDzgmsKfrh4GtFFo5JNRjP+loiKZxkHgxQ+fpMMVwcsSaGTqAtLdi6st60lqVvK5aX//B3M6EvLaOleC37EmkcUa4qQ0QRC4GkjZCBP336HXmJVWOQc7Hk8DcrAFsNp6RTyAWkEi2tsAKF3e5WQ7YgWdYFbWnHwkv+njbXkN6urOvlyg1GRHfllZWUGghM2y4MR28QkSnwx2vbZLuKI/9Bg2Fl1Ywr/xNomJulfsl1dtGt/1YWZ3ouw27W2a9n/ktorne0QeukHNazYOxAPZKzxv3UC6N9PVa7hFGnYmi7NLjl2FAy3yY3l1HpmXGAmsEltnN+0fxDIhZjw53IbBYmFKIP9sj7bGPqo5XLcavN0FdN9h7g9e1kQtSu6EhsrWa8Nd73HFNNlB2LXBKRX12vugwwG5p+yhS/4t8vtYd5HHdIo4O8US1gaZGmmf8cdO9AUTfl6Hg6mtNeLKKxc4PNYrJjbDDwFdkG3aCqDIoCCBeyOIcg79QSGuHVxRF9tLADed6ufdtkYx9uyJoh0EluMXjtIkUfMAHEMyUcyu6OaaKSOH+NEFBDLsthbqIWQXUdhunhfPtlh1+mQDf6ww0qhKakkj0FqmVFV5dHnt3BGCC+6q5vdkd7Rz+yxyoMWZ1xEUPtLjY9KuhalAn6k5H/4Cro8zdWuK0P+v5lWmQ9XNhx6qHsT253W5DCftEVySdVc9iXfLDxUVYoxXT1t70EBeuZt+fkX798lzEAoW+eOEyAWybzY4DtXK9QDvP71raeBSbSjq7e+BDd6LbD1KaRcV9n3JZ5NepYZ29LQqvpZkrm8n2UMH7GaksBjWOl+S7wN5dEwHNCtqSyM9IY9+5aCJvZhvgl96qGzC9+jrTs+PoZI4+0HG8NYkhixwABlnwwf6kfkr11bTfdnlhs7Y5e+YQF0h7jwIOnTazfqJAkWfk7j6ejX/ICHE/4ROhZ/L/T35hZ0Z4G1fUTdrFUGm3dC9BNvgwJmBt8+dALr3yG1DC9gY5i6O65j3tHpjUTKkOazGmdf3DyAWEi6WVLUYQoTAlmOKRxqTzb/qX1+0YOR4yViyphaI7CiugsgR9ldhFTte+EJzm4x/1MNdp9FJOi46LIf1e3pAuJQy28Pfjji8j0b0CuJfbIekftrcDl7O0vEpwSvR6TtQ/s+q7mfqXJxHMAH8u3e/XFVIhCKRqm7t6VE2zmlYSEOSzqubgHwgfyCBgapC5iJAZtdOzRstIr3HZ+bD/vRka7AVspv45WMXjwKdvu1hgSxAIM0vnQtFYakT16EYZepWgBM1qWvcq0gVhZupqWgurUvAoN4lrPsQpO558i9xn6pMIM8ifzcRwOlQ2hmTLZX+65lJ2d7BgoLKKEKmSyae2Q1L2NUHxn7s1cJ5ye/KwXZuSmWNlVvTV8c5vgZ5SzK7jgDa2Md4PMWKAiLl2uZ6bauR6Mr/7L/ME0ljaK+Dv1s8Gj6kBe4YfkTW6VnCkkU2UdKJ0tIEWFRlmmPYNjPKY75a0TzsoVPWx9StBlGk+f93cCRu5HhsKhCzwM8ZW6Hn4oTyowpGsCqkKVihUAHZ3AHunPHouWjj0z4fd8TshUsltwgvTlLCBlCyfSkyuU3Sch8tDZEFu1VgWxLZAMC2rXEoYRNeox5dhERowjXh5SMsLLvvVlSCSdULzPKUoJOcCP4NVNK5TOOU9CfHfnIV36vI8qKsvSlE58JxLG0vG7KkDJ/Beeo11Pt/66IrZz2W5p1KFw3SeTzppnzO95l89C3HBojmNbxDlNOXTUzpJYoTxwlYebUt07Mxe69lnqdhs5o9ODU1tagmdGA8by4oIXUpV8PyULic/i+KeLg6eagDL6vWu0madOzt82aXNZN/4i5uzN7pye6ltdNGA5bj822lsui8cwp4SD+HBRLJoJuhwFBZBayYLKjKWZzR9zujTCZH+faaVefyc5mpJkQk2Ij38+in4sx45ZxLI83n247SLup9fzloWuM7OGc21su6LSZFTEeeUHl6KYn34lU7WCIJdXN5Jlhe7vj9luGSMl1srOwuTMN5VdZKC1vyGkG+AX7wtGQ/lpAd5XnW79QNh4Kz6uXhPkse/SvyPBKLE9PkwSig0YpWfX48c13KtdHY2JJJ+6bXqwoZmHV5F1wi/Cf4S5Wmyd9rBz/9eiBw0HkA/8kdV+bW8uMsony6fMQEjcq8XHWwIblNeR7xwHrMnw6y5rQ5c7K4jIJMUzGxO/Y6bEqQtEmKf3OCh3dCgLnGnPSJuj0+JlMy4h+mymXY2CIGoVhl+W/y13nUo8SksBJHawdpyrtHf27e8KNOUtd+JyELrTCjiI+/R9WgRuIpsYVLWH6K0tY0eclCWNOqTJHmO8gpZtgcEfhUf+uRlBPrv6OrSk5II2qpvduLBrjNkzsm/5e1QFyFhYbR9bSqGOxyD//dyXwjB2v6trPcuNZutzx7F8OsOcdj7ai22OBUc+ij5ifTl8+nyZlyFQ0E+48J1plgIOwTa4QkEMX4IfimS36CHrT2KbPymAv0mt6VhKa4IwjQ5sFgDu0i2z9DU7okSIWOEDw/SW2yheytOMbWZspAHFwaPgjNS4OibO1i6e1QkkDmZmmOIBaMmmwK2b1JGx4CR61yCf0Eu4k8tZSHf2NMZlGiEJAXivOycFwenXoZPuvUif2EHo+tUHC7hmLFkn9qdHjT3Sntr9J1e4OpVI3Y59j3Wn7cJ+TcWDw3fL1SpQu5QlyGtMkTWG96iuwClz09rhez/gn8l2p0h2CAW+i84BssvRcMpzKvONlESF6OlhXJOBp3fmjJwBW1Nt9vhr3c3+38/JMlEUEgFnrygpovKQe4LGyWRUMbP5k0VEKRUR1tAa/zKQl3cZ9CPeqaBcfq0zWPsC5qTv8QuXfBLuX8aFzwcDxiJCZz4r/T4CXFoquch5f129jjK67RaPDDiPvHP+0tSr6XIUml+JGI/pxhYH3cWwiux6lx893B3tkaCt4ed0fxHJM8YeYzucD3nGn5hx9i8+hehuOt13EaovrsM2e4e9KTzY9dbMH1jodU90pSB1my1OLQAs3RmZQIFjH+r04fqvL6nGExffwLr+i2GYitc9JZtqG7Zw3ODNE1eek0ab9UN7WYKJnkuqkKAao2DpqjtC9X9Ah2vIEnpo777/NZcxbE5v8RfH67UFkSelmY8Kiqqq9zKUHADepBMttHgcskKxqzJViNQoCM9Hu4Uom+FTcGyAawVgbm9gDQ5Bx9jrpkPUI0NYTQhg3zimkE3PxztmwehL1w6QZU8bGu7TTmXN1ks2EAvd/PfbyHeqy39ngJ8D0u/gIAupAQxjT+xAeTF88EADsTQWCQdOx223u8CNqnlLlAOJ40XD9zRaCmydTOkP5KBtdONt1dE2dkck2CwOVC7YcnbPeYihST+mTA57FnrCyh9HUXV+JyNqA1uRmRmQ9DI81lz8911OK5GWiUYC27VWF7H6VXv7aJyj+FWMj1iwJOh/wCKMJBhSDpH+0F1P6ruArPFhAQsFG7gDp80tOv/ohmDjyyivjcQQB9M5q9ui2BnVVH2MzkxWPWXXOrMfxll2//ZxTJjFWZ+8h1LREZmyaHM5HgRXlv1XthARspGPA7gVpYm2V7xi58Fy83+eX++l5wQQFH25lRwGB/ktyNF9COIZKFlKQxTnzvo6JXUefM/eH/6XZrZQCIYyWtFQpcqpT2CDaj+1LyNYcCGqH0u4ZFCJG+LcPOyJpK4V1qen+TKoaEHtcnf6OwPK4tVKfBlPFcHe4H3oqgkRaPB40iZOvqY0fvfzARjlhvJ6E4g6H1qyydlcUPnIyr0rTWUaXEPgYVFVN42+5kqvCaWUdnCUKqdTklUROHaG0cyAHuoOCqpmz2waKI+eR2SwNzmcKNdVNpx50fKnlfaTdNMnffwJ/5Ve/e4K7eL4yKFOuvUS70uvjThZwHEz/fCkPnT6//QRxzHTNqS0XKtFuRO9lfJqODJPVzJROXUr0iDKoIu3j44nm6KccavnfxvzUKoKlXo84VJsh2UV99phb/j0OTY3d9Iih7xXlgqeak0RvzgUceacFbQH0X389vRtE6BuakjqW7DN5K0YTlYYB0QpYXVbddsq0QSBJBDstaB1RqzkhmBKrdJBFuKdwAN/WWZo0cbVkiCh/+FGyPwdNNwyOG/BmtLkFjIggX4/izuu5dEct+JsvYVcTfPZSKLkwPltBReUs0xi0wo+OGmwR6NE3wF1LTvYX6/qvSQz8hOdzqnpWk+av4VLgXdWppCJr6acgH/BEZCZcfsOveBK3r9oCE6g2jms2hBVTvfCsc6u5CLaJ8xA+A1xjdeSULV/TedY5rGlapDKaRgvpTaw28j02BaNKQg/59Zc1quOGcZ0tApoCzhAk/HDOF6Y1f8LxqaXNddNX5XIcqIGBS7A+8hC3M39l0/Gl0qtfFrCT2JqFUAewubUxjTp6aF11mm0RZcGvO7twVHgjIuMvAqxfyy2OjvUJzR9YhEIQryY4yQBi1ofkn38D5tkoFY+9Le4mzpjIE2MUPXplssBE+97EBRB7f+ZGV5qJ3l6zJc/4MFFwqLyrbsIpZeVuuW7uW8TDxX6FUK164MamyQJCav23hm8jm1c10TUZQJMcYep7io7cpZO7tXvczk6dTAoFdTq71iItB9K9XKQQOnh0COCqioOIBoJuUmqhiz+A6/GR6quoZFGWMqTHqutBxqEBWRyWcX1ZL3TJwCpFdtJ32GmJQco1giyonpFzBIRAh9XjoBH7lW0dfTtK5Om8b3JKMby8e9GQBxrPlBSZ9L+ignaKHf6aQZOwsDfrTYkIM0Y5sdm/QSgIOcr+Dk7MpLa2FZ26vq/s1ssCQGv7T2g/6+Q7js/cKm4ylBLGMBMzO+Qr5RLXCWbzEjtTq+NQXNaG4wq8r3hk+aFuSWpwDoSOBGjwBc/w2Ws3+iBrXmnSSlsM/j9BDBOlaTsevqx1g/Wu9VEwgEFdHDTogxAv68q007Rsg4dHv8mG2lnGBt0nnLYHJtDmZFlin7rI6KVf36MWBP0/5iuhD52jRi2n5Fblel/8CjssCQGVb5rhP1mqg9Bo6gSsE91cDBAQ2wsROrqNdq+1W1OI3LU71BuP9j8//7NCPOZPHk6BBh+kXzXklF+CNrp1AKY07OQ14LAPBkW+7BePpCZ1uOXWLmmd1920XDmF0/o5OiY/p2oYkVPI8inoh7sIVye03aliFOLzrcLYbFbXrGnxz9qMjgrOEEAlAJNJHdBniR2BUaJaZzkM0fsg1prgG+jZaGi2Z4XJDvUtfWYVGi/PuIhuSjVz93Ite5oucfzIOnhprNG5+boF5MLNnBN2MCG2aJnoQ5sn06z+4zIopY4VwXhoxAGE88IYdFJBtjkitGaaeHTjiJTDuEOxRO8canVsMhoWZFOB01DuEuXc2g3KGGte0DTfGstMfSa+exu5LJEqIBsNSAmgOl59ssnuZcYf9oKpvk61X2zlrrsZL823ov1OvEeHc2CnKBaEfwxqLUWvZ6e+Zn/EBcY0zqWU5z9Fa9HUG+zjEtVzCaNQ/fMosPHQnDdutxOSzeRcYghcvuQBiuCTMd3ezao7o/TG9ZQI8M3GCSvCG7FuuvHxOaaheFhu2j3LLQz4xC8IZgDJmbBc3XM1CyoVgcRan7+WrfVMRgmc0ECyFURUzXCVkYtL6yVkeaBTv7bSS8cYm2EEVBtPBHS8zF13wkFZALnaz9cYQcIciqdJu9hq2+xb6hHLmNZalbWC88QDYG2ohu8Qg54Y+0Y8gr6ayaop/m0Y0A3N7+GBOag4lcVdfm/DdGg3MMpvhZFmMbLeis69trz93ZVB2OUhy2n0utRfLKa0EM1jif8lt99m4upoSRLR7xuTC3piOY7jIvciNmK79qXdyXlY01tvwoLe8xOW6MNjX3KLjJbFFCxgrCbjAblPPrLwCbK2CHvDt/WhvJNobl0ddbAYrQSKRXe9oMzwGiLzJ0UX73zRqfM/7wVqAlvWIYPqDwQgJ+AQx0fN3EgFM8uihCU43I8e2+hmhhjociseZlNVOtoVffxonNjAqZJrCiU5bgCCGWgBP/I/6SwDr/lr+8pY0qHC5vs2hLI6Ehl/TIEr+era8Fdy1zxjG4YrW11yAFKDu2RY436li0YIUw3959BQ/d1/hAscxQjeqQgj036WH5nDtvVP1PudxWKrRdvzuE6rQsRpwBFzpwY7rKRaUJC2Ry29S/+dIvQya28md0GCKBS4ld/Jhjfl6oVGm+5io6ev07ZkHINowa+pHXwrl+djR5jOq7XzK3NybiiHCxEQzUVv/qLKacZ4QyBD5XaSCiQMKUDsVKkCpdnvNeIGRQKSLORlVTox7+WjWmmFrtN6K9Wbukgpyh67estXhcmPtQRdYCENniJGFYb4v0xZoGE0TtNRYRYjHG6U+lCFVUGujTcSDaDVUbFAtIUU6MNDLDInBclCR62+3d2z2GUtTykWGUOkPE4EzHhbe7OF6K0dRH7Qt/hhC9oFkRghOzlR1QgK2gjYwzD26qCmffiLB3z6aXDbhD28vza9TqsM/EIrKfqFm7QfMdmWcEjwHf5NV9UqVLTYzx2+futj2fynz9oVTd5WQsS2ewD+lsimlWd9aUT0QS5qzjbRfwOrRAeMrpCCRVheGwvbZ5UzB9zO5aXFujQLrK+wLGNHKRQ7tGa9+gWyXe1xr2Rp5qEvkeB3YnZA2Tay2rdaUGKByCsqrCDx+itl3OgHvrGwwYAeH0ottYOy6ZfoMzH9ltwf49YtOzrmXNrjhrDTuD4brG977ypwr7uRs18k1ZWMBNzpDpekVoW6hpW6fxdMAqug9x6hPxKXaOJM//ATuE5EO8ssrNMJ/TaP5oK/r2yRlMbTlFU4+KRKgkwItxLMpyE77G/vbpUAt7wrew8gX5r5xCAQVfKbYv+NB6tJt5vfEbK7NTy9EyBbzkTlL7gn3LwbUwKIfhgvjHQpPDzr7iqgvhzdl0Afq24KncCitgsEEJQ+IZ9+fm2gZLhgWmVo3Oi0hQr2PRraK6H0UFEiamt54PPUw1+PkGWEw/vgVsHpCd/kQt3m7VwJO4RixUNld44z8fgKTf8eiy6Hk8nJWmNDBnECNGUMVc87xIwE/SoXPflYL1QlHGDZ0LFcsNDXO7Mq46HxEd6EJp6hqOWQW4HgiRslFCnMIHcXHg9ZLCCMCgq6ZdP/1rVXh2IGdIx14EPrl3UulXABYvqKpi71rupf+C7gqRjrkdJTQ41SahTrhd44MJMMaZUulrMuFQtCRTG8eWU5KJOgXNgrJuKgYhXWpOPLRHiCq9R28E2g0UakXweK8ercjkZCAOfkft27qsJ2VgIGMbwisXwXmgB85AhbIoFRHREyI7uUXSiG2eI6dM+gDCS3MUIs76h669D+mELwUXGGMO8HI3SHr85OpBG/YvqqQBZCtt7Bp7ifmN+BALonU2H1UFao1cGScEbhFu67ecsKVGfgnkPczYsf2MAoErgtPD7KFF/FeX750AK5+SAlM154Wc2uv6dzYFNMgz6jN8lQzsoMf4dVsbGFXvX0bkV+/evZrfzmJctTFB0195TlZ4RNgufstEV2lQt+e2shFyFwHMQ4JRsDuB/cAjb1yyiMPRClpZe/Cvyencj0C+RkZ5Q3smkbojogNgAibx4CAnv0274Rjh9YA6PO0XxbUMnKyKd1GCduyj/b8Va6MlkgOAnIztC3/bNkrN6Ul+8/NX2USeLfd7BevtpiNIX560zM+FMhqPWRY0n4r5vzbZzGlWJ00dPid6mRJMzIRuIxRcZ7Q/PiUaLxTvaAdGjGds/K7NhOM1G9jLjpQodU898Y4zhSJFvGSGE6XOvOJL6M4aFf0/7hryJGsYOtag5wFWQ9DLmZ+Au2Zz/SJyFzuOdR/OVbfx6yp3O165DW7FhINnvnl6zjPWLqdZWOTK9EQvAme35pyah5iBTaQ2orgVpSutl5f/feiRvDOyp25/8MNLudAqN5+ZbjUKgFl1mOrU0rL3O6Q0Y6uJkLhC6yHSxIGl6KomaaaQAlP/oKd6seZBZd5Fm4oMLQPmFjcqoiGJA4PaEbCS4J2zWyBFrindMvqOYje/oynMmMYi/QScJ9AEOXnoj+rbeWBttyTiusJKujXUQR8D6uZqmE8WraR10XrIAwfx71AbJvQ4F1Pmf9rtNhyxsbrV8Ei8hAr7NEddbWCFqz6jllkXUE1Gpb2gqHgLPSZVyANcuEKb5OQYbmL3R6bmSohD+5QMfEhyDnqOmroXmcy70EwIxYvr4oN9KaVVyAjW4zypKnqICCK7TF/rabRBF2NKtadaLA3eON7IjVkW/dhitEHIVpQV6C/y/436ih8z6kKpkZm9/G4WQF+ZyjUD2GAgehJ2EpdVZHjCDGT6kDtbm7Wum80CVF9C1b3vQzPXQ+jGbqwVUgdGDAmymBjQOYPzJV+tn4HcdBqnwzWJxK1xOWPEmk4sGM2k2Yx4kloDQCjfJzObHUWwNw+FJDs4N3FRWga/Y7NlDlxn0Ov7bZWsIKtXLvAJyYjaDLiZmapXHqAjNUi3gvjXKnK3bW9zzeTf5+G01lRPJqYYTZk8Y9HjY19ZSTkL29YHo0X12qNNOe1dT22qVQYzj0mhW13G1VkNGfp/W13OAd2PJKV7YaWWNRRg8P4H9BY3GhxUsD+AUSxe4OJh8LxaKDgR0wLFoqGnbAEWEG9O11fc8/qG5IesAsY0/cNjt+UQRoxRb1/kfy1k4FQtlQ0ddLJIaCc6fRbFTMj4U+FCsXw0UGrMrsfM1fT/7wacQmW63DUfDStTzceY2kz24Kot0fVMJbTwgZVyRmUZsjO4qbJPbm1Frd0do8yBVtL9ja5vvrhm40LFQd/L1B2E+dk3MiCPKpa+qR34yVK0lp8rgn/Zji7V7XKJx1ofnQwfGHxpkziG+KMjDfjvUr/oLmFFxCWsvsnpnyQ4ZzRA+gocBg1deVCKfGUVup6a6KKv8b4BpSm1NJAWpH3tg8vuhFz4jAPW70z27r8qruoZlDAfZ8JSiljQswb1PzPrfihX4kj49JmnM6OELC2sPkhzXrwMpWvKPZy00LwMtLNO0ribtx4GcemKdKt5Bzh1rJlwNsvftTbrCm7QYLu4nuQVPhw3bBQkCPOgqTcoprJA2kg8IPcSw7EKPNQKq4MnKtbjxPnUUpBdk9Q3Tmi4VNHPIKLZoL7sQADxaqAPzqASqyNLxvkrIvTBHBTujuq3wAixXER7/mhkdnbvK28Vw75fXtbL3GYcnmbD4rTgZfKd7DVeYE+6wHDxjQ5VVZigVkW5uHgRCnRCN/4LFMMvtT66nh55+XWkGzI+5SJuh8H23m13WPCtdbnOjAePYvUqh8xvVHRArRtU3uYS3F1+JG/pk7kRPT9eV6IgG9NUJuS9/7A1XV1xpfuv/btAIP4sf3t/gEfVk9n5/YaS6kUfZekkJllvygOT8VHLBZBZ0iqX7hTLhep5Sgw2YgtYvx0wLTp8NVv7OIpC2HdNtMkVJqly6l7Z1WE/CewlBIWMZPhkbHUxX6ARFMQAi5L6neXurE8zXA9b+JSdtnddN59EZBFKQgTjo/EvUWKPzUtAjNAptEG+WvUn8+/wgqJvbdkAKkUYLQTI8rT5K4dsIhRYtUnwnUdmtRbZ5dni86342FPYXn9z6oQts3VNWQQejd9i2TUBn2qJN8XkACSRXd15MrolUN76tgF7V0xtMwnC3wPMHyiR3NLgT+mlCZb0rLa2SShJaf2VyR+JP+A3d+Y6OG2Y0VVRtkBox1AWHGjBrgg/utEueFRX6ESuPTzViHlkkQOJ3qBQbJscPtkO//cn71Akyup4lQlSDse74bWlK1ONpKSa2UeOSeKZhw623PPRLjGIssqFe5NzUNeviDp3bkx2mKjt1JbMcNV+CQmr+OKFBUQgjW6huIFV3rclIOyl2f/O3IWXjZSIg1iW1+4kPUKdzFblKmtESVgHRyQru7gGMNC7SHE/epnuJxzrZHk+YZ07d4gucvJyTcrXZ5ZPPd/SoYPcMGAoGhjCbGi0c6YJeS2TRDhYMcMpEAJhPosZh+j1bfM+UfDfNdyg8Su0unQ+i8wok308oLPH/QD7fMkm5hdD1gug1YEdZj3vAVigcYb/eNjnmlWIpQRLJR4E/J36uD8nF2nih7PPUJJ9rSGv3IIWafBEblzLUowJU5VDnBMldigbmpV4XrzVdIMw9ZIAdDSgOgTfKefywxMENKW5QerxZ265CE5lJl0Wzn2cqceRnhEQTIjA7wh+t1/t9jGnPqy+CzqY73d0ptrVUSjCR4reItcXP0q/R4th/aX9g78+eumc/jc6HrtyU4FecIk/O7QIS6byG2wHo028/8935ew6Xf/PWk++dIiDmQCpqu6XDVq9BWqZMvUNcUBmfsj2DQigGmwBlNqEq2HGnstPh/4rlKtPFywfHsm414lLhcrJFPLtiAuZdnccxLInsOW+ybABJPAj4zy7ag9JPxMUNDNE0yJUDXMJ8GPof4BBtexzYwVAv9rlfHj31vOgXFK2QGw16EHF32tYIAcv3+MXyhqFskZ83wvtPRe5lldrxQerTP9du984WwFMGzaTE1AD5XQyRxaIJ4GtDxR13aOU15za059fn0ENzcQPb2o6IHXqhX/W4XxL7q4hTKwGkr7fPAlp9fXLlJKPnm/mH2Jsn9JkJKmY9ZF61fNjbBAt6xmt1T74cPPMGhcZBZV/MjzMI7NO0ZR+69hB9mDMLxbhGAOEDcHqRRd0I+yk6oRSDe8ZL1i5SFxiPMozHzywGFkxFEcGB029fclsvrh/Jw2wLtlJO5TjVTTXql3NZUDB+UHlBeuRVXunNc8jlyEI8tfJTBbAGvb2ug7+jYisYSakcM8gbw5j1SQW3BS3pQAsK3yoLTILyp6uWI0i3T7sxCWwm1h2hIJMDPdPZnb6ufoIWnQVK9l1QIJCRYRkqq95cd5OXAigVcPkh24/X9pwCB1yHCHjmQmqSVmKBvWs7n/TU7vZ9gBlFu5LZ2qRtZxE4OU8uiSbhWgqBI6EwJaobSmj7MM+u47kSFTAR4/Vw3mqRRbEOfmV37hD6YF5grqvLrPZ7JuqA6zONHvemDJKvvWajsslfQucd+0rP0Su5/U4EiKlQzefTUaXARaRb3HuQ4crMxAF5yRe+Q1QMFaUhKHcQcE0WLA5iY2n+j6zgtMWdxVHnqDYOYJtMZOwt2D4sE4VD3Rb0TLcPrJ8vvJakweAHPpWVmqqhbcC16wuiKE9B6HlyON4io2uoVtunVbMiNcGBKLZh6oyJ4S3hOscUyvk8qsp/HjyR2/xPQcfltSQf7PUakPSYLwwYpAEYK9sKPE6YC4Pl6ESU2ntLp+jZL+y3fOqpsFrFJekQgYZuSoBCsQe5Y8+eVPm3JftuHr9cEwM+QCgzVX7OH5ym0bcQtzBCL2EfCOEEUdPb3i3zqNOnAGvkTWv0VomlVIMueeZJrfe8V/ylQQDi7fXHlcRnJX1QBI1jKsZv5aW3m1OkCIAgtOcbGd/HKLDeoszgSnA1Ri5JvzikIMoZhBWGuSqPTYcRXI0JG3WOQOrBxzridPvgobCaMzzUqDsmq35d1uYnYGCpx1Hg76wJnKzc5YY7xVhe3ZsCkmbgeUjmUer9Ub5+8Xcz3pz671RkaymzCAt7gW9UA/sJNCxW2qRrEKazUZNWzrWU0qrVSod23WP14BH5E/DIv/WzKL9GQHDSfy09cPPVvDBOsK7IWwiez2ijgLeKixfCl0m2+udbjdoz+jOh8g4ZiLi1bQ+8eBb1H5XWijMyPn9+J/k1IUd4/LTObpoxG5bDmPkxWJmlZJ/yxwe7yr/TPQb3rGgisDA7SPdsx57slJONAsBgKgaqsVuiSdWUVm3tHuB9OaspTzDBGe+0QvjHc7Cf1Gn5y2rHDkLHgFsrLqd8Lt6FjuvZMVOrYb1grC3mk/DYHZ9IkWNPEgWTV+0zsLcxgY4gaz4t7TyrZmnSn7s/7w1ec2CqNItMdDMzDSfR3oYq3S3DmjgBZc9rBrHwk0v2F4trlXhitbP1wrnspl9GmvYskfk574AsNvOp+2uWkwLjJeFHhvG1wdaZscAxVvHUPDufgfYVgYYURAkZFKvqvnljf65vCbAGuFiTPA5a/zjg9Li4okn0r9Brbb+oD8uoDKiEjOQ+4AK7jiErfl28Ye19gaPhmDG+qWRQ0Buj9p0sixfLrLF8O9pYcfQOOkEpNSVN16sGJCz/9IQ/VzXSnoCJ1PgAAAFEBBnkJ4m//p8nJgZbvXvbfr2yTc8cFFITwz0TPn3wAexDld4PTM5niDTXpWrE8JbC+g9oQM6FTksY39Ewbbznbg/XxYHncYuVoKY8XSzdZRJb5T6AOvJN8eNXWUeahs/Hx3jmbTwGTxhsmZ4ihc4rF0MlLy1Um//PFruODv9s63bIWCaTbtlEkctn9vzjQ8y595ceK9faM7EjI2wFXL1AcuJmlzic85em5VlMaFFH0mBsb+/X7bDJ5/l5bEQnxFjQRttl3ibY0CWUQDX2+fAqO3H4isTYlHv6Pu7oUUOM9piIptNx//gy97/fmLj7mylbsy20ZmumVzlOA5YcQAw3gQKqoMWl1UDrK5XQkD/0MC3jW+8fOZ1wof/Q00EXFWroYkJSY4EimSTpoBGCik0V5yodfdxLszawpkWIX05+ek7/MIEVUmpPaycVV9P8cILTonzRvrBxZPWYHmPTnWWqJMCzLGj7O1tzyWujjq+tO3HfCXw6EqnINkstB8jLk6aTnTpU2mChK6jwBWD6V+QK7rF16jsr4IUqBweqFBxJwWwBLn/6aVm9Q4X94am7fUw+m22VmORpi0VVtUpTwtBk+9Hz8mbM20pei5zFe8LYcJakyfpvd6A435eBwIX1wdAHY5lTYvJO2Hmal8FkYNwG0kZlOXHY0iaWizKkxuhV/DFi9G356wZK1awQAnA9rMEPceFToQ9T433BYNtcJJ5T0KwBtXX/6f9kD5VsXNi1qRusEXloxjR3WKfZL28GTHNqwPuaLo0klpv9HH5MrLZzwKi7lrii/QiPyPGcSXSNQbQonanScU2ML9jha9kYZ9xkXpbqo5IfqvSC6XCWK8gTUWlkXHnHPb/m/bFwYQ+dL+MiPBfDHN8wQrlP+2c/Gsrg6+hugH6SFX1nPHIT5U2v19WYNK/JRhMloIZOKMaDoFNzsL9sBM4vm1QL7bok6bO8BLu1tyCfksuWBKT7Um7ladktVqpbe8TixNC4sCjpskclM+YmnBeHYd5XEqpE5qMhxn/VVkldqGA0iehBr95LtlKIKzj+v3g7LmClZx4NcuLVABwwTMGS+J+qkvsCL/fzcoFAkgHXM2guuEcP4yBuOVYMHo2AiEOcl8Ky/NkpPWEzgXGZpg2+2ETIPN06wq4kF1+UjceIGbHAnmnAIlRywzMErHJSANMguncEj9X19o2i6/EeK6MQeZfZzqHY6OCMGDrZ3jSfl23KZEyKdHq/C0vCmp646KPEm/KKjlMeUbiWCaz4Yf9Ma6LJ+gQxN/Q4wTkSThgBgCISSnK44aXetnW0U/qmEHeiltH7qj2zqQUUYMhp5RrjNzzpta2WDvS9gQTgC4+mG1onCLO/+sF8k4PlYhXqwRmYMFrTG+VHbrgcoBuQZQ7SlkfUL1gwH2xMOESX6499TL7nlKaGN7nNXe6A//5I4YQBveASgCqZhKS3leMPjmWt6MfC1Pg41Y1IZ8MrJM9XUYPitTsKZZNTP/57sbuzFVtOzfIipmMJCeAK6xq8jcVRvMaU1hbupjAnnP6Og3yM8s83XBMfN79EUskm1YsUfGpsWW/n4XHYLx2s7nYekHxD6rzEgYP8VRexYP7An815Tj9y4+2c5Zehgtyk9z5YvmpBPwSJMtykVF9gks5GMMgS2JYTg+FJ+1rt7/YZe5m2nSTtCpN43SoeTx7A0ObXQ68ccTvp6iE8mmph0SAPgW5t0Gq0zho2Q52CyY2x/bvkmvuZYybfbMDvw5u4n+2hPG6N8e2ysdrFl2oeOSc4nqnBeFT2kbBzaZNGGNIF8kBpeJZpGIjGkvLL9z/RqmdDk9LUOofEaqh3GMV5DkHkjStzKBezfNWyuzM62Zfcta2BwxjOmWECa2jDF8VztcbSmMpfLVda9P37KuinWrFTIlzGYwCYPVdAgkNvLc/QsZrMgRMQfe4U4Rg9ni9DvCqIEuI7z2kdJ56hZj4p5ZICVmEFMsVhPAgiXeqv5XUA24yqTJVajGARyPhW+ba/+htN+4tLvuIoBpfwC8ubVKOzy0N2FgmXdwaF1OrIatc5ZCqt+QQ4xnOpt6ftS3qh2TaZv6TodHnOhKf2Tlsrq93+O7E3cY9X/5HJcPfPIYI/id28X4NmnY7yCYbgpWV4i7xWwyp0gALkv+L7jT1qIf5012maVm9MHIGAuw6kevJqCjzJsvxPfeMoeHoOdf8VseyhjGNFzyYK/SSP9mlBg6vBOYdUnrW4nHr9XvCe0SrIQwds5ko+AKn1AEBn0qa9Se3tz4Bj5iq+GXwBhNArh/+E7vAC+2CscHeDs7x8w39yzd9GIN48nlpiay+Ug3ZarwmV2C94vHC001wqfCyUIw8kOTpEMZaUM+XMnS0QT3t7X2oeA90XfSZKu8Hri9Dc8wbv+rVOk9yu+wX1o4eVLuwTvMtky5QRBUOXDFPq5+MlrW8FLWo/iLJDgiQ54/Zw2vlHO/3Von8ktHD5h9aL6I/RTUYiTwnNFk5GXNY9DQb/bZhCXy+Ahu1P7+DSP/krOJEa4FaDX8A2hWJZqvCaJTMDem/PwJ4LgFFgtm8tMxjicvgDYevOIbn8xWIEZwsKGjDpM/nHOTFedaKSpGx/PJhlreu0SCrHDYriJFciGMXhdcb1H/6YL9Oiz8h5DMteuJjD76sSwcU0A4DFn7KYvePklaCLic+iFn9ICK8AaUxEYGHZ/XVhoIqIuK2S4zjb8hPs/xjB9euUGLkQDEHUtM1uudtlhKdtObOwANnmpe/UBdNJiVn/k+uLuQnTs8kqdd57wH4zaXGq+3J5sQOe+N+T18er4H/oB4TRQ1KZYlyey/kA8/ocqWDTWU8pPkinc6dFGQJnRWFWh14SIrlJwULJ2qtE8fCsx169i9t3QUxD7O4PjZW6Cj3zjcC9XSiYaYJHSd/9eU9JD+2bgApBGsvLGY41dPIZ78fNZHxJftjViRm4xjxjsRxDSH0j5gT7ZvYkiLdo2ExFaon2tAr/v5WqS65BuAbAm1n91xzIXO0Rrdqz23zI9evreQe+lyky1IstDvB8aiBF8p8SCNuk0rJTV9eQOMe4uIiZqet6mbL+1SitCvzf+pzrSjEs2e21PnaPdV+Lzo+9K/V2hNDUzfa3Bfda8kvcWI0BSNJeTa3tLegD+zNNIl8u9h9yfy/NJXljYQuPZ7z8KUQInc7GslcQcfDh9h0X8OuK6WtAq5C8yWG4VrbzcTUOWiWREDFZWAVpSRU4zwLxZRTR4/GMBfgilHVTyxy4jHYjQze2RTZLtCNzHlrNR45CBsZyjWTLjupwKpHcjWFqOuBOmsvSY9sXxEVwNi0bdhkyOQcYthsO8PwfSaxdDquvsN5Nf38Z/mkdIweFPx7nxtnmh+lko4Fy7cQpugytgqB9+uNneGYuub0wtDHumN+vrk99YIDkwyiv9HSot95tk8++B642YEMA705D6G6YpUv67WNr8n5OJgSBDMe4jRIoKd1WaeeAfdJYPAJTAt9HEM/QIpVlgEHVA4fUWkSBtuGCAp5xKcJg8HkzBoYsdWWFdBOT0ePOaRRlAIXDHmDHnlFezHHdq19DxF2ik9fOGWTw7Mjwagzxm5LdPGsgzFi0LCR/1mTwOaEMPZtOtmFCIotbV4KowiC3WZaaDovKT1NLNJKqyW4AmPyLy++4O+V2B/XMbqBWAiPWXzf7hh+aA7zv2jzs632McgY/btCKKZDZZ/ISttuVRSg6GfOLaoOartK2oBYIJ3ZguNTAlFvPPRWMEuYTbDSZoNlkx9byE4VLy/bzqp+CQoDSBWYeRmacYTxjBoud2gNXeVi7XOgbbeMp+v5HpW6t3r5QtUGi2G2NvVeFSmfjPZpQPUEiSRSEugPfmHvMirCJbdwKmHBcDOxhhXRGtPnu2HCliw/gvtmOGFx0lpNKWtMucEYFd4OLT62il46OQtSMTxwBEwUtisvJF4QPYkF+47aAuyarqhV3LoCztsc1T693JqU4aZCPuYNRxCHgN0e00U5vfv+5tW0I3yZX6SywcYwE7SCIB8eyIN7BEXh8qyf8NAmaF2G9KRb3stnn9v1h5Wcr8EPQMKM92IujXtdg5g8kNqV55/OkNcOombBBkl4C2FwMU31aDbTpDQW5HwOf7TGqyo5TR3c64PN1tVUEjEWgzT3E3BnAHpkklJkzmrjcL3U8fHUjhCTmd8R7ZeQMmKHzkKLJVa1OSd0i0eFmTruEf0lD1SnbKoOs7xUEBaIsC1wjgVbt+P54nfLxPAH3ZsBAAftaGaQbWZQdiin5j1hddkqb6DSi68jfR1ULvBM4V6+ASpnPinDHBvONg0z4KIsMpIy6QANltVrF2T/5prFTRmIo7WJ/1w79L21qlp6VKC0gD/6quugOXKSfpXyKFhQncG9EIsp8DsPqe0IlNGTAEAgSTvDaKO4Q4g/VifPMOW81n7SVkYW7jR4By+h8BJbmETyptDOOhkcYGB02quAtjqkn3skJfihsa7Uj0/1r4jwZ32akXeLh9b9qv54gRWW0Bcz/ArXayfxpp83dm+DBMzkIlsRjKyxCwNoU1cBvNtpC9OXZLDc6/mEnMAL7DuKxeYGCACnvU1UMt1Xe9YeaAEdGajKGuOaxkLz1p5Pzp6VJ0uHoFKheRB3bL8vv5I3T2N5n4ngHUXYWjlGAsOC6PzJTq+p8tetC1ykHQzZBxcmgdZMAE20dztaxZadZmd06N9aRNAnzFPv86g7NagRMFl/870xpm5JVOcwrzz7Wj27LSIbMx4zpW8DpyodjAH8VnDvcbdpXHI9CZIP1zLJPuRY0s+HNGgQ/UvNLPsWb3ZgJZN00O8MdVJw7fqE9HBTBJrImT+naEaQN7CS1EgX7wU3HMQkRbxU6BRYmRw05Lp8wU3or40HJOCvOJwTXDzbTKTYmUOOpbPSKoJD2SkAz8XLioyLP5JJWqITXG6rWjLGD59zptVQ/SMptM+XT835U8mft3Kws+B1cBvLf1ObDWSZ/NCeVOyC/eDJMNm+soSGyGejPXjGwfCgWw9FX32vPZS6FWyImb99Cm2nUsGxdcFXpEvs9BoauWrL8jsaKLA4WxjyuCSDcAXb9Ixu1l5H6hWrq94IITkw7mVz1exgiLssndixfYmuwFKrawIczmJrR4tPMNTkZRCADHG5LQ/n3veo82JU1PBlB76P3ex+IpJI4kwKygJwEugsz3KXuE6lB4xkMEMdhTalE99kCI+zsLuw1D/mA+ZZd3Mp88IPAU0oUKUzoBk+q0zpUfaELmVaMwiBuOJO5UkF4aqekc807HNz7nic9TrJM0MN6RIJ6T9mmou6yAp1XW+iLSesMNobo0IaIA05+sZuGnujKRPt+b14KJR6CaeHuTCv0NfiofCOGfDC6eZ2tim0BlWynYDith6jKBHSiRfRuOLro0YqtPoqnsYA8vTqWCZrH0oEyAfPBVFxu8KezMRyPZeEJGlxVMsJiWKPkQjEzoSmqdPQ3lnsyxDu5GrY1q3SGSOWonfVo9GhMWU19ZxkB09Yt05tBYej2Wu2tSYTc2IVZb2jGpoO++BCT2N1PeQnLHjdhl1/gRzIBCmXXuMRSrPUHvepIlkDQnid2BPGJXcQBIsWTazhg3xzCp0uyBM/eBRpqkiyOpOeIKhnAia9yVpm+wZ9T6xZvSyGzdJ2ji7RYjqel2Qs/A0jKl8Zbcr41/iGi6ekOabn4tc+StvA1cwtcIN6LuRulw48DlqM6u6feNxvmyc8GazKphitJyxAsJHuNqaBLF8tVtIgZhPoDpu1FVO2AZfJhZ+dC2hBLcP/ChA/l2eAB/acZ4YDxZTLJTMYvlA2fp6SGsePtQS6sLm1O0yrdwPJ/0IT+CLyuGBsYgzHBxfzv8YkXlTN7J4HjFo2W7BMIKoG0Kpl6rhuLrvKDjI9oX4MEFO+WF/XjZWA1t4GVwm0sP5envVwfS8PsC6Ym3bmppnedg+DzdBNzL7qlVHR/4UT1qpoBUgkN9A87mEf+UjubY1Ih+bY2oCeckYZYgCWKzQA89OJFK3CN7G08OiVDz+AoRk/W8mcY+r8PxhaFgGkFI4BYcI6rrDTx/KISlIxS33q1A0UJIn1OUjhyWX+AWbmyuQvAe11mzNI8Ii8dhGDWgDwAMRhC/7+KBTbXoSZmwk3P5fr9flFGq1GOGqv9fEL74BqQQot3L5GM3R/PR3DXHpYldN7Qg6KEyPlUoGbb8Ml38iTl+EU1JI9G6NgwPEU1NM6uc5OS7nmv7gaaSmRvrmUY7Z1smneyar0vEI7FvbCjXooCWVcSobAcjdZpFprvEx6OekdWBj8wKMWU51lwdMIHhtfbwKLdfVEwNPuYh2FwpzfbVYMR4KkTMzhAK4rpRoLZTRTcyry2S7SIwGj5OzDwUOXaEeWnKyXg3jUftk+QANcYNFKmSmD/7dKn8Uwm4wGyeGX1r+mH1Y2UD8tGc7dSfJoIelIHcRsXuHRqy2Ntgl9PbeMvxwSWK2o+ZzmWt/RM+CTxkyrx8ufkG+DYVukAeBMteXI+dzPl+ZVrnd073JbBmlc4t2qs/++eoWXpvAp635S+oXZnvTYQm6Fs8lG8Z4VkZ5pHUMbNB/PVIdVppbzKMtjgXb1N/U+hJ3oLjPyWyEoBNLtMQkqiUrCzmG+h8M9hMC/rpe2bpS16Zh8sUPaZrkU5aByxNlVgL3nPSQ9t19UEYRkd+H3DvWbWJ1Olqt2TObyIe3y3Hix4mnwCctR/m7OEf/kCbgRJmMAPfv7VONXan+Y7PnEXBunboIwiTKRCj7Wdj0aLZFiy8Vvr+i4AJIp9W13/Y4AzJmfbKKOuO9V1JK0g6h3mudLxY6frEB2K3FvBzUVY0O/yme+KFAZaPlAW70HyCmbcUaVtZzBUIMMDUTvrNtOMuYtKBajdDRr7IQ9JWq8h3awBWmL+M2dEEAAAy2AZ5hdEV/61fnirEHHmZEPfDnU/m1/p1kai6P6OjRZLCrydQvs8wQvCCjbnXtJPl6SxP2BLPkA+nT64+UvdBAXwjOctfam3vDPGA2ZkqIpp3j/5ZCdTZs/gBYdQMgPLIfzWlKOrlgKswWLsIQTTcAs4220ekBjDNRZvevp3L2O7wSyYviDtl2At/W5fp9ZsU5q5U8pRdbLv70dK9a4vSzRdPE3HltDjeCIG84NRpS4Sba2z4uEHTKc4agZWP1Yhu+8pA8BZzQhmQoCkK5V4+gBcTzRN8nSnyMds0gArq8rAatzhUCTwdmIXcSMLJFSB1upT335Akpbe5KuFVK0kCun8ke5vJR6OtoCsLwpXRx5ZSE6Ukh2MQ/FRh+Q+HyHG31dI13QjUI+eErRNYKm7HcSzOlr0uTMf2eIj3uQxl0HqdrgE0YS5nGoiBGtlGwK3jXC+A0vTJlXvSNt1RtBUzhji0UUpCfs+NKVY+FDq1+l7MmHWZaeEdf9Fqa6SBaFCt8nGiG1cg30SBR8/iuWxGRsFCBAZ8DM7oPQ8tQIVkwn6cHnmNTNmoWCb5n29Yc17TLh37kHY1qWv9Nw6ZHRY/iGGUcJGIWZ9B+vYSr1KRQ5F2V8vTu3dmrymdzelWksQVfY9I+qoxhuOs7INUGTNQqu8zpQIpjyg254PDhxcEU6mpmGkNwxWQUtKUw+SIJgeHsEXkDHGQFebb7vR/q/2j5QgQ/CJCfklJ7+KLjv4s6MNCzvzwKysnZ9eqDb9lVltg3asqOgGuGxqk6OmAi6wLowNkUNK+NggJza/6h84pUFteMCnlFQ8Pdp9MAlvdW/BK7ky8+iWodMLD3KfL7ZefwHzdSTNyDqfIPcxmATt/M8asX5/k7Wk8T4zyy559EP7XhIvfF3bMUnu1SsAzx3kcUU9uXuqmuUB2qdEk4Jnyr/RJmonrw4EQxbpLSd6KzV75kNF98n93upcK6Vb/wGek1vF9+YqDD5ynG83zaWaWnD6DDojQuC/IzjRwjXS1Zs8PQ3Y8CVkba5ug/eQs64R1hdPN7jXKVEEDMcFaPqS+WVKNGSeDCSdrlZLy1G2AmXNLU/dvkY7KeJZohII1iWJ+trsw3idsAmXOx9pS0tJgZTl2vEuTrjm5C6eOmXkO3ICPcu2BLy+hdJ8HcphqwKpV5L1QuTtslZKHXVQ8c1HgJrUev4WQFYn0TrYc73s2UEbfa6j7G/dUeU5a5+WCzwAiZpyTlC9S6eWhBlkBY9BPGimql5BJ47Ju0JuwUAAeYDegZ+2ekGCojxfy31h5ttXzrmDit+MAo16nbTi73JHSG+j1liqwOCNnN7p8TaiDhnZ5B6ZOZeDoJqmdfnnS4SOqoZtJ5Cq+q6wS6N2sIRXRm3bC3k9hdsdupcB9vx7RcScNmueiBHtH12EKF9r2dx3b8cgDrP5Pk0K63KgA0g0oE5BOo0n4bUE6f498DM5o52L5+VYUqYKPUGrzOyf3zVpvWFlTOwF9ke06O/NPqkXuTMgR+WfmmmlDj7ghRZKn1aaK4fyh5IPy6q6yLqHwCYAGhzf1ZWiffYQUJ6FVK+ML3TaCMeLiwGS7yaAc0iW7stbzoAj0MAExlcdDVlsfW9VoGbpB1czG0EOsh30YcmDdkTrul/GgVLZph9DSpuNh/g4iN5pLXBFNj1mFV30AhbsDFqzaugCpwCbcbmzvnQpihPXTqCjn38ZK7V9f0IEkGYA2/8ilb0xWDocFqWqJHV5F+pS2Y3W4SInVOtpovHwAAixHi5+Y/EH308haK6lf7UP36c+rgfNYveo1xC1mU8H4uYUp1zNlLG94+AOG0sv0HhcVNlcCAaCpL9dWrxPKFohM6EKhl0Nfos+FuGED2HSvgexr5cLMoF18wSr3lGpWRfVCvXrHShfhf/sVZY3B0QjGKqut5hlRMX2T7QSyfbrOPzWpynzMUqIGiD9MO3MI5qo6u7zIcSq2RRx/Z+93sRLOPo4Mdn4y2t5fQVimyeGdFAFVBEuVI3ftoUiunazPO6CQZvfkD3j+fXI41V1UU+ytvdPyPTsAKWPRDDutxMJQSB1yL98iR2bxRABaUkdwNB/PKxRiC7kEnzAZ9vAmkA56ldP1x2y5U03kaANGIiIqN5XMjNdkbO4knJ5IU86M2A+Vmb8Aam4FneAcAzFMmK1TE5Embb+HoGzdXyVSYPfTa91gD2wYUev22bNXauIVnKpXVDo5oE0BWS7VATPEql6NBFcJkM1tKTA1dUhCF/dB2kmhp/qhoneXcmur9SM5BQBUBaTVVXlENXl+rEHtIBFVxticBaH4NaoLnLWaKM3FAHDQL1HN68aiVyFqx7afw799I3tXKgF9Fku4bGW1zu1YSybLwbfPbD2RkA4t0GtCgzmEqxw8r3zwGavSLDmB5HMa4S8nyWDWjNnoYZbjcZ40ku9xfU6n/HPHVIxjp8vHhP0nBS+5ayXXnZ851RvqKvwhyfHm7RV+RtHA6w6Zid0P9mwNjWlu93QwchBufjECzwtPR0CHyM1WxcZZTkn5304XfvmfyXqaH569HBWk4ocKtM3LN/tEBUiCaIPj8T8RYXTZAu2N0olJ5ykWZ0xtdnO0QLqQuTQD1suLgQg5YK0Th3OGPk8ya5rOR2sq61OS1Lyk52hGZruBsTPiAl/0LrQUvFSIo756nL6rjku42nBOT6clob5xtPFcZ0sF+/g/2i3ixm3OcqIiPsnZgjQXAdCf00viNb23CGxnc3gx9o+d+RAux+hwM2iCFiKghnrc9Tjhccsj7sLKiHOPXoXIN+2Ou+xP6ZU+E4gVshMko/4OnQPkzNzfikgm44C9HG4e0F2zz9jhZNcjkalr4UjOTWwPh5VNLARIaZXgIZR++1OVmJhsgUVnXq33HzBdMFZJHScqOwYNJcRGEWkQ1wmsdwMIlCWZVy31YrA/XLW5v3soImjHcC4S8vkFl1x76rO8wKZ234oeECT5yK3e3KAb3hVDtold4X9cE2XEsY135hOqfF8VEZeFC4AehKVvyoPDqz+OlxP5uD216t291zEjZthitRoZ+m0oodwyPdvdTyq+J4AchttxScMcmEg+f+huz9TM6xrB2ukD+v4G6SOlJvFKfvvkrE+PkaHPrzNLMM6CFIs3Zt54gNwL8c8y2d1dCWVqJvI+E9y0pdETqDrqk/LCdUdC/3R2Aa4KebzBK0Tkd61i/ayvNELYWnDPbh28pZ61yljkRRFjt71AKdeuhqwBc3Es66yXSgdMlsD7kErlpps2/G8ZLCYHpK2v6tdnBhS/VQWlwBaI/HHrnpjKuhQ/WVhB0cBlPNAZJKMpuxTsdzYt5fjmkeAgQouduVCQsvSrmdcnp49kJrbVDQTSoiWcgLM9MIwuDpS/9bS5YprdPX+xJq5GX4hEVk65374NfgnVmwCLT/NV2rX5dAelgZJs6jAqGG2c+14tkSQGv55zGc9cxY2xr6QqDLPZW6nlssGd/4utM79f1Rg0AEdhJVNOipQd1BsihVcX2VqP7mSpsHpsqudaYnOTHGlQ0J40ygF5hnAPeNREZillOIqbT/3c/9c3EtdHF2UzNEt7cj3TX0gy45rvOdScLUH7WS3BzGsXSuPMGrcfDBefx6A3isTRt/hvitmHF8gYOTh8CO5CaPZGlypRQcwXOcyn0EWAGqYKe2h4rLvCgzCDQJCyY+pBma6UI0koKA1uavDQvHenSEW7YES3WqNG5h/N81PlRKYs8WesqXMWjn4mHig2iBz0q8pAeIEgKN9iaBgnmU+4PkUa0r012ehpy9kScrK+Fv2EMSA3Ap5YATHxHo1Y49Y9Tpt2/8Agpt7Hbskao2HGO6ywFhyQUwON/ccFrlFZAUkjNq0b/hvEFj0x0ktMxzeBI9ibccPwj9R6yLQvsIO8BWWCFo70mmkNnn1MMrLQzFOAWH4uY3q+h6cjBoCWZikeR17H0f7KVMQYkFW22FLXcsZQlydC4/5SV5URmzG6Bk+MxUIJM2p4rjqyXkgEZ/lwmDn2plRSwZRA8Wl+THdSN30uX4tA5fYnwWytIdW4cqQAFKYxFwffa6ROYIseoHQvtEOZBGk5c460dQop1TI1WysufrC822SrjOeEgo7ZVJYstIWwIPHIIph28K9SGrnqtvjIwxtMmFidtj1FomzfcKQNxr95i0811z8vNLMKfiQnPEEhwoBAuEb2RhXzSYAKDemKEbtYpkfxP8gmyW7f24dal7i0GAMoNyyIxtZMwGml2AJG1htsXz+eDRSNMggilFste8Wv1wxvDbvaQSKe1147JoljJgh/hnuecY+iiUk9JZOtlpB4at+4U6bzLhxwr2SXAzAgAAA5hAZ5jakV/gKfOzjf3aG6cIc8SqnaVWXZet/5atGCmbNVDGS0VZ12VXsDxAw8VNbs733QXIHeBMq91THJcOlUnsQTPH1ieQNBQeQ+r5/fy5Rdq/X7lUm9uSNHzZsbt+GmTxzRKI6UP9NKkEGEfYZ8vuheUKO9QjOsDSNyCS+3+j+CAtBNUYeX/y6anwSMRZpI1mgGapMbtELmJVt7xpwSQ6OYEaO55ptZK/msAAAMACAxqdarQYT2rhx/MUKA7pbmx//kPs/9eWT8YFBr7EXFqTNhqU6WzUHA2scW6cXrIJLlVFYRCnECLJtz8O4qYAs2776qaIkurIvJR/OsEPF2+lyfuZNTgZUH6iXgWoyZJ9fSvHoS2zY9Gm1FGrCVVO877EoId0AP+sikgL+Px+izx2fflrO7CuwHoVhe8hTVz7jkZeks6nja97Ig8dWuZdNzB+4bDzn//0wdQTPy6PhuhhM13KXu3op180vjQ/iyIaDPKio+1CC1p3jt22asLCZg9GslGs/6baYsBPVEFk5g2iOohSbtbZ1RDK7pvRf57xNYtagmj93a4bxOUtTc01Va7NR5Kk1PwG/du3ZCF4ByBetmH1mYaD9jWnALn5F//aeZrpcPN8n1Qsv3INHzvuSx6CXWVQnIEkVVh1Ah0MdR6p4Sp44gcg9pIN+URWAYOCCnGKWLcXYl2MecwEx4UKwmF+4SSoO6ZqiKgcZ/rc0b25feLavn9f7Mgqoj86vuyNeDr7YZUMoEuvdT7u/Mz0LQCvy4PELbLiLd5qwNZfP+9AgPgzcGrQ6iPQDV8faDU5vCNy9PfuB52daZ0ZJ5AE36dqx+Kbndj32jtLf/fpSuj7dsSc8BMxLJpSO0W20n++gSiaA7kZj6A8BBUv6bJPFll345TU/jCClX079Di6MvzRsq1NU9hn5UFW/zHIrNdtdu4bmoiCeF/J5rT5lQx59aP8iqbQa2nU1F7vlGCbMafz9L2iHl1e2n/QO/se7+SKHccS8w+Xj+X9jtCBweVJ+wi082B4+WaNMOXwky0Ovq/pbBADf/rFEZqXmvNYIsimkaR8R0+8sGl5Hqa5f0yRsEwDRsEhsojBoUznnUBzq7/fGq5/den4IlvUrWjXJddU4HXIxqHhInmRvhKR1oXEb5juHFZ5MtPsQTzbRMwjIRGgwG9o33CkcNKyo4xdmpL7s9iHwRf84iyXlo5Z0NCyLnod7E3LXEnmxQE0DBle5HtIegefB4YTYc46sH37XeKRuWNYcA1C3CyO3NF9bRX4lstMHplY5apxB5ctVLH8yOhNn0TnBoZqHNQJSFfgfyu36LAiHQ4dXZtLQHRtXGIa47qSlQfs+u4di1l3LlUxgPsEWfkfpFPTjdZ388SKEsUHsUphn6a3SpSRrktd74anc+947bxf8u4YA9ZI/0P4EzDa8UVuvEQ3EGrnHbEB/BmR5QiyA5+ZK/Y/3qiHT3AZPrRqvhaj4ksPFxZQCFnnOWsGbbWpRUV/kGhbRE+nqktgXDSqgiqRnbcgfmOqbTuN3F8vTrW28JN25mJfrfHgOzL70AdrpUxQu68C2vQEIFBezmteffTuz+YOyEg+hb06ExBHdMdwNWThsxUISBpGNvWTyHxcx2NUfz7ft9VrqCEF5BXa5PG1ZHAw3N7+Bj3lWoZIm7HD8M957OH7UmSUWSUJ6HRSQXsuesTD9Q9eck61gCZaoujfk4fmlnG3d8EG0D75nAh1Lc/57pu1Z+Ef+V//b18uMwqQYJP7QeJnBKutKyZTbSd1SYAcZRY8sJGHNjSL+eJuXo46cIjgHlhO5mDVChwvcoO4rv5KeDRYsH4i/4qatfKPAXfa4tQK7OS+rFVN/rskHNB0cDTENIsoqSNXBCoVqkbw5/eTZXuQW/2eUkLANXxDWQJHZ98nYYb6t3m9wOsrifsloKiX03fHByxN+EA9B89HbxBa5AZamtVOnIef0J2kkh/KpONKjmGOXxv1AxE0B9JRibnZaBFsdA+HOWXirOzsmPLlvQ1bdmDKmUaq5veqf8Hz1tDeSTxt2ihqd2O6W8v92cejsLmNZFa9svU40xKmv2/TK+VwxX8L4yqpqKDGIyhka1WcIiY7V3HcsicDNOmvRoLu008NuYzEUms0J9WIjpCV45WXNMVsK/NIVhok2JwQ0O4zJG+OlUAnLc4RVSdBa7HpFYiRaJWROEubMTiOC4I6yzYARbcdsguNIBmjRok9wRJlCE+sLb3oUQ9B42pbaBSn60WaleJT7JP/kCTOZWrwXOkrmzwyJ4qVWOv1fq1iqGRuGnQatcmzFWdx0B0RSVVD18OByYwN1JQ2wtPA0lSvysYTHyk568ZY6+elresCPFeJXiZ3ZxR1r9TpZjvd8DtaCCu6crfM2WrvhS1SUe9eP9ko5w56kfuSRlIfFfIrWjHzSCGAarXQW3HXgiOhxLb9Hcr/Ob18Pf1JHcR+APQhAniVmFd4pT0k0yolYgYfBNnQKdn8fkvxW8kLuJ4l+qPgzQy15DoaVLlZuNQ+8us/SCsTA5W6YgyiybCfn2IEHhtW4R513f/SMhTq0pQLuQXVg85y9YtV8kTTgY7uFjWkvKRl5yzmm6rdUGPBwnmvUfKIc1I1iASYnqeQJJbqv3R/8+PTpajbqbXpnv3ZQKnKgak4yQvtn2qUKl/1/vD/ZkJK+eSiGenj1TDX/UQmvWEflIOZ9KHRXcVjwQR49J4J/JhmJoB/DigEbodD7+Rxg1mAWVP77IV2Eeb+MBVfgaeZ+mFuCEvEIHSDAzQiSw0ZCf/lm1GAm+IyjcnZnpFImeYgLwyfsFyy0VYa+f6qUpQep+yYMV4ybZjaa4hmereFVQhs+Q+vrPQCiO7jQAwy4RXuVyMXt91g7didoO3tTcyEYPJGEkdjgI/K/kRqctRKTJJbN0kXsgiO6VWse760Tiz2rjBnaF21BaUFLdl5K8KJPC6ZgpzfThFUXDF8bhOjyKEMjuxy+cQao8LEjCm3HUCHRsWqugume4kmt1tJ79xquG1h6oAYbnVHcqTsUu1DvgUnHn1W2Fmz/6gej0f3BBk+0zqlBkhU3ayN2MuBinFIK3WCbaUg2cNhWqzz0k14ZAfrGK1o/lZI/q8UNQ3MKoWPU+Ov/B1zTFO/krluoSRpSHo+Li/wJYFgf+24DRNIHj5q4BeTE2hahue3y4HrfCM9u/RLhYqc+IsUn7bcbm73passHMmDD/FBSXKhObbjSmG4vtHcUvzdSsXKesUoPtDFKnxbHUX57gVPXyxKF35yfCr9lW5ajHz7rHr/UbUTTnyeriQPLdy3ofA64yL4rlu5xNxCXaKXq+7vHmYfom3QZBEPN5wWvOzg7FqMtc9ZljyrwXxhp3sAi/HM/crc+TRHtMzgWm3ipVm+rRt1c78R/QpbHVXoqwYIB6mSoESHNv54nl3azCcVOyfE5JWlDA3VsS8l0RQTTDIvMN4aTF4h7qxncvJrnqXw//DEuhdG3YLpl2weCdrtZqnwfgKyXNacPOvGOlQH0LKeyr8LIAHwOALlluEjyyuK1Bb5qLS1KiZuJhiokEQpYTpPUtKG/4uYzqkrid1LmU2ChlwR9kmMQLf8+ayt0+Xe6fxRz8SehwTuAOtzjjwTQtdYiAQoTkFtlqe1Sq6mtR6EJ/wRKb8WFpmiGoVRriRqERwTxNnDxLQCbXdLfv7zEkG/o8rMpqh2IxfkWzzeV+IKVYw6mA9R4aRI1IE1sgbSBMsRc2LkPok3s2UTt1omNWGyDYyJrdISqj7KXf6TsJQk5lJ5PHGAaTMswWvGfcccvXvDT8TPvzW7wCB9BA8W9j2c3eshYae6fWTnvuUEqiSyDTiMwTFPrLq6bHCnVeJK3MGp8Rnatl6XHhXTp5diNKzQOunJewuK15Iilx0qBp1K+dKqmXoKoXq7B4roZkPKe8I5tmS5qygHdMU7Sr5c0lmPLBzxMMOwPLe018V+e1Y5sFXCptbUQ3HUwGV+To1pTAUxRSKveFlDcDzyKpUDn12k5hPNKGpJg3PC/6pRL/GBBg8wYGuqcSWxrOT2ky8fcUEbCg8ZQ+QITC+l+Hm41SxvX9KjUp+sUcPAZpwFJxsFSJ7vV38UBK+pTh5SpAr8DZ1yiNN8XQirUOzwixHGwm09x1EU5KX0fIxSdG/2R4Vdh1tyCCstAKrjKP5eXx6jAAFFCIEzmY/H51dRkM68vnV+Q1aV48WaSdW2WoaJJIf3/pUiiADgTm+f5VSTk2Ebt9q+eWB0g/WOil5L86gguNYH1ZiBFmrPDJzC/qGL66W5L6AqT9FYXoRGZ5e8r8WxkkUji5VG7DbstS0tAkR/+GF3ca5JU73GO1oPsARjuh3RGySnX8ZDd1ES0oIyGX6RftuoeXZuxMYYa6o7ywqRcOoQb1CgsWaPh8K+dEZB1p9PC2znGMX1cviXHopcrAoOsE9ikP7ftJC/dds695PSXmI4AuTQzAlVOFvS/Vsa/uNNVDjkLfJDD248B2PCt7eAv1G/YjQWMqYormrH+PB55F0oS+ggZC+yr3aO2rNerlbs+H0OTQJipfLVGDugwis7ftJa5iVFEFwoUhqtyGLEDADZY6v7wHL1kKvAnGBy/dzgf1NH2P57M7YEWfj1UrdP6AqGhtF6E6/2Pfpzt2BhVo1z2dtvfGTOsgUJ+m3lmOHzpOgU64cXknNnI3oq7WEPy4/TIyMJMj2EGOwqMsYgInSD0LUe6S1cm3W9z42nM45XQN8b2VHiEW/XAXVTEQM0plfwOrIREgjXB/bRycOWqzmRc1HPhy7cN8gfeLT/9McBwvRMGqj4EFUs7bIsN0hUYwy1DvDBaJZ0LjqI1PF6ac/folFjKbID+Zu5BHCUMTCXxBc0/9+whICGipbsb9Rkzy8D/puK81xt0Tn6JbRAAAVt0GaaEmoQWiZTAi/5VU61NoAfCy6EwjuL1/pSbSWmowCL8R/PoL7+XuXG93i/oS35AXYvQwcRICbdxw229virky3OZH/1SHqpJBVnEFL6UqlW/6HPSp+OtrCC3w0TWDLwUOCzVI5ivxN/vfYJ9LaNiAfemr1WQVMCefJZ/vitHgzEmdnS5nDXuX9R/z5N2UchT87B1TFwPUbo1HRnyWBnO773CNsqRsaaSIzsqQwYdfgap9DFOinfWxsm0pdgRc+NT6MH769oUN+KOX2PuG9Cs+Zd6hkhTK5MSlRJC5EZxKPX/uutLYCLaE1HaPZqK6jTpjU7Y5c+ls76MN4Md4DSPH3Leomkb85WA9lfzb/lsfapNTGiFxdlUcmpR8S7Yza1mHziPcByISP2r33ZtaU3P6BJu+pK9qMjT3B5G+T3lrN6s4zDldChKarBvojCD50p3/fGD3a+36TwPlZM2GvsFZqjhfZWaeLup3PNfG4sgCKRBNB27G+sCZOxnUzC1HovKM46el8OucsudAWjA9/vi7oD7AkmjE5lF0OT/uJAgdCy7apC8cqpkYWv+xk3YaxT298smVwRW3a7KA14GrdjEUZ0TiwHSDjrzqPW/qdIxLpgKh3r4elFW/d1ldDI0yKK9pdSopZOhOJYs145YgWe6BesXVi2T46W1mY+Bw8N/zCskbUtFo59v7kt5myYWrSWmEShWBDA+beEyNNB5Cpyk1JLkn5XYUn45ZmuCk8RD2/hXlrQBi8zGJNWbjRSnP9WGTR+hjiQPr7K/HDdKKS4yJ7shiwdkj5vLcVSNw4+4zD8E0PupswRbYuzHRgiear/Jo2doyAhCts8w4f4iIO0MKzDxMyab9tykCwFYlLkiSNIOahIA/FgJeVE1J9QmHwCI/Z8Lcr5gQyOGBJCYAqgiGSPDFVMkeWL1P6XM2yGWVzCw/62uBUhmAb2lv9+asirvfa/jfX0Yul4xMyziFmnU5QtmgapGPJr2BNY1ptCu//AqbkGP70S4EDdUsMkt+ssy4KIp2EIM05kxR0Ff4mbUBr4Bk3H0S9UiqJBJdA4u6Q8gx+1xLa5oysTMneuyPsXdFqkrJUXH9uJXi85ItpCJ7HDWq7FEor8i80nN4W+iHtFBdMiYrvymggsATT+Mtjgrg+7/1Ian0ZxyqKfLz/9qzACfzCwcNPfy4j3L/Lnp8tpyEs4hHYjWsOg0TgITYAUS44Wu4ngenOsJN3OwzqUhHT1Scbqoz9lbJvVIb+p/9H2i95RYX3LbBLPcyde/3BuJdUIRjCQOgR3st2H7XdNNJO7LF5UX8QYKEAXip2+I2rzQ7Z2EEkanVrMGJsYvf/7oG/J+LIxio2AggeRiuVlXggQ2wYIJjAzlAG5uTufob+gnOM/hKYd65f7+qK/Str2ILAFKVehO7zC6JD4w+Kfb7EOeDyCT4v0dz69yH+bhjg5lBqrHwlRnlLa7fTqC9bXDPrCOZkYAxls9/RWcxG0O6h4PxAKhW3k4CDFzASIKIiwNSe+q01vt68E3sllOiOL0eLkbQ2xsPLxKYLzUEac44obWdqnm1ldIPEt0Yemhks+jRImx/NgXmYcSvmyOlqXr5ESc1YznI6C3SiGFgn8ZjBBJWLoHxU80DvrPyQxGldZAeqTj3/PvV/nKNMxXxKA8Qkr0QpvLPxYyYb3KI0caTE4k4BrFYn1gP3qdrv04EcH2xFVWYwrNz9hAvGB7yh68Y5WlkzCut+2KUpciiIkt2kvAlFLaeI2X9ni/XLKOfmfCd3VFkLe8P3G4O+Am4ooaQxtYsSDTH2RSDVHuZ++sYP9mnq40E++VKBTAmiKtXMg3tAPqO2ycvDUvkz6TzenFWi2Lj9Uepd7prbzK3eqjH7iAi5XHYqemXkrvn4LQfMc6D/Rm97dRxB72KsFN/yY7fhfHx5LxIKK3YKo6P+cX7os80SNjhPVEDxnSYmkQLYeFBYwMoAGtlfXouivLLwTUhbzQNgC14fQFwwp+MiHjQz+S7CTDp1E0SAA98Xlvej+j8QqtfUJ/l94Xa51W2Qu/+v+yDELDTZv98z0dSWk1/I6xIareOh+nK5mUPMje7kKuHKE0oeB/fc83IpMA4Hi3DSU3PRKoZHmTVjieh/MT9YjFOTvY232q6tweI6MDCHrP5vH1M52Aq8rcBihXPoeyzu619IVMNC8TQdAYFmHoZ7ubTOHe+3swvJnqPia51uGDk6xTUEqaUC2KTE2OulQHbllASb8xAmp2Yud2hjzo+EtuQDmIjv5HLvjK9udRTt21gOuFcZ+aW4jUroU+E+/Bz/2PiHUAmMJ0qBg0P9HpBm7hKCG/rT/BP4jO4AAK5KzAoiCN5zAADGC4q5lLXOHLoUZly7NmxJsJvj5stXMIvxjY29wgDlaM8RMtwPafwHOZln93gz4Pwup5gkDDM30nvosPGBJ1ez+n81r0Zgp7uP92+Fh6Fl4UhkenhgCYiMRkrLr/P+wrpwEHNZeUfClKyg8+m3Kbf51fpAYXnnvDtmm2t9pz/TFhuT8qvoTFdl87QbiKDmj2C85xd8BupdseVPmHp6NVdYr8Ag69WvBeRdPr0QFOpLO/sQFzuzGR2plAPSLtOlG/CYl1mJndv5gvP7oeLeHjd2TlGbYJIaw4dFtamgT2uL8EPojYLuWrs+JWE14fgSyl7X37YoR18HWGBEO7CHl4+CKeHVB91u3hdvX4mc3EHnaNjcgVGjHuqAT4cZ1xhehJJ9t2Qy9Th4vBTEmzH+FAF+vA51+59n0ifsPVNV7G1V+AUsP2Nw/FXCwrlAn9+oEPKK9WfaOrV5m7eAN3n3rIlojdOvx+loT0i2Fhnx6ofb16YV+nCwqYvHIL1gKGgv0hJnbgy1YPAp2rYFsjkUNVaa0Oz8+XG99sQiGRQ5uReB0nT5Dw0zaCj0demWBnBVC1Hatio3RYEsXnNXwCc+AgRTPQ4VyJaNMF8PfeunzqzLav3KooHW/O3aCulbDuLiPaIPMEDudsOUgJ2QogIgtjiPGua4Ht326ZPO4RdTvSXrW3kRpxSmw2iQRy3HBh59WvPlL1Bbwd5CstCQcxHozpdxF+gTXwXlU862aTQjUgiyKNRsKIn8L1Ftu0y4lb9o+IPBdR7GlHpZqi7iGoww6qszFqQhaFQKrfZ1XV/Mt2lQcFXw3tx3MBAfOL4kI9VowCb3ZyQRulnU+9BH6KauD9yD2YiO9yPeyt6yP+jXpYKhOhft8iinEbV31zPn+d8CRUoWYGJM2f/Ey2gHThe8eHb9ev5rJ6+vFMU+kfSJ1BboP7NmrBtc/KgPDbwYByZXHqml95o4ZrgRgeDHRwQtIA2nrNfJvLIrcPqO6FuqkocQTH/hK6TA3bfvjKlhoH5gx/vp/SbM1YlU6XvtvM1V0Mekj0b14Lkxgho7S9sp1S5X819B4xss//03j4hPpPZDSYexqbJ7le4ddGrtKf9WdlpYvXe8qzkqzhsaN1m+mSF30axRvxo6j4hrwQ0vHlNJW6yYTmci3u167LJqdRrxgbkgvWB5YpSOpmAjv77da/fYFZO0zNRxsQ4QJfy3SL1RQx5bBxSAcyQHCbk1zS06Z5G9lyhd1OsupzDX/US1ugiOgPkTfIrrAdpCLHGELnOBdMjPZVS0E/Hfq16cY420SIeQPN74i2vT39omnkeFEa9a4ZwKfZkskqKV4ZkijI4hF//2q8RA/HWduTfegRV+WyCuZWtgHrGXwluC/Hp/VBcR7vhHTvtpSMjlZzSLU2xM316LZl4JutN8TU+BOLBtNzZxlpf3w2Il2xLuJe/mga5tJTuBELshc6M/Wc+fYZyG17eeIxRoS+xpOk5xT8JZ+8EHlshvfan0LVghPP5dPkAA45JM0SkGt/XqRFRhThtpHJsu6bwhJQcX3g3etk4ZLS4kzrPflK0rwiICz7Q6+kUfuL2Hh+AifOI3aHJ0gXYX/kgBgMa+KZGbBkqjvjC2GmKRb02DNGbPxlOQt68Q4JWMVYJ36KIpRkSJDnZQRO96V9HDg953WW3XxicRG1Ff2UPFKJoArVCay3tVtMcg0KhBefWtu0FzCinoGf4zgoUmsmJZpsclnjioYGRZRV3i8Dnwm4QgzeNQ00VgSpr5temPbL4xZ0yn/cE87M3Y+PkI679/izOxV/TZxeX4uuOC9Zd+v8u0BYjLQJgYG7jcdf36AtSIYM9fP3kVnwzangowc4wbqfqEULoyGVm4z1yRi5QL7pkH+/GAwXhGzZrfV45DMJWE8hDgkp6SLsi/f4suxqzM1G6DXv0pi54mY+GdLYcC742hvCUffmOfLKS9v4DQHr+1+hNb6VW+WokSRzpSvoiQ2dD7Z+kxDXy0gv7bLloiGIP20Ug+2zt+OfKI/U/zhGyznYXMfPXTP2ygpKuyQ4ERQXS17a7P8KyZ3BSqbetPvGwqda948M1LN0ZjQ6taNNzA+z71VpwuSRrzFWpq692Im2NP3Q7oYf6oxLddcR0ci3bKssN9C5wUS70G5hC0iAxApOH1IE5jYZeXZKSb3FQIxvrBaooUUV0mWUpBcYrdBDOaWI3P2rKdjCThrll3AIcFK8F6s1kyKzr9OGKARa2FZf6u9+dqSZlke55eFmrVqIyBcIQyUdwUxNbsaCNhtheaG6i69KEvJWsALh7BobHuJrTuLu7j26ulElj/q8tt1i2kGETfMmVhK66P/QdlcT154JHday5VJctWU7vYZArVRMmXc3ICEeRRXbGHeMB4ZfEL0D4anyW28ZsD0n3KX/h6pPwEnm2DUGMLsBO8esUrK+Xn/xM/hXGZpFU4ZAjyGGpZJhQMn+l1Syx8uF2rEx1V6TsT/oTgEzFAbodT90J2wemcjbgodTMUh1HTj/qPBQHDjkoaFdI0T7X/2Xb4ibLJwTZG2/9pqPBAMdscQ7fJYmdfqyZC8Iug4z/mXecNdbwwTL/RaEYTHqf9cYD+Wgr8vDb/HFRMsXRrVikVSaY0GYPx3ZUFKf+Be3GcN7fz3NpXMGawbZ11Ed2ySwDSCNHoIw/0W8WZJ1ocb8bk1X1Y6eZRyBnTdoN/Y9o38uj44Tmet4mWolchzChtL0AIHlNiwaO48Y/TWvMB0iZMOWKLpxgWj2Lzdp24vGlMHjQ/nMLvYXebin0nZsT010RWcIFDiA6sPzPwyvXZwOVyxwAofbbuCSB9xr4SRcAiBtjfRHoBXON8k25ByiSyHkoeQIjtJPYmDvZ1hmgtU538WKU6K9izcyeRRbx6/CIrR+B+w4mVdxiGmnm456AZ/khx2iozN+tyfFIhiGxMwGlwDiDgolfQT4NYWO8UL19TRTb+NUYiq2RAKPUb3xs1MdiemEXDPk+HLkjsNlK1QTjZKUunz+79UfxH5iB36KBwvQNI6DuMkF11j+CvecaJPCoWpvlsS4pkTg/eFpW44FH5wqT48h8MG01g1LputXILaz584FL6XtJGMHN95DMrkwLOZwrrL//ay452GXicmgQCdqIKL1vHJnTmeuR5P7xZLkOT0kABDdfpEmzCKJFbZId45mrBs5JxsSGV1M64eVJ9BVD+Os3VMiib6vgAyaeVtiuYqrMSVa1RM2EjvtwVrqYJAYEV4IqEMeWwMoR14PMRJ35kyrrwawUGwbbxLPg0nGDeDxEIV6oINwlFw/UN52MooVYgA7Qi57e47XF2VRw2kcv9T1X9vvcW9cDZ/TtbJDg8gtQJzMYN5c1IfgymdlaPcm5b/eZ2Ve7zks2XbYf/3acSFneC7NrIsLEA0HlExke0RSx/frjteDtpCVPSkSGUPggf6Q63uLzq4IxMCzPe9ryNy0tZQCi+UWOS0uQ2eICC6XUzNrRbh0bo8TE9akDf5SeRrKYSVmFCDLhiMykQpcKQE5skH6hki5zktG1gbgLv6FUilsup0cMep3j4mlRDleec7kgINfeuUqEcD81iZxChsmMYbnpqr0N/nPU/1dq8Cail3VaJ7ECPgqIIElmI+FOVYYMJr5j/E8+6OPPObFEJkUhudX+BLhdPRG9WdfeM1oCJDnpRozgXDKopzwizSdO9fWf4kpQyhZxyrt7rihl6ERsopj8Dyv6n1daAGH4MnbMwxxcfU2ggX1KinvsLBYGw4Y5cGo9/MSKGmXKlWUpsHJ7RcxwBUyPI1Aepv4IfANndr4QE6IMUW4z5NmTDEryJqDo1oJgrtUTcdh2/Xgbu4HqIEan9YJA8xjHUNJr2Jz2zgElH96O9RU2PfxsfAyp7BnCJ0i7ekV89XiNYD6Hm/ZS7X6EfluzJxA2vkXO+eyulVxGkslOKuMhUrBkFYdiLS3CBKiVTwwwi7r2Xnee3r0qwiD1kVnqpSC7b/qxaAGHpy3ghjnzBvgt/s7HpL/OAW9jzkMnfZBKGh7m7XC7Uv72JrlKK4e1eroncqRQsKO8H0OMTjDWvTgU292E6EAc8CVqNNNWXtpS7YCTI9pm1PYa2bYu3xf28NT8BimFZBpNPJXLQcf9ptkvfqrFm1kc+1+RzZtS6X1oNR9f9sSTbAyXJlMD8b1aPYQtAADm74BMPv7vIvmZPmzQTySK6tnn3Ek8tpEsB0HsUEq+Meh2IMVVMi/umpkmpMOtVqeJNBD68/Adgx2s84q9Q6aAw/OdoPoqIC8QLKEf5Xz9zqKpxy6916/hKiBeA7Azzh4Cn1cS8vg/dwYsQKRELsUv8jeWInamUZYTbdRxDXyEf3fyh9pxrN6q6rsCjFieJUS1PauXQePelJMuTT7GXVVDvjdJupdbrbbn4nQWQnLnhptuVJSYWjHUgS1jgTSZW7LsVEwLapg4x87sYm3qblZmz7P9PpAgpVRKoLV0fQioZx5m5jBEfU9z0ccYarSeoag9pe3aWsu0LS4nAEmGX+Y4ICJR5CHzPgxkbga5QYqgL3FXqa6IFx9tIZpuI3OocXFsMYkBrzYvznGCl9VqUP4/ntqeW/Nl9GHBNt29kMKkL3gvfYJ60fJi6jDBJiSouQ3kID9vHSTT+9FKWZahPGeBq/d9jS15xAMw5mNHE1vHeF/i9CZcgQAlscl+493xv+FjjG3pGbZ0scrMkmPsWXQY9nQxSnPwTNsIJjdBPG6FgKeWgpx+c7OMlxjPVUrgRi3deUq1q/lDHn3MzRud1sitQX9mQBpAw5g2jOt5fgqph+k2WcRQMbtGAtkJm11y+m5b9c8dCwOh/8Khy+b+vkL0gfRsvEJjJEnLaV1YvpyNBXIjcFA1EVKe1KuVnn/YIQWLzV6VaeoJA+rLXkKT+yxWrSNGOxs+flvSuZIvMZtEoGsOqwnUsG66k6kACDkUuL1FXSuPgQa4pXv3ZqB6dPsgChzQ27b3xL9ArBBAEOP2ZeSOvFkYkRX+bJMUa98/o4mVpDU/efUFuevPctovI5jUz/h653NEJk7jxH+hS8qsT2QAAD+hBnoZFESzfddHvPvDyLE7mQnJhPuPlmsignmw/NH98DDrvqo5AcUUqQLQ411OqpoTxJR1nCXQJVQD4YZ10AABACq4bUMDyqS4jWUZFQrK1hbBSx7p6Btpdfd82E5uGraQRT/Vz2vVeCFOC7CHuWJ/f/vg8sB+5g47vMTFCRNWNbfn9d1U4ZuYFfFe0MbLWFnTUlrojiFesX1u2PfHUROpCcD75tv7lFfMsiQ6nTg3+4yzz9uvrOhes7VG1W3E0FbHEBrrLsm2nTOPblvQp7i2Q+eud7tn6nSdiGE6mPtg6AjSdpA1z28MMmRhidXbqssx3yj4pLOzFhWDrsKYCGdKFYKvPMNJ4iat62laI1vW4cvj8OWxZGJzZ8G59wPDhON/XvaqqqQuObqF2Ov7jDEvkBo/y6NaXg5m6/FzymDmCq2FTpacHqvATZT3JD/mnny2HkVpKug3PA/RbGdBWaW+J9sACYqwqKcmcSuRqeUWTgfKq56eUTL+vWVQRQK80oSpkP7aHK33en34apN/KJNOmvrIj/xJlDqzznK9QnFlXTk4VhKBh3kWueNR7SvXGKOL1kXeM4orK8QWLGCMKBNqdysQXNbUIJFQsWl1U6mQDfHDS/lGf2CBqwdv76Y6Zz7upp1ZXKI05AbjQBeNanGr3ub+LAHXf9RdGitBpwsTJVcbtPRuRH/Z5leoXJGb2x7Yr8j2afFGV6eMTwDAOylniN+CiS6aL3FD7B98hJ7Xr5xBDrztaPZ61UkQqkQv18rEGyD6k4DQwS3gQn2KPTPYy6L1x7PnmUtME5imkoQvDdkvXUL04pn/hu+MkO/LTFUYWtl8lcuJy/u8VvEkhbGryZ6ka2uDuPvL2QOrXTxr5eQl0iK0aOo6+d+6NdawENjE1Pb1XDvLuqYB1Y4DHkKshKvfxaBlp6sgUPrxUjMV//sT854rZ4rIaGvVBzXjLSWqAfcwtpkWyxlg5wcLwMJ63vT+6Q7HnqVW0P1wBTrTPKA3cg9eo503gZQ+rfcAodoIQgAcXrgb5fUhUoQBGUIcqvRgHd7SRKbJUp13teBDUOUC6VikbJ/RRoEqBMmchEJSxVGTLpgSd+8367wgZJHVkl1brpRog/EvKqV95f6OAxC6aZKHZ7g8iY2K91IM18I2pekAzOwckv0ciRbZbBDClN2AlTM9wNxjs+W4Igz7c1zIxUBSnzF2Bkf5bOnlkEUPsgusJVM5Is8jVsiltKgbZQjm67Meotpad5uSEGfrIw6Lfz1zceNt5iMu8cJwHLA1SJjO9xyEC05/Limxlfw3n86guNYiwh8kEhQBR0SQd85jhz6xy8BQeOrKpsorGxh7o539tlKGhvVyDLmBhsfCZ5s3WZ+yJTfda1lazubSvPrOG3LuBjigWj266nV3YAB6qxNcO/znj8YpHJak1wx+EC5gWcSCQwR1TRY9G6rbczP5HqpDtHBqE/mHzkjVqqUPvMKpyL/KYYyYgtXaPprThQbQt0S6hwIUGbtkFm2nhjeDLSROpGvdCvwV6WhS4rP6N6j07qFuqUjbM9ST58YjQyXXga2xfK3DAJwJ/8TC7tENuFqFU+uKH8ixTIBrldYt7EmkVeYgUfST+aodrMLw7X0ZC8ZzB3idBAB8+TA05nynrRJqBS3A4WmTO/00Ll8SFjMy4GyTztOt8vcZHUgc2roMirM45LsDSiztCAvBZamj9xx2k++J2dIEj7H5ELaTbJ83BdBNfczlLPQiUvTDtnyZfeq0ShB3V4NT9ORlrkVm8evqKpANN0FRXBYlWvi2xCrF86txu96fszeyeuK2gLa0paIsle/NsVjnTr7S+5S9rISGfWCfMw8gQDE8zT4tomSdzsvxziWcHAHjz0fjSYUvseh647zr7Qo7od3Z8LKa72ROgY5GKtwa1RhlnFOVSJ2dULEUcLPFkSxx74cKv34p6Xsa8VuYm9T9qvlT+DGtsmjj+1o/5f7kPA3bQNv/I4D+vO5+EOSowPmr4iu/XqlNXGp+KkhyhBXK/gwUZziRMl0dETiBwg6zDcrJkzV/No0G/MyGHXazy6jZ6+ORKHKe3b74WF4SwN8ayl5Kq+MFRkfQs4OcfQ4FfRgSl9pA6lA2r1DWzHn/3FKHmIvRboCSRZ2nZfh/KG8fiQMlontJAesBszORo4o0DH9JBdDoDdOUxvShum4YTaShpI5ssKHCzuntPQ4OYikOlLi9fr7W9YAybC4tCWK/EYUFSCri9lm5i5SL4ThbjCnJvYxcX+WYXfWkWRdYqRk+sgN23m0v4oKIYM/6ftaXwB11/xNoEKqrVT0oMm7dSaU43JwvF12+EVsOk2S9Lg+yPhOXVmNJ8uPMW/UYfhQPZAi2SEjhl2eyL25eUWuG42E89UoIgMKawQWQPLyHPAqU82J6M+6iRE39ML2Khkdcf7tEgDJ2SkPYHWnTXmJqHpcmHbiCliGwrF14T4uiZKkNRxsdd3uWCd7nRppnGSnqaEnnIlNEgOItlNtlebw9X+BPAhrSFKfDbyF6MTvi0dIvRvWEDqd7sDQwuVDYPUOfqZZNCw+w1Tt393h0w/L/D164Zx3d79WfiOEbkMUtLj/E02j0yc/y4KKBABe1K63SO35TK/N7OQoTEo3y/ZdRGQFlnfTv4uHBcHPjbmGb3RRZrw/M6NVf6tj6DUnhzSrXtEc5cE3p+FOcPWqFQySJ3RQKk/rbyohvuvx83O4QN/4eSIJMrt0YvqO3hzK1yIo7GnqiBYHLb92pGBerkrqIQBgqjSgtfq1eytU/OCvr24ECfleBaCmSsHANfltFtDVwFW/oo/Z9aTLJ/fp+Zd/EByVEfqhvMcFUkZZuR7TNYObtzrr1/6p6tCTXF8OrN9g+F9wwBM3oJ+GK2B1u6uXZiPXomnC7tLEijPytXz2TPXLS6cnkY6/c1IDocBKeHhgAbkghQvh8NmakyoTa+12smInZPCcheXD4jbaWpQJlI11gGKNnJOnw+GpV6Ux+ANhOpwnKwFvbyuUzN0DP12VWQYknyjpr0X2jVqwgcen3vwXEbU5/6sISG6cJFuIDaty6VkkQNxchZqIErRwZpOnMluT6KFGcasLU4bBiGGw8k6Ub9VcVqBJs1nLomJzxbqnt8fCLNss7cnJ3O8MSCD9gO+cSCrUCON5wCg7Tgq4+QQRXXNLva3AE0c6HD1TZGDuVeVC6f/vAdrf4sMl+WZ7/BdO4SJ4bjpUJNLyDaXYWLjLLtDhAkewtbdAf8jFfiQWnneholeNd/VE7NVsAXLWWfCkoypoNxxJFmxtHXB6QvO39xxepHfZJJ6mgBdQstD77AQVjiCuBJXrUOKnfpE1KWQIXTCyRAZ9OowKoOqHs/bEHFlPP5WtUE3I+eXZP8nGK+0TAaFQI/PY9dYdh7PV8qLjbN8i/EQukeVQyxwPV4uqHlfc6jFGJvWjo4JrsKfmDx15Q6GI1mrVDxGiOVWwt0xw+jqAO7U8Mg4Ag63LRSBheSGDYqQ0BCqsUj5muQ2s8GoZrHR4MvLmv8Jx3RWGA+PoA1eKNdNNxOk5C9jGrQ2vwGnWGUZfoVI19IbqSw62qKcpP3Wdr7hoGPgnrjqZx+jqOXlkcluEzyE+iB4TaTfH3gz6+OqYv4c8ZA9NDBQbN4kapW8sq+Qzva21kr4S8W9AkYXe51obBGfplysZT4XC0YHhXTEFNfUT7XJ79WkK+ZJpmirzsSkGxmLDuI4wJjGSL0NgavI8Jmiq1/tscmPMEel3rGoRO9fJ32US072duBIlN4R3UjWOeNi2AcuUYd102mz4xvNCaXu8Vp0pd3UnqSMThivYfazhB4Dwj/QzvgPHeQkUmspMzUh2TF01Rh9k6OON6yHBqf2V9t3/x8VppeRJyt7NnC4F3wsK6XhT4Rc0JWJKsvyyw6RzqSO3nvZF+oYZ8l5cmDebVgIat+D/8ml2EO5zq5RhEi5pcMRk5iMjeIH6pp0NiqFxunefasCkoC3ZS6A/euCaddj2XcHx+EY/kb4VLI51BFgA7doErX/z9sS363+gTLYqaBa1X1Gb07xMoXq3i2LCvGUtoNEViOr6RQA38MVG/QhkVgG5gD6SaxCug+xftz/JHyWyIzfZTdPIkVf1fj9pup6k/MAa9NzGRRxB504Y4Twvud/huoI+Egu8SSEYj9/7WUZOBjUoigU+9mC46KUAaaWrnCV+SNYP1RbEhi9xwGUWZiGuGxpRLS2c8d+YPELqp66ZAogciHaLTqawW3WX4MfELtBmG220Q5iNCGAi+9yOafHuvoXThtLuFFg1p9Cw0McCxXm/KSzlgMGzORsAFkHHttbWQSM6HcNntjvP9xEwpMiwSEREiYhRkLx4el6rGZ2QwhcB98zcp2nVkd7RQO4vyK45uJwY9T+kd136FBDAnLE/0CHu2xOLYgU0j4Kr1Tw5lCk10QjBHUC5jxzkvbaOpQi605vvI/RlK0w9Z9zxiq3m77jvJg/BbmqrPpkwmb62rLyV41V4cClDnatJ9Gpa2+zcEJFW2Uk9jzX5sF9U7yqyROmOoIROtA8kKkRKbLnV1Yp4VT951NkIFbfF17ibJMJACR3aAGrlRrffLjWQB9RkibCb9mLTITrTMerLtyPS2JhsB2VsqpGWoo4ebS6dFkHkwXEf59yGgW95hoDHGSwa7Cyfoa4zukTjmXfGo7CTGcGgtSb7Es7/bEDeAqkev2DNuQVhvaQXWlHKHQxNSHbuaRto/mEkZTEcQDLnzFhbiZdyVn1ffPLsT0k9Vtf1Ya0ZGg2xn1mGCY+3RWSRzqQbpJJVXQNS/1h0Z8FHmmcpRmBfne349Cp/gB8yLLkHZJrcfWsISh3uO+AFsnOzSRfqtCcjEnWtetj13EBp/tKm7wJKe+sF/CG0NLq6710rvCCAfA1UPYiB7IZrXLYIFf1YA3QOyLIR6Wi6llt7fYf1QHnQi1rd0xF10WuC5RcYBHAnoSyCe81NLL7iQ1ao9mogE5/v0jWQ7rM//sGPDWt43DmiMzYWweGAJyEvq9uRGji/Ampu8KHSjxIPPxib8kEoI9q/U3qGmBCpyYYkxQzMcOtOaXGem6G72CH0k2GZLRWoQVySwU2K3YmsvLA2hWKss6ElPQKb6m75KXCA0UdvLA11J4ogmCfptwiCA6n7vqqQw9KIm3ZlDyJovKuCAOifopy5nwwj+NUbAFVprGJnYbxs+YgQSYfksS6nM8PrKFg4huIHCzaGPpiC1Xdx5r3S+CdAtqgH38XRfhSz5vtmVLMwBnmc0ewMicPLdLvKL25Zvp+tfm3LMw1nAXGuQ6YNQRw/UZSdAHLpHYw8PBFD4aQ8T+E4yrn1KG5sbJjWZeiuEhPsZSv6SQp9N73GZh/goyJ+AumwFV4BFd12F7spUpX8IkD2Mmveg1nqsGHlVVcIC/S4D0m8vbvlk+qdqhAAANLAGepXRFf4Bog/+V8V8K90aQBUFeyYMLJLJabSFhyqj8+gdwjQN7iVaLhis/WHAG9VE8Y34ybkW6yB6Ff1TK9BUFR9Jsz17yucTJRukRVGjDrIFOfncz7ljdexmXPZcW9EOlIt+5GLwgADJ0Cewzhn6Yj3sfRpZohH3MOCNx1+usqRiI5mxXMXnv74IY78oaoXiYLP3Xvi5fdEb+34ljYcGm/2vcN3vnt0UxTI7YbBKWm6KvqT+4a/V99TRBzu0I6JplMPatIs4LwEBxKRna5Xde+L1OvJlijneA6DjUkb5iPyJen96ZkSRZVy50x4jF626QZOZT1qElG+RFNGpTDLbI8UdZRP16HgrGb2Yy25I98TV20U8ILth4K55ysfg+VS1HUZ9DRXfjMSBgtIjp16ubuipfWSutcrHmALt7Pv81+hcFe6PukOqmWQUEktzInFkA0r9S3Sayrkx1UiLLIh8GNCmywZiBpnBiXW1FhRkxwxN0hPGKNr7EfRjG0dIE2nLQMWXLRP9jFSW/grIIvkYWb451vYg0JS0BZn/1f/f9oDFrj39G+B+yyJIFG/PNTsQl/Rps6sllXV5HwoPrT0PHSoINYH1LmKGk3gHhpK9aCbuR/zegbPrORtYwkNHsvPTUvJQA+Biw9rwELxBEUatMDNjBYU+JJMxaFZ5exA3pYr5IyTrd56NXGUrYzzhJwYhdejPsrIU4IsWYdeIZUWIjyrrlLOZ+O03EW8+TlNYShIDoOt66hJM04FoN/9Gds7JZycG6I4p93lRjOVgwuJsQ8suv1G3BVJOUxABIfRWoik/9bCHrksyBb0ct1quAMr3yLk2lekY5QBE3XY+SR5yh5+kh6+hpsrrpAItCCPKyABpSgywxg8txnTKS75FGnGqrMKSa9c+WNLcvYftL+gjA/a4CGms8cwV2GYqqOCFQf23U6wdJuyKlCE6igUMDfOtJE85sXr4/pcQ97o/1auSBucrlW0NMU7TGYvPXUnp2e/88fqNROaUMVTJd469I13xUYZ1WHdrtpLPclTWYmalGFTdhs1x1+yOgBMZtkV6KaluyPL8KFN+/rilg1r2VrgHy3dIKkFIfaNRt5TEQFsIRpTMj6QJVooFmyju+vE8plHkxGEVzv7dqr8WG3TFgxoXagbrlB73VgUKC0jaqONuT1MO9JpKYPMjzUH0LvDpDk1KnHlMYt5vr33HOXx9bohk0ABXBiDVsljkT0cdFCQ7fGyYQ54lShjlFHN89Kep6USG+MI24EqMXBaGmpypKJ9kwYd7x19/OKn5fn1Y/B8tQWmYIg9oE6YPwf4soX8iWYu0wojFEslX4rb70k8NECSePPevgBpC7Hzt/0H06xbT3Oo2pa05MF0QEjTHTlRaemyK1i44xNslwVo5AvIweBxjHJ3E6BEbWiTjov9Mz7Ss1AlRkayqcNk9yQKw+8LMWINv+7WAjgxVsEW9p5v4MCLhSfmAlTEY5GYF4ijbN+2kPIBLlNiiyrmHdNi0jM3BxJKdeSnkpYB9G19J1lTOIA28fzCfrDoGBC+CGWlXHH1i2McrVZg//ghRhZ2AfS2o4C80LBJOCqi/MufddlWtz+nEgwNhZ69VwSlo6j5YEDmlrD7fE7/ddSHFs2S73U+q03VjbvJbbyvQ2qteWVNiwQGsVoKY4WAoru9P0+ekZIqVKfLQ/TOICbDyAXdxRgi0YkWUjceHi6n9Cc390+GEQxwbWnVSlxGpfOGuPmckIdU464IIHzoB/SjRP16sDP5QkkrIIPXSoIgnpOqtsirYbjIpwmPi8h+NuKVBKwu73fdvnNEY5bXIjXbJBBaXyBrdjEIQAr/sMSyd5OUhSNuCODxkbGHvK8VRVFUhro+MVGmL31ssFpEaKKEdqMTx26HgdLqAqg357zv0GrmU2YsUjVFfrnRjl2rFkLXQTIuMDEAQZJhQXYw/ssJhdY7cvuUTBxQ8c6jHtDOeoQ3akI6sctQQYnN9lHCLVNIsRV0GN45lbayApNWNXb+X3/Z5MmQ2nPB0a5jtY2RAlKEjefe4xQetv0Xh/kgwVPswYVOzxcGv19J3G+2F/aT+Ca80WmL8wWrf6pW2F/J+EMB1RrmKjnjgcloP9nY6P1xn+voTc7vb4ABTZCbInVU8uhQ+mViFHwe702lEW3ImdH1OPSaEvS2GVAu7bFN1guyLO3Ul+rSJkjINRHiUHwzXFTkeAjVnvxp4T3vK104cAzgM9S8iOHZy73ufKFM0qKBi2oNF/qGW0IW7nLfPleipQ+ezMo8obKP4y/iCwapSw8q3RXits6LvF65UodJxivBycNtDvZt3I9Ym9ik069mxbFAEcVOcQmym0OS49ehQQbvIS2omeEsqig/GPWP6vJohdpyadTspGmAcXp0Oyy2z+5TwPEEdvkla8Dfd/jeZhGccMBeuoKh7oRQeYRHUP0Vqo/wSotjX4cFyHUtLtfWb8Hz0MoFfOhaiCGZvkkGt8ezsKCNv3F1E3zIVasvgAfqp1h+EjfGqlAmjkBm/2rt3lEIoRSjiQ4QJkvfH23brcTE1qNqCWap2RG1yPHDXJrxoO/GWdGlSTb6DKeBQqQCkDr4MSJlZi72Cavbr39N3kRdqdWN1WmH4aMvkKDgsBhVetToKQoB6mEs3OI8580bHKv9DRRFQ65HvRZ4chQir3LMloqICR3XZSEpfyX5Fk/pdwIYcvp5f8CScm/DRcP7gtwEkJMX8WiYYDO1FzdGCFkImDkTMpcpmagg3jOuP5DHwUB1GBMUFOCqva9/Mm1Lj147+I4AfuGBQbwanVbrJA0VjZpq4MnuzdaCma4hJdPZUyy9MGms5hE9mP1vEJuMXvh1Uep8waXsbsMK0fRW9dlagt0Uxf9jIEhI9wOqcM1mzQ6yldakZoeJGpiln4WJb32UtZuZXAqMJgT+U3hEdWjdO78KU8Fp3QIf43JgSjLSPFlR9LqeaSBb+3Vjg8SqzugQCVwQZdERHUBVMvSjEtcA3Su6BGI9QHsEY3trUjmtEaMLApirBNaY28uasCPXqR+1v1KVYfm/LQMJxYJ1UwIdGkweNrHsCO2KeNcEF38gAsZgDAUbVQMsSWhNnKxN6kw9+aupNdz28I3K/A1mKG4QvtnyyiJWBBYhnzkSs/EaQwD9cb8towchGQB42M36V85m5dYY/LFjrpPKCj0ER4PXXCn3KMmiXHDiSA6g9KV+MnzhpTFOkoXMdhklie8R310tTwm0P85yKCXhMXvyU4oZ32zchkDnzYg+c6POCcpMzCjlOFtkPZpxGnppi1iAezrybU8zfGDQouATNtGahMzHAXWc9tpPPWqihQHsviFKR0LmAVCOVPE8e/DFgLyuYjVS/nOKJjtD06iiDb3lL2T4/Zx9h9yuO3h1PYtaEbumctJcly48Ts9fdpNvEQMIkyZHrp/+uFhm4rH74ICft2/HPNG2fq4s9cLcdUMUOHnGNfsUGZczG+hXXLJSCwAlVN8U3A/NcbiwhBKNpiSAS5nTAS3BMVvVVZJHgsk8sQ/BHM4upGu/i96L8i0e9CNmdYk4AIL65+fHnLk0wjZ8GPzUuh1pFCTuJBDdmt4EtJIrME65/UPjCIbwak1rheJU69nGCFPfgE6nwm6Qo3QcQrb+HXsvbTD7IH/DiQOw5wJZKtLhTdBKX0c+Yp156ub8Jbi9h6Uh6bWAlh+I5CRuxffwq2TDsopYAIkVk+KB2qX16t/K0Zf1Jpkk9HhlAPirZNy3iB5N7DTwPBv/DifgDb8c0g+Ntk1NxlpRORafj2B2e+Av/3bk/JWifzzMUw6Um+N34cDccW3fn7eWQMg6gVTTYK1PdbqAXMUQti/jPXdfJ/2ya77QmcUOBqfg5b9GYwoByfo5hqBQwZ1oIU7o/rkBzGXfxZPbZh2679FT48rqXNlio6NQo1TNzWTWe5EZcLH1Kv3LhGDsJCyz2Qbr48BqmvY8yD2KTqpSi/B8XOX+xZPzoMbuyVmyrKLNsEzTtIwRum9Yc7ND7LupeKiuq0KhmmENn4pVoPqxSqdEud9O7PNI7e+QCnw5mR9rR3ryiMFrcyRSWfBPBP3x1qwmJsVNrKGfZTy9Ra6POMZdwuxhDuU1JTY91Bn7EC4kUEGYzwU+XzbL3KOQBPZYEduKiZvvVZWNByNVCXgqEvwFGltorDZWSMB+73QIkemNgxzEIqn1AZYnznRU2dqdykXY6GkDJM8mgNinWtOOrjdStSagDK84BRXCsp1EgQfrdhcOWvLeSn6Mhv3NEHDdShVMEDU97UEUEkyzsTlQAaaOVU0LBv8QcS1UpFFPmN2tNEnXTqmjsBu2Q88O3IDxAlgNGHUb9m8VlxbRDUdzUM1FYjL/1L1qeSl/+zGN0WIJvd0AXeI68xKU4tJSIXvE1hk+7Q2IyQK6dB3wv1yZVsW5ocZXobqaeN1RoZNJwq+9wGn8wqhqpvS81Dac9PdNSTiqZu4I8IzbYfxK5YXpNA8aeMiqa2uQAACgcBnqdqRX9/fw5LLksNiw0CIpT1e7kXtFAtW+pXEUoJZ7YO9Nn5fOd37HCqbo7oI4F91Uj5KRXJK8CuGMM/YXV/C+TDNKm7Z1jYbwVNHLouVNin6/sMmq6zBnFGdQ5NyP9McYcKqIqRorV2pnZJk0vca48L8uHNSdgUDq7gLmYHTXtX/PHpG9vyTgOLg0BUBQ9Q6mAfyAjDO7cr/BvKW0Q4lgtlZhjt+hJNJ9n1/2ioaM1mcPRmctjq3G2bhpf7prI28o9cmmttbm/8kU/E94mccoklMgk2JtHClNcDpXDJz8sDQt7cD9Md3/hik7VSTI/GaKclTLBRmeo6iiT5wqR1mCY9uU5yx74dUcuGniUTVL7j42j7dD2OswKFoCJ997nT7Jby0vy3jUTW076DVAPcfV3Di4bi2p7p7sE+cjCwxD/3ia3ug1pAZU3icE8jIODYt1NRdzeE+cr9i93XYC6e1oFk5C+v9NSSANYMJS7itdOJsHnohRPZBZR7Ffby7A9R/leRidcGwiKhH0r9FAQFNNjIJHQ7MvW6FL9WcWFR3Q4eHQnovesjYAomi/jRmiFb1D2Rpl2ickO9SD/hTVgtMgMToY71sLlmk+082F3ebnpgvDfy0GODdahQ/wctn6Fq2vRpzLY36NDXWc4AOioDyNhPFSXLGx8tnDXhP858SsCz+b5K3YY0zZ/ivphWCQGKd5aihHYIACyumxfwoEal6cZ3LPxzhr3fzgVPfVE5Q3TEUqX0ag5LzfxMT+3GQ/9geKfnkqn7wCEi2F2OvopM32YZzY/cGvvsYGp6nvkCZ/vrRjKaBu63rSHgJ3TLTmXfy/kzaqpogZFjE8jZzso0uyEmn0qI4uIgZ3X7/9MBzlKHAFEnVZ3N6pWCWrMHL3300rcutnSezb/MAN5AeKFQdKamn/DK4mnBAyYLfjB+SpB6ZaQOB63wNNAbbrNZhScWvJLzZcIqv0fOB89uCnIBn1oHkNrp/cGvcf0MW3NK4CTdkEJQE6wDpYG8BJl+C4evyqo/biqTihKCub/WrLsIwi18C/MFd9eQ2vvECds90BvjmDuFDrSqRcBkwZU1+Ds6ACyi+32fEix9ALCxmwHOAMVf0ozyRoB9YJtqV4+N0rQkKAWu29dJ90ObVL7NvcFOthxR+Z8sq3ZltN7flrz2qbw/n40aw1bFfhgngU25a/MwrqCugU4CywiPyEUycO/8AVCtNm2ctXd5C1QEr/0Cdth4sMVUbM1cf5Ee51Rsnw9Uf2igE/fCnYFIWdZpWPBe2Una+K1W5g1sL1LOrtqVcHV7rht2zWgGcBRvHPIKKjv+mjfNjZOX4eqfZTv5Hz3tE/Eemgi54tzJmEoEbWDTINxg71vVEoGytQK2WcpK59Pbbmr8S4MMD2QNUlKjmkNEzQ2uX+vU+xTWafDZUCYaY/BezHCH8JQdAHA6D3HU3+cn4ivAoLrsCctTo4TzjhfZchTGJY0Znx/H/EFqGdDferbVUOcOLXjgjcoU5l7ZO+gqoxSvEzPayLHNzyqCDMZgCaShmj1vwuZ39GK0O7+oXC8p8W2joUstQyechBL8zB0LrWA14v22pqDHd9ltneQrml5ZD8ciCkxRuB0iWo9tczlERtpsK03MZ95CdCuj/40iXB7tmGKe4N6+kPi9uDOCNZRK+iLHkE85+FnFoNUwByBKLOScuKCHf2Qj9pq1vbyLYaaaUH4ru70Ra81SDZfUyeKFvwU5LBycFKSAyWWSqpPbHcfdeq+++xpTExHtX6Y/fAxGGxCO3HlMfqVazaWSPC4CIab/Mz3h7p8/6KMxitSaerlv7l64f2MC1uTM3ZXeDaCU3ZshUUKrdwPtSNXodRJZsxB1oWeaTycFIvB/9JOeqOdWsNk9AkGIunypPUm8mHRZ1Kkq+d69FXWqPEYvS5qdy9BTNTG7SXsrSVzLPLqjnHtOH2dzdra1ysPvTF5RNuzncbeb2kfeh3iMvYzGySgiciFOtKIRTNDlrE7fNTewL26vqi3wH4nfrumaFqSYAwH3Q9l8fXOvs8e6nR95AU2hm9WaoXdJS2XfJ1jbkjMTXHrZp7rZYTZ8biikhvO40jT9bWIgwY2HH8b0RSKZugJ0egDw5BHlikkbt4X0N48ozAHAZxSIPFJt2a49MVG6C8DRNdVJpfbXHdsROF0zQNgeyh+brvl7RrEU855UmypHTYpPmI3VK1bKPQESuaRrxu6Bb+nxjNu9tJumOs+QbDWLnvIvNwJwPzGeF0wFM21ClhqkWaqQpCbtSKZDLTrCbrexg1XvPTFBcWMKhbjRVrQ1fTYTCqWDtbw+DK/6t26rYr9W7rMpxGaiuOH3/Z0kVg6CDXmhTdhLZXTycNoCaywQ3p2itgpSiB9a2Qd3ZBCtgKrhr3PxuqWakrHvnzB7C9FJghjwDhoYankSgGc2bqs448QHviCUJIrAEPSI9U/tMEykNz0p3/gnyE8MkCntKfTl38WRklmxh2VwW91Y7c7QP9lDgqdmnnx3hzwRdTYMqweLkw25kwQ/ADU8ipzOo154QGuHMjBjXdSMVQI2Upn5Uti/5jbhCwAIjCGb8omNCShqA2SB+01APj1wOcYCwz/ULFH+PeyYYTz8a4I4SH76o1dcr0hEeCH7WT1/6NdgRyGMMav4uETqTX/psg8AwPw2FAdS4zCpGdwCp3S9nNznnKkZ+cpviz5ywZn3+8wBppQ5kmLOxR87b0ZwDTej+s7twvLyFi9tMy3GsjKW61ZAo5EazB6eNhesGsCJ0U/hdK7u+whuRtB2ASJU7yF7XSnPStgRF7Ka8XKeMOJjmzefTM6GZJj8K8fOu8NIN8JWF+LwEgnFlYBii7pic1gYlgK/tg19hJzcscXKt6PvXHsg0UdSv5RvD3ZlvJWJn+bw+vyxhL9U32EvhMNNr3xYWpUtY13G7HQ+1HmRKwibaSqiNMPsqtwSTrBnM8xn6Gi4rcNCa0deA1sw/mgHgaOloKeb+ozXvhzhe7GzY9GPJV3IpVd3UW+00ptJndgc1Bz6n3uC5GDUzBPCyizmIYe/4vwM59ga3TDPO11+SuGoAh3JVpUHytFu5Avt6FGxoP/9X88LyLS53YMwy9OkEHbHPb8oFhOK/JrnFJtwx/trA91noMOWEN36wBhocmb54cDt8/j8i+blOEmbipO4ZwExoML7mfNZe5BWIPzv7ohly2WmQp5FDi5JFejuZb2t8dMUbngfDC+rK4hCWp743PObo1yHdTC5mcAaFO+6FhcZwiww8AVFQT2D1Bvi/1r9ymbfO69y4g/bG6b/rWnbwWPALwGnU3CNUajZ3vBZ8BfrwEW+dZ7fkBYhr+RVzRCAOhZEIGSlfqv87pOSQAcajCY39X6Zzj1/qLNWsxhDjgTZS58IlcE28k3P+arNmgIxox1h1X+ofgAAF+lBmqxJqEFsmUwIv+T7YIFmxqJmE7ZGX/EX4556o1lt09iHu1zRznl6OK5q7FgHXQtXiMh0CM69px2lbqZrGGxEqImaV7G6+uJQCJXtYoi0aKns8WaKOOwp82UORUcW6IQChlsQ9dCIr1u9nizuCyauohN9tgj9IfrNAR+E4TwXtPZQ2rzpkGAEPCRnGOxNjUgmt0eAI5BqvbILSBvGQP/urFMN8NzRnpMfIe9AXp8QfmCn4GtwpWrfqioya7FDaOJIivyA6McIuxlBxALLf+bL0I7PJUykfob3NJoPwknXG9orO/93E2v1D9iXw8IhAvRZHD9FOTHY/tljKXyC68hZwYl8WdoT/kg8rHcGNRRZ6hMf3xn0gFmks8tOI1a6gdurG2ldcjPUYQpD5+g4XmIWHWK/UcJ2Zxcs3UCCEhAExOnTZH1eIVYtvVEPcUKtbeR7lu6GFLjE6VnzKFPYIWmRrJdqicpuTUBO6dqR6GIdSIZDkl04Xw6odaqPD21yFnOB4SN4HtMcNHoXJyRdGPoXoNWBwhzmCAhrxan/CfEWLjxlERUzmyt13NcnkXkkIUio99aT5GY1ivK7aAnEcZacfP5xknAEjjrSPSa53ySZlrmzZ57HHXS4So10FpJkbLp0PQRdlKebH3DQSrthLbjP19S1LgqjVcF3scfLOQFXfbACsih9qzxV3pfmVraE3DlfcoPdZtPI+Y+u7t68sRXKT0Kxzfu4g3beEDZjo7oWadmPyZqYWEH9YmENaobXXvDYvNKf2V4ApF5HWwSLxjMJB8/4V//xMGNKlUaj0X2F3X6uOqsxHxbkAz51Qv1zxrob09rrxmpHKKhKvFUNtaKlqYmnFHlH0O3kVN0gJSRwT1bZbryuzIpPO+vp6IHCWENwOIHzeOPsPDgsF6elSgMPyJtBgA5fPFYkl1BlnyijpYtMatTMlb+TYNSiazOrTKsUmlTl+JBzRnPX1k0OAsz9kmtzEqVdfyuECaRbNIFwMRURcs21mD2XiMPLXzygIRy/mVVk4mp+mBYcNWJ6PcPc3GcX40nAV7e+vhlcngQSVQCcf1RmTS/yel1zyfxQTjv7yTeLx6CXTCVr9PfpxkJ7j9MUJms6HlqMDxK5Nq/dLQQMCsvjhtdfRQv9wHqw7MwD+wkHttThC7abSV5m67YJVPi+wvAQrKkpiFNXf2tHUqfHnl7lP5+qyplokzlqg8q9sHCsKmP2gqHV9O0k9d6JZVfx8/CT+g2H9zS+KKn4zLHi4OzsqhGoRvYQLlFXfHtHEUcqUv1sHvMCJzItaN7kwiheJKpUd/58ZpwgniNX2rrU4WHaz94X9bGDzJYti653pLc6fqgRdLr5K9YqFEMI6EQp2OBg0aeY5Wx5QC3+vzAlI6R8XuLRk/4KwDOcXg8sY9kQRuKopQCfHZkDEXh4fjuAt10/Oq0BywsNjR4P+arhCiyNiMvHWW+8CBmyvRNQrKuqJA5Y9TVc5BVWCuin+Zl0aCQN0+8TgR/blC0AglSu7fvNNfGnutroQ83Wv5aQsfpIakh/pk7fzHVZf4QeOmWzTsHQlk8P5vx/sFKtFs7xgjuQlNX0puKTY7D4SKQzJxnJKdmkhUMtHPv45dJKGUM6OauZ6bt2gzWQzorCED1YSDbKcXx5mIFujhxh7Y7GjZ09XlG4gJwGKhLcNeIeWz7krHUDSukrgLQsdXgluOtRNc5ysgyGCfvFFDwm7tQ/DCgq2furayS4Uic+ThZ33Gt0nKLrKfy4IXEoIaKV6YILmW9occ5gmNyTgLpq89h4orEISMvsLI3hH0LpxPOq9Z2R1SVBVuztvBdHW7XO2nOXOa63s4DD+MMkMZblTRIO5RCbg3Qwhj1yDBSxQF3pG4yOOqY0bxDH30y1p2TE0TDj8Wp+wwyop/+pteDouxwbPUC6XrbjdS3PfxopvR3BN0herbcPMGwQm5uj6DO3qpv9gxuG4WBmPIpNYV5X2CBK2MMZKFvXkmtxaJokCpxDalpsYx9NAWzH+yhy7zekND4DtYXi0ywkOUoqzak3pMFEsj2KD38dAED5II/T/ChUEE5no4R2dgdtIammsOby27EWS1lGUQ6vFVqGknGdkq4PHmzBo5gZWXTMe35nmgdMYwXrrW8psune7HNkyCoYHu+ZxDQIqoOjtJDHcPJQ6b+C85bLSritQ6ANWRoV0TA1S/bp7ko2e1v2gcuYtKedBuCaZ801Q5VYrCwRJ1VBJy10yxwtLOSt6V26sdnvVB11qvemrpIOGmbrRWjEVt6HbuyRRKAasv1Qjbn5CjfVnoOpjGlibY25NGtzWpPP0QF5D4hpmHd2y+La89oo7K5BZg2ig9t5yeLMgwy2uhod+mHwXSIkD7jIG4+gfglffyu/X6+bCb9mZxxjeyKNm8NgP2XufBuWOoxhMT+wJeV1TckXXHCKehLYIaVl+5BjrNJc+JhgZzb5ri8UxsIAgO02OJ2TNo6wnk6rl3SHOwTsaaMKgmeYRGl1BPzX/Ka6/kyg7NahG6LxDfgO/upS7QmPopvtXRulx9on8IdMvAjZyYFV7l+9BZq1HjxxIZudS7boobEGrArhSOuRTHrSaoaXIR8GPWpk/xZcEDzVMCu0j8XW0PWxN3YtYk6ZlzmRgTAgBW68XSj7bLqOtrZu9GDwBhCyZVUNfxt/Q3bEsEm9gOm8wl7TdVBkcT8R/i2v6gVCJFSQTLgo48w6lvGD4RQiQ5eQrKcRKgvjiFEbydxEYgwDUeAFXIuba4cuBrkHk/AdUBXDIQ7WpEOcW76v/dkeT+T5rZBt/QdTsNnQuOR0JKMSTSxmUeWwj0KJOySLvksJLTjD5UN31E7QwC9SCRp7kaD2wRQ3UsOeS754iyVxIYoJ6jPG0jjcGlSR4iGqjDHf3lpiIQbob6A0elKIuaGhLoNh4M2Ey0UuZPxsKBXonuxYN0jdGTqCV45Tpfav18bbdionNELZe140EAzxm/WtW0DSQ3x6dmg4KXxioku23Hlr/jeBnxqR5mNlWPoKlmLWZKdw6a4wF6+T0BXDoV+8B6CGOp15VUzmjy66a6wv0+5o0JG20wrEg4HGrQPZdd+MSy8oUieZqjpdCHCKOrW6xY2bj3hWBtAgb8uqxhuDpLLrLmhxBezCWdW5DoQWMBeI0eNBLFUb8YOt3WAtOWvR9jlYwPBu0LON/sFwEEUk6u/Sj4X0pQgP9/iZkmu6D85p5HLiLB49WaF40cpy7YFFd7rLNUYBfnBa6tqpVYT10QzfTLYRpPAcUbpLpguT9MjKSNp0j0Efx7dgH+3UFxwcWkC+qA2SY15VY6TdoUQHtI+u5+b3TLmK2IOQrtgtJYBAvq+GKdPinGOraLQpMFghKE75Z2MJw8KVherpulr14OG8rO+kh96fCRuESZCY2JB75xY5Ii5+XerRv8y7MHsHer0ennlRKWcgMS2yCbsOcenbftuQsbSAW3ly8XoZL2Curll93PBjjDeDX0I8bWLININjtOdbS1FJtssIBeqDn0BYZ3H/b67cl8ydVAwGDco34hwYPH9v9Br5oINLOaCg3vFJYpYD1dUix2tz8S3EW+AalQar9YSsg4yMMM6HLZCA0/Qe5DSK0h3rpir8FVxqKSP3QUyhBSC0PSMBFFDQL+Wd9jby9UN/PHVkI8v3+kvL7E5zcCBV5/u/0AnA9BBupND+K3oIKr8YeTg460n7BzzCUrRfUKIai0OX7lCRopt0fPhs5RVyTPctxms5fwDhmvAZtkbANxm8K/t+7r+bnfXeFajBf8dbROQ0rX0J+x2rZ223tloYqxUOu/Qmuc+PmA4Mto7UyQJTBGFKM6FAmpE3dpxHwvYadNmjz0Tq90Stgzhvxgqap7p6a6/8MEqTmsAwIfAeQtAB52n5LeVIOOCKxR5iUEZBHu0hD4GetzI5zSZDa6XNGmqlzx66jsPGqtke5rEIHLMQ/B1oXbBqeOAeqmEiv/tEZ0OgLxhBSGUwsqX3dW/zR+J6P+hVgvtv/PybW+bCj9/8M41gEBhrljer5Lc0gBDhSzbmplkyRCv7wyUB66doI+nDBYTxp8dWyHAA88WRM0fIl0/JVNqhURKzUjciwQ80wegm3o1dc8DzyKhGI31OK5fAslL1R3SkT4I+nUZa8iT/AkaXE2bx/2yQVdr76Us8s1FdluQnha0SQHD5s89kT+Bqw4kCcQRD0nbjPllP1CS0ldO7CUNk1Pjhk5fxBak1aj7qKzBlmHihO4HAhSHisAnFsJ3/GuQeIje/RKcXU/bMKqgSXhCAi2qCjIzNRoEowQ+V+tK3q5BAgTYaY3EkJSiCqQqpnfaA5Z91+nufnuWDRaWKsBeeH9HYW3EtlAmggJ2y6twfJTUd1Emfp6MeswgRRrfcUiLFgyWjlamqiEVc+Oa5M7kUZRUyj7jqODBGStnFpJtbLTZSagNZOQQ9aLM05geMhGjoDn2LUKh/SxbYrMY9/BymPvdA+NqeJ6l4JFFAtHP7hOdfy/Ij9zP04/kMlsPeo5aMhZDbjg5dm2pCmzAaWG2I7ByhhgkBNneTVQlK8ap361f7gN/V6r+cZ3tktVxZ3sg/sr3JvJqPE+eVpG+BWcI98KHGgCDPl/dYviXGhsx/TS+jmq5hVMVmHmsuXMnNutLbP/5L6zf/vUKFmK3W/MbyswMirykT6mCKdEhnUVvY4tVLs+kKwJv33oab238XfALz+YaCyTzEUo5Zh0Kq4XHxHmogfh3KtHIUXeM7ErHFQ1yOC0uNcHKEmOBhc6Ie0zDhVVlXC4thIK9fjivkI79wLzksbmz1CrOgSC6588WlbKAie8kZb72JfUUBvHSa3c1C5t0g9mAHuy0Hn7bwHJeMj0r7OoYLaxQV9hniXwd8TnpdEfpd2X3sF0HLNw8TWR6rhVfFoJBMX4PjtC0YnqHsYLWfAwBP6dShBW4NfhoysE7mlzo7kycs6dda0qkxMjjrgDaUg4dPQe6edC2r4HL/X6linI77+D438bFiq3IVrcG2hNazr480GgN7BLUFY0d6yBD/F3MmVi1dYr2cey6wfM/daBmgAqj0aTPTKYTY1Nj1ZhMBnR3zuU7Bk723O/8nyLtB+8roHWd5pqwGNSdu/TW5ltPOznslAbbfu0IFpTvdXp6samEurlG/+8XVemH33eFTbHNT83V1oftfJy8iume4oyad+KEZfYcpXDgFh/xz9R6Nx3JZMXXPeEWsdAIQRWIS8Gz92FauTIraKu0xm7db6KGg7m8N8w4+Z3lhMTp7IVb5qvh67O2+cNmYfo9FBB2Sd4iMPo9rw2NnGodFW53GlmZ/9J0T6UX6YkZbJGT+vAhzy2gcRDaQJRw7MCElaBWO2BKt5OZp27vfwrrWpiuDUnfJ9Y/VvE05yMgjFjSkfrfTJcApsChTKYgAfLlmOS8WcVLi2X60cz7t7fetzYdVGs7zv+0dvfw9shPawIDx1cDdKFe7UpoK2FsZMM4HG2+dlymnWg6wSn1Oqn5eu3wWFBr/XvzdgOjS2C/OFomrj5VelC2EUnKvg/xxJyWhLdBKNCK4t/45Sp6dc4EtBQhKlwAqytNYSOOBgnaHbUm6oGKSDFe25nUUEVHNFUgNNNHYzdmJSBL5hzWR9ZI3fDcA790zuhRTsAYkgPLkI6a8f68XAEbSUU/8GWnSCkv0CH6G5XIlx2Kjo0cxsqK4tuaAC6m11t7S6txWiMZFuTyb1twJail1pPq1wHeCP5jxmuDPzw4q2kNkeK8KJodTxz82SS5ODiAADiIpP54g+OLtO5zQXxJGx4JkgXbyYhyTR4fDA1+IkZanVw2QH0jmbD9jSyM9c/V3B4XM2LljOjupGHr8SoXTeWOmidISHrH16j2qyMTa7Ozlh/qgbAS1ElrtGfpm89080L6Km/4h+KXD5dTVKUeqxidczDauA1zMPkc6zOEH7XFGD9nYr5rkY4ACFCuyCalh6tibW0kQVLNR2/dyZVA1b25tJ2lz2l00jO3ReMykJfVPeioDRLYgG8z5pZo0eHY1IB1F6X3Z/+0s/TSDSXV0DpOPH+pBSm7AHrmkRiBzJjV9oum7xzjDr0WXTHQhWJ27Jvio/MElyzrP1f8DY1lPCV0GS2ZZ2QVN+7y+Qqb2GnVRHVxFahvvLTQY2CRbq0y3ElJAD47TvWOQDWfrrcVC4xr8G5bMaYx3bG+CWPo+K2d9Q63g/zHpsg7opSwruVOG+YNNXPXkzEPhewYxT7sBcjKWMU/0H1Vd2qXxGQMaLTmHaT0fVoEEX/9iUDYosMe7OXtP5fTDGgn4SLlh8Tnp1ucWRCJRTAKl06bBIfDX5am/Rtca+055FvWIxM3SnOj2G/s9RDSYTvToQM6RsXa0YTDdwS0CURJ5kt4BJRmtnhBUGChoqcEdkLQN0sh5gFBBPSmZXpE2K5uve4Cw2sj3AJXXW4vBnzWKQnrFKL5vfOETQRFVbX7rgWNsscEBgDzck1qYX+DZVw8ZbLoxZkPSuJogx9vNnNs9iMvbDp3Cw/rHbIBGFtN457D+rhT2bSaPHMu+1np4WDSI7K2V1OhYl2mQ9F2DtxTIF8U8gTPmGmS7m5zMI1xaYwnvleMCJa9TRyvS93bwq+hBQiTXa+iOajgIPetHf86SWEyfP+UK7cf/EN0To8Wrp/oUDznvbPiFLe5i3SD5ouB0abItwlapwOni/iPlHyC/eHSwd4IvnBgO0/szjUnDsDZ9LW5PIc2+NfwNRDYhmbWylzDPQ3JC40sI/CsWj9nqqT+grrkpJV8YZsPaFM2yNLArQpS7eVP2Voa39l16qeDFEWW6EnYBAzGHu88PiIOOvgDBOllwxNSUNnVcWEknIH+HjO6UsCbOvzJmNmWp7lfMy7EVYIhDdgBewR/mToaEo3XZbq6lRm6vqhBM2RZgBw73xSsucMald2GsxsTq02w5T3VQutfLFXm0WuqL0azDBZNQovCswFh78pfLoveOpUJsrzQiqjYUa0v90WNz1bC9lOy/fVk0uJrIAuEOz5Wgw0OCNh2bo1gZlpQU0wj9boDcFF0iDc03sZ74xIccteiKhJ8SPdURAa8dRK1mbk90HB6UpbypmnqeNoDvuUrSpct16U7nwtMw/bDvOlbUoWZ64fKN3CC3m3QVhJ5KtntQMLiN3BbtZ32+/nEYywdE92api6mElmu/M3leffHb9YfaSI+CoSTH+pHfxvML//9dak96u8c2AGICDLaKgQO4unsxOBYEzPZVDNuyAMocKftF6DAWIMPeFWmCgzzK7SeHCP7lCy42oU+GsY02vf3QsgZXWPjhiu8tZB5yZI5ibS8L2cST8mx8JYR9jYm32Wx6d5zZ+1Rr+esK9PSLwxbPujh8ZlGubIVakZwsW3dRS85jhM16tK4RnA4GbDdAvrG66RpBsEa/ttLehBSsYwvtB5uD+ICW3w/eCe8J6KfzKLfpAwxVcwmgKy8ZZRBiFWbpLv62Za9wE1hnVK7ZeIaYezbgi+4uFYsutZM67spN8ZKY15U44/JbMjNSJVs8tIBKdjb/iftXP2dgSVsw9ePXPQGx1zY8XRk5zH/InsZk8fP3lPGerzv4/LluTznRr0JYrlqBIXeerzTNsgkntxyKqnOh9csF0U5TezJ1W3Qp9xESlN03MlY+pGX414Zo2E7oXy7l2j07/+MJqiNgPF/hj95QvOiyvIs7QY6zRZimRqOG7yHFgJJcgFeWH3ggE12E8Sq3otwAn6kaAwOxcpzZ/Uk9nJbVtpNhtireOADc/0Oq3YKWyLKclrHuANnhxuJXVSZGCxx8bYsoa1VmwNz1W3qBL4ChpcP7YyjXGgQgY8SHmBJKNERqtfs4omBHrTQcGh+L0GMOQpcOSpzUXZgnSdKxtf+BNDCx9T7fMBfcVA/+66H/v57izAh69PPhmz8xiPTIZhhzNJnmrVxi/+7HpX29xssIlEigdXYdDeUKIBYRJ5XSnbWgTjl0v/mo7pUM12ilsJC3Ge7xvgPdS9gZgMmRALbcqBXbhx8LfDRmavXf2P4gF2DSUBLIV8buGFcxW+ldHxcvdv4txpSeypK/kVj4yOqaWv/aog5JJLheun9LAxkXM1ZAoUAvJm47+rtLLjrDlbT7Abqn44FZPqK0XT+PlzeK82wMcAfgYY2O/Zg4H5yIfjzI/RuEAAAQX0GeykUVLN9yR3oq8sUHWho4wA3cNVGrwTISBemMQU1SufQp2pKUibrLyY8tA3hPf0bIUwkb2a4agkDt4pueDbVZ8qLUREEoMh7gVQ8KpcOrptu5qoXA51R5QghEtNIyXmxatZhqSu6r1wq7VjEORT0JfjTfQlTI9xz9Rc4UD1VGmY3W/kUEQyA0QRj8StN3NQa0Yh8knVGbJG6jzlDum71ccQTxXh5PYpe0PqvXI39UAw/kFkoxnlpQ53S1DQfT1ceaeAf0t3TFe7zWzvtCBW4F32WoS2ol/TXN3hs85CwRbGC6hEBxZtPZYuz2xRCZyNodE+1ckh9/P7xYanoQ+vTiHXNS14rqLRIyQE81kT063pRBXe08Oi2a7B3w6ZCyAnI9YDYORW6Ar3grrpwBf4uFPemogXAlPQnTi02suBgWYcdcdzAkyarD3RAxHYkh5Bj5gp/tKs9equ2L2B2yZ2kWQ31Ka2tHBADKDx77CqhbHFnxjVv4I8QVi73uRmjYLTZwmoq1Wn3+B1z9mDyYaZWE8PCTW6M/gdSooynKe7kdMI/JnF46WF2MH5bQlPmF+YBsIjJOBm7BrpnFd4O0IRtDagF9cxHKxuM77T9jZHXwAgi/hvdKLQyAKP7kXBH+YyOLCvxY2IOUE0gLxrKSsaX8drdqO0OxBo41Nj+EArBQrG7PbrPwrHMiXkGw8urFub1jCps+LnaPs3c/UwVR+ko2X2qKlFHAU+WW0f3IJDNaJPqeeToPRYNPJum0+op2lm4SorSKQXJmqMBeTTsJjqCmyJmhtZzLflRajDmxFKWmmeiYK01sfaaQw/RCaPibQVozry+KzPW7nAz2UpvTGOeIl8TPbTqzj3hR4lE8Y9MZiGuTVqy/koi2ttdm1pHUrvqsuSnPueEHKj2i1YMc5wrcbB0aFF6mxi2Td2QJsKaqMT6fkkBUx4nxZ4Kc6U/DhHcH6meVcCKT9WPb3qFjwCB7++Ej9tK0VTqoKExn0yR6d1c4xYpO2bjN0Yg3t6LyNNiAH5GgYjS2jH9B9IjzLRBhQkf0PvUIEpFRvVL6weuplAX/G7IYDO+rzM//MBDgLVXx6VwccYolMkZmmO9bO6QoIFlop/otXiuw/HYaRZ3fbsPQ27wJpgThjz5V7LQ5+FN+tj2ZMwOPsIIlOL5SwVWxXHpvajatT+OtD6i5AxI4c0rZk1egEEsJOTesRloCbTjqI+WZsfhZuvlrFteocwUZ9PmHcPi/6Xiov9nPiPEAPI/ute0vt+2q9S4GGhc3iCQ1CYyFgY8Cy8DgUKFsXR2tI7R/fRVsJEUSkh9xizo+4joSM2KjJ8hw3WSzoWV/KLJok0ehUywbw3wl9JnVvYfTc+QEf+xWHFSe/WuZvG+N8DMa9BmrrOod0G5ovsV8GWlnzkHQyR7MXFUxtmvTybMEmqsYlGAXjVMHw+qyiag2S6J/JWyQxzjCqbFk5uYZe624yKIKm6FXQ9Q19f4QK3kHizyaB7cE9xlbJLx8TwYsJTC21L7pB1FK5nAL5rfa/nXl8mN7eRPSA+V1M1UymjrqBXQabQiNdkE4N/iaAy68AoSseQd8Y4cxlYBKwvxsYE1sxHye4wudUfv8jksIDrYGs0v7PZ/J7yPuxIRWY2Sgk9df255tA3VUVOhXIb6skfhfQKO4zicRXKr7MWrdW7tMSB5wGvjatmJEJ/obybQNh41ASja/q/+2urCwQVh16Lm029XWlOr+OWs/oJB9CZmBYrgGnOkkTqWq1kgLXdCrFgn/9PBtTTL0STkIg8ciKehvtrGUYVwoG0j7ddEn/RZQxUm4eUDG4gC/FC2QYeRpvkiqTpVJ07gXF1p+l2LeeNOYzh0xLSGGerp9EWkA6xQNa2VIuJk9kFQNXukN5LGIXGnlhP+tYdUsTwjTcqV+OytxheCnp2YY2R5r112OwhXynBvffkg+yGwbklSWAU49HsJHNzusJeGWbwvYfLmTCI83U8wqK6up/grmg0eTUoq3B+L1hdd1DwJgcG6eWVBeZe+y1jToTlFKUtv2NPaSEt9khiG5qy/SUwtF+9+B88O8349TIrz5spMVqTM3M3jXrB6jsHjABLdvFctkgQDU7NP2KAYu1+x1cdLZ2VmSyjSyq1Xu3zb8GNIXJph9LLXE3P+clcnQ1SS+JQKzcxsrg45AZDj8whceoXiWO6kzd97bD4cfar1TUiNVIq0q2Y0Pk8XNoFz2PHgTZHKG0YOEW+bOg8B4I9dvt+baXL3VHbBKZhpSZhXzAjEb+W2bX0je/JOAEO2hbUxsbmRbo+58k2X66QFAK3HLqePEX3nyFALBcQYSUt/2AymBwt2Gmwhb8jwMSbfX7LqJDiX2pSnZFA63BWPyrsT+n7EpfbGx50kJW7hULnva5bwdhus0KNqAOA0/fwfEuUBbK8VIMwdIn7z3nBEKiSR2lyZGxNHG1Bn02nrq90MgosmuKMx8XBnYwk7ASX8/HN2PlvnjVfUW8pBO5RqfGWoAc1jWuVasGPZhqSKNV5LV12uIEjuT9LNFWWs0kTCk9qSKbdv4A2Bpp42flyYECpcAIKh5yu/FjF+yhAIMI07DTRIKNVnRcc2Ji/AATzfdnpkyLIXqJ1NxCndjVdaZD7Q8lSBL83/ECh18L9UQaqOS26X3Fbe1CEfp/1IVV/4ltkpjD1Q/L8AOEj+DFWtKVDGqwSJaFL/Y2fSWxrYX4nyjuczlt3wUpTPpBv3qnNJA5GTSW2MiELE23BzMIzS4O+ow/KimuUjtgrw3kgqBjwfg7s1Ck2IiHpcCWkWWj+ZUqMZB8hsexbjeT0gOH1KiYLWOU3cX7wtPKHnDJuI+sz+zLzGNafHfEouWKcZ97Qd/Jx+gstSw8nDR+jBXqfcCFlv5PjxYANtN6zQ92jFPXxnX5oKyfGnGbzcrcgtnUOtde7e5SxGaj9qoHCj+xiS9DyR12tsh0j+FeAUBCDe2/KP+mWm5av/ugIp3n3KZ+9g3IVC8vG3LDPMNeygtKT4plRsb4qXwFyLMGwIBEBF+5u2WfHOEhvsPF1O8iLBtI3/njGn1JqvX78eUrxfTkEGUvAOZwvt9a584rQrE0DRlf914X7dgl6Lc39LsguUdGnWBLn3kE3syy3MAeiQNdpKJ935XoYt3ALMtXI1VuWoV9IhhqW7kz//FI91mKNjMVHFjUo92lpQEkyRsnkLPKk/yd7ggZherLtEhp0nkS4D7gAXtVKmju5Z/WXpTvO/FONyqfPm6Ca4m0bR+LO8CclZItAwv1MOw0V3rQQxsStEoIfzsp/oMKkTT3ncU/XVEhgbH78qrPe2Q6OmkmzAt7I98tiC+Xw5ond1rTyNXm4iCJR5jnneAX5gA+tFZkGK5iGOfB9QlMiWkMd85qWelwn/51h8egQVgezsLGRxbToOuY9PlrQY0sVG5cVaQ1VILQCafSMk9StZLaAoK/M4gSsvdiMK1MpAJB6UU4NHxtmx0bFtcKump0VH6XIlYR8tH1nSxyMw2SWf0SFnkp2cMoo/++W78WyxmpnpJMdCKFdcpb0nPQ0bSQZqjAiZWSPy+boCFIOVkTwlFO6Lv+rR+NDiL/i+VJkEI2lMyZaaPt2eq9WCk5SY/dOyQ+td7rGU1jT4TS1/tDmQBcj34Iber1OaRGVQVWtT94RpBn3/1WKV7SHkNBw3Ymjgm05WEjULyCOJs9ejX4DeQkkpr0krqHJ9B3eIVFCvVtgnbybOselJkuHo6l1ndg+1L0/p+vzmYiqg1tD53q54K83CxOff302WqR78sMGMAZizE2wu3WNgomzD11T5FNi5JzoCpWabO0uHoPkwe3JMbwzn/R9n+zk3caZ8CZ0aBWEtNpWdF7VcfON87if3ZzzQQ71iMV3m023Qm5CZwIEvAPx7FyFbnEGHZcsRQXkCoGw+lAfAVDZzqfT+00FsVyLzNAQQC98JYJA0mfc60IlgFSVW9Yx3QmXzDcEuaquzwkrilU2Q9XHDExPAu1dBVAaBzQm+f5cvG0ofpeNZUTgrrZ1aVCzJiufc9GkdGoh3u/qkOCjzXD6iPE17badc1oYegU0qvVHGwuVJCM2tYNqSpHvblTAkPZ/kCdbM+HFgCecJa/BU2eLkgTiEAtW8xrvgBwPraOg0d483QHeQiUMX845c+Hzx4S7I3itg/mXeCpkIVhKWu+q9wWwG9i9phGNAmcCkq2dASFoDcr+vuGzqxT+SaM/7sILJ1AELoW/lUNy07gL82VdHTVteRX8uMb1GPyEhgoMi3pkbFOgQTWIYqD0mGgB/woea/2FeX5KMIuPpG4HqKnwQByTLxSR+eaSeOO4BvD/ubOyAuF2er0bbYN08s6Uxy+4kDZRxWijfpsfnXgiM9c9aKwUp8L+u7X1eA/PauOwPY7iCgDh6Fhb37AaRLUigyLLcYTAraKpv2UTSy7AIKpmgtDi1nxcnjd72e2AQbvycfn1mnuwg7CtJIAi/uWX6oQ0t7630tWqwaQSwMLTLHXaN8mtG4kQ0nJ2PidALkNfIaFaUw+oMhtdmZVE2Siws2yXPEqSaJxPbatQkVJrxktLc3cdph75FZT3tKiv5mpIkeOXWfVyWCcd0TwMIqe0yyOpJH0ObGRA5KqW7Cc9EeApYJM8ekShaXRyfSP7vvfVAj2mTv7Bl+YQKZgyS1GePTXdyStKsxLYlKws28AOhyOBlI3gYY3pGeZi6xpNc+uOeMb4Rwi5yot4AtZrA0s7PDKolzZSvdAR5/x9dSMFs3QObODUsFg4CzNgTk6irvYm61cCaR/DOUSBzJEub12p4up3sLNAMTrNUl2ijK8y1pEM6bRBWWdwL6mcGreRug5KaP2G4SrGo6j8HWQtxfCUqhPPFq86a3DGpC4Qd7tJmwd1HIAvUclpxCHGKNnuJM+Ym90MJna2AIJTGdnVQDlQZTJ0PRM3SMH3iwtoSba7CBENcMeB75abiOXrUhUXuZYZawuL1G391D3gh3WFfRqWXhthJzv/S7UlwTccfJI2T9oX5askt2g3fXAzV44uoA3suDZwfloN+/oPICFfgocscg66j3OE635HKRfJx0/BpyLQhnalnhJeeVcGLeOhzlPNZ1mWJ8oZBkdVhM+9PMrQBJckaHOz4Saqd3IOgKIFuvs4tVqJUvx6aoLWQs2GghEeM6+y/4CYUGddv4rmGXE41Yf6J1YL6/x4D9HaXfRn5cX2cP+8BmDLbD2p/LwFO9uCjj4/tIoJ4e/JzmHo0uaIM2xXfikg3x4oi4QOaVWG9c7gwN0P7mssXD5BoiIYFdLnZ61WzlHhCGsonnhHRQGokdmuPhLIOftm5yR8TAmgBltz8+uKepqeT1zQlpdZCYPCyqIS1MYfwVfmBwI1T/1FvnCkOmRHYekDlGi5g3fSvBYxq6lKbUi3UB8N1uR3+BOvixDeseTaZ3umQpUi2mUD2YJK4pjkkcDeAXOY+cBw2VBGaqyX2vZ3C5qhX4WX+xXbvQz/YjVx8IzOrftM9lTYKDYU3GSKOinbcbAYDmT/lLSWugPKEol4kwhWqVdwgFjL67hE2Xf9o/kdFICygz1jQF1n+m9mxObxbDtdH70QAACj8Bnul0RX+AkaSesHlvkd2D30lYLboXUWlYTrc+yn9Jzxw2CpsdKidgIDUbCiW6TJpFOcXbrpeB2z7uoj5t95ZOT+N0QFf8nCZiaUxTN6sUaZ6xTeQziwURcSpR0p1PWYkUjsUnAJhMkThlFvXljdNOMZElh8yKIPm/oy+lJn6vAmDTDnGjaNKfcuIabYk3f82if6Zb4YqKPjhaM1aNghy/AUx6mHK/wfOZN6QAQ2MnHsA2vNyopJlqE/WJnd8JMp+lwuJrUNJqj59YZLzu8Tt2I+0h+0dM//tznTjuDYlkuOEM4pgW/Ifr7xf8rnvnjfjVb+nFjsw5QpqICctUUcdkyrb3BcS6NeBUSzesqonU0aN++VzaUVNVifm0vlu+fhsnkLhVBU9PupQTc9AoDY+vinKVDvCHxjPFKNVcx5ya3enMyYZNCnosRG3cH4zPUMUZg9qzbDXDzfyxV6+Lg6I27lmd1fWIEQCsOXaTVG33Bwjuz9omoRDd2s1rwY/rJhKdycktVpd3fXnwVYd6FP4Jl6XJ/rnI8UN6+v9KwII+8m8s0idL6TFxr+H8lXFlPu31yoZRsfwHvzUTshDmacbx16i1EjoOoFt6eIkmx7EzarOBEvijp9Lmzf+6+RxJg9a30tM0KcjAIRNBx/mdis4aDavBNN18UYsNUstCv4PLAbe8ghrKMP3zNeukMMzZreA9AFPNyb0G1ZeE3w1//CGG+TCr7j77v+5yvHnnNHFXzq4HoQ0z8l29hBNd6G3mrXnbfs0ysSj3AWWICN1i++o0Bi2/vfFKta4qBLuLiSAT3Fij3/JdJxm2ep8J3JFmVxCOaVCZsL1XtFLRtwQSSMf2O0IaBAUIOtocwe7qq7a0sul5E5DIqFgd+QlNUlrCyClwmU804T6+v/HSET/TfTxn2+W6wGD+GL0Bcq8zB22yYV0CDgiFmypkR7LwBw7wO77n0+HAgg4e/zpN/VpiPi6lRVo8P57IG15KqIPSu8lf3U3u+oEfiT8hba8e1rk1nvZholMCyIxrgev6W1BrUxnZYZtM63PfHqllXYC1Ul7zUPe/NFX3O10SnDrXje+5pyOtdx9zfQziBCpk+HKQbhFTAXVj/zW/LIFuPvkk2pIqLUzyNAvV9cxI6cPYsWt5aHi+2noGzZy6PwMELnZtJNiLBXJ0dh+zd7DkUi3a/oD4m8qW8TrxBcwDFThgqfx2DF5ypPwHFLdIMGYWmbl0DS1oNjmroI+JsPDdo599m+luFWBpcl/5yHMKDlfQwy75q8prUpBbMeok61TFT2vLmtxVA7q5PMEv0uQxycszrZBMO+EiK3DIhNrXkz50ziU9apuciGTXnjy3ahPXbNZJuvalrv5AfywUmOnMv4GKrSeROLowtwMuLUW9QsKRpyI0Oa+LrhMHa5sz8A3tGE984/t6C5l8efibxsw+quQwcZBEDmu5VHPIoi2r/5UzMAlPQOQg5JV/yWCkrr6MzzBpYsmwOWCVIcjsrj0mfkKfFQOPQqXDEGEFSeJFMDgovE7D7QF9IPFs4rPVc4dIwtCxvhYzthxQg4KtTLUnOmChZJpaUSTIQj6SykcQ2o1FYe1najCxrNZVO5onqm5DnJMvxz/vmg01SHbIuuD7N/0eam5CGHpFla+ewNQZVPWXzhsJ2ThpjvvpY8B+shuxMlu4/ZFuxbIZJ1QeV21uZcXSgiXMP/8R0Ru4I5IMy1nejUNwdcmX8e605Ga5a6pgmHK3Dde/01wwzLNHENKzfA6BQ29fBRtgaa0q0i91V3Ma97QE8DCcCXRRrKgehvjF1R7Xxm6hbsEcbNtN7wQhT+xa1nseMpkJeVPaXNEYunagiqxvc4biqmYrPGtsGeMJX9QGpBJmfd0LRG9SbnWJmiQrKOxgiY3XscDUVQkjR0XgGXohivf7VhL1cLaQD2vQFxPIQd8sCURHOgS/zomucaw4IPOmryILT+V0Y+XQ/nKN6EPTYH4MKFFfBWGpBwZT/KWVLbhmyZe7zSN2/P8YbwK+mOVKORUj9/wZlMua5ciPwWfP+0cK/CLDnE5MRuJzqwkhhDgnlQYFjZYYiwxh+hPtT4ZxF3DtIPchYu/zKmzzwl5uLnGfLSSj+RzuY427pGQpMjGUmWUQbkSodP0NfTRwIX0FAunSRzCB5ItTw+xEr3hEonb4f3HMUH85I8x88K3lLGDMsjTRrxMOazMUAA8lAbcAsdykTICZmm6sc1IIRkSfX/N1v12PJDncyJE8TTbwc+7IxFqBBLdN/vMTM+4ebsLabRAO8gMiDPU+yz7jrv5qLcRHNOiPei5eeSATBAv9yN67AtwxQiv2TyCbzrJT3jySv1+KS9k+Dm0nV8P78IM2uw75ojjaUwigLCq/b5Al5x0zwaxD+qJsfVjtR1yG83Gp9JWECAOsTkuzcVyzsOs1PJsawFYPcAJo7ZJZP9WRd6ayyasR3anIdkmELg+LcIoiPgI3buzU0eCa+Ikhw8mukMn6xSWQmgx55LzlbM008NY81MWbHKlPTEa89e5tk2/k3VMHqzose/yU4cZv+80gvJD/RMO1LZCNDk9q9Ked//GsiNt8iiCTCf7lHIy8G6raE86KzZyb2V7KnnwwXkjVRA/Imjg/R1PtCVsV0+IgJk+L6PgM93DKqRAHK/qI5s5bn9IZNrZfvkgIgFZSuKU4AxqAKsjbDyd9pWSd0micMVmxiB1Kh982tWDmGOgueveI6KH1rNuxn/0G44B0yK43VfyPDUYF9ZcqVHtlvN3RUUiBnRGLnzSoBlNzehPmhl0CpsApoxSMXlFpaXjfdRfidoDVWt9KvjiRGxYjZB7H9mtsLqNsStF3AxDlb3eE98WcEXXDxteFWfCrBSluJn1dAIifIy0SyGUjolDDaZ858tff3lidBHdE+4MWo8p6YXrZC9YLfJHoC4CLjc8w+9Mq2ozyl8unSQfP2fU3mgISPxwoK/jgOhiskstIRlgugbUS5+SfGE2cT626WuzA7pqBENsc+y1bfy9yQpwtnYuYDfl9B/2kZIgKuynu60bz1y0Hmec59sH1pwkmEYAPPc/pMbYqLgYVF7ZwwPYUhgq9AAtxUeTdNRV1RSfAdB8Pdib/HkZ6vaFbtZDuvKTQsGrMnf0j89WGPeTyID6Fl7i0cYKC0PkPtXjEgGfGCP92Al5VHV72uOPKKGmTVqDRd2k1mCypYDWadQJ885aypfs1KI04qmP2q5EVMmZ/gEFKWZ/ibRN3DqOt4HEp55BrCdPtBPwYRSo7PIUNIBIJkAz360CkJFVRtlwiTLmKVO4/TSwdRuepWIBo3bbbw04vlUvh9Xm/7FZfG7rGfAhqDQjUh5uA5SMb2iQXjhB0+pmzLS3SIDKbqj4kl7u+15PxAiInQTThjhH4d43LqAJlysV4wLcLPX50+3Ey5r5f2/oVfJyfcvneR2mQhqh3Qx86V5xLqhrHkEtbfW9ffziUKP25mOp/ge00J473xbxm8vX7xRHTAAAJKQGe62pFf3bt3oXv14+nKkx3T/t7NsvBhpEmsL5DUPMO0AMjKi109lpmMfIyiU4Y3T/TdspsWNkdyy9+urj/LGTzOPZcrFn1MVtqkpSckFVAo/fSya73YqypMBzm+JSVF+WU6xGxs7RoGe7DxGiA1D8v79emvWYGSZc5XwHKzWDpD/HutuIpOqOnOzSE6QhEVfTFkPr1eQDG7I7veDKScxPQH4Zu7+B39dgh/AKTMJBOwpA8ZO6ZQaNIiNOnU+MhECaWBQJw9qYewKsel9v8H3i3HxPUlLSaQ3Dj9EPyD1DlcPolE8SLCDwmNA9ZAW5ld2amky+K8BP1FaICovYxNfyUQhV+y431qzG2eEO5/UnSiKTyzmAGUTOkYntBmu/PFgDEstrQj+2epFTfV/XBhANE73GoeyRDgpRVPdZqsDd7/Hj0cz34fje7RqeRsiqpCzAYhlhNY+skLuOJ2qV8uCac2+XrA/VdJ8+X606LVKx8YsFTPqKN0+53rw9SQCZJBFwilttQyJx7BEoobPFhV6sKuEPLuaSM+vAukkELPzMIiRKzqWy3b9Zm6lninHkhqg0p4JasBrCHMn+3v9tvULU8KcZ0Lt7Me07NZapC2e/IAmAu68utD3mT88cPs0sJkyWRD3oYMw3W1Xzez3EslWtt7LlxkAGUP/PMnx9hRvWusB46C8MlPZOZmrYZJaF0uss7fRHT/jwtHHvn/sD2e2iiZ9KPFpQJQR9vJxwA9ILHuAhn0X5tGcacBtmHj4Zk1J7hFXAPiDDIiiFcxjgS7N79Lf6FNHgPJkxp+8sNVKpcXHg3HbqY800OzrtEw0eQYqlTnAk8jNtaf3qlgmPvNwWP5AzEI4qQUWkbiobgcNQ1u20j5YOdsDfIylkVPGHj9iC71FwfQqPIWpRCXHRzBNP7OXtBG73gmK62Mrb8kFaPXC5EVk7diaYbJiayIb7oRl2NIeaBigH45Ob9vAZ1A9n9YTC2WPRRRFBBgVTvZrzoOt53j9lwV5ajrh4NQCdeKwzCLp2j4w6nIEg3FrVyzl2SlJgEtJrr66Adnj1BtRBiFhqpxdShcdzVQt6+sZTnw9BhTELes00yW6mrjov0/dUh1Czuh7lluzlgqTC6snaCJVFMhR9wgsF57vA16evaPoSRHlhW1y1E9BQOcuNF9+KxlF7HB+HsvtxADqBB/xJbJXyzMDh8eDnZSCfJgdKFKv8V3No6Dnhg0aEkyWjSOYLGixbxYKQMFudAEw/5TQIsIbzWN2yyGNnEuEaOxdRZTmaxtaSLW2LnV78Q+m/A+Ww05AnlbRGH4acLJOnKT+yKsMIMaJ0cmBw5am5JKqRrZtPk1wplZUGd+w9h+VS04ykJ6pGkC0FIbr8GQy/zUPRRkFsN1+7OcdDtO4K3ekuW7zpe1twx0SDvGhlnreRurUgNasKlvPr1w1bR5N16DKbAiElz93N1hk+/f7VKc5pp283s/GbrbudSVbg+bm0O1SeKbEShYcBhmgJTUzVISs0Fa5uv1h7HTKDiNEkVyCaP9BqcvNkZFcNNvLzQ1WBwAZZFSxW5vygJ7V8NyZrcY0G2n0hz0dLNglxuRX5LC0pVJUI5Vay3iFT1ufdPhuSB8q7gxHwusV3YRBY0CFg952gNrLq8tubPLDNPhNoYm/jGiO74ckX/k+kKm3g4QFhGQKeQ5mu/NFZZyt2+DIhy34tvp1u+FGpIb9XlL3IDKDzJ8ckvFIJNxxyxkumIPM/cMnRMhu4yyLehSL/9E6eU2+fO9ygFHN4AigqcN5Opv2d29xqj/MZzU8Q6+c0q5aBRzmslri1OjN9L5NLupArynT/xAj+frh25v7Ts5jpUOaLUF4XodmFL4Gd4tFc1P9P1SX+kCxYHyyIcTWHf+xej3YUjXOuasaDKr+FcZxNLtkuHEYJGsb58gU6yfwvcP46DXd+/xCsZ98kEkY6XMj13cJlrrSG/lCbkBNn3MMdCdjax/OK4J6rApWvLz0VsWnOF2sLi8qM/fmhd+JMF72fl/8mJFJ2TgceIfXaGiwyXse9bhVvbXEwWrffemeKkrCZ8Tq2DCIOBBU5V/zLavZiaJvs8O1+jLXgCk172k+A/TPN2YlepZjy5lgo78XsBGtMd3SSXDgcXlVAK1taSZ45fKnzJ1FsPA6/QA3s/3D3nnbj03iYagkfTBXtDl7sEcn/pNybtanlUsO+543GcoKzR3p5P0zO6rAF3hBGwcC1sF+b/Nudx57JH1TKwCmJW6mGnnZxLOJKSuf1+yRoVtygF4z8P/ojMF3agWi0lJqwJdkvbLo5YH3rrbzuaaSkJczMz7uj7UNDYY4O9w24gh1a32FM3v6tgI5ZqnaTXE+o1MKyn5IPzVqGF2malreTOVg6uqOVgqelYUaUlnKmNHx7akCkMsTKvl2ulLWr9DpMWmSMSwzqqHTtT9s59FcCwtZFahbRoRQU/hv3lDTVTpJILR+gopb+BlvEiNvz6N2iJ8qAObU/FGKwiLm92w6yR7b4tpfcbaOewuY26bvgiYuawFdZxlFUbA1p6mMlhfoPlmUZC5iOYAiTUk2XUWZ6E2cFvzMPBg3kcRL/eKVaTk2EUjv+lo005t++B2b6C6n/kBLqvZH5UAbj/tXonrURwZyTqqTI2LQVlqy8jhTXK/P/wblklPDik7NEU0M7ERmHWJqTWXR2P0CyBL4k9eAELnVSmhGfSs0yzAH1dLyZREjlaFyitSd58rZiBFmok6elV3Sm60H0hx2hPs00/k4YnDXXWSKC3IiYBt7TlM/CoMo7aX9BpU8YTKJnQxgXCSBcPR+13W7xvRwTkfWHxLrrml0ji86NID476KixBcoISJuOJgBpGvsemEuNlAwalniZ3is+V7LOfORYMzcnsojREJ3/PvF5OTJT6itykEKf0PnZdZsP09VcxW8b/FWIYn+Fj7iKY3q2kL1QE6sifZkAHg84yqJOkgI0ZzuzxHt0tfIMk1unxMm7WatH8ay8emWq9Chz0+YQ+ZUgxl3xn3IHVAtJudns2NnW5AN1Oy6+8bHhnyXfx3JegXOavewJDEdNPz7S8d97nMCthfQFn91S9bk8Wu2ascZLyOtljTAi021exxd6hBDhJdtMYvNtmAAAUIEGa8EmoQWyZTAi/5O2GChMSAUi0jrvoTpzZby7Mr8H0wbRSebgoX0JApEDyGp1u0kCCGIN56XB3VDIXPiJ7W5gigcJlWIFavlY/IRF/TwdMOr2PfGtCMfqWwcCfc+BMFlwLz06r4m3YUTdkAIdf4KN6yptF/8Z3QeVhFXpoP4FAIheXDB8FA7aVhTiREaOFzduSn2FYRE3qc90aZBORUC//1L6uMUEN0AKknH1RfWdgShIv/aG3PJ98CesU9JWnlAH46Gkg4Lu55gFatxYkVpRSLDBJZT0zz3TR87uM3JzermDPwFIhr/LC98c47d0E8C3LTEtTg4ClequXrHe7TlQs/1hot72ENiH821i45ZflNXeVe2oX8zsIfKwT9e0Olw4v+XlfFKffujCuV9J2Vcamu9mdXoWFNCa7KmUiv68Me2rxPWUFYfANXVn4mjYMKrHF4C4mknUl6UPIXIssdoZDHmFVawq73gqvXCyjOZn4ioS6EXGCZp8tkG1LAt+dDIjkH2Llvti44fyP7JBinJ4ZmvCTG6Q5Lc2W9KfDLmzHX89C8U41zZ19Nre2rqpZqSr+N7Wd0/glfu3Y/hTjhaSxvKGJ2RsmZMVOwv+1JWAx2MDNm3u2N65aEzB3oFYz/reWSM9sC+5sf8QcbKzVgAefmOw156CFIsx9B4pfektivU6ebApsn3AVF4efK7mWSXIj+rOQ7KexdBazfk7rj5zXkOW1JS0dZCzfkXWZlKUoBv72O9sd4KFkyoo9RDcB/n+L2RGfe/I30gx1NyStd3SMohdHeXyOfqfPqHnE0CCfO7fS/tNhEmMnjQt5WM8+3onIaP6phQsIkHr4b7gwWgHlftk+LO24PBgC2g0NtXVN6d5xk8Pf5OW3J+zpncUC+dsuXi3JVAy41naDN9O3Y7J18SHRjvV86J39v7MrFeVQ4P7cqXJBAp9kOeur2llvyW+jIstU1jEREV7SwFZC08yoCFy4C9AQE1kYm21q+dFC7CGijjIKIUCkxTkSu50FNM8aOM71fqLZgihppiWY3o6J5QlvqNDeMh82s+6v6Z78WrE/kGQvRVuCasmwtLJw3mLdweiPS1/Bmj2/FqsQE9lqsVPwaoRks+IOkLtpy97+oUTlb3ePIL1ghTepHWAzgock7SzBHkDIBToeO+D2aPN0h9Cmqm9J2qlD/uE0jhNchuaXtHPjMMEvck2R4mGIItkjPGAiSwGwEGUhJLzvbf5tMhhSY8Z8EiU5s9MhOYkL4xE4Vf7j7cBtmxUCSfnyjYPceeyNVHFxXHZyUmUKFcKsCWESrW3zOtLOxP0ZYOy9sa1s5hRqsQUCj5MffZA+ZPj0sXBWIxScFsNX8SVGoylBTl8WIKCUAUjqZfXUV3Uau6Tq/SsrJS/JmIw0cRk49BWyvFhZl+2iwXFxtn5JRRFf8wrxiKuneAbXPasmkI0AwBaM34R3jpr6wTUWNxd+kQi7CGxOA1q5yuv4rbHq/uE1VRXmi760Js2L3hCAI0OmrRfk6X4CHOP9ThhS83yMeifBujGa/zlw0MPYkgri+IcgT4R0YXRTiebKfmIjBXmwkQABxvzv8nuI8+RiRkNcuOJ03Ec9zduV6GZBbLXJvrYxd8903eemfIiu+65pRtSmBfPLHK6pGP3oeq5PZ+pLsecKczBLEBduhwyewMMpng0Q8P1wqy8s9SQ+EhJdY6sQ1qglp32CxwAU8zr2VisBiJ/YN6Jgg6BHZzfP2TeHGosgNfmCGLswrn18ez1Y/rzmUcB99Wet3lxl++vwq9ApsAIfzdXtZ4pxXxtP3xcOvF1RBHaC89jEzdUAtpnxegoyAXoXAmIWrEN0F7ELnE9FOORh+zQ/PxadiEq6fYFlJFfTiGiEsEYGJvW40RyuTBQhmUdM3ZdfAfr2vJ4Vfa85RAqKlF6uRd3jwlpQSz5l4grGY9eLLhv/GkS5UsoYTCCUXnVTrSP/PVF6bxtKz9/VARSEHwnGRTuPdVAL5HiILrBZ3IVEa/hXI6l8RScU3dQA4gtIe5yZ1Y9LvBTMTyHvobH4QwvAtpI4G8LAk6l7BR4P6bakOPiyoKGGzNDRzd/NXUeAm3iA7letFg9hhAbEuv8uuiyVA4Vs1+6wvRQlmai2koJHNaV8F2s7ga1E+V0zQtONCS3ZRVPszR1lMh7jcbdxDLul8usTbJsFZ4GGqFrSa6RBqGAgx7zYCTx72zGrFQfPkAE4eQ1/GhtViDBWWAq76bY7yQO1IWQbGw1Ln1xjdmeoepKis/FcXLEfWjwuX3wGeXXf//OYqkUGKIhejo/Dp8DmD31PDwm15C/tWfwTnxQ/TxvLj89o6BO/Q3QEl0+Jo9qMODKp6SfIpsaBSjxrkWp6/mWir3smgrZqV7xaCc+Q44L+14v9kP9qbJlAp/CVv2KwaW341ZhQxV/sjE9plcP8LAI62sZeGcU7FAl+Cwq6eiAie1e1z8wKm10mMagA3vnwm6s20sSGrN3r0+DeyQUINI4f18l1/CTcq4RT7dWvHttU3OIT36q52rTDh8Kq3aevCfvvVgOsjFM/W5xGilxmGbUHUUIARBNkinFZbBQrsvc9JWcm1Ezo8fozE2h2FDQPtsoP0d5tF4OAZV3RxNneFbcXK+9B9NWmNwoGKzeG+fORwcFuEMip+A6iSZLlEma6b5vgaaeIIpS8Ak1MicpN1jfhBBL/dCBrGjfWHmhJpoCKOmSvSb1haLgf9HGzOTbpzEXVxgxHKn5AWAMbSzjlmW3PjwdqXrr/8ZbJoFA43vSI1dLQhoNFVqnHQkuobxkET04E5HG/DFglJMW44vrAD09rvxxkydjWX9wJIlWN+tdNdmXxELuTqMADRT6Gq3vluESg1JrgdVLdsRkJUVYO/vqmkPA7IKqc3ajR8rM//HIcBFkHtwdzFrfKoikA8qhSx/0DrpDFljnK4ajwGU0Qcjnvq1htQnqdobTGPUE5aNEeVaynKzAwxw+5f7/jkWu4Uy4tnuLhZUVAASLJFfb/PEfAgOKEyUEU7OQE2YvzJ4j6sYRb8o2h330uBp3cfLOAebPTf9EYaJEi71/sub+csCDm3u3ao79X3qjkqqmi8STFQ6GGqntfdLYyf61orjdJ09VvJcJ/SQUbXUR25DlKYH0E5NdUnYrLv3jGHOXmZey6eR3ArWE9m8JyQeSsMx9GRWO1aOCZSIw4SeawmMxYm1UwAHHng4eqUHJwcKRLf8eJnwCZoAjXHWtX26JZnCEXVezQ2bNLDH1xI4i20wBotHnN/CPj3TrIVDb4G1CfFuwq6TJ3V6THog99RgtV5P98uuuWeWV2XRwLan7NdjEuOaJ0clsUXvd3rZHldd1THuQnokkE+Y6PFQzA7hinSdCUGmLuYZSL6nsvbFhSYcSUlDajPUDRYaZiBSEvGiVQUfx+SYGPbv0XIX43TR5ua4DaMM7P07mFGRF2QLdYiZpIaVmUIsmzQhydHyWgX/yfmjhMMUpYDTyRascLQzk8BAIB2Q9IyF3e+GrW+vHpLoxx/Ucvalq2hyXB1Phc5COBcX8YpGr5eiVgk39zPwI8DNmN4Xn/00anhM0nrRiHjP9gJuBpCu4KfyzUNUlkNlMnK3OlkpnlhxQXE2Jtuy4RnYFZigNiYcsWyyj2VxIMfGbhjyhGymuuB9BRH4ZsiEqyIGuK1NyNasNraSlx7klVFXc1gzD1ryc/BwBLP3HpBQbKrw6OKTgkH01WZdZkGLx40/SwZwSuA3Xvh1nIqFlM6L/VQWayZmY6QvPlMUje9gk3o91DjwkLIyPkrTGn+f55iYVZO6ue6JQXKDu1xdRGPoP85JpWV5XGDcDtdm2/rAHw0rEEnKZFGx/0xTWsb5/QRDhCxq4A/XwZenPl+rOjGSm4VQ5wf1Ri4bkNDOOoVoT6zgkHlCPgCXLcsppOhZjp7XL9qd0RWqaNUOWZertESMTutaoFl8H34VIMuCXV49JWrJXijFUpssgwI9KVTQyZ3kxL+ONjlgDBu1qrDepjKEZDITwk0NgABG1CXfZfUinq7LUSBNhc9YajqPNKPdyqxES9f0YGUTQWiYKCrnK03XYSk+aE7rbj8bgo8zk0Mr7MVpBCsz/QdMjVRmeQNTQkFb7ZhQjaxw4NGdMzP0l6sW5hbscDqFVtKd7UovW2My+1xIYQ9L/+f3EO9y58Xk+/U461iWd7Nxq0kGuaiJP6+TGvEQiczcVBfQPhDoic4Zsoy/NI67DreO8+ZBViYQoRSVc3GLh3JVx/81N519J6Z5DyOGM4O81Es6amdlbUVOC6ybVGNuuJKmhAsCQRS/gmqcJvV8ctlG6Wj4k7/caJEFYaL51oNVySLxIWYI1s/13N9kGB4C4Dnh5nAq20AHMVvlbP0kozGP7ske4CrsXJQKGnudnfgBXBoOAh7FxnQFk/lJS8+1ZSOV9Npawkkbw77yaTiwrn+kLEUJzeNMyaed7g/MLqMivywiZYZlwtr6JgSbGL3KAfnHfCCLFtMUPPowmVFSohx6IVn/103pKmvViCn3BD26Dkp+57VwCGZ1cLQqeA37JZibJRUffRBHtpON2GYNkepQyFOJZExCrOC+5yOnmIf6dIWI/R8f6oRAe83hT7jaEq0q58lu2yiqgA7ZcD1BX5eWSpMuxSDq+4qVnbCRV+Cfmawri34oNrXsVC+LPgrgq1EPK+wgilz4eBwr5neHVxsMvVWm/6Denrhqcic6fwPNpBQSUgD839QFdjt3MuWOuowE8kynaxpKno8mPKi6G7CL0eJAArjyUnaQ6Dp145xkiDoAeHzJgdU71yFTI5yBJCnnnyKEJuS+SqKj0qFhLFEZY+FrZOwMWISzoWdTWPT4kaRhowhBMN2WE/FMCdMUCSMKRNe3puO+e6OgmGmee49QL0q9iWlbElJRvylBq9eQliUzqyUaoIRoxVilGBtGM7rQazBMGBHuWytsb+a9rdUi8GSJWK4Y+memg5OG8xJShEg2mJCWsQDSydjteiLKFjwvj7vE8/YLvPvA1f/eY2env73wf5V32hkcVy66pK96MQaSftCb07G8GXzZYEwC4R0ytj/zkV02kfj8w4YDBO62Gp2c9ljzNUZe5yrf8U5FEIhPRXm6nJVQXdgZkB4p4zSoV1p+jYHi9GFLH1hXJGnmuwOSOtGw+fvRLzDsopNU+LEaDdwm9xoAAVXvafQc+mwu1Kn3+zjgqcVVvhVKPC9LWwwQFKewEGrDGQtTHlI+Jk5citji+EhV0Reg4SaFdH7L8s0L2bfYT7w8cIEZQE4Cbt16Sh1zLVMGCSqWkXnstbnIAZuFyjLHoifg2ESmcZd2/J4YaB2qIOQOnIhOUXBldL5iDdj1vjbYLnf6gQZwRxKtfkUm7NToyStxjfDaIaeq4nye37Dknog7AK4RgxMouRZZ3Muthlqp/tMVFLor75j3TZp3rQDaF0RCZ1WpWZDAIqKqFM9snMy7QrIuRztuSIsW8LmUYAY7Lvl3I0lnL9I5oOUKY3smV1gWeTxBPW5ng+wj9zFTbVhpFHc4GCT6W94xZl1zCa1tRpGRhdw9tOK/kRqHA46+z6+6EvCaweJB4IBksEyim8qEJFVASZBOho2pvMa43Rmyow9nInNs7qa0LdiTOagg9x+vnn3yOS5XGt/4PoxSS3Hpac9i9is+lC4v1aM1zXYnAuhB3KFJNFDoa+p+wIf8PVhFxdLxDA1Katy1KD5lMCoGhcHL3lkROpszGZLt6+0HNWy834vIH1G2JAQIYH1R4FYZbA/bS1PNiWZLaUZBws3xmpHbFHZzhrjLL46PpbnMTECmEvw4u/kLLkE4590f7OzV4cn4eDZMkrj7H/vOv8wnBa3/ZGx6dfMm/OVqnPNPXHNlamDSxF02ixtBH3jBH31F6BQvGtuervUs1c112Y1SMLf+/ApppJ66KxF4YuKRw8s894/qLxPZ/vVZjdJdo806yxyH+4ZxLOfFp72MT8xOymmImzKd+os2LHSDWTJunzXKFIBy3l0VQXj/WttEZhy4ApMmuglRGkSrRMHJ1NDs0lsulycpaZniZy9c5gvPSkpCBfqrTHyfYxArnwyasOtf1bF37AYvN7rxQv7+UYz8pGSsnh/hDrRdoaVXtXcbWzILFbzlwaXS9GdiUvSGewFoptJbk2pLNH5lbw+9AClO+k+HoQuNi1aUAB7mO1gojHJn2F5taDk3AgaTGBU+qbET0p2QNZHaPg3ng/SA6ku5gI/f/gQIKRtMPL3PApv8HAXztxYS7EfKk2BSilUDDF80hfGLwjriKXH3uzaCqdAEtbGkeAQxKrO8VXjhKS9DnDW3LcET7K57si+hzupyTGI61FyuvGpFF9wQ9R0TgVfYjR325oaauttVY2H6EsoPV5piItUegkjqe9dZZumJDXNrroPMz9BD9hniqRsEdyr3YfSfjArIHnrTYjdv8D/G/lS4VolD+KewYglgXpmoE2v/4uRR0zGRQ/5o8rPWt8evY9M15JlASYkqC41aEaWMh9Yvp6aBEOrsI6/mW36awFlTrrdcWFJEw1PiT16EbmxnXJQ0K34LfWc33fJQUxqCQ033XK5bXqZMRra+RM+p1mHLvVCJ+llMmnh2lnCzVP7E+vO+EROHzGTn1YjYOLDzXdv7dm0Jh+aXkgHTiTHB/996SNqpGMRUQN2+UN40ZL+BDWSCDy9I4Zr8AWGwis8XO/+GFsnGOEgbyCtw2Vbi+tcUYiqXpzssujeupAUzuCY9xcj58D+VXivDsWFaSEKpi8Mjdgx6C77vKYW7upNNTwGgRhFkNuJhKsFJV0RLIYMSxnwKMkOymCO0TF5brm0Hqab5OACGJ5K238y4GzsqS6sotoGD1p+jqqq2EAAAwAQZ8ORRUs33EED63NPIbJPkdUdpgewT1S3C7kKAev9dzKOxnv7LUqeQTznDj2CeQeDCJ8UFtY1nqr0A7uxm7s7scsdBAgrrZwf56WSX96a8XuTogD/xZoJrunIOXn25By/U/+wpGBxUD4Ydb2+2Nbym6ZsL4SBDEg0ljYyu7UWb+1AcArOW/e33aiQWmVbXNzto3HmIc5YXai44ggXxVPmVc+VJK4h+Z5ymnrLSlotAJ3QusSyaaGEZnaWcDgsDEff6ddDNSDLg3gP4KXvxixjKW6PpyNAUFAhgSYTaQBtewuxKokb8L/UNxOP9elILiLrIcVFGLZWbFrxEZzlEQuLkFlvUYWmn785257Lhib/f3l4VhZd+d0LjeCN2GQfockN3XuUzLuEtlyf3nu8nU2uwyzFzq+EPdd73SZzLfCK9FaS7QT8xSCE9vileqawCBhpO4vqUHa6vwvfgKFX48WpyW7nrQX/ZN3hWvxmsVXW+VVycPweYfqtazQ2lb7sfB6PKrQ567R7UKux5CXHyUmsoXz3RetQ+8njIAMtiQqGvog1V7isSgXLLxuQ3YkOpkYT6KUAXAnda46rJu27fforZjqUTZ8kjvOEMOWv0+hHNTYAkEIH6e5buBqZvgL/F3nZUiJH8u2Y0NhgcJsutVqLTxcGIqCvTc0NAXyk+Xie/Fzs7gjFQ46MNz2zswslaRRMveGJRqshxQF881qgxOmx2H30N1T2gMVfS4d8T6ehk3lAqJfxTZfXf+sjsA/q2FiGxGH1huYU+2uNV2JE5b3tVJpUgtY0yi3Loms6BA/vPt73HQebdBffUXlI94VGkzdWIqdkKn038ppS4yXD5QrT2qNHAo/48lHQEHeMI+A4VFRAKXO8hNUm3r2NA8eWt1EC35xI9he3BpH+uBw/NEO/PmzNuGWc5W88Ry8oiyBzwle2o43bknhPmea537O33r6DmqvNRTXZPz3d26BaeQkTtYXsehFQ3S0ga5hzp37uS+19xNu97QrvJDir5/JIhUOxLuRjTP219nbp7mqmwpRNH3kxxFXgmSC3ZmtEn6XaNu5ZeVx1V3m6au4KjBLg+g+hIgADXlLdFWmNVZ8uXfVS/hw1fqNdyD3wxlrRyUrLlfnWfs03G1ym9QDxaWZDaSPLLVnIE/grWLtET6+rJVugmHYgpp3Dn1U6VYL6L1G1GH562flJ7t7heFtTW4MhAxVOSlQB7QdWfdBdWxs9QSOVS2nDnQdUhwgpRrVgrzkaQtdwMFrugUqjZT8RwWqbZBesjKipE/o+8kJqQY0a4nxbSqG8+cEco4CmVE7vCevzLOvFoZervehPYS2Ne4Hng9Sx17Hm5LlHb21l78Nql6ClwNyPvrJnL8ZVUvmziPkr7oP5yWKiUygdIuCtnyVtH7d1umlBPn4I/8kjXUEupkLKAbAC4s243jurLCT5HQoxP3Sk1aT2jiGG6L9OIjFC9NkEeybl0ezh5DN5TAWpomYEPuNPubO+k1gv2HHJRrbtXwy0ikYBkxhusjQCJyqSL8pGm+5ydKLQw9EArVUIfSVloD3tLsy60XtvAKcZgvC3faL+rd5pVOw80KqbosML3ClzAfVUb2XHde9pewBavjwD1cPhVHw4hNFfkubrmuBZhdrZ5NIavauF5x/EgHNtSKNoCzeIM0Un/enXiGqTHBsWingca80R8WC5My0B2VfYiSAbTMA6217zoykI9Bh19WQeMLlw9iouIyXKiTrZtdlhJxDi34feLYZ8EqHJGlwsHx2X/cXOwW1NdRKs7+zmO25yQkxuJB6rKhzi+NC/nztuGjMynvrCWxxJldnWpa86DKep+SpSYmCi85/2/oF3X+1lOuqrLu81pnPPe+cCe+UYyoET8Br+yF64BFLiWgdcm2f5SHZ+z/pydMOV+p0z+cIdVXuZ6qGA9yyYxPn3r79OFHCVoiHqVh77BE16rJ0aOJdFXvcf8o29gZr9K+wdQZVZAam17lTnVzowhZugoUzrt+mGaRvVt2lRAK5mnHYWr2lXVLgXdyva2YTjjPDXAxEpW+chlxnTdVGI1Az7EDXUOhiPOCYM4sM4upET/Cj0cfOnxV57Mly8qHEcDOvpM14kp1t3f9mQBn+78GxknwYmr9E6Ifp5jObqr2/FIVCUFZAEwUGWZXM3sgc1XIKwSXf6ZKVrhzXqXOGMPaBrL/9UPWgmQ8hBEFhRLOSVke4RggDcbJS8Vj6abvI1uHeKVe0UWdM1EZWMLtkQzP6drz8bl9/+ZEzBE2sPnYK5iUu1gWXNV6uC3criHxbC27vvGnXrK/GxO209B0I/s1VJtP7iiucwP3HxEn1/VF8f/ViCa8sAM2aeBgV2g3L1T/cy0ZdH6+lTpswMOuTyVf5BK+emar0jYyLbTCdybBIXO1yForbbzj2v+v6GzwjvHqaaRgURBBV+2Qw3JXyhD7m6T8qDNFZog74yDkjaVFf+mT9BnG+2evU4OJ3+FZ1u8o4Xm/VB29p29FIdAFT8PphtuEXgY3BLh9BCyHNb/yfFXn5hn8fMZ0mAE80mKVeMgW6oqrCU5PxS/9pxONpfL1Nry7laGawjRBVV7TW4ze0pG+8Azrm0ujYrhiHTv3TBcHeUcEbiqvNPxvfAUwMs8Bi2bbmVbblRyfSVTbqPyPvYv4qPCE+Ne22VgyWlEYMVoVjjucRfFncilqdfpwWjV4gc/0bdz2rOYmVEu4UZQTuD/P/PoeX8Ze4cB53g2lI+Nbv7E0Bt+yNJUHrj0UkhMJj6Je71go7c3ikfG22qcFqMWsms4pYBnVdW2JzXtaAa2bb4G8b6kryYIhVweX/oyOIvJsrx9NMpNz2E5qlLc0xQfkvaIm8piZykh1IPNKEHk6rWzX3/Q+cUlInpcQIX3PnzmGOfyNDVrM6hneMQ20s/QSHaJsKwKol1T3wmkT0g3I4tUQc5OcUl5RpkDL5Je3mkeHSEQKqpS6tX5K1spMZn7gHk3bAr9PhVz1g1f7IpVYg8oRLcypJnxF+ayzv6yB2j+oVcGuNHXYazgosxQyE4Q14egSW6UxTbGAwi73aDwNoJWWjSekn+DsW84aNVWye75kIR9kjHR7a+36XdeJvhQZUDDJR6a84+2ZC1QkJNoqn0y1fHE3og18VoeGYImSe4nqKlNmhxk5JWYxQ615Dw1J/rC4hhcLijgM5f8gaCfdGDof0AQC4fHTcr5Yax39Zc332zTLtsjVDbp+vDIxKY6Q21RR/L0Fgl8e9xnB8ZQtoux2bThlSQwQQ9czLzVsQfWNnt+5vg0RrnsaXa5Zk+q6R7ChutgDYuktzNdpFd8yFZ8cERI1owdq8GH3OLW8HdcJWn2t+18GHDaoJZVRNnuTzUPj9foYc/ydz1GGfGSBynCTEjcuWj3K1FLsoBfjsZmddxjYxLDsTDxFKxqVOeTastQk7bJfc0S5GRTF+WDwEsFQ00PHSJFQoSaWmKs5CH/tCp9fkI/UyuW31XFvsORcBijYcPICrZ/HaCfhXm0RXCLrxTZtUnUa7ltDBFUnoiE2jBgES0ZjJkO0Jp41cKO21540fhMoOUVQ1wp+wPdxVBPez3khWzu4NUWqPstzMzSk0N5bgIF8q6yy7F/Kq+7w1SB3vRKPAqeGwkGskF5MsuJp9ksRXpOUfO56IiLqxtn0sZ1EXM3JTbeFwCQ4RkYfScAORuOF58ItdPNRoGA+wmcnjhZkTAIcIrjXdFNpMP32a9KaO8ik2JRCYRudYRdBgnImX08NcwwINIzzKlu6ux0WCGDEsOHEuv4gD83vGf0OZ1p9Pwa3Yk1/Fvcwtf9LGu6BKfiF3FMgahLeSYdszGB5j9INWcYj8NUL85dPZQQZDayVV0NZkje6E7C2srlmo8129u76t9Nqk/o/oNnJQ2sOk3XgrN1Jifs+D/+SXegC13d1Zbb5iui9FBwV6bIgyoFElcI0emJWYxHEbScBJGgOW/nic3WjVFvim59AdMPkorju747vcZsjzNyabadH/Psi7UDu6a273frqaXE6oqsPl7D4wTfbexcWGb1XKp7mgnINpPp7+v4slI5ErIAGKDpF9GpPnogFQt830HWgp6oN7AAAMSQGfLXRFf3VsM+jYsPtwJRr4wub16SzBu7LO+gRA/jdNTi/WnOG78YfFGS4bPhM4vj3CZMlxv+mSPqD27QVB8PvJ5/g0cUpHYyo6k1I47GvM6VhLRjWpRb7p9N4evp9b/C/owcK2MAIk8iqBvBwIDfKHJQf1al0p/bo0p7E+8XefzzFQeoviTTai1JihfJU7RjLOM81xZ16VD8VbMkIsh+CiMuCCKWVQq3p5dH8c1RiByXhyKJg2LH3z3CsjOzkt1LIpqmyFg0blaomxlk+np0z7HbdzMtjCPDHkdFN08//Q12nRAzhlZOP6Wme7nwCrbhUPuK1n/t1pK4e8qPbi/DBP0BwFHaedd2CsoAEeqIqrIVAzuCnik94l/ZHfHMwKlKH69bvKfH8DD/+l//86ZBSdzGmzIjpCraOGi/c6ve96E2PM5qgq2O051JFx4K0tSLIkeL7mkqSvwkEd2fRlNSyfNCNyyNeP99QwdAr9oNGb+0kRguza+A3G+m4jnxy1jtVAaA8znCeCdtcAsWhzminA0w+E/78ozgBOEZAoEKqpcb+MuiybxX7klDsiQGZFXOMMcHBmAtdVSvjX2ZMcLm1cA0R20OPMoUx55Fnyys+1dPPsVcLhHqjZP3x5XtJgR2WBr5LbwwUU6dKeVyfURT7bMaIDOsmJbR6DCGjTyHbFzAaqDTdCyeB0C0Uj0W9UTEh66JdGBHtUhFZS/4BMojR3NCT/iOXcZSjP3DJyUOmEYJOwnQGtSpgjJSCafmvCkYV1TMJaq1N66X9uMwOtdCHR/8YTN5ZoekQ1Ypy1OBDDkjQRiwMwkjvxyJL5vGOOblWDqRnzAq0PI5i/y+sciN2a4LUTxse6wsmZ2mQyp5iA5qD/x1qaatoLgxxataKdAme3SNs4tTs2ootgV7S01pBHdZ6k0z5g9f+AHoNiIBUTY1D8yAcdd1lrEGxX8LVa+nkeoiCgwyWZuKdF9hK1a21+B0gn+QI8WyNpaPIKNwAyUdXeH4xt4k7OKVWFYW0Hor1KytKzGh4rvZuKhyt7YLiQ5X0GtLzBJ9vhptMDOfLmmaNeXSNTY6t/Xc09rocPn3skFr/XrurfGwQP+4Ac7HsJ3b8kFoTqVZX8MZzNPNmnN0Bu1XaVFurDRxCVo+eNf20GZJ03zHpwz8FhbFzrfHT7cchaNuumZQ57AMEc/a8agPQVTv+dUdOcHdSP/zVDXwjyIZQ6IfH4+pLTUZXeXvfkcTYXyzwNb+WHRYsdrguLm91pBQ5zUVof9Kzwhin0ME+aicYIfHI1WA6x9AlMQVcgzg66Z9SgFqECPc6LFKWkrkDG1IU6PgB66a0HJv7AwVVYR/4dKjA3LlgC3grfxABQMyh1qRVWvf/Y13pIy6N40iyIspRyafm8zPShbbw7WRJ8aBqSquaP63+2cUC7PayG1nw3kkA39ERB9M6817ChnoBlavkCPf7Y7U14SXabCllt7L3q4yLyxapAvXqYu72+PVaW96Zp9enOQZg8wknKf+X/J20ioRRqY0WXlP/ytFwzYEBo9b4WxOYEKrySA8lL4+ZdnbIABoyuvMlINNnnjTsnb3sECCe+rhho2/qKkZJhFUoXzW/Yje5f5pSjYnuoHq1efCCyddS+ZC6ILAd6AmtkVgvsizNYnwk6numkb7JUdeLtFo+jQ1gjmDee8yxWO0+/GgSMsgFT/FaAjQczGAOpIiDwTpv53DyA+0aa9xT9kbjDeguLdlwsxgGaG7pqNM/wYXifJZTpiP7jp/v70xNHUaJStgOvnKd7jOyUGBS7bc6eVgu1wBEqGzzAsk2IO3n+wILhqsGIEA3ScqWiOmgFwlfh9zp9MgDbTHI6Ww5xw/H7IoVWMMx434xEjsC0xgQReyufIon8x8YBXRHEZljByR/cDa6FYYi9JH4x8VQ5gMs9mQC7xdD5u6jSracMhdNEqgu/4bvhMMNzZeoR0iREehuq82mki0QgHsCLGngugmqTCM/Cgu8KLS1peixEXkfZYopWAzrqbocc3OAbrDRr3xPRiCqpVzHSD1Xn3zTxg1TrnFlcTPPrq2i1vqPx4znFxHZtLWbe3hIlns/jJsQ7vEyKwTAF40AFbyIC9WbiihqUydvtJ72H+1y7JPYMAW6hqAf0Gk8AwE1dwhyzXuPQ9oVArFWTEUdjUlPlo7FFWCzLM5v8MVKmmAGw0ybeNp9TD2sn8ffbR/bwgYVWRDaNU/7tsqCcZB487cP5V4ih4jGk6JRqYiVXYygPXzYBaUd2vcGz36I3hmL/o4dZ93nEccpqcymjyfEFKASQh9q1/KqbE1LMw5Sua1t+AZKjOno1UXqo9DjiCQ3FA1RSymw6YXBzIU+uQY14P8eD5OYxZaxQwQi0RNYJ7vfKPYgu9q5ZsExoLnQlh3/nEaCfme3ZN5o9wA/omfys54PCeWF9EoQDgw5MlApScqLt3OV7sC9/ylKp4Lubay4khjmw5nYmcXIClzGzv2/q0o9v4jhqsxLp1UgXjSYiuHjE85b4HJG3xHlbAdXEY4pMXw6KzBJ0tvF+PmN2BjyMXD/IUYRcwxrb3wl67tZyNomO0Q//vp9h15x5OHeqKEejpy0g20Wk3ATYoLvy3AlZDwbU1P/g4lUssVnmDZxsM5WQzW9t8orr3DAbNmjHTbLi7c7Yq1S2MKR9leap+9dtR3worykjm6Gz3ewObypueIheModMqmTBNVAAowpcnJboRUUIBDWgND6ppwu1OfDAIY2DhjvXqGkAVFDU9toQbxCAr3UtiD0e969/9rA3D7afF5t5jXf01O9FLd2UPfAZ+OhGp4krnQ+1C37WSTwVpHlgjhAvXwEahkGnApDjvIHWnj0FOe6iwZ2Rfue0p7gzdZBxNQH6BFvGgcsjilguZoi0nOI4UAUYCy7RielDGt9sK2ZP7qTSBKWj0MWNgvE78k0kd1Dx67PqeU8k43B4BRhT7UNCcTXkPuOeb+02Niu0gmuddIWGBuoFTve+OgcGZfvkXx2LLIMDmBpaptMdk4cyrzPTvMZ1gcFrFVlQciBnlrfUCr4Ab1oRcX5rW/8FkcdDwUsrOM1/B2T07bI0lwZTZD4eWMQzqyX8mIGsSzIX9axDICn93jbVF6vXKqnu8+59b0KBjVhUt9JP7ibYZW9LeGpRjNXJBff6vKo+LdHymk/e9Nrh/oBngBO9oPadQgYUxI9AL40UOTU6ZBBVFN1lfsXGXyIghlXCWtt3AkDvNFykr45842p4jwmsGbJQo/Bgs6u7oydTpLSOZGPoKxeH3q1dQOzBoUOhy11a3HqOe4iThEGuLgLrHVpgvI0ZLd3gh7fD2Z+eGLHf19ktTmWd8kzh/R6apTjnmSGK/8DOUFnk0IBNfE2/8MJ0ICMrnk/JqKVm0jmH0gZ7CKVx4oC4LZgbHVbdx3K0U2qi/XLtVQuWaYXDkg16N/UqH1XNR9OhohBmKwb5tpA/G81BEqxO8d5HZdD2xgL9ymf0f/aDi19LLCfXm9lizyCuxa2EXQUmP4uS5zdRZfQM8jr5pOohs4IFxGXc9Mb2cCovFekT+deH5m1fv1MnSknrOAIcTuPyiQYD+ah21ckVRdwSftYhbqmv1OZNK7a+5qTn/y++ZJmIzVsf2sv71AXj0K+s/SamN7HZGoagZe2UF3LaVzrDLJFfqqwYPSlGjTMGuQQEgjLQdHE1xo88yHqHJt5KGPAlOa1kyv50QGzDtIHQv3TZ2pP8CACwX/TtpnFu3aMaZiQ+wIrqrd4BXEdD8RjVBp409Q7LWMy2jEI+hBJdHz5wBBDoC2tJAb/XWvF0N0IPnxL5/Wvio8dfdM4WtWH9RMZduTXFof02tzWBvDVIv4zk8dHYoPGcEEOmrGSVY3T0Jm3PMu4W+uefskrAdzBIiW9gMPavbLPAzdcc2OA74GS+nrrhHIN0usx40/8cRXt0nZfFTY5QKqBo3NxGXNTNqtIjMH0O1P9zU2XNAFwpl1Ganb63hm4kC5xyPrU9nt0ByunJwACK3IZlc7mO42gFfGg/itrFu5OZ5EGQW+jwIyyEUgxI3TEIsN5ORtW9yQgfL6FcimwvWzvH6Ql3dtDnU1uDNf1y3PrPM3O7n11o6lQ56pRTMu9m1cKu134dKQCpuFD6l8a6qmysQdsiLzpIV7cd8BZtQeUt8mSR1yz5CgZ4SVMigHUMHsjrhL0AAAhOAZ8vakV/dubb9G3nvxCqcdcsiGzQSWJVHlPVsdhzi9tcoemUavC7CZP+5/RNyCutJpIYc/AuA6FQvouI9TfsVO/UN3nAfwquLQoBnj+6bzmFK/lcYXTckG5vREJVxv6ehqgCQ+ZLQ2SWSkMH1nmXeHDUJJghTFn2mAlAmBPtggO4jVzjupozKVbraU8b8NWprcwTb4i16gpSDhg2/qdbxblD0WoRIyMqeYeTdWMA9L8v3X4Tz8On05KhR8MT6nvTnFJIkHDnQ3B0iZPIN/syrWnws6WduZQWvKPJatcp4QYiacpVrPRVWcUqqsmjS5ZuyGdtEqsDFgNRziE2/7GjjxXcGDrcmn/+iydP34NMLkV3tUi//tReaJq80Q9gHFVvz0ppVUgtJ7MZ6K7m0wU8eiW11tCtZuE6vGXvoZqs4+rNAX6dVBUmfsLodCsJCZPq9brChC9CpsYzRjkMDEiT7zYbvYh+/URdDcqFQTlhQ+stmvwxhCY18Wm9r6iV4itu8P1lLKUjnvjrM7NVwCrazdPlmRPan2lQENAvut1QhF2dg069ak7vJj86cYilD7kkQLQFSrJVlg88o4B+KJkOnHmH0CBC05/ZbNngwmk+RU5RXuyAHxf5dgLk3+9Xzxhs3nwzsWfoQxf1E+4T4pDtWkqL5fSYggGrQ56C9tyA6uNLXUMW5motFtlomArDLuTxJrTLRuB1k+02HRvo8VVD53qGCBCMiKXTJsdXHX4YWXFFbX80aU8z8SPXYsZU3eZhAGLQRgfG0FRkbvRMeN7IGN+h+poJJUPqh2pkdO9ipgtILDTaiEIKXajA5E8aMzL1SjmNxx3dPI9obICbPaXYlS/cOiecft+F0O89JrQEjy6qspWlP9OkSBhC9HcEpJ0sesM8xgpKDjokvOuUYirgqM5gTyOGxHrqa0S7xgpsdOK8uJD1qH4EpOn631uvIWguzPAHRhsm58x/kvztLP0OsE6MPrE1o6pj2HKCbt8GWlef5jAxgUQUtkySmqX0stWGzT1P8nRjDRfUjPlQOXailzr3HcRPs+nuMudw0Qx+lC16mie6ZFa6hi0joOqshxMBLTUBlZWke9VoxRYYqWnKoc/JSeF5c6SFYKcigZ+pME2PFRH8JgI9cdYFvmt9/+zmLwh0UE2SgtK0BUqcwGcvFSQdpvb98ApLPDu3TSLmT2fowQNPVQ48FGFfx4Y0AMnhr5MZode7abW5u5BxTSTnXj47RnETqCVD/U0NkIS3rbmdeXrAE5VQsj2w3Hk8AeZJGopYlvKSl5sK6I3EF+mwpsDJuilf2oJw0HPTEJfV2U3QhcA1pA5ojjgijlkFqeWYKuN9CgpxMQOrbEWIoC9xJbiPwjz0MmZvaKIbHRtL24ADS+1WzixAvHtiGmniDYKt3FEXCPYND7ymyN+UlHbvmFbPo8RyphKBZrLQwwuOTfo8RYT0RqK1mYvPr/mVkK6WUB6UKD0xH9JFYlSHJmgJ9AWrMJKcSehfW9Ksj2P+QhWg0gs1Habo9ZT4Pe1AUwGjlFd+Egv9E9M7CsOoFRYd+j3rRy64S5ZtjEsztKIVhTRS438maSeEYXubvTh1TiaZLFnmPX/O16aV0VFdMFbGZf+4hzn6zvp/ARUM4xY5S3mcaFg39hi5KTQZw+eh2wdzJuq8CVh5i+MIn5cLEeyGKVxxdYDCB0OZDi7rEEZ2ggh3q0Yw/pssOkaXh8HAOjHCMkKf8QKpTOcc2M4CZlYlC4uEyjZnwElVH37o1boSza7u65pRNsx2SDPOBrOW8IEyQKzEsZHFlQVmKbmWq2FJFcrCQMKSwDTeGYI4blum6gthcyfF6io1TJrKyqcdfVy5rxH4+TLigf6lbSFQfavecj/40rNoJk9lJu65ij8/nS9hKSdTf1T3BC1e+5f6yhrLYymrerhd51wQg5Wgcme6/StBzdk59AKOY/0kof4V8nVzMfCK0C7OahgQnQh04/P6XakvUwBIg5SVZk7Pl2qurnvrPE2wRxEUsMkfDyNlIBPGqVixl7GltYTTLvY5BCRuoLM3jSf2mHVAIeY/1wFGvfBU+uPikB0IiqW//WP6xnarSooPxENMYqA50geRhtNp7/Z/msD8e1p/CrXh6OIGq60SK3n90RYUTR9A4+FNp1PA2+1tbyWWAXtvEPYBoIwuVHvzCTRLtN8zRBvzJNwY+BSIJ3VNY17+n+um1Txgj1xIHKeiaA5k0EGmCiktUNuZ7dtRX2r6rUe+H8O4Qa/mKmTUDn0GkwCxRFNTsRcwpSA0KVL3aEnjM0Z/OuZTZtBO2syFBvjavYlBL0NrRVOrsX7gIBZ11WiusvoFH+ea7t4tVkZ2QbmRjR07c2L+FWakDcYw5FWj+n7/cHkqs+d+Fu48qrmw8BJDCVyToOXPr++Yjm3l9Yc6yWjJSZTsMID62QkEpl9zGEEsNg2yYA8nvycWSNNtpflLL5k3X4gmVDWAIjDBc172YdewYWymzeJrCyLamckKMb2crG+lnWutmIDTvYcrwQj/RRTd2adNGf/wp2GLqUjmt6UtevZjBiBOU1ScGQjE3GcR++hfHPYo4gwgcQ4c6IvkduSw38nwRjqNtcd0/+Ac7IEZW3KVmlM9Pgs0BZNIz8/hayoQY6dGlWiAk2zuLb9YoYQG5Pa/WbKZqdMKmfn7tIBexP7fG44Va4Nxihyf5XDTIy8Wfy8cCxDTbPHtJVwvtuSzpKQ3vUnDNIS8jpNRw4S2bADE0+8qxc+KcEGJC4fgstaLmNN9VfbnJEerO5mBQGq8Miu3m4qK2sRlSG3q8Q3FIPX9OkuxerL46SOhI03PWde0bMAAABBjQZs0SahBbJlMCL/k+XcFXusiwyqrKgUmllJyHLAYwYT2HNYdRTc/V8efm0eVk+YzIWM7coz+noiKH9vb2178WXTiTxXdLRnqwEL+IrVfIRkOsYaBRhuo2ab5yeYAOnUchiXIQnK59ipUal9ZBBGepdRsP4otHSAOLKIxzth+IJFtHk5yF0+EXRiSLWabofCZKMp8xTwSri+j+cIo4qT8wW1OZbfS7yLv8CljhqtlVaVVRvo/c9poA30X6FWnaQKaiyguivTEjMypv/ORhfrrjvkEbcl35QfCa97eDt4oW79TiTAHx1uSyeU7OIVObpujoe7UQoCXtTww7sZZj737S4vkYGLteh7flAq6QFXwxJsrPsfcY4oKHKXAx6muwUPKKs9Osm6GFmVkIhSsokgmK+v+ZmBkfrFrh8kmdneRxej8kkDhANovXWn4dUAUW1tEiLxkK7SuKkcDyMFrc4VGvaiWYpJr5XiQTAlK6pQDj2hl0CBCZVyf5i1/gtPp8AZng88rGF1BgetaRJs/YYvDA9xs9n2xCcPl41i6yrY9IUOTc4B3AHblRtHxZdSMNxt9/wnSIDUieEuYydgaWtJGm0a9MYbdUZ7dZC/7P9VuQLh+iTiJcIwd6vy+nL+F/FX/zOv3yar35yo8v64G35+jaaLbSiz4KnOXH/JV7SBKw01BhvWZRacgvBen/898tDzNHH+gLLUF4CWp2JcKMaEmNkrNcIM5QBswuZ4Q1g/hyJ3GQNBmeHROh5N7x8kxhRl7QfQ83S+MLeBH/1J14qxWIkU9gKJ5Bh2gMpsmWouoq51hJhQt7emMmc/If3Y+33UXrhDqQOUIEWVSJCGtc3LOwgNkRK5tAwl9KAqm/WH9qSuiUFxAVBOjbTGISzwC87Y2lRWgR77j/SgruFpQ2H0RT+zvhcUYfv/d8LnfaG3HSZTPEmszLryN6ezD84eSRaHinWq08VLMVAcpR9uLWpKS1jTkze7AXCm1r0nXWg1vULYk3FOU26/aQaP8mG5xbjQr2sCykYTKh9/68RMsT0HS4bKkf1P2df1kA0GHYdf7Q/pAurqa9HoV2Mvpxe10N5UwB1EMUoXoUb0i4rTWpRKmFNZTjnm7TIPBlXFT2SBU2JyPJKorp4nNgaslIKIBPh/THDvnTZY9mENDGbAEujaui7I6ACCsNxX+8IKOt6t1aXXfK/IjgS1nnRFkRipgsqP794aawokHUNw81Fm/BuANtB0ejwSLYS9Hnje6ykaouyQyJxratIs2Y/qYANdkgaS9pqqfxb6LguWjvAwvGOI81gSazJBz8WwHOFAyUI4hnBRFI1vPxnSVntR7sepoDO/6LAlA+WKodxPbYb5cj5u4htuop3ruxtAbPBwlofa86NJi8lWf6czPp6nw43vvoU0DSfTepgAXp+Aka1saidz/aYA7ImvaM5ixAVpt8T/XzIqZfrR7ZFTyRMMMB4I4/Le//4MU5l/ZjJXXINyJhMkifSdiju7ksfThH2uTcAKsAiK+SjIWOQxXltuO0iXl6TA3TwPdMI574rsKFy0hKjwZdew52ZiG6z+6mO26XQqWdW5hBwDRWh/IAB0wit2UxwvpHaNuld9/NchVOzxZxMeJ9Bd4fA+QQobKudcIxmkU39Ppiheb9Jzzwa2RpnjjJAB6XagkUV8qIQIfTGawrKiEyB8EmvOnA7uA3XimGubhudTZHWvpejQspj6CuDU71DYOZN3v9ZXE1u5LVED+UFjpxe4kVhSXORnVAMiIXYqnhqarIARCRvksz3CyUYxyEH0K+Sxlh81fZ7KGCaUmXhV3/hDRvKNSNGrZh5CP5XuZ6XG+X+jdDHJRRWNa2LirLNT3AJqhQjgQuZ2MCdTE9TloVvw1ju4xKsx3GLs6A4+6PgvhfGGYgt7vl/LlUDbL0aKWcCAXEoB4pNkIZ3hY1neygTz1XbTa+jeN4i921YDuoPK5BlACaJHohrWAUT3MVgBF/pLtVgheXApwMPDigulMjWYcJfWxfcgt7spFhqkfrBaqjnJA4/Y7k5eHDg+0P+iU+RTF9YLsha8co/J6yEdhKQuh+ZJJmgb/M67qp6Mk15L71wuZI5IEVEHSIZ1c6LeIaxXIVgyHZzKl4j6qBrYKe/bdGoTMWDdS6ej1VZ2Rvyu1gU82kWvXNWiATnggCiYATgJCK9CaL9V6fTn6Z0OLgNQ76c/DZBwCkKaouTI1H8g8PBXybV1AaazEFoMTMW8nEYfFbplIeWzNW8WSbInNxFqUAv3J1cNi0AjaMU0bab2Gne69kULoIelHD19FRFJLFcMfghPFzx4bYVgj5XxxzswuqWt2Jycco/ay8WjnDiwHrfdRarVURG/tM2qOUMoRd50jDgFROey1JV6XLmEDnQDWBM3chZM+gKHtOHDf6VrvX5NIMgmiyiwdnkNketXlGXTSRPSMAhuI82I4leUrI5UO83M8VTUuwzYb3uKP5M7udD5C4I3XBapjVLFQrn/Up+HDJGgbcGEGe3XmqlWyxqAfr8hFnSH8BuNiwRDO6BH/BlGA4T1wJ26nDDrtBE/oX19A3w7B4sdKu+hNOesH9Qw8VlHLUU3iXcLECNWEGZWrBC8Z9gcEDZ7jdthIgjeo/I20XsVqYa/vJxEj/FqgNicvqMRmvuwuhqsH/25O4MRkwCu/pv1O9bzQ5VrzsvlCzMMyS2y3fecmulI5h9At+QlpizwN/u2rnROWOSQDpAkvKRLdOgUGFH7soAboJCRCqXb81qKW3gwWbshydmeehl3amfqgoRxZNpm3Sq9Sq+9ikHMeUJp5d2JPWYLidNssHnRmOH4NH+YFT1Jh85x+zkIW98ntv6dxvygbI6E47VBKMqQ2Wl4AAfal/CjehTNpla4y8DAsiFIOATsikxGKghtu+SwQ0E69uqeTD4GmZyY0kANeMh0lahdu8TY7sdoEB3AdATlJ8Bj2cWuCRrjD68HR2bQF0iA5Yh+5CQC+BhBsw/bMuvGEr3mVticj7dQzGrhtNhbzP6MROmUo+g1S8BJm2vA3MSJleWgLrwXbsMrCw0UfUNtXo2BJFmIYe5dhHvUPIImlSP1VOOPFne4ukmiYfpYEUbOF0VOFrQr5QBZtiaeHgdDFSjYlJebUQZuBgv8v4LEwd5JCgdlqKIo9Q6ivkW+Z7p1wDV9AI3haWute6GlvUCNdckHcXCsfdMYc5WSYtAVQXbjsaiwaORRNqzFUTwfrXxwuxeON+vVDoLgbYS7COYaCfKHXredaMqJbe1ScfhYH+/LtP+TBw2BP+N1dHWExc/wFE9BgQ7XG9OcIBcgRA1aEYmd6eODO1Ljyl7DKRJABBKivTC/NotMPgeRDO7FnQ1vQJrnmZM/XtpQo6cPYWqovboOZR8/TwKn58Rt1WVNlibOZDsL902h5EVJoLQ0XMBjW3dVbU/74PXPKMQHSNuqhiZgx7pJ5wXcvsNNPIa7/qaWhRafvfpdVvubLsfXa+fnQuWeEhZpgG8miRjV1UcGTewqpo9KFsYVOM27gEMg4aHWPKyxbdoliDJsqmC69/GE+ZLOHufC3J/i6bg82kf7VgoNJXwTCM4CtfDKn1x1s9gISQVZzIsRttb8cbMG6c06nDiivBJx9hgsv26NRLDoGIzqU0/RBUO9+thBfDlN+KWCTcHv+1raFVrJAQjH1SdQB1OOwAaZnj4500x77FpVMsRCR/Hg0WZSqRT6r4gvb6cQu/nm3BAsbTYJI40KTEJHoaLK9UbmuIZt82FTTkk3hqD/3Rt7XPz/dGZoeuG5evuF/nAVEeg7scInHzehTg5TNrbRSmzx9hU+m5KSJw3x1d5TPY6f9FrWHXpFJTdJLMnKCz+q3wZas30l+VuRk2wFGIrnrOVvWXoo2Gmt2skoHkGHAqppc2UPFKq25sAuaxIUXVqp6BS2OR2n4bPm912IVEG0aAlLaA2UZfxSrFcwWC3MytpUHy9SybyqlHiuJTLoCHv9O2Zrs7VxviuIQr4bfMSjVS29WRU5DYfMoUm+XJnmCKjB+aoh6LNjr/fCwrpau6F2MS+BRq0T7otTunKleGGxWpcqn50vsTYaYQnKJUoAJMZiFoFaLt9J7UhlCZNCAvcRkinEJOC+ix+djseIS+sRrvfqDoqbVV/EO11jnDzi0kGjxyvHE59x2XCUNkRiq8Z+Qr++wgwcHCqaBvX7EuRgvld5Zafnfcv4VdFB3QEBGUfXy5pPgaK9UhKt+smp2FKFSDNe3Dy17FWasJpU6vr6KHmVKObezgY6RtS4hIAMmW6AS5dzCwWauV6KV2w+1isMTGXLVS5QZADb+nSmwxSjvTpzXRraJ21c/8CUyQMR9HjFZfYVPeivz5RPukL0pNQoi4EDAG8zERpUpUN8Kkgiuxk1mzFlZCXOhrILNRfIli/QtMhKvg+RkBtxM8ZdyiXn52Itocm6jYH/EWUYx57kzNtWn2SiXxJNgXeCC5u0V8HIFh94x9SyT6lcSB7mm43on5j4TxQk8H5VSqjy7mF5ixWh18MY4BUL4eGyiQzVwnoEzIuNWv1KNvxQlcPcOKMdmTZBbuYsE4ATn6eeANiUfvTHtn2mBdLpRFOfNfMyHnDyrPz2lAWaZkggYdsUV/7T/NOz+FMwuLhap49NSr4Cw9B+4YkIqpv8xXvblP6vMy0PLWKv/ep87a/S0VUfdONDFhWb6EGXMZfj1h0Tnex+pYsaBYdNvWi2IoPCB1M3H6P2LWWlXcqPx9zntOQuug8FP5o1w2k4vq/Rb5m4icWP3tJIwxvIxtu4P0bCDSL6pCd23CP/Op/vl3DyuSzI6x/JiSFqkCnPSNeZU2UfJcRxk+t/51DWRZKtnQ0N2HXdIxQDP+TsgNRy7KjkbFjJv6aTOlkZZygq+KcBOoySCfURy0DjM6lO8nOLYu6DVDbkV3ssNTaNdsgWdzhthr2zg3hyshrb6K6xIvyarGX+/xrl/TGuXukWFoS1e5r2ScZeIVwfjUracXtFMIpnwhXtRLJfDL+m1qGfkY7I37agEjQf5fqNO5cp7fnB2GzlVyEa1dF4SWr37Ld+v8dnmyg6JZ9desHbTRplqUFwecsJVjPVsIwSR6sV/x6aQm/zTh3k1MuxhnMz9EWLDQ1k4YRkdLcIo7Ae6xP/B8smuluTpRVQoa9J0QYNakKfejbnzxb9dVNtyVDD7N1TyzIOdKg5Ozdk0cZBHI8+wNcSeq7F8zoxYTXTt/EKqBjkjLyWqaMcihk3ZTP4ks6FK33J9wavQBAVHlP7hpcM2Rkw/6Ppr8fw4n4IR5nGjNSbP8rwr24Yh34uEcRCVxdKgX5qqIySOw9yPMLannvTT8s0mPP22+Q9SHg+XTmo85u2kORRERXx81Cds3AgFdc4ahrEB6WABkJOqKx2socMTStaZcSr/eWbEVo6V3Ca2zmzwg3PwCeb2PBYJzDwbFOoAqLX4VEb9BAiSo+B4MO4M8PhoYFjRTGWLswczjWGwMLI8pfe7l/xdBgGCdX38fqdVFKKRchvDnegEeLq68QrIhPFi3CSgoIxHTpZAkrHVwMMKKb3keyVQ0MjrFqlW63dgCHp/YpD6Un9z7UnJTp+xWgAACmZBn1JFFSzfdgf577evKFye4RwlTKR/QdWhqrYEeHjs4vGAXujfyYKPaOXuT+1KIzHwC+hIKxT8AEQg0+JVQCbJuKo0HXndYqra6XqcaDw/ba2QsPgziW+uEijdhCfVT+a0EyASCw2ye6POUHl+4Y2eYUrrW7YVe7YG8PyDFuY7NWBpNAmkWSH//gaqStQBdnnafkkgql/wYsyDD6K1x92iX3/TjoFbGkulv2Gdl3lk1yoletX67uXcmLjtbfFsGM9CZ/6SPSWKyTjJ3QpYjyYQ1lhZNOT8BA3cp6/T3/ePNSXjqFirQ6j0Oa05H1iDfNqEcRqNvE73xRKT8Y3vgJFUr6l1w/zKF+JPwUiVMrbikYkPfzjinpRmHHUieA2Cbm6PUbld0GZ1rWYOUyuFsymTZZ3UWq/mZnJW7cukuoyeNFugUz0Nf/yFJWIPIwe0yAagonbb193RDufis0HDWflawBlssapnIHYxgPUCV32M1J0GPwdgSCPOyWj+oN/g7fgFI7jHOp1NdqPpIa6mmDu67afM6hr0j+EZ/WzN4m+bc8+HDbSsAYGKF0h20m3Yld43e+rLCWyi1VHriOQHPdqSnJxnabFC05ujt+kEshIfr2r4hFFm3t8BMYexAG3vhkXdw5ZZSErQhM7EHUP2RVG71FWKsqPt06S0ceMeYR2p+G1vcfECXZUnsV0p/52SFja2KLTGAGi/g3FN51krABPV3ImkAD8wb+H/WKVPVbuuJD96Nn4+lVZGnjQDhFh46i5q5Ej+1XpCufeSF6iXKEFgbLzEBLddf3xx9Wv8FuM/ebcQmxEPZ2RNcL2loELLM4KgWAGfLzB+5uSCFjpXy85/M634asFBxmXADJsjLp0YqlV/n7m7gjls7O0Z5q5EFYXcHcGe0UAHr5X11/P4455wj+E6/Z77q8ctgIiB1Ils1YFyCdpPBHbaecxS18JC0Ps0TiZOshMAtrgPJHz5CY/eBeEUD1eRNBEBQFtA+4pWwTUJ929uH0QhzMC54uATk5KWxZB1/9X74UsDvtj8UhVvNTYGkqDVdN2+ya9TLmWxBtu0Ul1ZEqcEmLebqgTQxPdNp9cShojAT2Z7vSezegRC0auwTLDixMch3UsP0XkfXmT46vA0E9LLMCOcckgD2GRDbjFgoSVBnI7V3mAhq8OdbNkYlL9XQ8HqyQGAmDGMg07AjBd19ZATYu9XDf8mDjdR5Yyl6sY99V3TSmhBEzeon/iNalwKFyS+Sb4zUmERGuzTwMXrQ6LLBNtOst4adjYniYWdPI0OhUvPPo5g4VG3eatfZlkLP3osugQDxGndvMvuVNeygtz9qixj9Mh0uTqeRa3DvNPLwhgEdbK1oX3E7FLW4JDHtT7kVVliXA0SgeeyioXHxFlIiGmL8gOoGgl1gTr4ZClnX/FdB+AqLG4NUUNYXIuwueOFFS9axJQOCGVR6IklP+Rv0YpoD4kDvumU82JDEdhNw+rFYIk+9HkDBgd8+TrlMHGq31hyjNCHCKv2JnAYbgBn14/a2P4hvGdgTisJANkTz0MexrLkxr3pNsfwWbcUl292QFYpzRnspxxzR5rvsWS9U+/wN1lyA0RjEO48KJr/FIHbH6ah4ilOVFwUDw+n52I4dwKb1y3ZAEDwVYjsroVnYgxPKwtqtdGqNUpdUr3K8Oq1KuChjlsumZUamExjVzpJwZlgIvWiCZkhxBy5tj+5FyyqioXzU52E2A/31BiM7DNXow5fYf4pgJ7NUFYIryF2Gir7xaXclHeyOFBiIzi3x6Cbhby/swOpCMyHq6xmpRTX7dzOffkLXBlU6i5yh84LdTpK3E3jYhP3zBbeqvA05l0eldpxwz0B/vEGOhIcIAb3Ll2y/LqBptW62Y6my1ZVyFlVD0wOC8QbXa3Zz65qaVl3//L0iJgAAKApwBZx5wbKhYebmGKfHixK9v0WUYRYvOgZqxXrs5PhFd2pfLJQ+Scj0dv0m23hW1AjunkoCsOuaz5Tq2GmZ3LEJLmmFC0JfZafq0qq9DtkeN1mS2MKehnwzoohKahrawHpX/okLYdw7rnUnk/3B+FZMwDnGiwquYpxzul1kxpLjyS4GQfFwLlCBjTV9O8ZTuqkKLSmcd9KF5Knt2A9FJBsBntBfsU7iJwVoiTTJ3Qnw071f/z9L2zN8xNW0pknWpO5qENsY2EJvIevnmEP+RcPzS6Xs/MoKELwBKxujaX6ALhqsBlaOF9RGFsNAFcaetcalNwkBHo1UaaeN+eVoruHw7zhVqajc0mTK2k8SUUo2unO6DG6pfquispAcUB9lAx12KynORv/WWtEeQWAuxAxAlhUJLYXMXcvpt1QpWL+lu4Zl2sYS2FHMPig5AYvgB+kqK4O70zhIkX0d7getuGpmD1FfC2+HDVGJSoIDLLXJcWqzwoHeJ4Uc3uS38rEP7byZGW4tCDopLcAG3nS3SyTBFuTZPoCfKgdD8isMSKj0v6rblXKCr79NDQs0aNZo/7mZlDP1Dmy2mzngi+cIX9zTdv4gvS5KJ0f71UuEpg5XEem9ceMEPtypfrZpbYlT1fqfUoMQ5nvdPxKWQgo6w41FV8s9QzqmGceHkwkfajeTuJq5bImknBm+tDspklSNLYFhz1GJrLbi4dHYGk8gDJb/jj9XMET2okTiWVNzeCBKp2GORdPcCLophPVJKO49lSltmQcoFNbUre3tGIbajsGwfCnzMItgncANNej3CsrURvV+jVJcgsmnpeceJrf6wTBLUesAiyNjITb5zS1dhSFvap5pABvGdJLBeHoWxz7pTQ23plpzozZBxlxTHeqYT5JkDSXp+y4brzoj+jRc+hyPUYH05ClWxKAi9lCYswEr2g78A3XUcGspjqleX2+nFqwDNE/i1UGkA8km1xZ9Ousy90xsvl3aXR89rKSeV9CgQ6aNfs5mQliZ6mMkvyK7qtpe2/LHA0ruhvCwOg/a9BkNF1qqXuA4s4s5PLsuL9dvzv1y24A2nKOS3uF5Q8UX/p3TFhIV922RXPbkEZNY3TvkmFLJ2eN/TH55YZeAXqJE2E5SwzWJb98fvMEkTEfrpX9fxdYpkULSzBIN6xcotrArk0NRSO7OYbE30kCdOij1C+PxroOzW8QKAjJc5TdmIt8ZnWj23CIadMAHkwwzBoFM+up/c2FjthpQMoqs9fBqlcufsk20j8vgXUwayNE8sP0j/Az4t73pjBh3bjZrBGQqCqOmJH0uIiBJ9tpdLcbTHg1Pe3d/KSM/0AcCLFFbbWXpiK4BQSdQwCtG6F3ZK8WkdbWzvnpEokA8z4z7VlNJk5IrVGRgkDQ3d9fjDR5ju/2VqJucItGkUjbd2U358jmujIHDU/Cbqas7NCqA8gTioobxspW8pavws88lMTdu6x5do1GV7rnTxHyw1Jx0jyR4AYCP9L6UyOpJ5mBacYmsjiOySnSpKfXvBYDCW9IGmTVG0D4iZ6f0DvZGR2HPJfEb8Cw40NE2jG9WA677ZMuYPE2LdTEHaLPebMppncvKByOhxsEwFgRqwEIyPBrs0+eJyu5AAAJNgGfcXRFf3NDI/3Z60FQSum2fCKafuLU3rXed86nl+Aui6w7pGAA9PMsuWYkGGfFlGHqnIiJ/RNsGWE8oRQpY6TQsSOT6BwO82K+XXNmV369jGDsuW7XAgHpjJlav2kFQ6GbCeRCtAY9arGlbaqIWo3Q/ga3+0ahHd6+audkhLutsFB+6h1+PoyM1qzCD3j2VEg/bnGPzkzf7+ziVBiXb2PesdoUpJBF/v7jk/ANYjbMbkhYn9tkxoIyzylJZ8ypN2JZDRLKqxcRsySLZ0NBNpIL1McKPchif0cGor+pwYrdISQmPmxCFSNg0wy9lWJ6l3oXql7uDPY/LRBd7lHuFdCWqvv1rKABdTZOcy+VG7VXoLZFp8UjCOT6XHQXD/AlcOHbllg9ngbqCpPrcSCm5GOxolhCLRwq1rh3ljktNt5zoiEOJihjP9KJrylvoCgYO7PUWk3PYtMA2UvdOYD2LfpMHpyspUTcR7T0MXihpnsPWOHupgX4etqA+wOerjD7ZrH0CWYhcSvu5SlYdmH09msVl5ccFtO1BvzBiZcXi2RibrY4V/qX/TM5EWrHT3wsK/68+Tk2uIUdjtXFd+6rWW02Um5z/dm0jsc9Oq0beGx2g79A4zmporS3a6CPPxR2X4OBrGlS5KYMpEC3sUXccuQmNWsakJItb2Q6gPFAj1feLWx0CPV0ZAGmSNXZcYSAcQoxwLmL1xD7X4AYFwmwICOb38Yt2SiUUNq8XcfDyKqB3NyLh8u4gDndiE3wccxIKvQANcbX8/xfz7NqItIaJ96huiaKjlzfCW6Xkt1y/SF6lQg8Qf0id1bTXfC70k+dinWRmXfS0HWL2YsjNcCEfMN0BGRZTVQZsXqKfK9IXDVthZoqgEo7C4zoWWjDAAfcxKzAi77AGKz3dNLrSHN19OJifY/kePkxZ+kS2TcV9rg5V4O3jSA3p5mCNtZkdtpIy4qTNiGtKJYqoxY8Q0gsxyLobP52tHEMtSlkVfTeoP8iDZi6vWoC/OI4Z22WuJBWv2dCyTttepEDMnuLXbuO9RQn8ZPMn9/Sa+ZElDhjW4WWAM3NO1t/dNzbMsFDEHS/A4QZl5XIjwmNruP/yWqbMfJyrvQDBaQ/0sRudGa66vLzYTTRTe99DODBkdfhWn+2rk6+OnV/6dpNy4rEV+Ua9EpPtdvyyxZ4ZBSMy2RetycnAnu+gqf+x0Kdfj6zaUvfzQx2sNvwOB73OFwccZqjiTQzzofOJ3eA2/MzY1Vu/WGZdDSP+M5Y/P41hjiKXvK6HMwEJm0fJwy7xyfZ053oYXTzfkKqCF14koTzArRve3nQHy+cGvvj3oD5qzs1xDT916A2/TGz9Ie2JXnmtni5QmOVczIJ1UdIMcMexMN7muirJ2p96vUVZGT/K4PSmwJlb/aduM20GGTKE112BmX4l81dIF9MpYZvBu7UHjxTHOsEHwK3sAL2KiBAHLYeMrQ+NIMhnLm+/zKwD6J3L4nYL0WFtqIrbNXh/EV9OGdX7G+NzOETB70VJLJqL6QiSkcO2QrMw7iNBxcZS69f80S2oOVk4cg+joup8bcHgoOXqlEbhNCl+W5iXvufusdleobRSfHe+GfETKm9AiWmDgl0MrhwwbPAleD6uTf6R5BDhBwD6EOmLLutE/NKKGnXw0LypDLsunQtQBcgTY7Sr3C8RRCkN4zKzBOuZW7UUUR0s9Pq+qldi+ypyWKcG56sQVzIGY97WENzU0nLpkcyQkYZKc2l6LWkqEOhW2gpV666RKTqXmiqHkf8WBGkID76LHXFdC8g2RUhKxA8UIxTwBdTQduaDyNxJvairtYUIWcpM2m/NcEqHiFjt7SMu4fNkUsK/fP2NIABi/hginNl/X5TtQswyPfjWcAu8sgyvHIbgCv28fTQfV+k6kxnF4LK+FkZDRrbmQgQ+OkAAxD20SUbBDdBRhMBw+IE/kXIAGfhz05TzcaOOXSxI6YWje6sPXEaMuKyjJMV0SUzO1JqZsWl97clOCgUdP1EaJb+9VQuduR2OgLsfz2pfrbBw3SFgKIaLAvHkSaXLqq37wAdE+SoMeMLFa6V0dFZ99F/u8Z3vY4VZBO1o7++6Rp7VpF5YhCL2BoIx3ibB4XvUaactgAalkfALNGEx/qvZiigFerW636XDH+z5fCZXu++dqw+zQ5Bl2FUzBMueEAxfZCMknohcNDkWdymaUACG5kDcHcBLtWX0aqKwreoxXi+xWrp8wbaeKgiR9GdTxWwsFW2gtiZh2Y0SwSED9gENpiRlQJlPtIsqem/Ll5Yt+QfbQpQ/tViyMBf0v1QCHAs3H2vCT2DI0VxqjTgOju6meJ/hyHDK7UDUfbbkCNnmDUw50ymKkuTeeUXsM3ntDbl6zsHmsmiGQal22DrTbXUSs8Dn2Gm7HnywRRDf3uHquD8cyJw2WwGLEGuQ7lLRkWw6MHG9XNrTtC8C3QnOFv68kWYbg9qNO+x4MgHdbSmHj51kzGXu0YjHdlce1qUf6z9A1OJcXBcq11ufwkr3wXLGOAe+aCfr1Ymk19t9bGPPWP8rJo9w9BomO34+mnrsCddiNGq+/Mq/RFc9XJK/1/g84rnTLce53YrUXrztW/lXuV1CYVfThl1nnkdG+49IZfQsDWwxJwLv+f7ggfGzmoXoDmeePKxH+37w6bkde6RlZBduy1XBkiFeoJOUDG85gY54WSgieVsM/CQB8iQzpuT2ozevwjmXtyHeC8eVY6R9q2hnJwrA+88HhBkr9W+24npHJDgaVSWOdmci/7kCj7DcFJu3JT8YYFhY/Tzy0znXzK7Zdlh0ZDjwf6q+TECJ4RXJaYOte6wppbiL1Zz7fggFhy8jkKrKICLNsNoxJMrMVROmnRXttvUULbhrfyMOxIEued2C5MQdJTKfUGAnBELv9ef+6/j0q8VbFzuH/452vRYVU2ZFzFCZzGeRHcn3iaMxmMsiUKozMWtjrf5NshBmy+DQbWCvewErul1Ly4tiTmWiCk4MBjJeO7FPBiuxUDOO1zPJeEJOWTX30Zqf9WZwfokn2nGryxkN1HknR4EERPZkXwrJ9eiDkGswIwHtwvXq6fQ4wsmDz93H5ljSVf4obcOmq+9VE2KzTDZrqhQ3kOV2HEK5cyxnYB9S31XwAAAB5oBn3NqRX9811KBTGUCUbgkY7uKjcdrF/O/FaqCfWkp+Fdad3GARMj10hibtGvZU3ouVK+7NRudzycXIkridEzZ96pDnBJntjCxEcsLIjPmfmPQ3Ne98AsJOT4nzfqkItmlfGVEi1Pr6JyqHG0vpEoFsHOn34gmZUqwy/46Zfr0LKPayMVEl5hRRMvUtgMEnSplyOB/FCXAR4Wcmt/qzyztqwZYvAHdEcPqo8BaqDbYKJ4f2efPyYs8lv777uAlL4dyJJTWy72we/yr0W3kpLH5/cr6J+AXlw4ymLZGXluuZiCIC3v9I0CusCqWtPkZDz8XlRatSRgPSekkVkYswk9iYZL6W8D5N1J9Jly+lczAHLORXA2pxUlbXovLZvOMSLwaSYHu/+KB9xxwuzikiXfTNB/ngBGMdu81j3kjdZm77PmEbV9fkx283G2fwyNOrpvOP6ngGG+EI0MYdYYn70YvyCWIEJRjvetOMNLmp2PSOymxpo/GT5dDewIkhKBVv1zwhIzimCuDBePq/03HtTMm4ufXQwm0JOS0EdJEbNo0TiEICiKh2P//a9ePI+rGhEdjAwbLpqHALuWgVCPUDgQ+u+WZF6bnz/EX2+FwohQAZRsNcJSmziv/E0pqbdiksyWEpahN74kf59o+AEaU4jhd5DP5GUN3ICZN5fB5fD1PaoPq6mMabbcnAlS2ave6oOq3xZrj6BiKjXcsbp+z6pwRryOa2XVOW8nQaE07XY0L1xT+pe8HZqYYfoMktBSl1xo9OQIRHvPQEsx+Tev6QMXDbWo3gfjRUwtTIst6LNA15IR/6httBz69boxdVYjocS6QfsYozfdZE3beHYaaiUTTWEj9+rNQbKV5cBugIqeYVkB0Da3hdFOd/gIlerI/pOy2NCD195XNioXdDiAIEjprxb92gppZbSOHQvn3fF/5hbf6uFcfUXpaERXTR6zF+BpxlItwpbZbNxLiPkfPpP5cOGZFwRVT+Opqqe1UAJGD0CzGpHqq5/hcKzZHvjLccU4DuUexOGm1HwKXsHqq/5HlOnsbKHaxSfhZEJnvMBY5tPJMPO3Z/GqO9UEciQa/y5iWyZX36FmshNzTRrWcewRmPfJ8qn9ix8n7SyZ2MzjOP+rRKFoqydhBA3ph/THL6gc4oAiM6QC41j0xxSpGQiSaQ83DJdrAGgmN8i5JGnmHadJkbGRO3a9rqhffbbxjzk7R8O6SPTEgSRcwUmghjfuu+rjxcrQKpVjSEtcUmMiXqhqcutSdgFvEj0q2nkfRhNQ0cuYNJ2HDemo9lsx7NRPd3iKuIkk9enAp2O4AzAacWQwhNmR2cPkXRbMcpgSA7DjzUr4av1zyt7PDhJ2y6UobmqWjPmYDvvbocPUKXEa53J+VKWbMSC3RWcMHtqkn3e43cbsFdDM6jtp6Tfkbn59VWy9UBzhhKINqwlW7SU/fCjeELyEkWeOL2QtQ6WsPUIqD9k108fsf3avZl8KdoRSilVcWxKIjHcTSGjVryMiFtpHEQ26AcqbwqzQDPT2k3E/8S+ltbTtBW2gJ16/fobhFkSahyLpxvsq6cR3i3iTj7p1UroTJk6Rap2t6nO9UP3E4VwZXvDw4obENqGP4nPkfDSlEGoMaiEXrj8sAkyXKT/tfma/hw1BMjIhDZW+lOPOYk2OKmet+vEYgJbU5RsA7+/eir0Uurzh9CCR38ESV1lMSFaTnX/wYVOtv7vy2z+Os6TfrVViiNKf7cV5SSah9hN2CJQ5Uayxi0JusROzSeXOR/D5aglDlisGEGbgSKJQ1t/1dQd+eFGXPjOxpdaIMJ4O3FqsxQ2hhBA9tjFY4neFsbQlnVjZyxqOPBwEWjxf8kusOXACCAHRFreIpINFmxHmf3YTtkqZFzmYy20i8h9hyglCXmOLxDs6IyYy1OE60Hmuc2UEW3UYCjNM2QHDVfMHTveIgXh3rIUON9rq5q7Vxp4gvcmy+ya3uNo15WgKzeizqVur9ddTEE4yYAsNWcg/96MKK7OG0dH8Fx7CDbWWrwKvX621KaPMwdqOe1lUqbQiYjZoRwG1VRxkASje2sVvluP4cWadMNBNh3auZb9wGjCM4MR5QBpoyD0/lweJouXgAvzp1dP/fiifuCrQpXCLgBF5fSxr/XWTWETABU/Gf0qjC8bqzCioDR5TinuoidkGVlfTbs6Udc4O+Q/2hGlXrQfs/vQV26XvF6amqWi3RekQ3GsXlB12up+cKz8cOHG1jeeZ1Br1O6k56Ipj77/gAv0VifOTMB87bXk48LnbPkdCLD86285AfG85Zbfw2sOK9g/kuLd/J271h2NDaczpNlvPKXsxvo7aZfuijif0d6oIggMJYQyCbDL6yJsD++4FY7JVPHnAAkNqrA9nPpVqgq3oIN+6zoeBMVYZID6vitcS+xgbqouafo231W3UXkaEhFVgPTqbqYVNEhDe5Xt3d25gixq7OwaraC1D26eWxO2xCDwmxvc+i+6bd35Np2Q6Pw2C0nhXncJlSSzg7ZAmDPWfUh5ztNiOhwKUfr6fETuWP7mkYxj+WmQAkeWSHNdtSi+OJiBlDf375zCkQp+e0+6fT4FgB6QAAEZ1Bm3hJqEFsmUwIv+S4v4DW4dCAHamruqeSTWGFYldBpyXT/vYzipD0UovPB0EZUUqIAhUgUNZd3oRA6EErLbAnq8r1O3J5iPaZCVgRCMg1Mk3asAR87kK3dg57Mw0D0+nkdrhxWPXvM8MGxr0/ng3CRYZpC3CmZgaZRjK9aUkymLo2/sIsonV3CE4mcxFU5YQI0pQACvc8CK8ihTInuVHM6zBP6YSs/VqK+ncBFB383N5LY26chJta16V/XliK9JKIA7CPq+920EEYWg3QvUa7SpFfqSjX6nFf7yJFmXqitiurV0IupPTZiToI985zYOHrvGRdx7z8xCr/zK6UTqpNf1PdzlcNin2HEnx47ytgzJ/CV8hy7khFVFPdnq4fWEhNUdzUU+jHSSmK9WIeXHaa4PLNyFC08mYroVj8wx5hC4So9rD+AY2mLnXu7Ug6Xov/RljBaDgcwk+8kEIpTz/oMlAMsokGnGQrfgbaz13pRhalvi3MMx8zRUF/wshdS95ZTEEf72HTIEhQeStF4s/GZSDp1asdTACSaF1MkhHOKM/etA0ZXQKinGIvb4AAnsdL/nq41zMILyw7dwpjT1Ef8jRrURTt0UlF8OGQqgs1RvAzKzVdSqC2wNgQD+vCVobc7dSaniMMNmVWcw3MHDVlov8zJBaaZ79drmG8IXlTcE1IFiuu3xvqnWtXDCWpX1Xh0YW2D01uCdnYmjfF1cizKnq9eW0ZZx8me5f6C8EZPuOaclsTbrw4pPa+Goap4P/z5T3YAV7DxOgotDL5Gjf4vWDYZhdcapdcuc9O25aWkxEszy32j3Ppseag8uonSrMP9Fum9xsR1eFbUe3czB2QhGFxMI+0a3JxPttS/+rn+Jhy6NBL/DDEPAiT9rbCWYjDugwZnxb+nx4w5J9JqnEANHeaFlQmQiti7DcJUkLJkvoU8aFh1urhomfVayH5o9SZPsmgiG+Zu45q01k4/ymsyjXQNsk2EIns6KD8K+1LebGKy20LyjPhVM7bjxAXn7pkoMCieILkiMp8xNoZmjV/TK7mUXwn+V0BssXHVgTynTDc3DM2nIHN+t3nqc2CMh6dukMbR8rbZIeCotY22ktby2+41GislmbBSv02DreNxq1ntrj9iwgWRDv901Bvu8NhfFFdyL1RtsF8UUYsLzaVT0Cht2ic7VgbbJZ7jlAIldD2L9WRkg056kzmDaY3o1VDeshfJFCGIjBwgYrxcbeL1oOCvzX1ROtuiMNg41Cc3Ev1fXz+3RF8AuS+YFshOk4CB2BFtb3BIB63vAvrvnXenwpoYIdJ+ofXh85p4rkKTfLXm2kYzT3Dk0OzJBu938O7+AuvJGMiSeWw2rAU3ny53ZTZFknv4xj1oC4pC4eaKgd7h5Flzv+uhnPobyi3On0GlcbBcxmbHEa28ry3YIIa98JN7CH+Hgqah1yf0Ridqcscls6OEsHFs/vp7armBMDB4Z3x2oHmsZlvzT11eP6nm81LQQPNkJMxwtpVtr+O9vAhSl2dm+aRAAWV+Ouc7q+i+MNuAWE2aFBOLihHasl7bhWQk5x+f3arPtAwE/3zvLyYP9pJ/BFxMXq3LFY1ZGftVzuQviW4MWrc9DWBMPUri4l2OQUkDvf0VMlHS+OdyIaGulqmyn2FJXhICqIhiOq6gCYafj6+jQ9AzY1QKFdjMQSfTUMD52q/86AgN1qZIwzxNJy6JvY876kkp3jFTBEEfwhj3O2kIeAaCDS1kzOaZ4ggXKg85FclhryyvaA7vhC8oRg4rQrdQQ4gPu+Nj85wuGA3p8PhfZkf5KQrFbwgIfrI9SlX8huoc9NBkDBj+xZj0fsGYfsOZTQalyDbiJoAF4C+tKCzN3w+wVha9FZQvjk1pzJRIG5fM76DpurN926+1Ib2MOkY8PTqTtDKW71ZE+GSTmk75uM0T4SpNDvQ9veEtY0/ah3K79ARRyXaXrb7g3s0mksOQ3o/aniKuuYsZbSrhq30xw07AiNFvfwZkG6GQrPbyivNSi6QTDZOyJHPAQRKV+lk+ciIFHDhxXzLzl/hQb1m35uJTmadjWYxdOdesgSHLMTQ4+gLx+ym9pM91KDRZKYWNKM6QQqrinvRg4DCQbbuj6aOngOb13nTLIkFkz9LfOsTXQVAjNR1ZxnTMlTTDeQiphZUkk+TX8Vq+keMie+URl9mpKyQSELMTOosuuhIrALjinvieoGizW7+3M/MumxRDz3DlH2qav8qWisPjChWdzsVxxKCAJwzZbADILmz585+cbcUcEJG06+zP1qPiOk3+n8z3/nLqEhkSwkDYIAhA2Q7CHdiIPASfTguRXCz1fmXYq5OZZ6Yg/3Zc4r8eYouTxPoN+4qWx5peZmrOYFRp38yrvnn+UhUfezfOrdADM2YVEwy8FSbLUgKXMjOpf+GzIvF/o8MPkqkqBJPtNi+IXshQ4CPh/l+oE8KaxMEIbJHqWT5gav9fs/NSOIBgDUGMWT6KadHEAQzAwAcDdGzxj6DMfyDFVhN5xLrn5DkwOpdPFQZPXyKV6wpgj6RXyQ2OK/oZYpW9kU9nta67lIrsIogEOWjpDCU5E30DCKViJTDHiteI8KJ4DAHwHDHmkf22UvwP3xmXgh3iMEGtMc+kEqsXcMpBIh3SFC6JBYcfny0uKkxd7GZcEMdvsUKRVglinbFKw9fE0jt5QA2q2sptJvT0NdZRziO97HGL/2pPCKbE6wKvTUPavgDCDEzw/4SCmuKmhX6iXXTKNC+jSFjkztFbXOHpmZgGLFBQUKItU8fASWQoZfxs0s3DkVo+4UTap9S36wdrT0ihTZNJqpItHavTabRyDJyZTqbFynKgBVFEb7F3LpQ8PwCcico05FlKOpp2iIxqGSRrnOTVunMEqsAeb+/LFOLHWMN0Pk2bIYANvJ+GYk5SU9StQoArbd6d/hkWkwRW3LPqjJbQj5vmZe3aOuMyDCWGBEGeGdlPiCxqqmmHMVpiDKPTZw6BLI80fvbjlACc0RMo+74XWj9hpIUW6F6IPs9rZDzGUHfZfFZeMWS16Oa9F2vPl547TwVDfc/2hIUBSgrLQJKQ/fTkOZ/irqGaiU/LPzvGQyq5X9W/up23ikSXzRPGh5Ucb9olwTt30lEsIXP+uNq72adEGtRkX0JnwYucgzw9IMIpAlTcspHG68kAO7Ah+VkT30uwfANdc9E8YMTzyQyj9Fuu/JhjV7xfP0TA7509oJbd9uVJ+VBEw2/M1NliHQYy+U5Kzpyy+uLEDQzFPe+H3/o/yNyOiTKONixitkyjSR4+i5M1mPx8atop0DRoxv59u2r8mB1xQ36JEAG4rxQPWf32BYRaIeQQ4vWvUz+AaO+317ItwY/7viwey9vZHbfjKZpplNpX6rMCZ9UzBiUplTuoY0ki+y73etUQyn626id2nWOrAR6zOxrk4FriaptBEMeVq6sua8T81kVScHBYp2eL/OIXklDHMCGI8+Rhqtg4+pchivtltifI0zIaRHv3N1+nJXAphSdjqQS0N6g06z7xKO3szbb8bHEGGeeoyqTkj82OXkbovbr9y5DUQnlOuaRBQ44vT6fDf0gbNOF4ZzSbZFvAsIgXqi4k8DBZ4Zor3xMTzHzUb5wQVsdrEsFPPbvq5zEVC/8IdM62x0h/a0lJ2PRZJ/YXh/d7iumpeQi/WzHM+zRV94rgrNvGUJs/y3+BPKFvmyZWBtQ84CDJVwJMkGV4bOUvmjP7uzsjTlry5mTxz8k1SLnf544ZCtw2RF9aaqYlLiCIrrtZX94IJaCmjGCBklBnvEvvpJeVKjhu7lgKQdTpCj59fMLFFpsjP6S6ElY34OWxhpkisxbq4SS+YY/2IhjyFIcj/aC9T1mzDtIN2OGRwbpGAczYu0c/ih4kiv1LK7wT3BC4Rw9jMWsNomHclZ0cHiEY3lULjJ/JqeWf6juugnteDfgl4bn7VvxXd7uPXJkx+32edwwVu7+2guId/15z72W/ZCyElbhPy0ZQtlYuqFRS3d1WRBRqxu5ZUlc6s0YwZa+vd5PuCSwaYqbXvpBLBkIplQOGf5kxyfAS+/EbwGy46Nq4io6p6kKp68GVGG0XkPRDM9l+o9W3OVKGrbS92XSkHe1zw3mOYccOxAHHe30dR6ESGVdWxnC+WPaMqlVrfL8of8D9jOFQ3A/HWAIQVyR9glD6kuElo3gyallE/A05hxWlm0u9j1PW1O5GYbI9+Zg8NL5YAInD/Pe13RAOAHhC25nBFvV8t8j7gLC6xEOuEXjAr3K8MAGq1XIZSGqraxpog3WtdmukgWgKbKBU+bg+nxkcsfXHBEnSRrR5Hw4J1dPFw9y/LHsNxrxKQOobW/gb7nR3CE2d1lvanpbr4irx8z9hmAxHDHu9pcOBPJKgJHvl6P02+KccoIxea90wtJdUDddQ4Qnl+44WC3cB1MIBwKlQQTjFH9PnKd6y/Q+BFRymkcXFDbZhtJZh6TnbItXctJS97H0kxu7MoDkWRuzq9qR1NXLl8AAkTxx9LzGmOfCccLvmfKxakr8k+ESle7p1bFL3YIUaNLbG2ARLEhxP1Bn3YGg6twoY79IsmYicjO3GJDTHDdMULFZSOggUo3TruTSv9u9Cwfebr8p0vr1G2YLpi5NxGS/4GRee5Y15FbMLow6LXnZPO9y+q/0VdIN8GuRaLoybGE+dbudJuDCn/+wzFmU81K+BTmRWXtQqC6B/rrVBJU6ryuYxypEqNvAfpQs64+Zkoz8OnNAXhMfWuGP3k+Jmdyf/jKKJ5Zvr1b6uXhl8Zcv1PktodMVR7U4A9wp6O0+KXiqPNoN5Pwbyb1nKrPL1o96Jv9kkF3rOaxWGHogNSVU7gw4UjJtkdIYf8xbgcgqe5NXwiMDsymLDLSvf2AkRGhmZoXUfxEWW0w2YW7chgiMZk5ARYIdjsQ9kc4E+cVk2VQE30cv3Oc76Sjr+YL+YDHWqPy9zof0Lp9YqUymKg+WMP9DOEy6AnxKFG3+vMoXgv+Y053wIEgCzTJhNvqY0IVngBI9PjV5xabx9PP/OZWq2Jjt9FpizcwWk0gzM2RnryGJ8XWmO0i/TYKJ+2BgpJppFbbU7QaxUlgEidpJW4+TiOonPaEsNuL1EenFb3SnU/cTsONvPYc6MQcIAL0No2UtA11VdNRVEOydMEgFJ7D/mKEX7hidVQ6foP3CQABWP1qGKw9QKZ/OonZhqWE+X4j7q+2/EdcYc1maphUqT4k+tlSwa2I9u8jU/dm81lHNozgrS0hygtMam7zSnu1kbyXjG7xwt8vAxA625yCgjbeBjFLnh4A5kqGzUVJa+ZNq3WhgUqHiwJYkV+hJ0NnxTdFntVFNsMKitTZyxEYQfhO6AQsqq66a9/tXPFhcP+KYgQoEs6u6N+QWAQGEkhkBTSQWhDx4715onF0gwGvdAeylp4l1f38k6vkDEKYA/pspoHj4Q5SP2OLfUroDszfUQy95wJLqyrhxqDJ822az9F70r9j+lr9R03a4n3SrdHOSF74POFZtXY0GdzcLBLjW4eGsSwHhNxvDuH4tLma5yEJStW3DoFa79cK00nKumh6D6dN+HkptuA6Vlz/tQFVH6ebsT9KlTcm+HRPAxJZ0GT/sFymfTgIGvyaShr3vx8NH80Z9Aqu+TcD4th24uLgN2BAVcXoTZned36PnHCx4PS4Sjdn6WpKPi68uvrYJKJV9yKWWe5Hf72ufFw+e/N8o6tNHE7ezZnvWzFucE2eQxBqSEf4wgeFDFSU+Sj0vicV5y6UoSvbMHxZY/wPNj+LeIvl5+HQOqNWj3fvus0RYfStcibazXgbEgfFBcS7a/Ba4EiKiWWHKpeIeSu8NVRKSpJsYaamxnbvIgDfEmiiBSV9EAzNfZ4XRFZy7hDm7y9YxPuIchOJr3I4wLM1OUo+glRKF05FXenZRMurBkIQ5PFlD0LZnakRAU9AE3AwYR3rcrwubbQ9AsYyau6vCzq4pWA8VlLBlBONBxNDBfmrwzhhXdnqwd0EAAAlaQZ+WRRUs323p0b1RqlnFW6En7/cQslRqHkH+DMssi7v9b73jNGr/rp/xSMSNsSN8y2O4QeUJmGkA5U9sqQg6SlI5sGmlrS5wT//bY40n40esPR1KO4se3ypEl3SKeV3aFda34r7p+OLazmMjAq3KTnPZo/H5RfsydG750cZxOBec9hXnVnTw+jeVzutbOsZZA1EXwx/fn16VhIpdaQ2LL19W6IWL2zuqTVqeL+JD1gEVlfPsgFgulBrO/USkSZVjZjCOPGbldjHuVV1lRGVNafXIlifg5OHgco92byAsVheksFMrgwZijgCFrnrVcItxxqB5MVUKizYRIGrqFkT2pors8zhuUnTQl9lYTjEYOinJ3kY7RSw9RbsZGf4/9oQ3SVDhWZssPlUEr4wBhk7U2U7krgmvBHEIStyt31mZaI3ZvbUzCZcWXrbXS9alP7wg+LqSOfZbmKy4sofFPkj6oGBAAma7ZOQlCEt9D1jSrtWuExVBj9jyBYoWeUDbXmBmV1d353m976AKtlo6U/R/IoyNattnnCZNK5An2ZIjATg1rhFe6JIoxOC9zuOUqBSPWTxTpe3yPCow0e20gD2DvHu8c53vG7ibvWCNbjaszogJD9ENobDlg/JWpynRmDNSY0Uditpohx3e8T6dwaN4jlYKZwND2NXC79YzA4bhYdvZqZfF+prKS4QieaAS4j/P5uvNs6705u1W+HNXQqxqlQyuSaUfdbqEUW4UWiWIZtxn3zHy9FPmnESRzfCZjp3MnIQPitgwHHuNP4J1B4uIBCoYkgK7sUIGbHjkT8bC9JwLjjQWYxCFHK58+GDepcNKD+b+JK6sCQzhlnJeRksWkcbnGMqltj+EZlUIXCyXdLckY5wH9r/rrqzzsTCWaf0iKga4taMO7EIFriH+TU5LDEDJlYadN8RulVcnE0xiBqIgln5X4lbiQGjIz2gsJydEbAAXuN45MVu++mOBnadV2NprTKulAN9A8RLEMmL1+nZia2OtXVEuE9nxylEN3TUW54blnE0IaSBrrJlk1EyInj7aeiVu3fvb/koqwfX+BOpRWaYmAFNraktqIqU957zL8nTllnY4P1tklWQQ8eXUrg9XeQCaxmziVs9e4hTOOYGgD1GuwEIhD7cpNojBTiw5iA5loYBBzRA4LKIr77f5svGk3R+yc5QEzUFUIh8hKHk6kfD3CmVAnhhDNLpps6L3+sszkySkb8U4ZXGo7syC/z9sfHJgaVJeZf5kklr7fPCIqlCI+aSXiSfEAi4gZh5prSFX+1bpSHfDBICYwE0xEErnHyZu9sRvZFHoDcY9tQ7EsFrhW880b9at+RVtuIg4rRECeVfuvKNA7BxeZFjLrBD6mI1GHIle/qkVIEVRnILupIh/8hAarJHCi+8/UwYm5OIeuDs5ee7OVTQKqvLwXTwWXmXVbPC+RsIy/FEqk3Q1zl4jlLDHyuzez6dZhKPUJ51WxXxf9PFXLPn0Y4dXB9WNYmaaVZdCyxEXZc1OpC/+R812FexDZ3LA1x9TVQ/G+jUflpQhwkEQjjXGCYZhME28+Jave0IuV4K/eQKFLTqaGmf4tSOTHX02mKj4yNAb6C9vml3WTvqLYC3LJADCPEO6lZ8N1B6tTwBMw2EJndeMDIEF8hIPHOfrq0bkPns1r5NIJqpN/vrRkoPHfge0TPiN3sM+6eIP4Nv6wVFaosWt/3IuJPQ++3EPxBUEibJnriuxAN4ngJk4TrZwEGdhd+gISasZc4AuamB3mm5cV2eFp+t/Rhp7LBmk7wY7kEJp7B75xRUNEWtiZEeUGcsNHlAipwkxPlvGXEHftNtR/fF1BKsXvNHNlsrziIUj03cPgW25izFUMuGC5gIb2JwIFFKYw43Y+7otpAe9NQVQwpAmz3Ft3SPEhvwa9+pBerASIji8OXg7SH1vIL6q1FsaNyamvvJQjRbvNSMZepO3hLZ8x823OrddGjpXw6ePWgGdITxCwRKn7GnoLJUA3bmwAXdXhhSKyBh+Tfw/p0YobOVEBb43PJs8heCgVVafnRaW1/Jc5cxcfZ1y7uue1aAc5pYH6cbZnH9waebgj/eN7At/EMz+NzNzh2oOobFyxxrRxYINYZcy6UgJPK485fgUu7mwnijBqnvIjoa9snptjlllOtKjWYUfmHIhjeh+H8JyPkY/XCYDnTYZpXc0wp0wuDDuYItFZOHRYzF5/wLgTru2CM7+lv86/FZtMGQ4q42YSXPoY9s7TeAOsOuehzk6I7RSG09Cs62YQzdVIgAJL0gL3QuQnpEHm2TYqzN32Xw9m5ugSQHiuckz9LjJtiVo6bZv58fc27NgdYt7DF58oEu1dGwGt4J2ZXS5pR6YHhVyxcfs44Jkt++ZA+13bC4hUWiqKpoXM4Y9UV4tSqltnBbfqsI3MTjD1wPgUSUSUJ+FMI6MU6qRLzdi7sEiafH8u9uwYIR16qaZuz3aby2x+ABiuK1KVV9dgNtqDvc6YMh8GJEL8TbLncfmneoKbrvdx6FMxzVu//GCq42tnrs5U96xv3Ielu0fxEMe4KaJkLpNpJJTfV5hTOhy6+3MvzfbT6X+rkyAvaM/0cbMgrrR/ssJwAMBkL4736GfFQZCY19gRDvCzwDCS8kGupUearHTKyMsskmLz05uNyZYNoUdPILZwD+1Fe0svXWoZo+TN/kGu6An2fkbY6BerpTCZV5D4vqjgFNrGBEn/M0djn+YxjTvFwsska08yvtbvx7cQQaz1IUbZaM0alBrFofNmrd7x6DORYgCVSgoV+EgKKyQPsbpgLRSC8Ol27OnT3jbyZeQZHJXQNlhD2w4E9dsl+OdiwyGpVACMPmcZdUjSM0nKhEFKaMtu2/2wWChK9R1cvMendNo3qqIQjqvNh5iCpjefqMS9EXTusFeRnQ/4WB/IUM2Wz5DSl0JgYIyOYrVtMrLwvAFqgBAvXFvApGxhNtRDka//ZHxreTeom2jC433KKu9z9UIQU0CKjH+G99cvCA+3S5sMXqVrqkdWZRY/zrQ9VLt87apWxQGKC789ESuItAn3rpi+33SsluHgIa+2L/Xfqi9omTZAG3u/F7OdO6oPc65JYbrpJcgHcsq67NdrYpZ64N7e3KHjbKMBy9UjDn1CoaP20dp/3T9j9u2D4Za+P6MHHPIhfDb6fGxaojsmTGMpVjM3oLMT0fMAAAIygGftXRFf3b3+/XU/1xfUCMeLZnpMt+I5ZRNp806BhGZ4jQtYzURk1Eb19jYmIOcynXdiBQU9SAYlcd6tid+7fEcQwcMFkiy8flaD3qzq1UPL0xhmMvWR0O/UNDkBWpnWnU/7pRN3P0+NdwBQCmC5qKo7ZqpAtPOZCm3M1RJYFqMXUGqSR//uoJHMfuM4PA3M+BiQhJP2pOWLDhQTmTEAAH6LBz5s8hm1aMFls92sgUfwfovKHNqhJQzd9IjXuBt0CodgtB1jGyUsTe5YSYLpReumkzYeTC6jgn7HK+oB4Qn08prlGhczbfU8DomwipnB9pfIzbhPWxv/xBFYpj6HGB4F5dpUk1vgWK7YmNdtR+0XHUgbtgeeo99RHCzlxkY5H1YpTuMpZipweHMn3NB6v9Q/i9fbXw+Xyqc91JUmkdQ+boz2mpi40/c/xF3pbjRag0OO4tazmIDQxJhyNgrG2BjzXINHIajCb76iInpD615c0UQUyHV+sI3HFM40l4HhvTCeeN9qwwiN3MhBUZnaQa4vzeDLP/PFWIXqSdULH+AKvNnd4UtEqgGsYLeJpiw/Uf/nzt4Bl/vEsvMf2xNqD/DEsaY7achXQvEclvNJbXMhHJ3lqJIzAmu+ip6Nhs3VeQfgoKDMKU2Ky4ILbezDuCrR5FwVkYGh9eeCbVGFBUqJoLNXKWlZEPYGFZ8YIkz6VOf5kqi0PzdKXYCU6Low6BECjyEWFfYA7oQ5ws3WEe6Dxv9XwnrEl4ooumqMUrlwYVLaRjxvKvQV3Nh/J90fIkiOZnM/5dCnPgU4tptVmFPSjLtZkdue3pcShCj924NaVFF6KchIcvTv9RXah8nLxVZVjdlBsqxY/lHKuvVZsmnpB4sJB7SLe5oS7VlKznt+2FRi5e6fAUN7CXWwJXYQAzfjxN5WMSLAbaqqpiyk+d4/o7jJOMZinojFTZjvJQaGeCx/1T7gPMT0xIZIWMaeLWqjNiUP7awyRuYjtLHoY6/PJ9DbcfDIIJYAZ4i0KIYM+EURjUX73cn9Ke50P9G7iTn6J5ErjAvb3amh6Hhibop2dNawd7StffVrWOuaxz6KAg/Y3JZO2NhMdsuqjyXCqwBw2zRKe9IaO141jq6NgW2cY0MNdsnBpp0jL44/bmo4eDJtZZZy31qu02cMbJAtS8JxjZkfWLIuqegJ+Ca7lwipNqHaoPBkppAcHBbBARVzCmzR+ItP8cOFAYg9B/o3BN0tO2Up+5X+KET3mBJk41CtYJzeW5OU7afcqyt02LrzopQGJplZgRKZodu4HRActq2YfZi6j0lEb+QLS+fh2rhH3ffxHbkq4DqwHaYpqbMsaqevZetp/JZ600+Rlxzj4BZdIg+u1w+rOXm+nJpQmSBvXRt2XoYuecD5Pa1uIm7X3E18TAKHYc92PNJqYaABqNZHApxoIFt/l+zsWOir9e/gVwDrDwND1uCJkSKMRKMAhWROKGCkaNjaD+4JRkCyAO/6mu/1PqiKFo8e2bamlAQe4zGwJmrBNg9By37LglZHr/1HqFLkySf8hn6aQ9eGa88Yojgx1e6LgytWDzIAW7g/DLkHTWHxNED5dOB1NjRkZ4qIIYkhdDiSvKN49mFyQfMsEedNrgcZA3aLUooiy7mnqbXYsoDi1E/Tfzm6I8Vz2/u2MW+XwBoXNGTbG7N3GGOjsrAs/lF/NiWUx/IDdYPgba/IonOuRDugEcgV2X//IdEToZMKd63GhF4SFKkjVhi81kXL0Thx6IF5Ci0K37inxwQfLwR4tJwbCk0PnkVIcudDL4nJdzMxkGD9IMxTZ2qPXioBUqcfCXxzYOEEveG32NXXEKpjbwEvVNUx4Pk1bjgXpJVK1Dwt3+xui0zD/7y4huMJv/U9QuItkThMa3bN9PhFgIUDiWgJmHPqV+EwWL8vPPesnPZ6zOXolI6lOondIlXAz18l0dVzngyIcoEF1wOLcq0iLAbJW0PX1Obrs13gfCGxmtwbUnrJ9Ke2Q1NlCbZ462FoVCKgjdgQz6dhs6wE7VlsPOgaIA2KwPT2y/1CgYvzhNS2FntzBrxcHZY2UnDAhNX2kfbvKd0kLD9n9NRpMgjk6RI1Lk+/4BTvZtQLyL0seTroxOiQBac3RZee/WSexUPnIx4es20V4vhML5haNScxnLIgGpuHjbsOPebifdPFLrvUEMwPRkCeQzYEL/DXQB9QN/z6HCAo4xtZrBEeRiIRZg+gl17iR75/ZydA+kGrYuqu4xCyKW8gEZ17qzbMwKxF+HCxBqg7U+sIqFUqxpY0+epXfLGjtx6LtkhWkglE6FMuX+J3LfOeEh751dWueDPa/UhevTm/OfNoIa6K4IA2Xz2TYq+tu8MR2kFCsK8hU4+YvQtHZI36qFgHjaU2bxAwXKDxXHddPRv2z5pL+OE+JoTVKqrntEKuL4dCyrjHKrynPoW4hRy1uuqFbZZzXNOl5QkiCN7K8rCmWoDXDnwrg0E/awKAuyVN5ryqaEj1HvyfwN9eQCBqMOiDe5SOa15YcJe18600T3S5qbaXlAC04Pi+C0iw71wrOXaEATEbTWRgEKzzDtwAW7qNCx1NoiLC+bf3pk96Ybe5DEE2O6IZ+5wsyEzUdsuPHO3+d4fMvXW5JZDPxwmKiASFIhR9UXEi8s793QpQ2eebDe8dAUxbYie56UjVUAChmNiFaAfSsOEzX1KoOMkzY+/1XnNwU3f01HW7GHVIMaEw4rxQltkx8mc4ijQnT8PXM+5fpDKWmnWbV2xniewC1aAFAvYZWthzuIdzNy+EomIiB6HYNHMFiw7gaF7SZ7lRw1rHURVS94667IvZYIGf6vf+jjxxm1+LGmLMCSVoyEcyY5t1AL7OoFX/l/+62P6GGinzZx/fxswYsVYNMH+Ulc2UgUUGv8V4FC+USoMjMqPOoDt6T54SPZ9GjU3S6f74K0GZXPNFOb10kKYWQ1sfgdJVocewhd7QP0JGcAaKp86kBCX0M3GWyeRLwAAB5MBn7dqRX914T3ejYsPtv/kvoVzSO7RlPpYi2y2NCiyHg1Ti+6tBAsG+Y/h08xZE1DW9fciY96/uVa8lgFbhJkp9SKUsa3ONW+6GF9ugP5RnpJMnWNStsvJ1QdMKPIsp1UzOZS6mDB/PsDsdg0lJsq2P9x95YlL5xsf4VQ8Rr189iyIepTJEMIrHM5nbp3vY99LhmWIDrhOw1QR16rH/l1elxQnKLYZyswaBdcPEK7qLcEdR3Ynj62hXTtnXz//e6BLK28+CCEQJrThglCdgCik5ArAAvw1EUx72lNUVOfjibrCyB6a/OtK9QbFf2BInTUXZSscrb3e0ke/Nc8uwVbqx8HeRCseEUokggGtmSUo7bMMbcaARjWGr4dgvZu8qf0k6mhv7iSpMQK0VtWPTSzJ2o98pvnkrXtmIoYsLUO6XTc9Pewu6uYbmbBzE7tbqabKhnUpfICW8ROtlHaRwPGuztzxtAAHyyPTH1MFeayPQQFXAPxGyNtl/CLFRHRDG7qz3HZ37EwnsuowRxdGoiaqwghdEoJYzO4mcZvqOWOkzyk8qXbiicpgg4Me2kXYnl3r8VfhWu+3ZspkBbobhwDIHdozqbWKOBj1pBG6+/GYCzvy5d4xEza5Lx5z7XfTR8vLbj2FRz3QMBHhTMi6SIHmL0g3GWMFpkCVgPTphDU/VJGnPNmlhP9wfFNiL9AdIf8tiS+rUCVm3GcY/p6x5RdthW0J3ig4d3JiHNmeBrcXKiMqQQB0A1KP2wBLPS9YVXf6t6VI73w3HAdvpUG/QTpxyynrcHzMDi84+7lGjIBBciLHccgelpS7F0pynypkTnoU6+5oImUGOOFqLVSsVNtKIed+T/Vk+FfG/+ZUdaga7IzPHVXnEimm+HDoA5XVjb8EbcUD6mX130buIvcnrj2fzyLdj2eo7rU0QhvZAEE3HX28CqOfDFUnPFHUMtv2xkNcv/w33oEWlIGvoDiPz7GkbvfOOFsEM/xI2Lu+wJXAH8RVIml3naSXYRs6VCtUO2AJvTqFCFonBCXRA7vG3ErAGx/Th89if8PP7gyYP9gJXEl+oknmbT3kktIC7rbDBp83P8NubBwnobZ+EvwCog+i3FNitP6HozxHXx4KZ6tltBkOs2yYqecksaWJP2x4b5wpxWjH8/mQZpaYLjAIx6HEoQUc2ECy3KVnjEuFIw0NaCzjIVNm+3GLX9P6scXXie7J+fptH/IZLnoihHuYfjwyBf3puu4mg4ovLeXCrBEtfaKhkKofAyhhx0ABb1EtnQHbpMO/t0JONpsBcYd2xSrubHGoOezs4yppWCib6Cbh+PA7rlIeWQoYY3wkfnwSV9kFjNElQYPoQM+Ao85nE6zhyau5uafA8ZTzfkPvE7yGbqTa2hjE6FkeEZlWJkh5EjGhjhzynZoJXyYpwcHOE7beHw3BsU3lhAoZ8+aCZXOIb6BZXraLkDLpPkuxNGJshyKB15ZpyQTRXxYT2lLEnRrYA2ubHCVUBP8zzgTmoIBm7XIhIWVpqUiqLeJFZ9MuOyAchOPO/3dTsqjtRc4mJnBSXKse5W+Kau1W/ciWM9iq8z9BtBVyKUaJC0B8MYgrnVC9T/19VRv/IVYZPOiHDBWjMlcfGxSwmZ1BLKDAn9jkqZ7JOiiSYuqB4VNExMRnoSbNXfwwWTjikyROq3dvQC/mtbXPiDT7RD7li9OC4BwYk52Yxk08uGt0crg3mO3GfTqu2EZnhBWVQBaBUCuzDmcGWOFS/pPnjDoImZ8ykzS9WmsiSqY3r0SBpth0FbYQigBc6cbkbq5zvhHyG9Rc+X73E5R2a9rNr2GClxaapT+oIF6mZ02Y1lzIk0Qc4HshWE/3AU0OStO2XNJ2bHGYIhZ5uZohuINa93o6XuHG1h+Mbf9DHUgxl6S9zEtIoLNkmundMoBO7akVOb951709LAYJJJn8yRP3sdR+7XnaRWnIOufYc6K50vo9FpWWqnRXN28hqShl8uEG4XHew3UFdyY02LasKHdyVRWrZSQuqiBkKBa+0TcmL2X3fIvHOJCcKPw77wkhHoz2CungzpAqg6A1rLit99jHYwVZ+2XB5PQR4Pb76MbaiUqQ0d8iB4d9mlZdmsJwoZlTMcy9tXYeZE+LhzLU66FLxWHmd2NNee6i5DhHwoKMgIH6Ie84yjL/3euZq2BZKBo1824irzWbB/zze51k/xaSTOuX0y5YuBRoRoYzbcy7s1a705fdEPxLIa7LvhKtwN5YaaJ4KU0yYdlguNf147PY+aaGTBVjcDgDuzK/OUKSNq2R2BC4fdTcKh74htCT2HVManh1ryIT0d1hmKF563sIPawcHsIq+U5VagRuzVfF6WXeXiNA0pCBkdJhEFQ/UA5IXRsFEYabLAm5V6WwfMBQISUEAnX+xJauW8olQ45/faj+ym1A3mF895f4pfAl9cPXOuM5JdgSqyh3gXO90di3YH50g0PUPzLQjudcG31eMU5LSdhorwbwUSHWNsRuixKFJQcMDkMErzURoP2X9bTTB3tknpnJPVlLuBictoL88Z4B6UestqFhS+wrFPVyeAkpbtt82BZFJfTIJcdNAAAYqkGbvEmoQWyZTAi/5O1aROEAo8R1js7c2V3rXvzPag7MIwv/TmipApKg/FcGuCrthPtQ3sZSO2IKv666VhAHx5mPJzR83DmpQDgmnTnQhT1WdofGHYcdP2ZWgRCwgQHQCN4qL0HsAM7IAyhebLNnU2BXAnjN+YJv08bVMo5qRGOHpjLRHYT8nDeKs7UWgSsDYwMg5yTyXW2QzP7jj9vScBCDRUVvbMvlFSgYSx/2sold51IeQjSmFaCB/7c7KFg7E3Jh4B4WNVOFQh3lmZwZqE8DO244h85XzNYTMsPqwQF0eci5VW+0PoxKijfwqm3e/lqOITnUR1biAZg1iwUfeABczWCtcSrCDfYfyR0A8ccaX4Mmn1xPTRb9IkDPekDYnZ/xvhia8uL5ebpNoa2+d1VwZpUJunnR4yGO7mbuLP95FS68UIC+/Jk05hx4Z603qpBsq2kh4v3dXDxeIrwivaN2t6O8Zm/7Z1hP2RAv9u+XFQF6hkwldZwsu9Q6a7myvLerQJNb7f48z7nj+rLtsRzIim8eWfj+3eVmts+XDJLPKsLdNSAhhGIDtRdeEsQ0+a6tAPd6rTwaXhahs9Ror4FTDcHqfgi2OJf74F+I/GsB7a33yeCtg4fzRwNZjkTc0QQkHVsnAuzo0bHbmybGpSNkw3Gpiw+7Kmanr0WjV8mdoUKondbGSyBsP2x8iko/XX4sCF0sRZn3EBVUDYY6qvMgAeBaJTaludLTAjYveQFWz+6lIHKYeETatMDu3WqqSjrLL/s/dK8KxAtBkiu/AoDZObBLk4KxROOJjazQpzaaniL7jsSVqJwQVjTxYFqCp+IggszRp2+g2EtfL5HOtPN9VpSvJmmPtgXO708OHj0bKxGG0yAvlZbfvr31YOKHKaNmVz4uMISBy4r9jRpFumZkARQEBuvRvIVXjBLBP7zaj/wBt4ElMABs/QNzaqK3b9PX1ZaCaX9IUROFFAoUfIqrZFDMbjK4W4D5zBdRaButVLhgwywrjWvL7KUqXte1iizoglTq3w1EzuNsl+BCGG3aLKSfViW9EPKVctbIKRGWkxjxNcHQxo9G5VK4zUZc1wx2bpcernxssILOI5+p1xD0XV1BnM0Xq7nuMr3UW0RZ49wsAXDP5aXy37viYRI/V82o9LRMrrGD3vdErkzaWN9rkDg9dIFnMJX/25yZk66BPLGdQJr4ku/EZOjbnMthKs9dpOKhUi+WCTenDpr01GbOSb/NgfxtrtB7fg5c07h/jo1o9mA8M1VTP1Lz3ZC6l13JfiEkwF9o+yloeqAXnJD+LgY37tCV1BBBgdpn4+qWrq2ZehirogfDeQBmzHoGvaLoIwz+XL7A/vRmgJjJ1d45Qtppf2StLhBk/uqcRA2v4q1q7vT1MZWQMIyysNcpcmeKwLC5tErFnModP4N2RIoAfCt/RYiHnbqfqEywGYdwUSfwkdPswvnBMMrWy1ZxeiL7pSIOm1Um16L8uAj13px4lZ1YM44L2ODjWpmTL2ekogUj74tu8va93guPvbwZLyrj08Jp2kJhZU4zRAeh5yF6IxfwhlVAp93xgtzhRN4jaaB7f3JOWEJfd72awVtozEAVLY1cKOkRJkomtNATms9ncd3iHqBPspJralJ67TqnM3cEGQmzNTpUqjLPMtgG6005NmxJJhJuzOy9iVaZDl9nYq4b49nLnREYHoSokyv0cTm+eKTOEbcldYPeYaDAFtsqQPPeW5I0WjD4xeZqJ9ijlb6VcSdZz8YCHfCuk8Yaqznl9MdU+6qDN+ap+H+Bhp7Qtr49AKpJC6zbLU25IPYAZh7PE9d5+29r0W5wqK1OpVMbvWcR3MhUP+yllutfLPjZWQJ2bX+Y61hs8vzJEOUW3tYKCvK16ZGbkYuWQTm7jImOyp88PIYGEXWG2PNJedegdTtNEHdQBdZtgHCggYZJDE1uQQjkN3UyQT24w7YeG/XUciiJfl0Zhoc7r3xrHiee0QdHJ+AA0nJxU8YSvt1MMvkyigwyreGTjkcUfcaTRyrzBC+plsDidiXvFtYTVHGyCfBDiWHygoGC0ODHtTM23dQeilKLWgY0oDkXl8LbnpvVvOH9hgaBaorsZdCnJ9C9IDbKKEF17WSOC1u+Zc3+Q5Ngn2v5uf69dH8vDfbfiQ8UeFe71EW5jMJ0x5FAPGlEv6fJOSrNxI2IfRcVxF7ImcViB5ol8UT7DNqoF1LXuCa/B3dVAzLPi9x0IIX5qDybr1zJh5HCnpBpxm+bXqxXNd6nGtGs/X/4PcigsuDWA+JGiksscb7aDU1Fr7OXCkbE13mCY1albnG0oGLIN72hG0QrngX1DaztqYVtfpgo8x4xDkYtOMIF/3GYOaDiJu5XgHJIEYBZR8adNrCEPt2NgkdQQ8yiDTuXshZrI1NfwljeAxmkL9tvOpHSLtlpp9HW+iPebIu8kduw0raXs5e7MFAgaAFeouHE5/lyEjTeSIFkf6xfOnoVeBTEguoeD66crBCw9nAfvVJc5+cfbnxd+QiMdhMSNNl57A51mw5SDV4WCAFibZm5DE7YU7HR4T0ttK1VwrGFJrTxUIh2B9zGr5iNG4T1jR13GMGcupnpA5m/g2R7+W3KDKVdKDd9PSv0w4jgpuR+hdKhO1nTnqZIwrQ9w2H/9AadjgXsHfgutnU192jkWR63PlDuMTtWaXtkS/fD7Ouf3hZoxq45rpGHC4nZqicsZHprPZH+1q2VuPIrogj6WhGKCmHfPylCG4NaQENydr2tV7vOjjjoA2hHY5w350DeI3JLpp+875tPtfVPHntzHH2+YOpkQW2FjwnuWE2Jw1jWXBlAXwFfve8VDsByJWqiO2aDSDL8KhUxifZOwl5x+on/bLhvbqIvlmJqg6lFe5FFuoMlWkKNLaynSovChJQ0cCHZQ0Sb0aduC+m/VMyVH2EKP8XO9GzYr9RDo4rO/2TeWHsfKNdTzZ92OhkwOBuy8ZJnDP6NeynVJ8LAVtJZekUAKcbbcaf8wortme8dGgfzJVVJX8GTrKxcmSxuIAoReeAIIqBKhve0JfHve4EHXnS1Ffz7XZ5XtcUEmsc69jT24XMhJXvzcSFmyrrmBiqQgocgWTHRYQnBFcbe3ryUpu3Jba8GRkXa7webt7a/hI9xtCMBPA2AWcioOeWezYPt3mlTvTNHgQArpl3OZx1S3KBCHdGxWKUkkJtuKV10x4vrBiktug+mA/SvH5qrwZFWqL+bOlEBBxjWSPbfNZ+NRYrlFuOYpMRLpE//+CJu28DN4ejSVmuf8r00c+k7kfaZ7WylHFiDMHsYznsK/P8bix9tXMqrBIE2NMPeRcISJY1nddad7X9rgVz4QUyBG0uRCzTI9zlVCFlUNI7DEtQ089ZdakyBZXzGeS5ADyMcyCT19KBq7byTYFEfZo+fDSZ5fBKK372/bZsHp2sB+87V0O/aDfsmI8ZmQtPsEqh8kg//hqqAf4fOWB7bvqxZV0Omz1gr3pOTq0Ln956pyryV8pTuCNjA/MekHF9WIbC7KiDyz+Wnhj1ya+GsJwd6Pn6vjhkGStTtm7Zgxpp6uxMCo1uONlKIkAHI3VtqRdVVeTcMVLFkhHJQWpkR3NNOsgMv/VPycg34GdTXPle1ZecTwGXngX6GMrbQQnuVCKeviZTx8KhebizTpLY0HUBhhKQ16DInAAmMjWLJBBLWczQiA7ueQ8xFhj/PPV6tciiRPHG5LT40//8f/9jgHYd5AZRkmt/soZIdHKFHOQIkv6xsPJIwCSA7S/pIV2koiBm2QmSR1L8ndgJhXsHkLg5ziuW36QQigrywbHjW5CiqLkocXlj46SCM3E295ymmDJ52JqQtzMqUvIuoLkktRiR7IkfIqoIkTvjA99f0eB7lVZ/aZ1KW+UiNXK5MIKttvzzhBPe/VzT2/+sr0ugXxGKhm9sBxM7bDT6X1Z5ghPh1+1keuzftOAqp1xit92uQSkfAI30fEgLLEIq8MohPu1OKKSSgeBxqOnck98XHv0lspFcxpwhdTKJ3A8wknv914DBSz6RcJsxwszWprvU5WQ26Ss7Mwx4FnekMHx3tx0/krUKeGLyU0nYFPt4s962eKEJXgolmkPNY3KHfhAwdTtUM8tKeXkXU2f1Ts1L3/P+by7ri2cH4wiZwlJVutcCNC5iVowgj0Gx4xzJI8ixlinLIiBd/UO9+Ux3Xd23eqqMAEIh0066bDf4AdzyjM4HTZ5rdhBuPaa/e6MNOAt0ZptQ7696h8xJlI69/hx7IPyBNMsUIZaolpNCbdlf+jUPqs8E4nHAQt9767Be3V7UnZGC06zD1mT8iOklQ5ACfbVtOWYIrDuzKX+Jdot1dmPiJdWdILIi40LtA2Zyud/IHc0I0w1zyusdhmSiSZjEWKqCCeHbMlGxD6BXCt7yKzYNlJhpM0+cWhg+BX6YxCdncBivlBm0uWbi6DYDCKHmfh7DBN/2S0soAJ65DFNRoFTlpX8bzB6/5VJ6enKda+3qG5U1B10UwFa6E2mYUAbxBHq8MAGIIiAxnZ9NvV1wF8G5/owYKXUYIBqTuLuqIsKOSwPehkiOjq/zYYIaSgyfxCjqFo+xtfBLxIH1TxYa1oScfdTU5byCKma9ifMHFqOrL6JaaytZ19VRw+jpLXp2wyObXgygW2DKdA/+qtsnw0yi6b8ix/Lo7ZePhpMvJ97tuN5952AkUdhjrkHIDXq1S4pebz9iCwryVQd/C96++GoX9Du2MU8pkmeMosbM+GcjggUjNMvpieyd2hQH+L3XK8FX6bCeBne7Q+kf4nwKn6g3+rajlSP/+32f/21L94jFO94h7+af3v8n1AGUlES+oAUlqEvRgKsOIkcXJTjIgN+rc5Q3wiD4dJSm99j09YNfVt+5FjS+Xvgi7LOMDBFRE4LHW3RRsuAYnZ9rDZyRpFs0cUKGIWeYK3pHrfMZ/rSxAL7PzmYdrWRyAOkAW8kXIOqtglU3X3dtEwPigHBY36+kOXatf+7D8/mGpEm+YcVZX8Ay8VDIso8QtkgN1h/6BTd0fBDfpFAwHAgq3AXGqbBmvzCOPZZFbmwcTX9h/CKYDVq1bDze/xUt/6E4nn5gzoZu8tAXKJUi69lvbX6f4YxfPWDDxKG8BY36NOT6oV8T3xBvePnWz3jWbB1sqGNkx0Jblzm6wGmzAW2zZb2I9v/p8CWdf/kF7v//8Cn+/3Y8Gj2w1pS/zMnHDe4aF4SQ8c8jCWAEtES3F3ADr7fwIKyRqYLyzm+WHAzBxGa6O+RdjswLYNQ0IUq6clvTQ82qW4ztxmLUl0RVn63KpNnihppsSjdTJjch103azFDrAICBjqvRhlM35B2ENpeurNm18/489qJIzajhne/YEz9NFuxYzxtfuFnLyPZUaT+w16+z+kN7e45qbHU4cyTLzhDnl9ZUfuGAG7TjlWzu6AyFMstI+dRwxNS+yKIIh7+zPHv/Tqv2gUJdFQklS08uBK6IRqSv75qAZnWGyMhvfYpVllu7NcKhCMSFTXuJdiiiqa3UHEzkvvYEtkTdQzi6DU6nwW6c52wvp2ylWz++U3xKqldajratjg7xTkwvwodaM3QxnWHPEEi9v/0evs6B1JuyFC6SUyAAKEwkbUH7GgoZd1KdgiN4TGr3mrSlpuPxKIUwQRKpSXx1ytvXACjIDd4cddAAgBZV2Q9ZFce6jAHy/UTCbF2TJyUSnOa5Teeq7PHzjYBOptDUQoxLdmtbWOUgbxeZ3DfqXu7y+mTtOQ5qt46weox1wERBYfVhw2Xw0oytBsXfeOeNPzPGRJccWsAIcro2/aGlqyp5h0JkTMaoPC3dOKfZrqO4gq0ErrI81QDAD1SCvwtSuBBNWE7BrdA7ekudb5GFWL9Io6r6f3B7P5+XuioZs1X/CVkhMwcfqb3+4TKrin9zD/3xC0a5/Nk1Tmca55Osve59nwD1CNfEX5Bfxxqt088lrSqvw/rzo1zMp7Z1KGrcBIklo25y39+AnDlD0+cQxml1JAi/RTllcC76ELPJ6/DZZDt+V3wdxEZa9+t4xA/Tt1110a/WlcaHgr1uM7H4V/hSHJA0tv8/40KR5Lk7hZ3M7R//44yIDjWeA4emHn3ov6b9ThTL64+McYn2TIJ8Q3Oj/v8DOYg+R8A3/+E8fI1hlWb8t4BjPaN3wf3fiEga8lKwtfOefAYJj1Ex0qoJMlTaAx9zpmyfwrNpaBBQCIad6efSsHxHrlfz73c2qlWdDLoPDn5gb9ovoIBHp3kH6scjDSLDFApzEu05zEOrL1UbG8r6KA55xTnp3JiPaxSeQjHjsgrgG68TDg79q+AjFecT+5hK/nkoZUH6UingEH7ikVSupi5ReaM1zf78s3UYFjn2LnlkKDcTaIINCnLlhvobYaoZJmXbE1Q7olDVkZuTwKsyrGElHxY8PwpedMH5oasZkPDp/3t7KUtkpc5i8KaBf/Dwmlpxc9JrXir5y0b8+cmJz/1skKnhm+EjIujUjRSzg6VUipRAewzfCX1xBVvMYr1UbyUEZIXeZ3TXVnFBLb3a9qk+aiWa0Tms192Ph6lMCC/X4B9Te81jraXzA/n9a7DDpELOs1PsMykqOFx0sXd0kE5I3C/Y3ZfIIBObTkmoEkOKBcISReE9p/5bdsp3FIgC+TtmSMjUS7Hag/iw1L58CL8pLP4v8WfIeoE8bIJXd80G+1m5d1HJ/bXqS3U8wB4Lq35c+KJnLrW1ByLHbIyVznq+wjxdVtRaN2IfVj05963Crxlgg8nzj3nqEsCPm4JeFztkaISe7o3dalthDZZ0kW3iew9dXew4t7nezT6Q26vvKnwrMH47MJwSn2blYIo4IPF3diRBC/+eKpcEy0u5psGTCQbJjjqtmjn9zA3BhhS6zC7jnJtkp3O/rraF83NxtGayi3f/cAGbzJt97J9Qnf46cq2g7iVdcvUOgcg0MrpVvXixPAUS4yDhduOWGYbqYHZzxiECuQfGaMx2tZX/NIsK+Wiq+FU/Sz1Ky+QaG1tswVwXOP6jik0ApCXY8pt4Xp/rNZvLv7zlfyr1LMzLp7Tmrb+ambBOPi4yJWTkT5WRM4pJqUdDpO6TMrhEAWlX4QJcZhmbziNXPloSGT5a4jSOB5cAY9Vg+YTDlzrsWQVHErdaRj+y99WEvl+twiK3bTU2I8ETLjyx2N4IJ/+4M1VP5biGL+Y+brP3t3vGZe/ajIqQ+3dctijKJSl+jeUWmfEmHTXD1M1gBksvX35Shm3lDjvUW7tKiPP23Ag5aUS9YuBVgnhHsm5HbsF0uYq36yivyWmK29sfDC8s2PEg8Dc9lxyzQwi6xQpe3KlifvpxR1j3o68lYrzd8Xf3582gp34vCG9qVKiKS9Ceh2x269jd3V2Rmgfu4m9sp3sB82HyPgdniYsJR0156llp6Byk1S1nKgW/hc/DpKjAgHX4uhp5hlbQS8cWZBbZVf1OXHZsIrLTcj0yqwIEr0C5/D6QXBL08B3WKlXrukfGtVDE8SZ/FElLF5D9OA14CwvNUndvO3HjjzPAndeD1dxcuLHgbMSE5fJ7n0fvVatQPAGteOS9/HJRSCk8BX1YOWWLF/TiOSSk2fx5089PW1UIvKYDVW6ST0yVqH6cTUrLvND62ucCOtKblKAXOapm+cRaZH3sWGzzK4bM8ahTN5W8jjGi8la6IQtMfwbK9wcOeCRVJNaB8m5b3VYhTTTEZQAT1GkFqWcDNeb0EDaCWCgwX5oRDonAFcP9D7Zx5tJ9UgX6eu91ssC7fpJL6W5zFZF5qbvGChBdMRRIPvXYJfq2v39D5OPgmGbFz7bS2xMQplyG58PrPby2guemR6DrBF6NQzwvv2cTmmXfxbcROpfAsA7o3X4omNgNghNbeDBGxRy1TVwtQs/FuuxefDH9uXzTv3mOkUW4lFom+f1SC+qLW1eenclsba7wYJHCfyv1TAU164fN8029hae4RpKgA70tN2rWDrWYCmmPZFla3U7xWqmaM4ruQkPCLIxkB8KdvLFcOaUZYjLOFUiYyX4xiUElB2kx+bfMee0yGEZwrd9hxwV4M183FXnxHy0Ytv0FEjDUgh8klwtPGX0W0jECO+hVxuCKBg4L9lGoPRZq8KWiFy3FHDcjXI6feeAwryS1w/L6O60XdtG6XUKK8LyMoVwJv7fwIGeDVruGgFFAYRkyY7CIla7nGcpa2AxeWSYC6rFh51ae1nPXhvABibHCdk+p9AKiye65LC/sABoBpE0+xHwWTMoRiS3512CipJKhBLaxn6GNwc/lTD/lSg4Uv5ep5f5LJZCsnOUaGFxebXFvVYshugz1jg+COwzw4f4ozxBTRBRtvbCB18ZgVCyS8XUg1EIHp9k1b2AAPujLILaBMcITFDzsVXc3mMYL3Nx9K3LiQ2tjoBJeLuTathlwL4dFIAAALJ0Gf2kUVLN9xBf59RvVFM6rGcOw/eunWcRfIS8NVhC0uKZmCFEOpcLzikOZK7C4XW2U5YA2kEvMNGByA6LBw5CsVGnVHcDl6qvTkVgD2HVCDbp8fl3wPiaDzjOoM2nmYaI+geqm/qvEk1NVmGrtUQTOdpGTvpYwW8oVziCDEsQSNQ2UA1TSe3aXp9cvd7+lLXdWPQa2NWoRERDAm4woqHZGhxmL5CQdB5yM5Z5HGtwfEupE/+m8YKcqPvVUr/xbztYF44syoWR/ViJHOnOn/ad0xlKSjYrf6G9zeRzTsN+Z45UlQJmwS39QuPCvGNEECpKhMFPZJIL0hpsT166BtJbSMZpCJ6DOk1QIl+inqYH38Vfr8dgIxnqMRg7VyEy0nY/FRdnUHl5taGyb/nU9xGOjOq23jsBEX85YDTabL2YmNo220Z5RUSUHD1ItRx+SAvKvKLm1lBy84ZTWq/C+UZeBbjaPHAPITnMeFap/H00+baezJXHoV3KNtbQ+JnuqgB+WxKqAX1rmfeqVMVEWACXojh32Mt5PqllaqeI5cFxC7KCPzY+bZwQWx553unBegxLVgvWRpOwpeHOzQD37gZihxBz04E1ZX5DNxLDWZ+u3pHEKAfPMsxFM6St+NwPTkXm58eeqvRkUEQ72O589SinWCrduLbqyvOTwflPIxezsz+r6cZQU7Knm9FcM+2UYChm3bdPcvH4e18dYz4ZRhQA2BR4uw4e9fKq4n2I6FB0Hb6oZF16m1y+3OaCd+T0smEns2nuP3Vw3sAMBmrEdGTKSjS8+EtBfj3Gz9yGqM3tjt8REecma/YWZEePZkGPDpttOduAPdaYeKJ4mYqNVW9SQw4giezXpbpd9rxjHbSfpJb9zehxT98BoUEQ2bR3zCFKY9Thws353qKKJORxbpHDU4xeKiKXGdqDxnXHAzyXfspt0g/F0I5k0Qzle8vUEKEdkj9qLEZG2OGX4Gl2l6SkB9D8SvDJmETDd1AfrjDlPxO0GbYaUWtqrEYW0+ZBbX/lm9xYi4In/WIptMGHUFialYtpPMuBGmR5bWQ8XZm4EikA2yp9ijCYtnpmd8g58yEXRwatQRf/s5dhwFmMi+4KOmElkwlS0h8lHZLZrZziu/zLk4/BgMZGEs5rHtid3VKm7draoYSeutvdbORnduhwsgeybcNrOD53Pn7tWVoiZcV/3o2/dUqpvYRwmFdtJAnNv4wY6HjIRbS/zN/uyQzwCWa/yH6s+tJwYPEtttaTwZw0Cq0OGe5HcHQfAqMujD5rYn/NhyB0UQ1dWgtnBy12yyujOYYT8xEG0prMPvHKGCnfDWIML/zlJk9Oeh3GgPElYBmyGO2uSXiVHT9dLk0t1jxYNGptIMxy40AYCLeb6fIZXSuR9NJKAvbfQYAbdG+M/6T72q+QPIpnJ4b2Dwbq6bmytywJV1hQT9iHJ+tkly9Erb4A4s4Cf4fzOUQQVJ3Gs7SqIKhX2Oq3T7d6LOL8TV1RVilKMXzP1KSxgxzNjZdmwsBaM5obrS4uDaaTwKc0GiLr5LUA+43nifaOs1UwDO8AaLGabQxaujul4AjYLpeUwrQudHuv9aXjz7Bf9WLS7C9sgCrDzvcPBa0OrChwELONeEApxY8SbDf6Ma12Unr9c6TpZU4RClJwGTT/wvMdx7VVkN2PRvSYDXYFMES3yZjmYdGpBYkpA2/CQaTkYB7UAqIKoOyx1WmbOTGbMtoPPzAQ8CKsJBKBaXC+b32sMBNmbZZ0OSgNK3+0BTqnUI8FLbhJOFxZfQPsT9UXKZ1JgAUjnh0/IK95JbCIakMfh7MYZHBHekL0hqGOG5ZqQPwDV9O2aUHbvO+B5b0Pkl3pi657aoT0OlquWJCwHChAZ6G2n98upDD6yPFP9A+IU/G06iVs0bw4PsjAGPpF5ujPX19XOsPeNLUELCgbs162hSc/M/n2OfLo8pXvRhNS22J+Dtlsa4lsupBbN5J5SBVeV7NPwAVNGfhDs8mXNM7fN+ALdqpNbxPWitag8QeYeXvYZQSHuQnqh5ExuiUXcRdtqRnn2xAH+vJr9rPJ2feAx57KEPKp+Q4BDdPz/pT7MqwXUnKRkvSRTP6mV0ScT347qwUPnSXdCfMj8n2RixHxidAkkOQ+3VTLkMcR+/tsbT7HovKa06owHEIwI1UqsPCAopQkgqPF+XQCCODBDPe+mXgKSqtNHbdkQeZlVaXfJM7KL6n3tlWlhKGeAYfrxHiVVxH3CV+nNfiOz7zapwSDFqQgyTVLAAB9IQ35h6ZpX8bIKzUSzwGOeh7N27aeEQcjoG8coADDH4ngY//xwoYeyyl1dyg5jQJ4LZKj7A/4JrJB+CdCgY9XjkK5Qaw6++bjEhqkV8mWwytMbLGXJfABqalbGb0LYUeXdk5qUwOCxcFchtTHauCZKUzVmpTp+lciNtykNOWHdJkJW5lrctk1bM5KyXPJwSffs+y00HZpQKqQYo7WTygRX/HIEoZ7/Uj1bBztNBR112jWGFihRedpRZbcmB35/8pIq1/qjh37v83qogS3aAvTfm+FlJvDDm+2QO3NmNgx12927czjJ/zHbbps/iYLtKNCB9XQW0tUX6d5APHKt3gaoH+LXRf1w8fOosH2GdRNasExlQjA3Ai2c574qhce80h3axWJ9yQGCWfzIW+YEiWXsaYikMQALusTdm7RCopUq+llMN7Bm1TMzM7wB9wAPiAWSYqeBEZQQ63BE7XIaX4PgToFyFKqWhgDwK7cPYwNpkOTg2mpp+aamyihV0NE9H8dH7nRlOnPa3pnRXP33Mc5RSAAcPTvLnCM4F1pnZU5k94Q4TXuNMSQtFEdQHT6THYzXvZq0Dc5ffXIkARxUXypZ8Ubqgh+aUk2RSB8nn1o8EQ5e3Vsi5caRW2dto78B0hVg//A+4RcPgVkj3MAlIkxS0Q2fx7y12NXXv/LvBHR5PnFgfmXrI+lqjmw9vPwPXx2lgRA62D+5wzy0ReawEyrr3QwZVAAyfdDFGKW/h4pS0qIBKGeim8FUqqo3EgJbwirr0tldPhb78jl6wgCPIHHB+rpWcJ+ujbijQ6yNL7y+dz7yZKdY/+6blp/Fu4PyBTq7dice7DwJHST46NfGJB36BRXoMSvv1pYFgT3POLl6roVxsIt/HxmiSojK0ZMkHcoy8TGuj5WPSvfk0YUCzuLoyqr3dQXsSge3nQGedVP3/ANO3uq0JviqgdAK3Hpffy0WFdxB/b4Ki0b/qY++10P/tJ8z7atxzCX7MFBMpOhhOF9aKJfyarZNrSL3iaE7zwx6Zkn4x6RtHTFXxYXOhAgYFsZgtS/xdZCPBiXRIfjraUpAryncj1CSOORQFSie+0XblITf/KhBaDhj2fskKusZd2NyTRSMd09vWxc0aTpvcfp9aiSEd2FZUeyTOEXzcqrrFeuGKnrX56/6pBvG/xFzcUpEFlYfqDDGFxLT30rg7RKhDnj1LwHyWxUogjgGWY25hUQUmLiYfLUEBhKAJ8KVI1xR1GHFoG2Nznr5YxNw/ckJwFcLzijlkBljRrwX2pxUxE4hKg1yeWXBdKzsXWwaTj+pJdrxsIQAWWzG0HWiFkOMBOJhiy/jxc6o75c7Cxu3A7hxoV7qP3uWfiB8DMikHQxOZh7Drjx7iLDIoaXaSIpf+cif1OfYIZ27pWbAb/j3pl/5Zif3T7YpIS/rJYwKjsXbCayCuPSOb10pMFe9NekVH3nyvvfP9EPbKmkyx0dg3IPGnBcAuKYu9o8BmDuCdlYPh93kgElqZlWhwtyJJHpg5oIYsW4D+b8ItIaddAAAJlgGf+XRFf3PXX9LP+oBuB4iW7RmiiZSGD8i6iNtiUq5bB7BvrpNyVqE4OGVbf7i/uLKmJdXgR7AFv+LRglKde7buqOtmY2JzoXjhJUMDf5WNmfkwCQmh7HKYg/YLXmEkV+U/o4cvi/BDGLhFZe4OLJrvnGfU4W/LB4HaF4uzO0jzAEXnDvGbZ1U6CDM9W8w3I728vgP3S0/QGpL3lywaXgbgzPVuzQ7hT+9VKKNg4OZ1TcMf8ISZ0BsWDFGulwb5yqPmHw9EX89pCEq8ejbdexqXXsjm6VTSw5B7Ga87Zz0ISV3sHGb5xRpX1d4Q99zeZoozFOiZt9xOSxYMO1Rjp0DROcJ1H1iIimMWMhzRqzUNYa3DqW6NbU4VoZL/uF/fKUFI3nrO7nFrSfvbGDlxRyReXB0ThmgGsxoXvTaiu/uSyL8SgqPaXC6tSe2lkQ+ABeV/lUdp5IKhtOaNE5tvsVRNEr3NyqOFHw3Y7Aesl+tIZcxLt4oOBg6Mocku0W4xKEHs29YjSTavo402PQ6VQntkAzRSoQMM/dFKdTcW5zaFq+79T01O4lqvwfeNXEXBTHZiywsdaMTUmeBBn7vvE0l0ntiGazClUjPQxPkOuV67CUSZvwAEJKlkyn4S7dspDmGrkTxfMnoeN4aZ/tUymgL5rkjOBlrvpJNNlE9osw+9WSQHz+07jCoSx5x5VL7oiOxKgEoMIWOZYrTQXZqgy1z3y6AJvdC0iiqDGpL0oygJAlgukQqezKF4V73QA4/8IBZR8N7zbK/BAXift49XuXrHIGtMxMVW8gItiO/PO9Xx69tXIE0T1NzUkuMCeZVv6P42GDnfyQWsqUEC21l53jbuHRunl1O+HhgNz/2OlP3FvO2II7um0O5bubgZug+OfBf0aNx6nkgQ4oM1xWH754/pt1kMoDmk/LQf91LfT8rr5AX9/ysuWcW4Af0UG08q5xbDNeDHqYXZYr2ZmXUO1RZcaKEssw1WY/ftAU1V+gZWIRFp8jDpfR+8p+gJn93whbBdOwiafAUumzt48ZfBj5vUaNnKc4su4h3rqKUpHhKR09SqiRpLnnND2Gn9kEpENzzHUg1md/QZ/5G+CJ2btjzFDCSfcAv42h8T+LbkMnetzQP2hOmn3EtB+W0+eHgfNvWRo1OxotWt3mHN9pFOb3p5d9am2ovokcPSTwc17RC+2Sm+Xmy2rjDMlRek9pjKCA+4jrWwASlF+UiPx4RJTxKJdKnkQFCkjeGkay5MOCX4FsSQJ8ID1GJljylbUHzhu0lgZ4EJtPTAX6tjP9YtKhQswU0WVe8G/PMpungzfo52hYAGSV4vAT76XhOHhyJM5941+tMW+vGSvAH5pnB0WulPyFSBuYu4wkzx2wh7B6q/UkcN3n8PKdcFGrmb72BeWYmIheC+vDFvSr62XUlgjEb9GTCkb0hzkyiG1FhDfUJG9xCEy/LAuNXH3WAwQjEXTgX6G8oWOBTf27UK7GRSmf5t9p/cPgKVyQMjtWDAwnsE9B9T1Ty8W2yWbOgSc0y2Yqk2QxIMIrag0xvD44r+UQWe9KnqF9EUSTRGnljrVUzvX9cLG4TyL4v2aVeDBZBws3rFRn858zNdVl+n7mnNrIrVznLT4bpXDcGCCMHRNqquRG8CDqp81TTTxBrGGAep1ntfVP19r/vtx9GY8aZXadnVsNy1dSWHUO+cAEtciGDFbD8A3MV/RxFdpgETQQSh96lGNN1FLKgu9lbVbNdT6X9v5D7IvOA1KjSEENiS+ktJciN6UWKs5ovXb2JPj+B733xMc+xL/xJ9YuWZIslOioebWUuiueOSkVwZdWcg7WeVIIeOgrrMqf7f14pE9puC70BpChsjHkzAvQPEvDdetlvBB2IBc0Wx4b21VOczeLaAD5FFvaDqPtnO7g9QwIIa9YY9cG3hgUXrgc6nloFCMkHDUjEeZE7jsLnQ+2HLZMyTqgtK6F527AThvLKxcupE6NAT8Q0BGPXziMM+OErt9k378NILn+jWoBAwhojf6E5NXOxWmQNnd/3XqcP5aPSyBcpgWghl4e5AG4S48BvNNuCUt8QrK/DhKQfZGrzMk94nYyFjYXNFnSUtPsflO1SEPkdJ9lUNkByYvm5p0B18UkBaDEXyHdA7cAfbzPEzixMCHnxg32ePRNRKb1zGOjnkV7P2fnpLdahtrUZBu3ITzYNiktHRKbN7xUXv8zWWTMgHbWZb9sh6hV0JnBbLIkYQKzhWyss6bQraHEpt2znDnKYcuYBmT4ucp+KZMEb2ZTdFq+JyavOuwbHYeQlacqSba6kAIjZfx4lWPUQbi5nMU5rNiLWpUJd7iGIiF3RG14QnADRsGwWEJyPWxIZinPF7p7tF1BNFtFx2/Iqc5dj0IgxqhMcqw7nbvoDaSm+zL7OGpQ1vIdpUzpo4Sed2UoD2dgtKkhGrZtWlOClW3U5CWll78XvEzFRg7XXNVCzA2aYufK+0gjK1ohE6x+RJCQoeJiOdrgeXRq2dzq08BId+GyU35tsYPtneJgq1e7QO9lZpfJZNq5oNEIGBM7tRN2S6zYpfJ3HrbImxBDd4iC1rDkc1DuRR7Itt9pAjp1JTolVXff1ysHKi9A3xIhXMtYGTpR0K9Jb6Xt6+kJsgVeoKG1DpCjp7sWvy8fG8rm7YcVyQoNHndyDNXr0zWVOaNj2BHb3TzR5muRWZak7dFtLK7z8SCa6msw6n4fg8hFKNB7WBCttemynDyYFEHhPcjC5VDimokaDben05vW5/7JHwKH5wMU6NfhwOj6zDVCMtMFtGXjfguM4C/yTsxjzHUM9FQPmYfYIuN4ajMYyxCxwplGTa6pH6H+Av3NkJ84Fi/b07E2XibQ0WZqIFQbuWM8skt7fgfl42SlBnewB5e9XfUY+fb8QgMHIEp1HFK2+VJZhUrtaZrjGEuAhUsYD7YTNUlCWQDfq2F2CS56j4XT7AoLrS15GoywSmzZ/+TC42mT4wJaHZoFZD4XGH+NkD+OEvQ8PAW/SvMguEsCnnAiIjcVgQT166RBS4gc28YnLbkIys2DKNvZh7mbAU4iK8fSyqbKzwCd0WvpmM+oVUVJT57ZaA0gfh8KqqW1OzLhSRVK+8WbvG47aYmTon7nM/YzR37uV8aMzT6zgtnFKf2U3oQWhnCXf4IsnfXQbDVhvA/KE4K7y2RuSSgC1w1ke1isii+Bu+u6MR9vd0hv2U/xA0CZ1jUMeh2y0Dk/aHVZIABXejWhE6vFaGPGPaCBAW4dGGPcMCVgQ0IAAACJ0Bn/tqRX9yZv9KEm5gswcZEkCCRxxWa5H/nXNmD5lKOS6MB1bbfmW3F35YakLF+Z7LJZQtUJouyFMPAogXxZhxxflHWbUVAtT5hM/GAHnLHf45trQaRIHmjDEW3+J9fakvhrgdb4dytkg+arjIZWOG1MvPPaj6z0uBnsTDcQj2UeiziGZg5TtkkTt5LGD8kruvzv6EtjcOGFOcygAP8pNNvwUeNTkYHsX1faS/WTmqlAP4M1WyYFXu7XzjL2JyFYSmUu+vjWwfpUJXE6331f7iErnwLFSOMRIS/5rClI8+ilJW1STq7wgDUBrq3upK3ARJpyfyzdEro9TCDSQRK1BQIIx3mb6zK3DIFcx10U7d/KpOAzjEzOeCLO6xKhPtIoW0uxyoiNddZ5eusAP2pQNWE/A5e2DJ4fWj4WdCRTTteZzyyNe3hLtmTdjXkbBnKuGdfM1pPnfDgqgwtU8LjbEtDgnD0+F2+IeaewJyUTWQ3JkUYQoh+jegAnOt2abe02Pkpak5QIANzFP32MSq4SYUhhaszCSeg16WokwpdcbrDvpcGVf8jnb2kwp8Y/nQ6tRL9gUq/r1Oa6kuNwAAAwAAAwJ2Dp/zjt9HIKEFsVzWOiaQimkEHPgwOwXu3l2/5kDc2iVe79G/BP583ZhB7mQK/msNhvzKTFz9kLpygBTfqugzfc0XlNIUqbx8iP+0Kp8rbwLPYnf27aQSxRw/VWWXaNf0+l6yPtRF0ejUrgZuEYgKEa7yCcyyV7H8zMGw6XX6fhU992tyYmZy/c/pkom4DTrqD9KBFAr4oycckHUOMqbV+1DDA3PCoaIPqEaXZfW25iK9zNa5gXPekZaFHqmyf5zGZ2UCCFVqIMPEHTvoYYFi+nGzJajcR1ft+39H3T4CUaf5eFdsv+tgy3Jm35Qzw810rY2o4zMz2Og71rsbCp9sFvsFhJq5MWh0zMcBGf+i6bHwG6n0cMEBqMr0Yh9zGJlNfuBuX8jAoV9J8Pt3cq2Lpp57UdNco8ACMV9UHPHFXdVXX98Lpewo+g6zYXLkYovpHtqr3jxmDV86oFJlNPbpA/lv8sSOjaytxbhq67GpFFm19yt5jP2ZyZhYb8bbUnx8o2lhZLqNhsk3NDx4XJXIPbQg4q9fTStRemrRB1sqI9oRXs81qTS/rctmMehEexbQatV4BxmaQYV9cdA96W2R7cnBcpQXQEcPb4bfTxb0jLlFovwGC363P+ZVAubL/xjtWbCoFWeyLdIsFOcexLGDsRt/SlC8Y+vKlhRPCJ1u4yj+Ho7SMnUQ4Gmr+DkwqVNMJj0N6wpgqbtXRpG2V9xr2jkonfXGAyO2rYl2gHuk2M/ure4i/li/yC4bNgAfAAfGRcmpgP7MPIpyO3n7hERcsGvfjkeEdEyfllwFQRkllC9hCt/PvQUOWuvOyTgkicvP5JULawyd4HbAv76mokAYZx+66F+21y9vlJXopajG4jJPPfy3qXUXRMfQVE4py8lisuMcVwYa3TpSc+VeUS0JI054piYuj5zCAV43k5muXBEM4FnuN4ei5uouu64jHvMujgVb7lTntTeVN7niEniRh3qZG1H64HvpQehlSbflwlkciAzZb6WQv+/ydOyJyM3eKzD6qvX06COqt0TvFmenQuiiPuLjyycP/T+9J0CPwCZeO0x5L47AkzTNEMlhkrlni+IWxX+GYaZrw7B9Qoa+2if+bpP+O3ObX5e9VTGJ+nS3Pnex/bz2h1R7HudPUetnyH3qGqXCiTySqgbee1EL8RKWFs2Uk9bxwAzRS6kOTpcf79LoOf/QT5PbzVrEjg6t1PLlo8P8U2TLVaxtlBL7hXC9HFJ4gog5fdhmcZQ75WXbYI/VskzPh9TCixMyh/AiFlbxA8vZNtF+L0u6IbzDvFV5fxa5XLNmCezYPeujFWMKWAjLvbIoMsZdaqfqewXJtqdkTMnmv44rkPcxh2+ZHAw0heRzxSFM6Nl/dC3oWfCTdYuF7ylu7NnPEpXI+iBN7CXOAkcxlK0vuY2+N+ibmgEQViZ/Q6ARjlUPtwhiJVNuM/cHLhihNARml0V/mLD/5WDrgShCKMMpxX5T1ACIHBu3AVufzjLUkAQ7sVUhQoPEorx3BYlRvRsdgzMxtnmIL9soSfOmHgPajAvTtsTkSCoHPANX3lNWf6SJt01cZg/1v53Y9jeQLLkHlsQNt3SC+r9TomdJNR5d5eLyxDG+VJwjSvtT2WEury9XUdV8oqWZtK2ZnGDUUghPUexoKXSXWzE2cb6b8qw6+ja/FxiBDqcRT8xKxuz34C4sGcchOoY4cJK9wLE1ZX5/byL5DAgOn+Bbt2zhLSrD3ULOXEIf+jcG8FXLjoehJq9oMswaQftlcEGKDAvjcnYb58lDrq58iJNCCzquheWLaJ2xDDcga0/DShR7lUbQVz10b5leKSCVjyPSFcgCpS7VDhBwLJqEp/2BywfDntW8+ctX4Jlf9CbB4XiSmRfzj0SZmHvffaGTPxTTGLjIPu+ZmYvEoGzh1MW0IcwzU2fA+zseHjtEUegBaJoMCYY+pHYlMNoBWK7OvaylNsYEbgrVSd6RaDinNzMk+hGgztz1N8Z3jR2ULUnLEEfAZxkdp2scqSHjHaBMQiXxpssfPdIhO6penVZl9Q7E3mXIJAQkSxI8dmzZx37UDTsArX8ZEa5SEHRpK6EeRSM8ZO9F3kHiBbwV//+hCvVBSjlxV5Yl+AJf2C32dBbZfJeAqcG7R0/lYrZYSuGWNkrkczB+qUQJ9hJDtUrkWeJK0eJUynymwTZM7moq5SBiQyx5Lx+FmjtmKBP53T29CnRaQYrjgALlm8qDrfGJoyr8/hOXz7SOyVNq6uD3XOVKZyZy8Ihcrg4bVg1W8ye0TxkLaDGNhY2VLTjUhBipN7yfps7Wfw4PmMC5OOQAUum7wqq4yaUwEnEAABebQZvgSahBbJlMCL/k+enIFp9mlkD6Wg+2lU/jLenZrNTNMQA73ebXK8fyKfZiO7vDgv+LtfaPrLd0BCHVRvccYfLZXPFQwYCfVeOMewPy7q7CDzGmPZgMU184XE024epZzlzUDNcysFw69gv9r3Zk55M7XzZnzCNCCvchm1ftrf5t5+HNt7e9JPttMMz8+xptLYeLZ0uHRFFUGLE/lsFzRd+VaS7BwYQUow/7wY5Rked8r2EGXgankhrES6mf3oPf3s7cquE1DA5CJ5LubviFyVe7ZfiRpyFFf+HDw1ipaQOypHtTUvqPGmpUnKAUhnWCIA/MqGLVIcac2TfE0vtRn6zhOBV2K4n0AXAUGI5soZ+g9b9un4ijotTDvBOR8yOyUdw3Nj5R5KPpo/c2GuG8nqYWhLRVVQCFFUS6kpyo2IFnwWXKKWWia1bHPGRZ2WANgUCqKR7QgKebj5/8n04oQCwRf2imOmXdbUth6texpXrVJ17L9AfqCu9u43811Oyb/7l5j1qkZWj0lO4UHGc/Fku34xbjPx5CJQRIN4bOmmjJJSZdeahiZWWX8Tndrh6W5sRsBH4qwxgp/gzWlbyhZZY6J1aBbvHwtC8SLMSuz8WqRzNs2k95/vEuACKG5oW2X8m6aGkG3YM7PpuPyehSTKZrlv2JxetqokfW/uUSYuefXZpCffyftoU/jqFbk2uM+CEPN1eabVWL3nE1Otb22cB3KlXkHVgz5byefHDgYyKFZsoJb7AeP60UgTVmllPnU/2HN7rSDHz68+F6Px+V4nNbOtNpXKi/ErRC30UbYa85zY84WS0J3X8HA41UlGMyJCI0p4una+sfkBLpBcEJD0FvoWvaLpET6qy6f4zSd33GUQvPKH+DwF1/fDsqxlrTB8fadckYPQBEjAXovwhcGugBfrzTB02beOUWu4KAbu3DOjTaf7jPqOk6yJ7aZkjd31rAhyDt/rxfp1mMNi9d7RLhuTtKbnj+OZQHMrjHWp6qGVRI+XQTIw1veb/NfeObe/CdOYJkKAVK8v/cX8LO817bF4NL6iaUKMpOmqJ+3owiLPdBwNV82cV5836slbpDC2nBts4WzzF3bi9qqBs47cgCBPtD699prcOrIJk68SooYD/TcNVN/JG3P6JBnwl8LdE/6SctrE7hKPvDM0D2vBG4yCFhGED3Zk7vNkI0WqcmSA1qvj46bs7XO49Ij43pWaoeV+d/BAdFX8ILeZIXkGAtnLu9+OgDwVbxjqb6Sgf8+oLSdIr4QtOmGEP7yX2pvPfrO/UXjioHANOGF/LCO/z2z9krLva8luyRvBQqgnnTP4L/6rHKAwEaakvPGJPdGO7kPrtBDr5fOBpwj9ffzIlc3vb96vBQl0PTpDHbEv2SXPLGOudJjDiyGp+79cfB9n1nvceVXhwwJI/e2HBD76qYZhxHTBnlwPUoZKOwc0fHN3HGdmW+PDXVcdvXNeHyvYZIuvSOMrqLR2JYr2sFOJNx//uiG02KBluytoaQE16WSFZpm2bL69J+OyAYrcKODQ2uA7athJeC86KpIFzntEkocCCcWVkITJJ+7xeJIvkjddt+YWw1V0MtrvMxx4s+4wTHUSlpuqoNr5UOn44BUdgqxF/c/8/ipLoAhpu4vPNXSpNeTHTYrX3osoK2B+w5VrXptZ0jRLG/6/gUCd0qx90iPOZNtNGgZz3TsA70wQILQ/AEaZ6+gtE/vtUWt8ID2qBpYImGT7XKAxLIm/bIZGw8bsDzl2Z2XQTcVkS7yNUBUxDAaCRIv5hc30Yk+lQzmrpuu3NYw1FoY6POlhqeKJyJZvODkaLY3hJvvROqpzHb7vVTnAZf6hfRDNXiN06Z8+Qn1DohZTIVLxOKZGsfmFa0gYDyG7nCmzWkwDotSdktNGxzU3MwVYDFHTZJ5ClJjNiW27N0GOzuolPfEzmNBYpzm7vSEb9e0Wj1mZVoujC/Fa94zuunZ9+C9fJAixkBmfhMn8zO2vF4h6WruR8ICrM39YNW9T/1mElXYKktC9btnWn9EwS8a/b1XCkqRqv+QYE111vfjsaGnZfd/6nWmZlaRN6qdxyJB25fJHYHlOSvE9la1qkSDNIp9ISi+6OdiT/e+eQY8r9D0U35C39DTBib7t7SejbZ3DohajpPF+BLLagznWi5wOyZvMuoHtH9VaZzh8jt2sTZETkFo25cYPHo07txrWuiMOly6ZQifbk+y8qpky0JZ4XEROXavoo92YKh1CLpRnI4sYmJkIQQ9BNmEocq3MDkb4Frda9mP0quTUpIx3dZ0zfNI1sRC5Y/RPZdsh1B+98PBfIkSGLw7Ps8hAaaC3iMB//+H5eWXQDJcIWP23nE2CqhLUY78hPKEVYSDrY4n9JjRRAddRzDbwktnsIWj3MzyFZ3p4OCB6h/cK5WM63vKihgpp3TTBpYMcKl39KyiOAYA0RrgdL6fe1EDMn7VzObaHWr+Z5j7srmBEX2lBq9jxBQKBKEfFw85hYP2WjmPa4eBZagvnR10tebiUaWupgC0cHhUuiwHqBeIhR9BgAwPkSNp85rU4DoKWQclCadaq7Hr5RBCub2v4JnoFNlbsupIUkWJpxRonb1aaDMVxpkNSDfiCp4htvIJzAB+VOIOESirzhp/Mr+fgOXQnmC9CqCoe82rrWA7ZTb75e7QvDtmkyoLTWgzTasNZxxcyGsY+OgcIZ3JvMXhm+FoT7rU1CAOtRrm2gVP2AJWfCyjz/yxiw0glSTzFEoGW4Mqzr18hpe54IGgxDQMxNL7VMmZirqS83IOIQ8wnVLswno1FavDYyEMEhQriKz27UUnw9/Bf7IgSu73Xsvx25mKsIQ/xLFWocl9a9yLsiucYNpi/8phn5HrNcfeK8VoW8Emn2GuVImEUDf7ckX1SGZp+650bZ+UGkAbVZff/fRvgX9bYgHy0XrXVF4CpF9HqjbzRWRSycHS5AzzVVqQ7K7qAjKC00m1hpaehwUWoa/DyH6kBAd6nuLPMOB/IFRd3RX1fg7RtqNIphCwjCjmUtEzvJ32G/KWIfN/5WPgq/XZIjYz/A7WY+eMnUfa9d6FtiywBNnUGCuWpULUsvTnZ/1mrGEDEbO+bklmhWLTwc3w6914Xnd0dSDKZoohkWzeRc4IfSNoQsL7GTONXMIWD+BGeCVqCDIQcXwFZPQxGF6z1s5zD8zxsH/Q3p4xvyj/lYH5Ppy3h58I4cRKaJHs1RubCw74hnAUB2iXF2OpB/3mrXa08ihm2oggpCDYVulbtXs/S0EPMsCpAOCVkSMwXd4gRjjogvLvfSNiiWSK0rWEjQn+SwUD16NY/7IuCDQYFquYfcpsSch1uBY2CLk9WYOgbsnf7+HQZArS9MhKuBbu1goeswLQJnOT8De2hJJQcfwZNi0X150EKzItwCcKC19Cc8VWAC0xfKwjDmPAqF2u0mZrfPssqBDwRSwOcQv7QwLrCIlC2cqMtJ16bg2Bw4nUUs2+hIzTpSFK0++iOPz5iBa1fJNsI6gUKwplSZSYf5DgdztmtwmQYe6Zhv2YdSkGG971x64iycW1cz0qVTjgPBPTdxNL/36fe3ExLsmqcnRMdc+tkpi8wsYyV1x9//C6wf0v04AIvr0C04CLHIORSHI6dZB4Ya+kQlVHp9W21ZEIyLMsAXDFAGobyCJNSVWb94HuunT0LB+hqAstyx9omqJroRUUSZ4Tb3qCbZej6DRsRlHMNeyEL0IYKr78vF1xi4qPLbJPVaDAhlY9i0PBVZBTM84rtjVTDMeKAB1ssXgBYFtpCVnyQTfYLrwDbZjTc27Ixlf9st3u6X66NAdqHNB82ym84/+5agPNvKvkv4TyHmdPEy6i3zikeSFgryRPCMJ7XTLuSvzN8xpe2rRIskZDVuJ4YhilFmyz0sdO/g0frfU5nkp7knWO/vqAvN1VcOwrUXx1cdHwBjXgqSnTQAN/XVz4ASfK3rLLY9suxTe7V2bR2nuXO87pLPNxJrFyyxHs9mS7NmXG2DQmNbeCPxF7VG28Q0U93NIixDcwjA5vGCtoO6uBNknWbLJkCPO3jBGFyqwxhxGNQInyvvqPpJgZ1d70nhnM/5F5lF0K/QTn5Y8RTd3meas4mp6+/xOA+HJmLA2rc+UTFvE1UPCQris77t9//tEe/PtRnlWn+5yRXlTbxnvwNPRTmRbq+cyr/ewLjlzakscw6P44CdjFHn8/RPegO4f3nCWa328yCm9E/v1fPSgg9eCtphzixg7qJJZxLRaoabbpjC90Z5tzxR3rVg6Ue5mO5YSBXw7xTMSUFq6BsECdt02vAhhsQveHpIfY1vjc/+jiyBkZghoyZVjk+79E41NTzPB3qtpfJ6H16vuTNQ9t9v9xfYD9tt1JVnRbZJ4pLT1IBMCiydxsnlc5NJHt9F5/rODWy+zWib084/4bFFb56zgAkbJZpZwRBJ9yV+AfC59dEOzT9fEk4AoTbO7XUcQi7uZoqx/SXhH1mkp1KKKEn0WKYYmNPrj112eCMIjs8LDASPqPIiGb9OZTMjNUk9OtF1AZZmYMOZ0miYT5gfYmuCg2hplro9yTAlgyn7jJITkw9byGnfUFYr2xFIbewQ6oY3mjktZnMY6HSiWLMvgLIhx0QL9RH+RqWyro716QZWBflDKZRhBurK0K5JcNlQiz+Jgr2DaLMV5YNY759VCTOXbEKXPs60FXWBeKsRGqrGgunRPzN/YlYODD5W06qfNv3jDISYWQ4i6pV0/wWzGgAPv7sHBeIwk0FL/82X2oCzMOTa+ptL1cie98jL0svGZbqzBko+jqu3y8fYYyg/4ymNAzWB8qP2gpj/AahtAJoMmZl6Qs9zPbOCG4rS9bHLcTqjVdezhmz4YCfKRwsLPuSmqjuHrJ6OtaBNUVNrwmgkWpbFb59xpGvhwxomhN7knoQrksKBJve8xulaTp/tCPNmYqKZkGaq5w+bsLKmLYrrSSck6FSqsXQL5Ps6t5i8/XxfdXE5XaOYci8QcjrZ9FEj+YVh4Nq8VPpWReTvz0tIqvHIUZiZdxg0Phv4FrlC5SRVCFrbWr9rdDzDfkxNP9ElpzFG9Kb4xhrOOkERoj12VI4fei9A/n7q0BwtpeuMJSZuadqkgDhtF17KlJsT2oB7wN+Ad8JhEQuthKHszNwlYSok6rO1zCjyT6mUZ2SVSw/koZ/y60V/0ETEDFUvyeN5CinPDwmuEbvhUShQXXP+lrzUePXPAdAjaxI3vBcAmgEgV4hGczayLDeFh9B+FnEY5mxkS9W1KVp3bJc4HzqcQyRAJ45oXSbDYtX981JO8qt3GJt8F8zNHVFXb+A9j8AsCm5dBx6K6n/DWIsuApjwGS1kV1BsECSKJN8j8iuPLaAJDdEW9DPGJKYC3QBhfMsNnn1AYKaxvuOtb5Wd3Xarx2bONvz2kfI+iy98F9Zk+h6riGZIVe6e5M+5A+rL1tSTWimTyoHoRn9yZ9Lj3Ilepv6lZByZ8H2zmIha/Kkg9BbB9kWkqBnlaFo3w1NGar3uHUj/i+ezNI4ElutDRP2ihmxhnczcF8Zs5EDiO1jM0cjFm9yLlC6YMRyTgABzoAfT7Nd4ZebUypCTNGcMogcjtRHaBDoHLif0AWu/F2dte/vajR5HzxayFHI1FK3uN6HfgHKHVLO43ubWwvXzfZcovv8QVRNvEOuNjbflhwa6StjcYmYAcJHZmNPPf9PbB62JOMkR9P1D/ZQ2KQkJ0hDO5I8ZnkamvuCO/c888nggyRx3Wpfnw38YjKNjfFaBkBB7hWGZNRbUB0Q1CpqwlJXy+RmxmgSnuI9uK/4tuBo5j9YqK09tefKuRnuzDaEx/jFl3/bi3uzsMtytM+b6aVLGJbLsCWfdVC1RNRpomvChAExo54A0SKh5fSZ0uZBFtDkl7yzHWREAAKvvL7yNxUB/fjdLIIAz0pkb8YWqys4NLnwAlrFojUuJTScfIjzebu1b17dPCEnzd3GIJ35chh/b0iUMUq4SUBpPd+piYHoA0eTcGgOaPx9N5mckS5tvKGSwsF0XhCVQx+EaUFgLqdAls/ivAXATZcPLFYH5+rEEsrSWlWIU8rC2PdKI4FJe16wb6QchO36suEvdCwBZ+WQAfCZaeYTOBi1/4Q6ZhZ2rvdWQuH9G023zXYqb8RTscNeVaR41JpO/olLI/ipBqe+w/9ViQwR4tl1NrSeHgM2XXpM/uv0hnid4WdTKOTzYp37F07iW0ODnw90WXwDEzeS8TtwVLosjy8CMFR6AOrmtCgZ5FYSWWS3bNr6yttUUk2cDmaUuAc2l9Ep6ObUP9OrVGY6WsPpfXIC2clKUqgW48O8p/k4RhujoWg7lkerIVAuRWaUls6vnt6YsnGo92EmEVbbKS/8fxp/JqFdX1Se0U6rwormWn6CV3ov38Aix3q3ukq/mkqRaFmu7ii4ekJmmciWh93DpAho1qdN3fpFs9l2J70xl97GWVhrOfDBOzcT0kLcZr0Ku6YFFhWL/kB+v7Kf6WtPmz61nSQKFhEGVGysHUXMXg09x5sS5oozGH8V0v5CkDMXL3W8xpkP3ORhJ5e0OuzWhzLQYnsRqMBa0w7E68gmpQQYoEnTMnvNlT3VVppUJPqWNdGhUdrTy05j0pWLLpQwdWB7xNlbxh+2cj2RpP1BXMwwlPgk8xBJ+gUbglidVyxAuxN+3UDvI9C7ZslUm8nyXed7AzgnGtrvlGJHLN/Ivxm/3LDNqwvC9afRjQrZ9o3dNCZTF6WzjIqwke0181HacB7YltP9KVg9r/erfMYe5DjP4a0W2UkNj32khra7rEuA80f6nJKVAD41dgwplUPV3/wQMncbgLlnEN/dDvdiRjhlp6+/E8Loq8T+y0xyR3cFZWnSTF8deP7yokcGBsoNf+tAZgvUdNw87vh0oZC2jLAEYHdA7qD5+a9j/1qL4MWZBQQ26R9AqudykvCeQA6XgHbX7ZgUM36vneKv7/7q8P4P2hJGHBMnA16NPB4sJpFGNn8PBdNKqp7lU70sf3yAYZaFBiDGWRJrkbO6uPR/DCyx2hJp606YjK46NI3vgdzoUUw+ei8KSidCAytIA7Jv9DEEO13zTUOPRzmUxYo18kF0FxQciZ6BI1+TDdsPVyRjobNEhTHRNYZIEx/eVrFZb2wHwykYSFXJUvJtrdFqzQV4j7sGYFiF34uDV1jG2J4YxGsXBzrKa9pnpp0UxLfbD19Fyzyxk5AwD51iRkp6N4LW4cHfU7AcP4y3tRBktTBJNFdMTJzUHOeA44bioHQ0VeUsBJPkP+cPrqHOejrbRLgwLsnvAvkrfMEPp51dFBt0X/7HeAmrYuy+uCb1225I96XW6p1fwrKG1Pe72wkEF/WawDl0xA/7Gt/YxSO/2/uD3JD2MPwQXJGSE7QvnYiVVOylON/MUorkaVpat05EZFNe9wizJ6tjBXPTTrgiFXQrCpqzpXemmlXmxfFwOIj6OnX+C+10K4Sk1g1uQbOLvT5+2Tw+Vi1HDwlYQM+E7Z/qeb4Sk11owTb7r+AnGHh5dVFHuPnumIALz8HeGpP2v9PgvwDU7n8Zuo71UMkRCHqNW083OQndIDApObMAL+vamesGnH3Iz/Bz280VsmnAKEZxIdOm9qdfRHlUFVWqHdkX4xPP3NAfwnKn5y2rLaf7BwUPTxy7JOJO/outqyQwDNPSIk6w8PtXnZLAueh2pvdRTN+6YUCeuYZ6BoYpsI4XXW4Wym+qsaOkOck30e3G1N9CKxQ9lyV5BIOG1UgRvoLAyVjr4iA2D+BPZm8dliqNxa7W8UmJ6j17XM+a0nMgFL/GL2m1McpTowE3cJZ/cIjHwwM1E9lIhBt4DKyvJ4bfTg9dMOGVTELguYJSyga27TTsBHMtRSM/EicAGa6f6b/vsmnmeFKlRVWiEsCZrHStKNEMkggiAb0ZdcRY+gKM7EEA/1U8QfmNWwKvNJjjfavjl1jWytkIrvqntXFJxQSzkezXHr18dFsY43YJGZxliHCbhSns01UkxfE0J/WwYW4re37df/U31lU0VAzPBQY4vpyoP69kEPVr47QQAAARxBnh5FFSzfcoFhO1zBqVyTWldLoNi68hJ1JuOe8hX3lim6wyNsIMZTAM44PMwOnoaIKDcCtn1i5h9E5KwSyIqqpk+eCwn2S6JnW8X/FMpplb2+TG8Qyiufjsx0ts/66ZUFGivmhgyAYYy/Baz6bbvHIdXgfF/Uc27WcTHGN4DRtNLvqqPcXb9o0d6FUbZe8yd895Ibp/Va85wc4tUxkDWdu3QQ8DGVX2bNW2sNhqKW0VZskbrSg1WQ706TrbNU0+L79AgFfunbE/zGnsiHGMPrDHnubLqHbp58wf3nxh0PGEVaHoljda55xT109pDdL5q38EysEDsEetraCZzlixNUdsh/HT3Wd1+QuhlRe3oYD4GhZFU5wnoxQK+GXAAABr4Bnj10RX985cC3w4EL8ujmAwOAogst0nMBuhf6riSyHsGC7S7hlFtU1vsgc6OAWwRf1hKv2DyN2X+CD6/2oJLYs3Ow68OSnkDQscdqBg1cbBP0o26G5VcncTupUuqFvlYsVsoaYjWB2VGjVq+zPhb4SPcwKfvZp0jNzQJVfavXuXJQQmH4BhlPVFUIJpyjc7Bo79+6gFEljdv2Sf7t6KTFcYTmVOuWHVdWlLHZWmUY1CxfXzlPhYrEJaeRyMLBPEj7ZeZlm429KA1anIaYvlmyG1MT5sMKZGysZiTnda3NFStsASeJ7vhunhkLV78eDBgjVRe+hZOjIrWz0+/flLNsoLdwj3k9cfj76PWWSaBTbyGTQyhKLPCNJpPfI/cKFGVLBQe/sQXdzkWqzXVHEAEw4wMNfH92H4tlB4KtMX2ah+eAeb/fwdNxuG4jODKRS2N/jAR1KKlQTuGGv8kwQyir1rSXuCRIIRDafnttxJ/ILfamfhe45ILPMHixhqCGYUYUU9V7Ry8EKQZ2ufToIb/hK3UNBDJYIfnbUq2zEx331SsqaLV5ZV85HkfEOgokdAnruvt9lUJ8yXK1hFNVBIAinglbvMPEoycTxrHXbfvc0ENxe0K91F8Y8ifaQUClVdqashLFvLedbS+RbCMN7JhR61zF/tVQPOd6eAQ7Bp3mrQ2os0piHBiuvN1Tmnb3RGpvGWM+pZeFzSaLsBU0yz5QmkeSEFiHkp5KfGbXYana8oU/XZ9fTvDOHle8lhdlh6viWNE7u6bLjf7oJviaYHp9R7bGJQ+CU+SaFTDLTxMlQN3MLkYTjcglvDS/28ot3d39krJ2sTPg/VQf0YffAIOirbaQD1tZ7UeVmGfG37H6+0s7m3a1Sd5jM1kjKSVGvp5MrnpHuQjIheyzfBDcD+LNd6f+XaFg/4UD12d35bQEIzCI+K4XnQjULGCrNZeahuhv1v8PD9qt3mETDlhc2hCPSOIkRX02fjStZQerDewwSqlBY6jWp/Z6gmorz6vUlX7uRu9pdG6upG9lVepXdDfT/mtNhv+bynl7s0SQCei6tqJl+JT8yY6smP83L+HdHPrTmduyg7YXsZcxeeeD9VbpdyJ4kXVgXnqBtXnTwC2hvDs3t4yDv06Juq4eKAgImLepa/dvgs4TaA4BBHyc1P+MTIUpfwo41uznCbVfq+Ft5HTsA9tMNusl15GFL2BpoyQlGEFygAYYxTSPGucJbfxuGR49qXMy+TCUZ4KyCdfC5TDxUFFYOcOnKPXN0tDAR68IAwfx5HhhoS4usrHGHZeNOK/zPnurORp4B0KcBOP1+ocxT+iTFWdScLm5hznidB2va8bOJJ7hja/Ol8TzHZDGovZEhfSVapZsKfanpoQuefdGz8xU4EL4s3iwh7Oa1QgoYrTtHpJA8C1V5WoE4x4PdHPaziAB/2sTplU3lS95ps2ZhRWWSgzDKJOiFt8UIC1gmmnNE/YlAdqx1A41PcVJ1Jj7FHQqjrdNII/aNjudJz1O9Gih3CcRqRO2CIsQjb14x2Eq2seqKq8oXbZeyN9tvjChDMtJszteYqLknR/2uAuoGOy/n4hZbLvC9qoMXR+C3VFl1icFHDeKQQw2evLIJoNFwMjK+cMZ/bXVvxghKaYR5gbpPYLpOSo1mwYJXVK2ZurqsVWporBmuvKA2iskchBCc+JsW+A+XwGewQwdILBMeBECJgFkerkWCO+pKNWavcf1Ml5CuWeH6k3QxbttmnyCFIVijWu0ro+s7YYzo6ulE1FKcOgB1PH3HRjBdJNxWyeQ0fqAGAL7IQk3YPMweKalLl9qbWV5TFkaJaK7tSLis1s2wZC+e8YOr/5XpFOQFnT68aJuHrx1/FpcjQsifQvhUikatQQVx4jQJr01QU9SxdU8GsIvoH2PNz/Ksy9P4dc94cP9TpjfPdkTmPMVHU7Bg51fO/AYIz/YwQrDJJLVgvx5vA92mxH/FpXLFv4shLEjr+TNGX0eAyQjOUJWdIPAbLayvuC3MGmH4/rcuWWdrutNy8ou8ElvXH3IcA5YySkO55AF8uAFP1YrkDeNWVah9m7dt/TdjuHtn2Fqkptt5upUg4grBORsOth3j0vgA5jx3V+clt5Yd6VbJsactWFYJgYee3gA2ADsr/SxtEZoTa4s+Ob7j31+3CCCSRZ0psLC/AQbv6Xr/h8B1u7NDeZkXVEAfr9mIc0ACnkyRGGHCusebUfV7Q1fCDufEbgLBsN6RLG39lWKGR0hrfR0FAFOCqw+Yohe2Y+AdttfMl287wgWsCMgehXPzyHgAAAAcwGeP2pFf3fp5+iKfuIxSU/9X48ixCc+PoC0+gaBqWrhWZQcpijJl8XPpz9Fi18XEWDqhl6W1WXbR5eY/0v3adkVyx8xk69lJ1PIGj3bHyCCGYL6oNewzaiaF1Frfiq5ft5s9VVNEdjAACzAwRJVBey0YRcAAAIaQZojSahBbJlMCL/k5qaMSAL2/lAKQI5OdpHOydhxo+3aYWJzo0Kb1ECC1fGHtkQzNhp5KJWhFXekN8e48gTYGNf/480x+ekdPoFC14j4vBYo7gF2PUnpB31Wg/+HIa9Putj4CJsBhW7GZ6Ya8mqQ8FEOQCOR5kTmkksWSLA//tpJpxxsEp2BHnbviWaEElBM9N3nGbbA4lBJlBwehggl5T94VaML+tn5Ym6gun+lvE6PdyLUJelgNI/BrojjDHbkUoKCnRX1vSzwM+5yU64SbO5GMvg6fP4Kp6Dy0a8T7sxySpbr7EYG+bQkHNkSERf+THEvCUIKVZtD2745JX+1PXhRrbNjXT1kGUld70XWIBhZWDKabF2INNCE48BtTkW+ZQIyhL5xLmnyAlrKAl7E9C7PoufOuZzswG9zRRp46e2nGtt6iEAN1+gjvHU7wYnC30jMeHbEUkIey5h/nXNN8IUl96AiEA1LrLmko2/oUpkqQiriHcnz67j9NSkauW2CQb/l9e+npfPdOxeqerxqnhPogNGs17RFL20KwWaOi2kUxK5f4/y6IEUv3Oq+UErTMbyG9yxkHeH0i6wuRXEQoVgv3qAW8L0RTo9Bn8rOlW0PPVtb8M+P0APsWdDESrez8CJWYfy3W+5P4rl4gQz/Tham8yGA/pXA06h70mP/ztdgr2FJSAqZYyoezWBD5BWOoM2FlgMQCVpRBAAAAHlBnkFFFSxHdLTwMbwOcL27jCR0oqLxo22SrY5hjCQpJVdZyPQejc/QIdw3MXMkZtzrA+piJfVxzlrRCdv8ZiPhM6kiWWBQ+akEtGbr1wUGBHc2SiMOZlKi8AGu25NXli33h/mwK0dQ2XX4dtyuz2gsWz9IQJEeeyghAAAAcgGeYmpFf3d77GCffpTMl/ss4/N/e7HGUBKVjWC/+E4vSeZeR6GnhkVwkymG2jOzf4Gtj06lbRXLDoZn6pGn7LOaGVsP69BZlXgsSgLW76vJoOEyeKb92H/Z734jnq/6sVF0tPwDwP1GQ9aU5cQBRgBvQAAAAgJBmmdJqEFsmUwIv+Tt5GaeEAYS0fEy5D7VlYPw0AcFNUX9P8AKvk/w8+yEzyORS5VReyFN5p4qHp0OC+w63VSalDk2aoCXaHLvNCDSSTKl4GY4xshj7xbqakfRapcn2zWnNB+b7lyr1vcmbbEik/wSB3RVnf/Cbt/zm73setNpL5Hg7qvVl6p5kC5V92hAFTpOdNugz2uhLah81FvE7S51rh8PjnpqwPCH0fpQMripQX846ye3koTpGwVIFx5vrJZXENhno5zavAgZ1sZrKrTFSagGeRj1M7NxFG/YeSyIr5vREUjwuVRvkJWarAcDlY43GaQ19BYK47z5DxerL2VdzS/LmG8HVwB1ma8AB1hxRxyXLA9nzi4lBf7CbQPG/BheOVX4ffcuwg+e+f4+winj4wEQ/wzDc1h9OUbLRxHr0iEwcKkdihH1OcTgN0CjF0tuFFto6EuC+awL+9Jgq667AjXzKcEyX7a2uRXdeRJ8mXNo+3H7MCstDQ7nDARmHXRGLxYeUUXuTHmOvBGMZeNsGy9nOyFvPJGauLcAhdyDD5S4tkG/o1ZsNnn5GJSK6JT1BOrTT7nKbzETCi0dZwsl0HiCwYcCJpHNQ8C3i7LsKNHYGNc8Ifig4EVrKdJnYNrfz4B7+tXiMRpPSNK+N0kjTEaySGjQAzaAHDHSABtfL0HBAAAAiUGehUUVLN9xBAbA9SIkXW8XyUDPiafJ4mJeILjZZAXbJf596C6Uql4/gnKup1Sur65P3hHz84bMpCIAJJILGXQsKAQPOwAlxK1dGTpyKldhclvNUmMo5IYtJekgXNv4vVGWPcUAX9yxGR1aOXguILw+dVrIUK7b0jHZae6NrlCRpC+4ERaAKCyhAAAAYAGepHRFf3bnHv1so+cX9JjwV1brmOZl9+W31fNb4P8kJyN+qEls/ErAUhzhfi+967AzTO/ckljp8se+5dVhOUUp+LDWlPKmNyQab8+JUXL22lQMYykDu3OlAMvAAAAMCQAAAF8BnqZqRX92Q9/paXKTUfwQEj+Z3cfU6FBlAdRGSRJC0gY0KHBcJOwmh9zDciKPDKS9/dxo6jQyW7tW5DsUIEWo2MttwvhcWloT6TKjTgqV4D++PtcrjEZCSNgAAAMBtQAAAmBBmqtJqEFsmUwIv+Vl0wg6fAcVA6Ox6QkF/PNj5DuX5c80+KuN/DYMyy/Yib/MN1st8V6XT6nvs0GD8Pp0xsPvq+PHYLQrN6ctpcbcCzrUNyL1EL9M3Qbrhx6s1RWAb4c46uCziW+3I9HGIoaCYo0H8bGXEq3lGYgEk4YRCfwDAXqLwYCcgk5Q+cjYw1YrhPpLN96Q91TS7P1S/V6ieuHsQFMHU40ZcHcBn0hRFP2M4oTAN+p5nmC5xMCYFKnv27xkVSV6DaqfNjVAZ37XwSyHqpTejtarv5DMyOOROozg6P20c4OQZBVZwKP517/jKKEydjU8UpxEFJ1Y38NroPA3UoYmpUwCycr988GVJK5LEvDl63QZLEhuC3kcTyPr5Z9JyXwO+7cDF/uP+e+MZFgRVJRhlhYKf5gKrl7SIplnm1cDG9Lz8LjY6D59uLCYisPj5PruQgBE7lS4mqhiGPbh3YonyM6sD236mNFM19Xus5dVE26LeaMJCAhZCcsUdV+9FIsblzsU5X9n9hkKkimopsJo61iADk6TJPROxJiJhdCeKCzXiIQlDrnCIEc5a+nRCUyHBLox/D5UdaXLWCbTiigsTazDFd0HL1ZUWONM2gGgAocw4b95WfY/2i5P6Ov8cYmKxnRdSbf/BMUkMGNDCl5XzDJZDqWoGzTeONECYkHvjltwGA2LFdkJ7zlS+PsULzHDBL5rZFpDidR4+QId24vN0lXqir5ef2c3BSA1zTvtdBS2DdWptZuSxG+Pos9Zbl87IgtHpzCYCWkDn8rRst5ZaUJZYlaYlQLOlG6udAAAAIJBnslFFSzfcn3l3/fO55ECLmL9tmPRyR/dkhnQ3lTOi0Thy+td56/jjMaQxLnUbyl260ldoNvg69v4BHu6gPIi1qbWiOkhIeorBh4Czo/hbZNlQUM8NvTR7oj2n+CiFUqk3PoWrZxBs3zn83AfaPNkUxCPITlFoax+YJLPWJy6wCTgAAAASQGe6HRFf3i+SsZDwYXDQiUuppA+hktDw6e5DzHH8hAoE3UgCURgECWDUExGAFpwy8pbcJ075FqO9qh80wFD/YlQBCvEAPxyBmUAAABlAZ7qakV/d3x3Qn6lU89plqcAbZ+//TDItidi1hSYhgqMBZnorol+XCVEeDjAvMUqZI/H54hQaOfM6fUkDUAHufkfE1NKQQ4eVqMWDjkXQmpRuw1Zip45rKYbcXZbg9yILw7nAXcAAAJPQZrvSahBbJlMCL/k6GcutwgCiZmsraOpUn4E1GKtEuaMi204ANdPZ5Xw1tQLtDAkQaFFuaaST8xaDbCOhLMfYRFGPB2TVwJ1nDdoWsHxSoxNOLmCw7t6Yll26dLiPTf4J9J2qgUWEc7HLb3fhpt8R+zTdfEkxiI6BDEVFMjqm00lrANvYdfPEQay7YGVcqGvQDZuuDKTQQuR//ZRu3aVDby1a+mMlReG5vNjBkoem7YSz67sp9PmdK7FMCcVptKpG9jjD0JjsTAlD1hlip95IaAvXr0b9ZqOnfBdXKD1Je9x7Cn6YAKSpK6spKDkN33ygnWqRfvynYEkJqKnm0JAkFgVItaSJ3uOfYpYLlK2CHx22bOAKgp9H17can+eYyaTtIKUqcVVtVaX0Hj8LhGyBAuH2FjecwcM9YxaorQ92fwwY5Fh/xzvcWKAqwdCJp1F2abR/8Y2P9Hgwyy6PVzp+zn96xJD50GZQ+7mKD7QeuvWSuYPd+2ixjieWiOyWtioapnM0Cuj1Qp5FBx+GX2RZP3bG8zR1xINXwAEH3aDL8U3DF7Qy0HWV9hbeZ6eKED044BzbqzstU2OAvXF9nAooKClgWIzeH9Lx2kjxbTmR38SLuO8bh6i1b/mReLD6mO2o3eFfytZxXngR5u74wDaKqJQteBK8CurTe813/0ow0dG4D0WEOAxNs2W2CCpM8hxAhPPNLc1lf5CMBSKDQmfMR7S7cWYpVAA52O4woH+7hCsOtfS33yOXiLw4O0dwsv8J279ujBWGGsLLcQkzVkJAAAAo0GfDUUVLN9xm8eRAi8sWt+3JmMukknLKzgzsqGsLzygttAKWK7e+BgvOYKLCkVkHtejgOYYf1UhJeWDfiZ5V5j8JTOAwbz2lL5CXqMIto6bcPoxgOs1LwBdR3Ug4MeQ969cUOjumiXNxkNZmYBhtz8bZxnRomCJgyr9/oy1VtBUdontgxfrN++TB3hmTpOKbFcScg7uVheiJreGYeYAvVcA8YEAAAB4AZ8sdEV/duvhtd/pTKnmTrp8FCZitlMYuQuRsr9Jvv3YtKY7zVmheXoyxZNYlq3F13G/HlPVI6PZjkrPiGdMBvQZM7sBE6RcfzEk9xxbfhTNInyhkdk8xqB/rcEVMXGa8a64lKooWvRcFvZfSLYze621AAADACJhAAAAZAGfLmpFf3UnQ8chkSG8LtruC8+NitM29i6lofXUbSKFJaq3rtL6mDqABZC7YsqR1T0naNtKUBCBM6V6AMylWNhi+l2xuQLL83MKdaUA/pZarqXizV6ldaqGpD0D1GngUAAAB/kAAAKxQZszSahBbJlMCL/lZdMUZ33Y9QVKyOx6QkEpPm2s2JmKHv9vXsaW1dw8GU//ENffw2hKkr7v1zawPwqD9LiKBTqQRvF696stZLBmt3p2vOW7a48WgYuuOVopFpeElTaTHNouKqAqrjelgr2TJQMCZm4KeQNpuRzLu0m0s+4NKBxSFL6LKy3bF+OWrLAn8ZEYLBReelZ5VNRI7HK/Cq+uBpfhH6xo+SX3a9W35RN7dGTUSnSs2Le5e2J+yMkCNu0OynallJw3gp4j5UijRb8X2b2ZxalQqEET8PyN+h3qil2ft27XQfcOdDqXcRHNH5s2Gh7HW1GyDU/qPLX9NYZjuayl5WqY09kT4TznnBbiBvBQ7fa6lkjqpO9noS1M8GniqeiQrGU6Gs8YgWAOAiGl6zAkr28GqGzgx1DYqCiwd52V5iVJW5/+85rgnqYvN9ycXwk4aJU+F0orr/0/8CUCPoT4ybjXS/E3IX9aZEDl8tYFivaPhe12df+37DSyVeTG6jrgoA0mA/IJadnMX2gB1lwAsvSz4kSRct3qoZVaWu6mi9V7n2ZdYok759j3OCcShowo+Mls4e3YkrzM6jekRieillkRsq1CzIAltJTeR80ZoQ6nROkcFyep/AXb9agMa3EN1eU2SrOFMqLw0pf69T+PYjvIizzpmdjwQDV5n4hjBTM0VYX5Uy+uK5nhKFCgVxNQOkZiw7j96gE3kvaROoTP3XYOyKo9/SGtQXspSjGXlNb8rs+FYqieDuBOoo9iLh51HsM8nTojjejrhFqyZf54ikiFFH4MlPWPIebFesErGsigUr3lU+WkoegGwtS6Yqc65AU3C1/sClCSbQofkklS9oodm+pKoNDLb72s6I/pTqjERoF+lkcZg7ofn3V0fvY42TLzgJyEUMRCgFazX74AAACiQZ9RRRUs33YIZSzjWfuNMkXiDZh+7y33zlzB/bY/WFqh1yJqZisPIgW/NGeRWIoVhY6z15j4KDrkTrKs5zcbQzd5pSdYjLD8lVPlpeBeBWMqgXjUPvhaOWsZ0QAkZZrATLJstxRQ5xxsWVZgF5upZRhwHlbLZy+lxm0olzOw1R9zeKtYLJAENNjsZq72G9slrZSSIGYikjiMyR+Cxio9aQFBAAAAagGfcHRFf3fAuEFgfSubQuiapJc1UeLHJThXugdKv/Tyn0nxV9HKmOM/lLL1+HKzMbxIjfK/cygh3LwcG0uDSA6cMkxLntlloxDXcOlrBWzFLu9NRV9BG7uH/lPBWLsnDjPGK3+oUAAAEXEAAABWAZ9yakV/eOHOnSJzKSRKK1yy0rGxKb4y4JNUWKgan7WxyWKZVDB+w5b4jUhvI/ZgCKLjMyN5gdFOMry1RLKuM8DbDXH//jKV5n6jOdtQNAkAAAMAsoAAAAIoQZt3SahBbJlMCL/k5jZczAJen7HXe0u+hg4mHzfUTJIK9eCbTEirOGuhqxm46WMxqUAU3c4kR0srbP8RQPEZWvBNAh/F3S+O5qkNlEd3b3tBaEl3+mCZZ/fa1gdlyztJ2mLoy1Gkzt96tVCrj2QNPxTAYvcTt0h4ISqQhS44Gxe0IKTXm3JFnoc+P8XID4J50r45IxQgUmhdrQ/Sx7D5mRCGqwN4xootKUohGdHrxUeE0OPGAmdbUe/r4TZsIU8oG5mU3qe1HFisPc+NKJUP84zAkU50M89VLISJNWhelevHgGA/lt6XjoqKU5M03yeVYXAdkPmdnbQnEPAPgVjfLetLyuht8hksPSqUGsN0YExKjiCkGAu1u1JG4bubQFh/p8PWPsKIIkHwWMdqo36VFCvypgJ6kzhUjQop4a0q0rZFpwuWylR0l1cI5jlASV+GjXh0kjxQGQDQ5LJzazfFKKLt/SJUGg7kIoMJ3v98hMBzlHxwmJKCGEQ7MYJ/xKtO7fF4VOZKyQbRc888f7ot8y3C7kqzXHpis5NYc7sG/gB0hNIb6sjepqcwL1q8G69z282IXA9QEM/nO5G54krTna7UDFQlbWTccUzSIW2+aD0mjWIVHGtxLmOEwpJ661CyFCNaAloBMrINGy5uVP7uNiHK2MEHjo6wOuCHPqHcGaQgLeUhKTu2k3OH3jrwAIum+n34suf8ymZB+PdtsV/rsV85gAi3GjHgAAAAkUGflUUVLN9vo6syQH4RZawnoGniD55Qy4uZbLVHflsUydbK1jZdONpl6zbhdGjN0andGN11ZQbO07Y+3cB1faeAYR+MqiI/32ikMF/hfayO7S5+DtqF3zls5+/v46JdvSidAQ65QTCCC7n84eMtLmzrXMzqaOcCMZp2O8r78mFwFxBl2LrKpBhVXiakvH7/Bi0AAAB4AZ+0dEV/d+nn0LgSco48YgQkNRnRTaozvqSQliFy1L7sFBgAff5N40W8RW0DdsvEqn0/Wl/TK0r8FGrar6MeyiKw2n1KFm2lsiqHGueRhpwvNKVikpUFI+R8s18N+ndOSuyO+yjTJcLcXtDG4jwEEb0sUSAAACZgAAAAawGftmpFf3d70kqfS1K0edbDkzh5Tidl+RcQFs4fl79gKYMO8S1daUU1OZ+rjKRfX4Ek3z3VGtzJ3P/JRRlDwtX69UyMUTcZ0JkOsPyNyzDk/e1sHirAyNe3j/kXU8tOi1jAWgdgAAADAM+BAAACBEGbu0moQWyZTAi/5Tk66IItrzdlhWFclgxeFwGaXo8kSsfggvRhNKsmvVgg8FoPiHWiQz14sqiMC01p6UcRn2jpTBUW9JK0rop03q8H4FL7nGP/lv0XESRSuckdGLzhfg4kJUjc5uQneFCiFoV269NmXRG8rJgA6FIlUBnFubEUfqnl0b8fIuu/zol3Ey4Cpnv3IPoTMlWPueuxObkWj8DButmRHFwjZ55rvCz7Uv+TdS0ojNHjr4UXwm4VKgc85OgFApScz93r1+pWHTsFEDibRHUUVbN7zJU3bpxafG7Sdbc04IthLG2pzej83hdwfow8QOqy+sxTsF1OJy5/0mbS94ZaoHyP5YFZ2hclpC85wQywXQdJHJiM5BSSlvRL5GBlnYQs/MwFMd0ahDc/ccUWolZX6zqyfRKsAvrflHLOoOg3nzofm7K/WyOeV06LCULIuaHO5JQeTrv2u1ETVT88dB6WJRH8Vk5EYnj4cnMIe+7LsDS1tmy5T+flGT5F198G5iCzH47RiI6oc4snA9nQ4YcChCXOCwiP62QoUuu9klSiYUu5Ex13ImtJMmSyKJV33sqzie0yehODBFg6vw2oufowoWlZ8+ApXuFifHNGsz/qTq+oBU3VFG9m+Yr4kjV6DoteK6dTn6J013fbiRFN12bGDczyKLd9o8/WDPZgRK5NCQAAAItBn9lFFSzfcQQOzxE6fGGvRGQtw77jCgkdeVPgQVDGvN7eJg/bfEZ652zhdtC6n2GCWMyFqGK8poy58UUnz6sOxaR9epihS7gpo66GBVlCslwetf+gVqlo/vPpNhdYMBQS+vKdT4hC8qjwsDRCBLb0FkYKtsoALP1BL8Wt4W2B0U24t49OhlPED6vgAAAAXQGf+HRFf3bnHtqyj8vjbN/4CHN6g3Thjj+E/QmFhXQV5/wxkOz/29/5D17426nkztaXSQZGlAOz4NGva+QZIjiZhiqhzQMvQYIw1Uyh0TriuuF8SsV7EJvAAAAHdQAAAGABn/pqRX93NkvYWdK1ml2UOvJ/PKC/uQVOfB/yPxD8o28wFv+0eTC4cRQDVC+VioVpbOjfUxO2KBEwogvaLlxdCzaK55eW+tFcg82t2g36ObWl4dFH1UhC4gsAAAMAQsAAAAZEQZv/SahBbJlMCL/lUiVUkHNBSVVA3vVqjZpN+qwhm9h+JZc31DhhAGOetPwHOLpxNE+sk4h7KJmWI1v0Qq3FOz4aoWNMTLPYOTCfpHaMCIAryepl1l8TjGUTHlBZoGBZfDxhmm/mHWGtWrz8e8MFFujkCBgW0/+wbx/4SWSdHsXZtIjn5gv5rsArDqhmEnYdVXzrbCXp+y+qd1vdGotIWnsjjlIfXUGjHghzFUBbyf/c0jaWuEJPCnSEUeexGYrQ9Cb++8ML/4fikpgdrv7GTmJdcE9TZukC32Dlvp6kmqaToUb57uLjEFJqU279QK9OR4yjcRTjVeB50XPW21qjUS+OrGHR3ajHeCh0Og1369fPT4pHSZ/obKzULt7Q9SgEor0f9X90jwHjBlLLegOEyR+fyXFsYD/PMQ+BXdX3mSFEE31xCsQ+XydOoXk1P/YFJYtZ4CwDXuRxLqucakdFp1tVIRcdPa3LKQxMok4oLrMzL7vYLcPyGO/MXptw7cmLFSEWtpX+iUkkplV9tlSsFg1uEYR6TFsKD8l8DC6SbqI+YqK1xgfYf4ha+RIVrUuo+o84RdL5JyRh1NksQmgnWKuO6cK7ETk1mqtFICDrdAMSrBplD1lR9ORzhu+XBAXGoHFTFPZ65P/kucjnB9etfK7u273fRfovmtRbc/aP9zD5hKovDtmTsZMplhbXT8fLXOP4Sqb/7uAzHRdoUG407Is6CDVbFzuYGcBIct++tXjkq5sJjoxs8RZeqmrvQaCaUr/7/80+RiF0JbJjacp7iFf5JyZ/AKff0t0BLa1k3Vu3evCnX02eM4zPgHyffttBznQUGXGLD8O6FTnbQA6fySclivGyolGGaZwilAQa8r2LEzmlpd22nVGiBlPMiiWzwH46omvDYjmSaE0+C/A/YKx1n3qugzR2LzZU9ttPUKo2Q+X+gA9RNJpJx71AGtZDnFR2p1p3YBvmmo7m5dAEAzvIIeyTWxRwel283baRwYaOvppFE8l33bbhkUhrCpNSEc6OhRYYw/JtdKJCILLjSyclGkt7QeAv7rykuwWP2sEnKv65lo4rH1k4sGgLgDc6tcLqyzraBbn19oVJKUxTxJdhG0fpGk00zq0kGJMQhJjW7Tv/I3sRkvR6JC95SLXPKgTWN3ZLFToyoaXzlFNYInnesJypY1I32EVq+J7vLVsMROif0iCElJKMEbHqBmRhEpzrIsd/8PdQ+9MRS/qG+vGjnWWZahTT6G4KLKI7k/zaMGS88PppySina2q0lyxYKK8MUDYOO2KhW4EUs4rpqFEeWqlK/GbSgVYHOrRMduwiHcn75m6YwvQ/dQ7dglmepLDMMO4nlSTLCyDRDPXQhq2VigCsKiCs941/CBaBAXaQAbv1Gr0XRjV9iQOTq1Xxev/1asDFRhhDYsUBItFceXmMr3b4zyNZSY531wIGDcTJ72MJozUhr/iEv0Np7BmiZpjQIDzLKYJEWB7J8P+4GwNod/vlHAQAA/qRnWgDiYZDl/C4n8Hos1Eiof8453JgcYYTkfiduNf7hNlWJkAWBELHhe2awbZB0Y1eesMX1bsg3H9wDLmZNWWocA4ttMbrlr+eDEvY0Q2X2SEhN7TG4OOcIJ9npLVZiDRmKVxoXhop3JlUYR0j/fx/MPxh/QGnThJUJkNv52XAQEjYjhoWZzyr7usu7SlRa43mWo15nKH6RC8fI6LlTZITt2ATJRhgc8blOgdRnCnPqdk6Flmv+lQAGMLBUH6nK64c5BHzIyt36xyfaHDKf2ZKaMtY9bXwZGQIbqwOHMXRR3C1LX4ofmi7cT9yRhXQ4RHw4rTENN6Db5MoQaDeFBIFLPuENsx8S62fGsEZ5E52+QKWuDj25V8aUMnBnR8mJhbSlvBpRJZr8xm5VgL9xAfNj8UMDxmjvpv1AaSQjVL3BAbGKyINXovpI5dYzBKFPWey2Jiu/kqPsRxDZuHQ3y8uMxFFOudq25TjqpNKvDPFnypiV/sfnhIbHfZfb8UcQ/pkrWi/4uLYsnq1waKpQEQX3WsqGBrO1ahr5B8LGXbcwymN4t+XHxcfNe48k2884wlnmQ4T0pWxtw42IXP0KOaC2/W/Yrdxpr4Imhm0texkxT4V6mbQBVcykvkAAACNQZ4dRRUs33J90gHIfguL11MTV9pPy+m/nqsT3B+Bp1Xs83BCIe232uwV6Ti474lAmypI9P9IZVaa1G6Ch0Pr+w6b5d0EZ7zmTSBfXSJhQ39zsEs54m+i0fpRWo7f2+eAr7XkLItYAQi/vWoTXxk2UmOIjAL48tu0umIq8gMa8l6G6kWIArSNpmUhdIGZAAAAWQGePHRFf3twMGdJMwGboVvwqfVRsM5z3CEw+Oolv5vS+j7Se0lBK1TwkegpPhhYzep9gmB1SXdz62xdPdXIh8rSh+Hw2kve6jz+2ew8C2n3S1kM7MAAAAR8AAAAcwGePmpFf3d8d0J+oppETXUWm2GgqMpmzU27Th2dD2+DbUoyn/3KbjufnDYjj20dUJEALgqCmv1tAiXZegJZlc1GO21ds9r3a95Yc7P2kF8PvTwDx9IVuLbWwdkBIk8YUhuQdcDcdkv4SD1MZ/JBwAAADpgAAARTQZojSahBbJlMCL/k6H1mWEAUTOpEJGz8kwkLAjJ/uTYd+WACDA/9O9MZUkVpkGMZ8Ft6ykcefdStZsqlEb5gBnwBDdyz/fhrBzwXyrrwe6Z+V8tIJxLjeMKLw6kjzP34m/6hgoN5S/C7YsEeL/53W4gn4pUccijoMnE6hnzJ34lLVhfWR1cLF5wxj0PQEv6HHJMwGuszNm2GgzDiQrGtqyTNkABOJIYn8iqpyyKH7EZmfs2G1B/XIVfaJcxmUW94YXK8Ab/A9k0oB/d4bdv+IIO0GMCbDeH8r21Z4akm7US4lQziUVu+6+q47poAe5fmomkM+aB0asvNk8cUjbDH6C8sU28bw6Y+2yUMBUJmOzxjEq7YC3DoN/n4kx0oARS7+wkofAp1Bwc67CARKAF3mQfObhFL+5SlMNjjy06s/ZxSBwT+LfPKvEZ4XCIQjWsmCwBS++PiuPYrGHmIrrn+Wi5Vc3gT7QUut/40CnxG1UnCzBxdqpMzjuSwMt858sTJdoiKfjwKFCgkoFY5giKm2ZzmcIhNnFkmCKr+Rd4KRRnWZAEqpv6GVOOjImmcaUyQbK3q5WmHfbk2W0rp+7vmRGALP4Di7bkWyu3nFvtujn2CM/lB9n+3XANRN98hnP0U8WUuextqyacmuRoAa+b5N2+B9ElCLp6LMflJUnATQehRZAC9v58686V9n93ZhJuCJuIHD8Cwz1b0rwwrjmM3BCY/LjpizbfS5VIRkeyX4SMMOSH6ACoSzcHoYeCkZrjBq4LQUdfEKDpI+DB69B9aez5kxAZZToIFElUNQ1X4+UceITCdSiFerFnGcRep7RWRUArCzb1CgzdEKPpaMkaRmiO8oq1wyPsjlcpPXKnEXTRvsYIYar+/DMhyOCeEvMVkn/ZFXvu0xbw1Z4R6H65HYKDKD2p7JaluBPurECtEk25pZ7KbC4lruXp73MpAkup2340jBCa9Qhz0Jx4MqJN+n6iHv1mrsyJi7iEoRljuXfS0ET6LVAAbayC1Gq7XwjXTyXsxafY3mYL8z0hJx9/NPdakuxSo6Jy+v6pRN/rb9ALs2rdtupSxs2ajt/UMWiX7K2X+29AwMEXHoX3hohr4CjzXZigNleiCBDCRf3EFiaB9p7oDut/ODrz053jmoUsxGfyqxT9ORc94O+G/WGvPIgbLy+Jyh4csw91Cfnc/7b/1wmRUzs2j1H8IFj+B0zNw4vmryr7+zOb7HtoXfNkSWx3im5s+rPtyEevcBdf+t1/VDGCj21wtUDGl/l6leCz7Kru0wPrSO979koW7JawnDD5PjTB03W1+1OwvOgZpF13gb7ZG/4MkoKSFGVx+Ly7tBxF9RRvvYxLJ8tgT2f55LYH+/4E1K5YnhYBJM/xiARQ304G8LSVfUKOgba8eaSS83vTPxPg+KS/hWYb+H88f1/wXC12uP5fxksWHlxMQy/+05a6pmfSPzzLvJGi5mAcNWQ3xAAAAgUGeQUUVLN9w/UI2eveObGehJ7wGnvK8/t+hGuK1D1cWqFXyOQr5cxzShdQqEPg89azCUJCjNUTTEO453IUN76MknOb6CNXmqJe0Axq5zoUsejAqBnuiRbLt3eZgKF7CKH7qRA3LaKFXje+Jf2di+QPZ51KcEUaAc+5itR+47MQScAAAAHoBnmB0RX927IbTSXd9kvrfAu5sYHs/8gfnbBbegCl8ttAo1gOy9rlvz3SFdhJATfgGrlTCtRnMUE8qhEyuw4hnVJ4WZgJCM2eLhhn/ImKwJ1dudoEDeTFeA4CQ1exf5r8MFKIhTTPHEqJZaVPmsVsu6vbEaGNIAAAETQAAAGcBnmJqRX93eeqoehfTUtXGyqf9qXunQ+8swF1rl0qf18f7wVyMIiHrU0Wv8LuZ+ZZFy6J3KSFtzvNFvMkg0zl1m+IaffS3u5B8PdDmMEU5V5EN2BsNX56DTcUnVODqKU01CAAAAwO6AAAHLUGaZ0moQWyZTAifiTGmItz9y8DovZqz4rEOJUwnKmbSrozmdEbfxCn2kKTpzs2xFWnXGTv0Z/prpcnocl81J9kJb/VVzd3x0KNBz1uSpGYdINA8E/n1veu2YxMYS6Xgd36RkD7Btmx6pO4mDX3QE1wFxMNqCBI5/lkX9pwWPnYje5DeFoHeCzi4hz0/wZvAFk5pIK9EoEq8NOgQntexMk1E2PImGuSuNgXN+xSuAEnoIoEpDuVCpZzboNruip9xPZA5DyGulMx9lDDYkbqDUUb71Qi+T3ExBnFDrdv//4nG96DGKYJfqzC5Ld9ARskxDQlzds0JFR5HZDFZyXsfvnBMCDDYW1obYcuETMP6LiA97Y+u0X2WgJ83LBXRe66ogamqzcMl2aGaXk8tWsZwhWovY+G26xVPDtpI/iM9yqP0NGao3XzwA4uulopL0ZxG+9Iqy5BgvRO83e2i33p+MySPrxceMV4MEHmxxOgj+50ZZAqeXoKJJVgulf2o5h0vv3ORN6c4lzWqWt5ctMSkRbN95SlaRhUJHfxxXkjrYsPzM/VeXTTQjKWFiJduQMl6jdToa4sp3sH+CiLZsffdyeV31+RJl8BUwI9ehA8N9EEHcciQt5OE6p4NnBF5pSAXj12OX2qKLYB8VQRHu6wM3HN+z54WJkeYVDfsKagpbO0wc1RnRwcfqlNdcBnaSHC4oIKX4NR+ksE8L6bmdw+8FsxafHd+VHnWH/z2fmPjwFmVFU0MhLHbrEIOjGXs0xl2y05UlRKowAOX5ZxlPzZ7qwyxccIjsNXTk63k47HaqIz9K0tXNBa1z8nhgNkJAa9sBmYlXwXIrcx15BvgJ2GuyXJMn7o/gjUYpWPVcT5NnSoOBp5jh+VAjQh85HslPBP+32IMtZm7iio68xSCo3SEE/nuGNY2d1baP4ChNY4PIm2rIZdP8mQoEykS/nlfm6lO0aE57+ps787VLVQrTxT+p9Mx+usm3TBd+Z37s/0Du3orMy5guXkEd/1l9DiX/8VtgLRXPw9WsGmxqIegTUMKz+eV0cfw1s7cvZUPq42q784095VtyO3f4rysuU8kIPPYU8kVe5p3voq32bCX+IcF6bpJ49YihBchL6BlUGAoLsQOrmTETuQNKO9TCdIWCWNaB+I5nR9AutYXhW5xoIWTCNtYsE3BecDghQfDcGCKrn4xO3f3RrMXBi6GpxoYGQbAagpqhHKHs1JneSJp1jyToIDpE82/IJ17y3kMhbEiZh4YVIgUtvyz8zNhmXZFqIhzA5MBlYCszDEfp6n6EXWP/M009+rAI/CE3dD9OHZhFUesQ+pHtN/xdQnub9sMVyZlZ7P0vCUCMc6RfYlkUGr+/+EFvn7XtxHQMKB8opff+XQ5oy8E9FyieyJcYpVYlPPE2pQAbaA1VRvJFlz6lf6qpb2BSvNGsoNOLFBMmXwt25l7KxiAeoFqPlz5ke//hvCewfdHVFal+eRRWdaOUwYuLOm42A/G92OU24SKYjG5lRc9YCjAtNBQFVFYqbGhyyWTzHV+GLfiNcZVKNmE9VHxknKTWBV4rhqoG0JEzLWiQbiNDwLl5BtXCJXpt5FUm1scnKEkN7gVycjG2+6qehbFz62MzDWyS2GDQMUi5pNowpqkR6kkx2RqU1Wbqrkp5V3ZZWdRDr5Retl5MUTjx5z9KcPJK+SOKBFnRHo88e7bKJ0LQAagtact/cO8wGbPyOUOOxCd2mqdSEDrUfVPfEKscY7tGj6jTMPFdPClof+iZl5rUdMFyj+/+k+B+IvIzfW0ClcGfhuRViuMqIGgz3OrZmZxFKeakzvpMjokX3iGoVMiCUVKN88lHJAkW042uJWFNq6k7dlhKgopTZRZFfJ5FBZoeAWGC/BmJQ87uhu1CaGNQ6pd0wGyZ+e6lVz4RnorlVX/FAdttFDnZ1TIa2odRRh0/p7/5EMlUbHHW3mnqWRG1lv87N/tBNzW2v4WJPjqDwc9ZmL38/B3rVY6TdiYHa1bY9zHFvvUkKeIVfRSaj6W2jrZqq2rWSCDKlWZfByfdvfMyWwH2vbKJ8AVkOnaRGh8bf74QNjVjASCuIb27ZWNJjV7ahx4eDZ4994e7KxFCVvA96+ayIZGNF2vKkk+yY0TD8+l37FPam5LLmRaddL944r/X2LLDxyL2iM4AZ7aqdclyFOfZM1vzQQLRt8dbPE02mQsiYsrcfhKUE3I19/3QkUNqSNRY5UwxGR2A/JVfWzxqojqLkQjNFsIX7xcpdyQXBfE/ct0RBuGw0fhHBblLkdpqutScTcYK+hg36a/gifhyAAtX4pV4cckgQYTlm3SAMw9ONIcFtVWKFezNShWGUTk6pnusSpBhrrXxCqyaNiLbiJNcQcif3CBTbEx/XwByrtxcAJxkM0MPohLFL6MFJBSRX1LNUfWwG/JOx1vPWbwjedv1h9UAmS96wMAAACgQZ6FRRUs33YG+KsdoF8WhsgBMTC1HQYboCKR1YS7ESsRJXBRTx+COmyCOlvOe5rKpj2tPja30dQ1TrjJ8ybRpaMcVx6Bx0oitqezul2ZQEi+FgNKjdgbUijsbawYJhsLaB8FfZ4QR8ADqohgEF/zqlUnLmS4l0k7LgjiE7e77U1bjOEEqWJSrs90LWqDpNCwGNEd5cEX8DtYBUuXH7cH+QAAAHcBnqR0RX93vo2GLmrckm9MPF5uwBpuX/ZSgSK96ZzRPBhxPUqlIygpWVaMkpgiED0DMfJ28ZUNIDD7R4bfRLWd9rZqvWYjYtzBXAdX4bZUfAAY0giZZ0NPDl6t5JMJbae1U3tD6AzB6pWOjjNRF5hKl7Z9QAAhYQAAAFoBnqZqRX944cPeefcukA6rCyYo5+yFgBMSDzXHOQGDaM/DS5dYR/TZWqtk8cIB6GA459cwsoJVjPqrPVkxDxxiJUVeAMZJX67TcwazQuQT/DJw2ivUOYAAASsAAAQfQZqrSahBbJlMCJ+IWJqZBr2EBHalds7B4sYTGMi56f8ZteKU2PCI6ZopvIl0ivcdXDSe2B6to8FFkOVIJnpyT7m30eyqQRvZub6ckGrZjjeVl+GqxhvKV6e6EddT/F4D4926s/Jeo4WGfEa1oNT03Wuq2Dogsyd5IXDTYL+DtBGLDYtUBZivdgal9uwZg5JiGygcm838CoEiAvJnURqbkLftAHmRYBNB8JA2VzWNcHD4bnXwb77FtgpXzhboa//MLT/HDqhPkR+BfwNyCthHG0nHB2QwpN4eNpPzS5CY8hma7Fp3LSG2/x8ua6VIoee84qJ4IODJXvd0bIYtRghDP/Sgj6KE8wDxHfA7wAszAAM6YbCLP+kwJcI4VaO8LOsBVvsGt7B++ZCLDIZT8a5xznOnAp1u/bFaP4Tx+F6PQq+BiHUbUz784KabnmRYknJDPN/WsYGiEiKz7d0HVfLC4ObemE4isgiXyRJo4hGuUeYYab/UFwjaXg7iUF5zF0cl/MvfmkmFVVZJrj5QyYeHiQuBliqBzpteY3bhcTRtYGcI2DiI7hiJHVeFDJGZbq1v73GtGcHk7/AIx9kbgBbXwqD3pEXlvP3v2wlxteKWvdDBGMQOYUlVOqWCpmRtgyUevpZ+/SlgOozr4wbWECUhN6FuUO+LflLtPPEMTbvU8jgiaOJYVVKdIrHAbLTtu/0i+QgZPyKiC8hZ95Z6YCtIVoNV59N9Xy4XvOTdIYO/s98cdye6cLfUdtQGGgCb85EJD0o0bTmh7SOEWypUGvnxG4AmVI7+oO3IQVigWVUlXz5/LH4yt76b0RiVtwaQR4iL4S5s98eoNlwai+6xTcnjOGtXAUs9djo6Mi2J5lP48w+RcHLkzpqO4/pZfg65e37DXPcGPvQ+thBIa++Fh+kwW0Zu3p0V0s5IwSTz+p/BayCcyadeVuhcOdMpdPHgmiAG21tMNYEx8nKewh+BQayWDKu7JkkIF2VsRHEeo4Nx5xALWFGN4XWuYBU8ATMYXWxOwmNY/yPV8FvTi/dS4uRBd1QFR0jakeiQ7wQQW403g5xGHSpO8y+/jRmonQqeEjjweKiS6Rx8Enxg2QWg5wPuWSjOaJjqEOG+iT9ViJnZjaNbwS4gqvN/Zks95bqxKOfBpUmMrZDjHyohzHgjm8yagbjvt1SxBBenTeQ76pA+Cft7T/HBqbK8DBuQzIw49UwzfYH2bn2gtg1GR0MqsKyC3URnVAk29GKfXoGsA+FDa5+iRqtA+xODQKUGh8kRTq0m0d2fMJ3wwE3B1NuYPuCcLHunUxILaDVr0ovcNoZcHihnpcObN90Bug1B61OqD8JqJSDnPB0FS268EzS7NP0vQJIXa1Fg9rtdiDFxUBUls46IBx2fz/kkEoqSW6qgDAgAAADGQZ7JRRUs33EF9H1GleWXPZKOYWaLd3rC4IdgQ9SDe3ocr9WGxAuDrg3J9CsXxxcmxhXTUo37itg0oROhEQtmLDU34l5R9Z0VpTaw3dSkHJDCM7bcnSo/2QCywbUBrviFbJcmuAAkMJDeAjSMSAWtoAcAoH31wAWK6nVMf07DGWIy6+o/BRZ/Ln9VmtM/tSyeomDZusgKPoHbxeMcc9A551gvLQA2NpfZiFm9MnanKE3BhYJ0K+r0s/JDRCDJNtiv3uOZAKaAAAABYgGe6HRFf3fp59C4G4qM8IHjJhYwnTKCQkbQ/yU8NBOWhGkshaqKRYlV85ko4UNip6Z0QRkFSqyiJVCteUAx7m3mJz7blesZPVsxrD7HBMV1JOk0fCG7mAAAd7EP0GAriesByeMgmMHgp50pEWxyn2HC78P2aXH6z9VasZxi+1WcCi7eXEe4wweupmoER9gUd+rlbjVsieLcZpwHK2uCZihwjmCBlwdUqGtWMJV/7tBFjUQ5ZD/7t93DPtM3BsVYMS3iIJ410cV18o4P3W3G29XvkAaEP93O7SOSEsw9f8Wm92BklxQwqwkA9DaPqJOaVqrKO4dpZ/F9Yz9zZOou3EkehGEfaqlL1XobMzobV2v+Wc6KUa6PjEpMT/S40CTB2Xx1V0T4D5KsYqc+c17UoHlZi0CneE348U43GozjKN8w/GI7U0CKSOy9wSlH35+TMTx+ZoykRvLbeI+GjC/B4AAEHQAAAHMBnupqRX93e9JKn0tStHnWvRNlfbqy/LACuxBorlDNxMYHuIY3uq9bKeq0oi9eHlEG1+lygyKobhG33AofQbHkK0ArACxlE7shAABhIDRH81wz/InAeiTlWJ4nSmz/bl7GNo2YBiqhx5BIZAMIQSAAALaAAAAB5EGa7kmoQWyZTAifiDto1MI0lISISZyg3+5kPDtwl5ocx3k+rj1JapnZunPGyAIwKEBZ476bHHLjPAVBfNeZEYgZP7CkJjTIgscUkoQr34PEaIyR1ryC1nSLJrTq2MAwFKu2no0NakJMqY5dBbHoTLRNyXwmTGV+6g43GFV7vRn3APnQ2NSbdWjAUgd5ZrFxjzhIZP8F2uX1Qq4TLkiebOc5QbBABB0A1nJfF45XGmdiSKbrh9kqzzeuISU+z87E3vsRU+y/Dd9m/a5FeJXnTTmP5PY+0oHEc6EiURQSkD6jQVirJ3JigisQk/Tym3w/C7OMqzYKZjqA97DqkcAAAAMAAMq+JCy73IystQZxfD1ZQI7JvOC4IW2KV/50tmZvQ1cd4qvJSzVRUV1w/b7wCNQhZLOi+PI9TDJQplhXuApyx0MVYJ/lsN1A1C+5R71w2WfhXXwav7YKarC6d6ApAJcPYOC0pbTV0ptyl8naGWB32YrSPgAejMT2JNUnlfmeQ80hGh7aDfvdaLnWqGUVRMK8MhRXdJALnq1AfV0wdbAPyqYrbhdZCKGwxMJVi39fQM0Sb6WOaBebpMdqS84SXL+CEUkMfX4ZvbBkQroNX4Dd3WxCKashquIaNwSym4CpQ3gADKgAAABjQZ8MRRUsR3XiAh75/F4yM7tcqy4T4xZe6YP5hSDFykDYHI5jwqXDNvboY7OhM36fbl2mwgv3rgAAXPBCsMnpaYpjqp/3Gq1ZSv5QYqd5ElHU0rAnMdFrJ6j8K7kYinHK/BFxAAAAgQGfLWpFf3cm5IWFyW8xesAlhJN13xw70V26J/MpS1T7HLyH6KDaKVOdyx9aB9sRBfl4/dmLvG1flUwgOsxLP6BK1T4y53TIQVIgysBh41iZomVZwCZXJc6kON0teCjDFmbbk1TA287O6SRYZq+VSoI4N/+eOPY5g87WMO+AAACFgQAAB0BBmzJJqEFsmUwJ/wLeFENJ5+pWvC8zHx5Cfs7nSBplyRZ26B6wPel5HMqz5UuMeoA6TguI2mJWfoX+jNObZ4dBI7D0iLJSxzrLUdWZ3jciW9ZfFOSuTuFBQCZsgtIIrqBjk73PgmqvvHafWsomGAtbTEF+4XwaBc1X9YWkbAyzMugcTGLnMVs9qZgClABxmHe4xC5eq49vd5zAA6nv5udy8Ok9iNMTAWnJ494q6EzlojlZF9ddEFb4Kj5cTa/qn9AitmUkk/az3vfpJcPunBIVSeFCD4Vc4ZW4aQF+mm8gLLTVKQff0enqsqNN0U0JGtn2bx0y+CwqEZvyAbrqEpLDXpjCPHUSmh5Z3tA0WSkJSDkUAzdsr6ONgFyTSlP6B4i5XBTBJsqx4FvK8a3zfJPERFSYWu4KDjYHQNWhrjKKA/FzxjD42V+HNq8pLU0z99w+4/qUUY8hsF8EhY18EwKez7yTgDVuKzyK433NRLMRS93zDXAyN9LBVYV+bg2glywT90m5TbqwWvIeG5TG8Fnct3ilt10EehUaW7cTs6nBzOuTcO3Iah9knlJDLsgBThpOFu43yk6WNeu92EGL+t0jXUvPpWQRhnwJ3ny5/hcFfW4QnNl3aQBr5yiuRV8sK5hVW3GkXjLlgCy0FPy7MJ603tIOhL4nwhzbO9aHk9ycJSfQJbD8n4y3pGEREZU2ZQOxGc9ZMJt40ykxomBs8oMN0bzV0b9P6NGdFch+RRuauepCnSrFpH9jgsizSE8vNH7buCTmYoFttel+DglervAzY86Dftb+iqAXT1Cxc/bEEkvup2QJ7i0NSSaJteblfFvHYWQ8xXyzpM5m7bkDkw3+4ChZApTkznxZw7bD4vMXUu0WTgVdyfJlaZoF72xKd0nDFxyo0KtTvDHKU0tQOoReVmjob8gRrU8vpaLxreuCY0uZMAUarFonOtHpVZNNuLpocqAmtPGeKtoLEktJqsOI0I9CuFT5tdVRJOz5kSoNZCY4QeUfRQcMNjB6hcJdN1/O5Ue1XuaY/e0diPjSC0RsZ0ucsDR+mQ8gMvk7vyhHIF7q7thyQTOHAuG5bez1kHVpYDJYLzRQeNV0dNIKIbGLo87z9DJWFHjznfxSMBRZltFbnsk021qo3BH83NfrzoMkUN1BK9uZ3zPANQCazgMMn3j7oI1UkMOtV7JBHT2WmPgjC7L0AGru+3HuoNxf9B+Lc4qGwzwvkrYjshHUZpIN20maj6hJhoy+qfepwe/rBnNeNNXwEpReeg/Sf37cxGVt3SJ6BByAV88WZIjqAwZdXPALIbavMCsg4OkkFcxLIYli0/6v7nBKj+YUUUFAs3J3RuUmmlqEfkx30koGVBYSv4r6JigV8M7WUWkHe3hJfv23Y5b8gbgkPKIFfRO46gG5cXoBCXJbARULZ8Lopsh0opDFFeBddiB7PZ568GuUzQqK3cSltN4rZK0FNYJ3aCcfdcG75WyZvfVPdGFUBiq1dZb8jUREFlgEEHsO4M3fHmJPh0aybMkiIOrS5BufJo3EPsIbw9hUQ17CLLAAkPD2TmfwEmE8LTx/5xDAXc1otXXgYBIZfqD3W/gY5aBWXMo/WUa1BUaColFJuAFbi7m70W2jqR6oDwcO3B7EkVt1pzWwDiLueHFad8p726CM0jAkUCvvVAyP+0EXScm00wpJ2Vuk/edv2sBgsDJmkd9z2hbba/5ZWCEM8ET514fYKYSaAtpBdiN+C3yED0ewWPg0sfhhFVZOlDQlwjdHgd2J7Uf7PFVI/4RpyfOxy9TxTQqvqRAR1dmzfZr2t0SxSx7F6oXYa2ftOhN6TGRJZUc9N9yB19pp+ZwjvoknNPYUZ4uATane2lixZg0oMui6EsFmTXXMcun6xTxlujVyYx8Nu5yelT4oGEZawCwSBSWS2cc3fnBxl7H/fUKavSnosNl0ZmmJ9xT2akpI8Mi+foGRSMtTp593Akj87bglCS7h9sihrB/d79b1RbHIHqXKTTT3InpOAORUp3SgBq0WSUnteqiLxqyyug1mWciNpGsomDiIPSPC06jAeEsVPJ6paiUAdJY9fKjrWlC7IgBHFtU1Lf3ea5+RGm68ZoV7s25tbpl7Ceyh4OjjbjBvgs3a5PhtPGfMhPV767EiNz91e40+74DXMd3oQbyRIEwkLv6cGMlSRDmgiv5AGGYxlk34awOA0eHrdWhJ/mt5PktYrqHE7t7eaNt1lIuGODWJKBWg+/v60HygeCVMEsaLp3Lp7WjMqkQ/0+5alcTX0xI6AcbEs0X1d+UVnhyWZUHmfltLIkqL6kIMnVpN1nO1YDwKE40LmokNPA/LqpLDUY7Q05T/5bMeK395yhBzaHSnhJrGG6SVvF3V4C4QpDwOTXl1FSh4Pg+UmN3J/uzwG9BLvDGwiGRLN5LI2oahTEHgrQjyCwOOavWmdpH9A2tM/Dv8ZOkaKEF+g0YEI+2hPpuPaYAScQAAAJBBn1BFFSzfcotYve5Gp+/F3o5k02CjMkJFemgYvh3HSPpwKUcROt3Dri0f4gP3xVSxq3859id0/FQrcTatPZ8Xg/fPHZKQ0ZsPWLmzL8eDls1KMAAAAwAsf+HztGWKGNLnBdn1dymW3nm1OP1O9GO/hQNOGclLUOxYtoXdNk2rfpqb7+U9vHhi24LVjzHagbMAAABeAZ9vdEV/fOXBs3JPmxNR/slFzpMqGjfNUgfjnJI5AyDJD2zGXGAO4R3OT0FAY8nm7e1Qd3y/AiyYw2MAAAMACrVYSqRCpRsic4jMLEdNcrGmHfymxFq7T2J+AADZgAAAAGoBn3FqRX926zhlh/Yq5txINT/t7NsvBhpEnn4ayK8w7QAyMqLXT2Wk068bI/8wk6Ma0lscoeHqtek+T6AvUnBOSwdGG2Hz4sTbUev6KT8VPYbe5xaq8Fh8nB1nlcBzk0eX3H+SS6AAAB0xAAABXEGbdUmoQWyZTAn/Ac+cy0AnFJQobhK1iF8AKJRBI2JRLY6ASygacwY/AbPbOLZE5E1VBtNR/Cfmb8wPMQ5Uhl1WwvxsevxWaoMTJvq7ycvPLubied1SNqUzsxe456djeIzF/+FdgrYL1OzoahFhhp5NKLhN0chG1GiPHRUNqnl4MXERmSbQ5eGwe28faV+kcmDjKxVtTKR3Ql4eSGrBVxCvYM/D7qWScLzWxLxIcEPM6OahYu9LiAwE1qDCu5gU/egWiTu1S4HPD7JOz9g5mZnBeAWJ3g4I0WVgd9JftWRM5RdR4BiHxzlUyUvPYBZkaN/ysah7l1CDRMJkeoQjTWcYILorCR5lt/lu4PGvf2GFgbLe9Yxh6JGj53vcoX1MC5Rqcz7j2VwX5U8pce5621negrTLTlFpGWx6kAQu4K3QLzqA+qrMCpd1kRvDnphBe1POAzEdlQQfIAAm4AAAAHFBn5NFFSxHdLTwMbwOcL27jEBuRfNThOOHSMnxWzap/9V1nI0nPYfLf95hSVraXUjbyrLUFpdisNL4JDkA3qTHAX/PA5bHdGCGKUcp8R6eGNcnqaQmBXXub3+ETqSEW3L78JVfO36w2E8UNeXPunAd0AAAAGkBn7RqRX93NYUeQVa74TZ9F4fpTb5xoeZjFyFW22oymV+6ndmIha4x0xnRY9+dGMkR2LFa1r0p/hFL12GXKyuitCZLv/Z7+QK9kHOT4jGUIc5KwNMob+1iusQZOEUXjchMg78ZMDAAAbMAAAF+QZu5SahBbJlMCX8ES6LSIUVXsjJRRl5efpfJI+h6pH0nLLVEaUk0lIh+bdx43meyK+4s4LKdRuj9x9i9PhWfvQiuyVBqslJxgQMeSYoGqh34GFqGNj+DB/dImIs/05cJ6LHFCVB/7wjIe00hgp1SRgdIVT3tDq92BwUuhMKA6w1c4bmwuw5xF8xKfWG9rRnumExtiJ21k22xiK9hcP/mLnxU7mnI8hwt71J15tFR45aJhe/n6MLuRWBj4OiteucR1LMUuXXL0nF8XHuA2SeuYgT9LeK9qouB1vrqVuvtxVWOiLL8yzn1f66WVPjHgfefNAXjiQs1G+CsT514mi6yogjAwaxc613/X5053tRzyRMtGKXaVr+2mBWGkrQy7eaXjh6rGLHU8wkn41bEIjr7A5AU2h9KNtg6RQPhb33Zm4qTb/NmCHBKgQV6ZOn5pWldg7T8EYIcXEgVcmHQPn7hKqUMmUGOiasQ9aA7932Glwn4QwaT+xSI4RxtaABxwAAAAHRBn9dFFSzfb5TPPVLfCbdFuKeJ5iYngdkpHi6deD3ohXCceS8f4/TkNhUI+iKQksfY/g127QWM8HwcvF0mKQFiHK9erbxPGDy3W4f+0YCz3mEsk2pCt2ahN4lwosYmz+sr4vk0zeJesvxrQU87ChSOdzKGfQAAAFQBn/Z0RX925wJtjRR+UdwFIN8KzxVuY/W8JXEy+G2wPOYv5PzWecMqRQUruSiewGL6DoldzspbEFJCRPkzN3e9RzFqFZING/v9ag3RMilgwAAABvUAAABVAZ/4akV/d8LcgDLdCyYA7jzrU9UH4I3lCQUjnCC1s0nMe93e7S3UjYsNRaSE6Mv8cKnoF+It46jipIWuZTyBAt5q0tc3TUE4RUS+zVT29QbgAAAdcAAAAbJBm/1JqEFsmUwL/wYiaQYtxdd/9egayjEqtuQ1+jLEX9Qck14C/E2VeFbcDnIXdwOEjSvdNaq6ni5xMWby6rZztlbFX6k3TtXX3yMKcyqaZjcLfnbN+YfheRKPS6VCc4iZzcKuMRmDaHn0HMwWoUMMijQoiVFQlC1Qw7R9vzuJM94xN5thEBZw6QeFa/1+vKOY0/8ybyOoZOQouPenRBlkVtQoKBYgJzVYccpNXeaVAP50NRh3HynuBy/8IsfHz3qAHYsyKam6qilaRVgS0/djLkDVIht8Xrt+yHZMzSAg2ariU9mP8EtG9HOl7A5bOUJZDpLigAh11jNDOH30C0emxe0ao6zmmb8j0NsJw2HTFuF2QOrnW5/jzsXdWqnlX4bY26+StbN6+bLR1vQ65EiZTMI9pk9lEmwyvZI06PECa684WvU+IpFZhOhKowDYTarq2nT4ZWRMeRFvG37AYKAjdWh+WCJ+mJ0r0IAW0rSwNkVd1WQEJD1njOsGwI079hoX7NzfwnY87dzadbBc6ZWfznrIddn6vtkSNZd2Z/rqFdYK+dgmvGJk+u5gD77mgAAGBQAAAvxBnhtFFSzfcoZZEbyk/XF2aqSbjnsbtEsgZz961jrXxQLKsPY5lVyVw9z/thScMc53ah+qam1L0r+xl2NkYbSfqXofoSTSYTppyqvj0lvLYqNvCRrSGeSSY2uRil3GYE5Gj+B/CJnX0+/vhNfUmELNWx9H83LsZggti+peuITfk+t2o2PFABYD2Kjhp0Hlmm5P10y59uJVMUVko3JJzrmUvFHO8dX53wC/AwyEc9k1GCTHSR7i0BCVlnx49aQO+PKxT7UdpRyU2PY64yI8fVjnXz2IA1qvE0fz9zkarrGr7/U9bqLRFwTNa6loNT3Xu7MtQzQ7/ogs6+4u73r9fEi/zuz7tTI4rSSTG7902YU3VRwjpUNZolzaY70u66Hr5W8rFQym86oE9Akq5/eNQrBlZCL/PbETFjjbxsywgmoZljoXwhX3QHjoJn38jHosNwyK55AT2kqJt2EPwRXe4xHzeJwzrSJDP8SL1iV+Iywt0v6Q3wP+sb83bMihP8kLQnBsqi3cdM9ytaRmMSU3MbKwgQFRt2q43yWL53E9sItkHE3TR9dHKmQfC1urUnt4wUKuYmIPNS/uh1gX0Ub1AY1PUlIt/J8q32MQ8DS4m7vAAaDgBi0mwLzQ4brc2meOP3s7chfgLI5omJiotuPJNYyiQMMazpV5WQfulDpszbZJ3trb67jGNslasHFVbuI3RyXl25EEBAuqv2x9ght7lApzu4xRd4C7gXLlXcU2COxzdsfNF0LK6DJKRFZttm3fvp9/+En2woQUZxCxZIagljhIQI6KOLYd5kAf2bJJni6fL1QQQVX0h7JHzRbo9kottKElVYhjSh4cm44c1ycf+00xmfG8kc+5Usca/0dbmfoc55F6RIuma6xYNNyXSO/1IU0xqgdhUXPQ21Q0u81NzKmLu9peHWAjKEaM+BzbTPCo6VxoMYDGBEq7Oxhs8t5G99jWqlhjs7GmL8oL4jAUGCJHpqABU6ld1Ma93N7bit/cMFLqGHehWk5tF9gZcAAAAE0Bnjp0RX97brj9mNE5ifuirVhVcDZB1H/pEzMfyEZaXCo0hw53CbLfijFI8kPx6JYQjio0vgRgc9eFkAqCbG7Tn9dm38/EsAAAAwB8wQAAAHQBnjxqRX92P1D9SxKEKBFHt/5PP76GVeYChVjKq38nSaSyb4I//2m5zbc7CYbtT6g6gAet+Eq5Gn7jOo1gejDz1C5pRKEHRyk+gTJOK7/dmNXuU7AAF4DuswOYQq/jBC01tIsQz+OCmPIHaK7TA6tgAAA/wQAAARxBmiFJqEFsmUwK/wd3zZJy1+XcstAM8YV4PA1vRopAe0VdIE6MFN3CWNW2cDbnFofpQOYaMVtvyq8URTezZwSO0ZnaEpwp/897aI9LxJsWK8z9BApShht9JVd3U4u6qZW5FR/49sFHEFeiuVrWDLKk26RKP+JG1XyGtxIx4+6O+h5ymZjTuWspbb7KCdCtiW8PLKU/W2GwzBeEnrsAObeoSJFtyomw9exlysqQc+GvSE0/xSrPWigUX/mYn1asEbVI5TxC/UouVwi5fVqoRr/AB0FRdyuQpy/KVqs+dBOn5LfFVJHHWnKQZs4v4Mq3eDPGnmEauUja2tx6H2h4DI9MjlAsQb32+OHFjLniw8F6DDVsKw3zg6H8AAAoIAAAAINBnl9FFSzfbenRpxdnY+w0mn2cBLkzp6itYSww41dTpVQkivPklqov1VtHF+47eHLkxdVKuH8NFUEStA2Oa5oNK9ExnFR/iBO9SAQDfiWQGal2HZ8m+04spxAzkgLY909m6vM0MPOIRY8pOZTP5+pxyJwIcKXDaAr49iOgc0PRTeTQgAAAAHMBnn50RX927BTzuH0Xh9jEoYEfI1TkFi1bFVySu+ThP2GtXkpFMg7D2mTgDFa8ovGfEg+y7a2UnA9DA7QWr/s8/HilrS+G5FOARq2OTaPYl5wSK2ZTvw9DaLaGPrlgyBcBbMXzXYKkHMDKKbXKkAAAAwJvAAAAVQGeYGpFf3d56onp8Cds756BAM4hNm4pvNudUTYA/UD5czEHRd32sRSLNdY91uRv7k/MHj+ipbfHNqvyBJySq/2euk9vLsFglsvkNmN8Q4LYgAAAEfAAABJgQZpkSahBbJlMCK8fvQBXaVmC+62Whxj0OfpnelS+q0X8XCwhDWWnhJtWTRZuHfMXVxo3oaw54rWHvXlfbtm5hxhQf+TskcQ+OQpaH5z9ntzPyfdCw96JXBbRNKr41l+BBIDTesqMYPCzYFOUAryt26FS+8zdAN9TGNLLYA6d9k+umSyvP+qEK4xmDnageAMrGdEW/Gx5Qrus0ZfMVWRLLdvZmVlj5f/N98KnuhQwFKDt/A9RnpQJogTa9HSigMLFORw1HxJE0N9V4LtAyDDYxVw9+KN6vkCRLtmNlsP3Q+Ojy4dVnsaRpFvmKmoDwQiNrqQCt6WWdoRmchXzp9+98JFVCjU780u8Cy7lukar2IoA52LydqyC9yHxiCLSZKktUdZ7rwvJkGZJTwOYBkNREEDNqJZtV8CJp7fWKIzFJ6EpZQPXNtLrHELQZMUihf6CBOnicyEaECAKptqrDOxqnYU2ELbx5XePi+ovYNQksNl/B9HcfU/vB1wxgBkN94Nm/DQLR6mnYPP4fwxTaxhZLARuUNZpWozxAzhbgPKbeHHOWycwL1w+nvqpzOyMd4UEQ/K6S7Q2JzP6/LJXtk9eka4gSgfShu0Z5S0Zlf3uUCmjEItANgF9u1afpkxcKKw8DRbfNrxT0QZBdGPHt/bdBbnchFz7KsHOaVz4mW/SBqlqX9bIlIAl2UEcT3QaQU+AlaF/MpcUc6tGnSEdrl9NjKtCvNvBI5B/jbr8g3wJC5P0uFRctuRXD3ji5/tVxcNpt/DEfTDl7rFT68GD10jgoGuG6EGMaYGIhH0CcEzIdbHHKv/kPfu+JiylODg5AN2AfcDiNqpjry9KAc+6hmx2pbTB7ooevg0a96r2P4KJrvoGOzf/R0tpPGnChM8GfsgNB+GKoHgbe6pmjkWxlrSuaWfwPLg1BEUdccPgrFUS5M/B8v8PDP1IYKwJGe+qBHv97V4oOL45uF+oKzkPSyX8eFi+tx5Q6uEmwxHUxjDVbdLHT7Mh4T3K1+HzxF5nvgDT1NGrnm3ZF2LpgHoFMX15iwcz76lDoplWfw8Ar1UK/6tkAA0nVoy1VQGeFyGESB8chZiqL1pXrIvx90vxKERE5lRoLVo9RLD+dhfYTdgkIMCA95L0hBYqJjzOhllDxe5uiur4wvRd05x+s/tgy3qtUiUSwqRQPh2uK2VtyUnF4S/S2V6bpp/7Qq9OtXeJyMeRylL3d1BtCH6vkagz6cbC5max5ZztNM0zZsyp/2MDqyVnsGc5rW1IW9wX1psy6PABpFXZY39S48ZmXdOIdGGowvlqzxAl4aRLsNBAW28x210/DiAANTon+zIm4v55O7mFovWFQCqNHXmUbUJ0QuRZMvWixUDCdw47TYT5+XTXbEbtPMtNxrnFQf3J7Lw0Gqt7NOjb7pE9Ci9e6wcPNVnOOQ+2MNTraVCSL/6Vo9H2XvpnFu/9fq0o9nJd1128paiAmQZdTZVlmq/9HOjLzv7fOzy98YRPHSNC7q3j10k5BZ4iBlS9roCHE2pxRNabmSmi+EZXk094tNH3Wz6OAcu9ctdThgY1cEp8WXx43yaiisDmC+XTXtXa64Rz3eMzCpRQbiJidRvAKUeqlE9MVDqld42N5HCFNObJnCbe+nqHr+ePGkWwBPK8/v55jE2qDLUABPHligtP2BtRaRjmf1LTQY74SAeBE4+2pJ2XeWVbVT+vYcninu0hch7pPQav7VCz69NKeSWkYKyP66odIbc8oTsXFSBkZlNlrQichoX8aGUH4FL0w6vsuFw9RfS1jyye/0gAn8NSXfNhYsxgUADNKw/xrGRnooAT+uC/rscHkhi/Dtuj/B2hIpeS0CY3nHY/V+YyRsDh5gBgwwx4Mv+Ft5FOlLcljyhSR0S+Hy4oBMvNih0wbkIziWZU+tsycIFgEz28ZeVgvWufRSy8U/3xF7oPkE3RwIHUjdmQwkWUsVNJ/cLcNIunvEP58+tcDq6OdETuPSx7wsPM02AbxwtaGSMpTlbeYUBYdRqHhJKAhgCK0Su8P4Az0Wok51uJlWLcJ5M2Jql/8KYgbtdCi/FIUST0cf9/OTYAGRbppR+HPepD9mqJKlm0AxaYMN9539RnViz1Asegh+aNO/FN8kH9NfMfDnNc1zmDNIXrzSd+ygImhAxgGk0Yi1ymA0akQ5BKxEgmj4XSzFa1s8jJn0cVj8/XzNHLbKUdyGf7FucUVOHUrDOrQTxc7vlkNELiJtBQkoFLPsRWJ0lDfdKkpMKm1SEqL/S2X3deoWMC6Sfo9IOavsylTz7bLkoOLUf/so4mbZsV0eqzRyVJYrWs1BlvT9dMLNbhc3U4Iu+WJH/V8eaaQAF4w6Lm3RhZ9krIAvBSnD2JgTd7tEkpGNEDlBpQcexLd94Zmvb6Fb3TMsXp0A5y7nYAJiGYytqXJMJ9HwLyjdTk2FttUU8i3EAkW1USO9tAwUH/fZi5gD1miOv8iRJGm/YFUhE3pnk2kEBMrmkV3Iy+dXim4a5kPeSITMdMON3ypcrT+WUqC1XcM3GWWe9qTVZx+EQZJEKpPEjPCcH4XkAb+yWqsJ+6GQ26OczntZR3cMXfSVKkmtY4qx0iRKYuik8R2DRH9wTDn/fLEEzNZZUu2KQSJQioGt+9hWsitMBaM8dRJee4fqda2R2++9Mlgu8mjO+KjBvYzrJDQyWD3wh+85jpRvF02oaMbKLSH5WRguXXCQRTusoA6DJsYFjxTonzx4nPp1kMflOX9O/yXpqHj0Cib+le+gUoVNfzyinAUTYKFufFgirSdK1oibGpM9eKKtsI7N81BJV3ciU0lIEaoZgkNos8yMgz8HTP6Xo7PymQKFuTyUEv9h87/Adhqxw2iVepYGiK5ahhb0AJsRGh+CUrl4nk8Jm2BqGLJaBKJzuaoS958MBUrRMV8Coly60RjM1d8yWz4He6zUH4MnVZ9wyRw+tMqs5qiXww7LUkWaurzspMzHwKEZ4H3dvz/f4lymykRKVv6WwwSI704FBJAZP8WgNlmK31ygFjMACWQMoiQM8HLW+rEtTP9ZrD02ui2ugdPF71bo3AUwhSv7BEpjtHSf8RhK4W1eT95dcvXlSAjgcZ2l7mpgBJON/UDud8dC8oLwpAFU+xZVlSB07qamy6vjMANPCF9aI+yjMtLGpUKq6/OpJrfVuzZyknI0EN7d/VzYJE1DRcCsyjnM1yEM7DpOzGx4mQOhN1WyIZJl4EiNi+edJjNOTvS/94HBfpXbjmwctR0Cj7ltrKbbBVqCYeI1ou5pRmZ76XlXg9GQ6sYH0/09alsW6d1nAw30Q9NI088ZxEns/X8nmbcPDYzZqwFrROHzgFW8Mb0nAYwhQD8/HN+jZQowhHpdVqgcEXjhbKPi8yHHJppk0uPqMWrfVI21EFXPOZq38fkaAM2Zsq4zZIeaR2lYVD/Zb3N5wrM/0B4nPMoGj2DhudmwbSV9IAhbRvIfF/ltwbdJVaOIbW68czHrYw5BtGqu1H0QRuei5ktRmRhtXkY/7WXoA/qTCY7jBSj4F/F9VHK57+qGeVXO9VaNqYEM4UlhyZtkSXUzY5+uWElyURfk+B7KQsKIQwKeBMt1Js0UDyc7GHBTAAP4Ic97DOACZ14lrm/Fmbct6hn/61mDb+97UiD3WrgUA15zT9c5kxIYvIJnm3SlYuo7FwXJ70D8KAmlug1Si1tcECddRPHhYthdbZpVS5QXktPDhHPoLkWm/o0jgL3as58sT6YVc/Y5tm8BokuV4NkPGRV6dl62cDNvmn50uWQT/CyfY/ANUtYsNekmBnk26PKJ6d3S127yZ2jErFcZWfX2+SRIOKb+s3JYkH5Qh7s8YEvox6e97jFRyPkAtmovqKgo+ZO9+33jUGatn6OiOBzY0jN/aPbudCLHFRUy6r3BGlkX8SS27ADBm57TKTS+43/94kOMy1TQx1mV0pvKlfsyDsZy492kjH6BwOX3EvjQpw0q0RMr6SMNCWcf0Oeif8gqXBDajhuRWYCdbWH8JB0zu2dBpK5aJfbKvr3SX1Z3ZeK3SgrEfoQ87t/5XZcVMRvltH1XwsubwbCYbAz/OYucNVLGXLPFd1zHaTwz4GVhm0Z/UlGzROXNj61ICU1vvh4kzplJUw3QvYD48EuCEraTndJhoFaQ5bqBIizsmNxcsUmLtWk2gYebfU/DM1/10xyPZ9gLotSEc+9YcZkjUN6z3UUULUjMgBfhBCQULHGhySragwDmAFb66TUduV15IynwCgEb0uD42eYb3up6gzYpFJVi1w/twEgIVNLZyWxvI5IKPKLw3kpcJ8s1yj73QQ2RajzvgU2reK1zczodex8g5oYdsslX7Hv0h5kws5eYXh2wxH44/jURtMXLjOESxqB+xb9QxcU/iJsfhW6Qm8nRHbnHioTM/BWCGDg1RovMIc/22Pu5/fDPNuCLe6z+lgko/jxrnuowFgCK/e0GxFFpL8frg7ng7svBdGVWOfRUaB3zkiWZD4UOSlEdvP3y9aPkkl4dhFrdw4twrhdjjyt4aKdoxjN2TBMekSkRpSoollkE/tp5Hxy8bIJncgEsEyddHaGOY4s3OXmn1YvysUrIMLtVcIvUCWlDC35mEON25GZGSpHRisSV70dbc3e0JqON069n5w80XPyQIHadTvFhcFtLp4Q8VzZCkFTZQw10NfG97T/ZLy7KD296EnEeejsSzTf1vnMsiONi9ub+U9xGBGdiwbh1kLBbC+28eGckU1EdmcTagtz3oyCkTenYFuuO8HgM4HNVjKJd8tQIplwaywDCNxOT1PSZInSzekBFWJIX6z/Gz7SGF7BjB+7QsFjAWBZpZThVeZX7VwHPOk0GT6ZrgNC+O5dfiicnDgMoJriCakuh9AhHj1fbH3EesJTiRjo3ie6VsFs/70YrbTSTakIFU0kSuk3tI4bT4HXVtLyUdjpP0eJMTJ1T/qRNLmdZvfC1IogUkUApzr+FWeANHOu87w6L5eWj+0OTNVBZ4OT92OxFU+owfVgABl4mkBk9/LyoQiiHFuU3DISd4MI0HR/bql/qSIvKRqowlMeXIrXQw8bEbS3AEGgRplEXG42ReoteElPNZ1s3GJI6jYUm/dQepNzohq/tKqH3XoOROUd36/hjpLITKsSw1Rf16uNvtec0xirpS/K8dSLyK7wpPG58IqICO23ODaW9g5GHP3uj0533ML/gErHPgWxq79bHhbF1drbz8LRKIm/mptLMbQNNGcUmERLDf2iNnevPziYT183LukrKCtJlwcaPk4MG1P2p9PywIzotB/7+x1EeZPe+xglo3bIlM4loSPGsQmboQYBmPunAyVbd43yKxuFpINBHPEqZm/nbtzwwWic6IOYZe1nXt/QNyCvolDPRtcm3/6MiZ+YK03E7EZjW8bRuc2FdhRwvcTKIEkJ+UXRvM3eged5j36Ya94AVcI7Hg9CjDsF6iZRPeqTDgLjeKSqc0DYAAD8htab5dQ+HXTVUarag3CJVbfccO6GGXpuZP4KSyXkOKCIpzLYFxIBAKzP8ZCKENK4uLKdaimXbT8lxs4h+czhL2ANQbZlV077hD8wmuoH6TCGmtXazcUo2yCGjHsox/wveIrZSymhHhdzG4hupDJeKZHiH8txgwECdKxBomP7xb55XaPmZIh7lpHINymQFu3fc70RSIMaztDC8ydxnRgSO0MYeS7iwYXtTIvuWQMwolfeGx4QQpwFzQgj4UVl41S2H2PDkrf7X+2kmZizMje6bRatG04UQX+VJa3Yy7XO+kqbvyH/JgAZTVz/eglgEs7GE7WNwO8EmXOCB4mhuhY/n6U1tgOUGdfGITk7b765dSUfnWXKd3+x1aCceNEJWx96akLR8uUxKSMf/ZzVGSZkHYrus5JMRjtzDEqs+ZM8ZgwwCCzF7VBVt7bWKwkVukO9P4KY6MSbZ6tvVEVGE3HbW4sOgcPmqOXrS0fzpU2zyQIOTCoDzdnIJUEq+wfIF81jyi7ki0xP5wvFC9w+FkmsCGjSdcXv28xvwbBd6WDs927FepwsAW4ZNOoMLcMfn7VLdF3bgmkPyqffbnd6pRd3suMYxQTr5MzW6FOJ2vS73MLSirFm83Gv0Mk1VfNxAg6UcPAWGNgOZeRu/iMCj8Pp6XzAeH9SuG63i8az8mZAiEVbFnjz/xCiqfvaoD8ipwgmB7RPE0pv1tDG/UZYJ3O+9fZoMufJSboMHunQ8QcqlzV8Y9zae2qbZo6cpVaHNe+uVBorjo7n2Xy/u1dQBmw87AAADFhAAAAlEGegkUVLEd6SJ+GDXOMW+kOlauFjGs68exqt6JEFTAvQOnHr+Tu3JuEWGSVsJzklNWzmNwasntA1u7sWKa/C6AAAA1iq03wCV+PEaUosLjg2I1VLQ4AAFQkgFGSORhjN6zaBBiNZEwWTiYfF54lGqPdR7RCVyCevZEAz4eTaSLx7r2tNhB7jNVuzEqp6eiv3Z+sQQMAAAB0AZ6jakV/fpIkNvFMQNMEv9cQEdJPEtl6dtLydVmd+2wxw3QeBIeBejJj9a4CGdLhd+NiKr0vACe0fau+aLQV6scNGTP2aOtFthnB1wECAABO2A5UtKoVjFyyOa8R01hypHqrXUOmLfNCKNlbMse8wAAALaEAAAetbW9vdgAAAGxtdmhkAAAAAAAAAAAAAAAAAAAD6AAAE7oAAQAAAQAAAAAAAAAAAAAAAAEAAAAAAAAAAAAAAAAAAAABAAAAAAAAAAAAAAAAAABAAAAAAAAAAAAAAAAAAAAAAAAAAAAAAAAAAAAAAAAAAgAABtd0cmFrAAAAXHRraGQAAAADAAAAAAAAAAAAAAABAAAAAAAAE7oAAAAAAAAAAAAAAAAAAAAAAAEAAAAAAAAAAAAAAAAAAAABAAAAAAAAAAAAAAAAAABAAAAAAoAAAAIAAAAAAAAkZWR0cwAAABxlbHN0AAAAAAAAAAEAABO6AAAEAAABAAAAAAZPbWRpYQAAACBtZGhkAAAAAAAAAAAAAAAAAAAoAAAAygBVxAAAAAAALWhkbHIAAAAAAAAAAHZpZGUAAAAAAAAAAAAAAABWaWRlb0hhbmRsZXIAAAAF+m1pbmYAAAAUdm1oZAAAAAEAAAAAAAAAAAAAACRkaW5mAAAAHGRyZWYAAAAAAAAAAQAAAAx1cmwgAAAAAQAABbpzdGJsAAAAlnN0c2QAAAAAAAAAAQAAAIZhdmMxAAAAAAAAAAEAAAAAAAAAAAAAAAAAAAAAAoACAABIAAAASAAAAAAAAAABAAAAAAAAAAAAAAAAAAAAAAAAAAAAAAAAAAAAAAAAAAAAGP//AAAAMGF2Y0MBZAAe/+EAGGdkAB6s2UCgEGhAAAADAEAAAAoDxYtlgAEABWjr5yyLAAAAGHN0dHMAAAAAAAAAAQAAAGUAAAIAAAAAFHN0c3MAAAAAAAAAAQAAAAEAAAMYY3R0cwAAAAAAAABhAAAAAQAABAAAAAABAAAKAAAAAAEAAAQAAAAAAQAAAAAAAAABAAACAAAAAAEAAAoAAAAAAQAABAAAAAABAAAAAAAAAAEAAAIAAAAAAQAACgAAAAABAAAEAAAAAAEAAAAAAAAAAQAAAgAAAAABAAAKAAAAAAEAAAQAAAAAAQAAAAAAAAABAAACAAAAAAEAAAoAAAAAAQAABAAAAAABAAAAAAAAAAEAAAIAAAAAAQAACgAAAAABAAAEAAAAAAEAAAAAAAAAAQAAAgAAAAABAAAKAAAAAAEAAAQAAAAAAQAAAAAAAAABAAACAAAAAAEAAAoAAAAAAQAABAAAAAABAAAAAAAAAAEAAAIAAAAAAQAACAAAAAACAAACAAAAAAEAAAoAAAAAAQAABAAAAAABAAAAAAAAAAEAAAIAAAAAAQAACgAAAAABAAAEAAAAAAEAAAAAAAAAAQAAAgAAAAABAAAKAAAAAAEAAAQAAAAAAQAAAAAAAAABAAACAAAAAAEAAAoAAAAAAQAABAAAAAABAAAAAAAAAAEAAAIAAAAAAQAACgAAAAABAAAEAAAAAAEAAAAAAAAAAQAAAgAAAAABAAAKAAAAAAEAAAQAAAAAAQAAAAAAAAABAAACAAAAAAEAAAoAAAAAAQAABAAAAAABAAAAAAAAAAEAAAIAAAAAAQAACgAAAAABAAAEAAAAAAEAAAAAAAAAAQAAAgAAAAABAAAKAAAAAAEAAAQAAAAAAQAAAAAAAAABAAACAAAAAAEAAAoAAAAAAQAABAAAAAABAAAAAAAAAAEAAAIAAAAAAQAACAAAAAACAAACAAAAAAEAAAoAAAAAAQAABAAAAAABAAAAAAAAAAEAAAIAAAAAAQAACAAAAAACAAACAAAAAAEAAAoAAAAAAQAABAAAAAABAAAAAAAAAAEAAAIAAAAAAQAACgAAAAABAAAEAAAAAAEAAAAAAAAAAQAAAgAAAAABAAAKAAAAAAEAAAQAAAAAAQAAAAAAAAABAAACAAAAAAEAAAgAAAAAAgAAAgAAAAAcc3RzYwAAAAAAAAABAAAAAQAAAGUAAAABAAABqHN0c3oAAAAAAAAAAAAAAGUAABXmAAA4yQAAFEQAAAy6AAAOZQAAFbsAAA/sAAANMAAACgsAABftAAAQYwAACkMAAAktAAAUJAAADAQAAAxNAAAIUgAAEGcAAApqAAAJOgAAB54AABGhAAAJXgAACM4AAAeXAAAYrgAACysAAAmaAAAIoQAAF58AAAEgAAAGwgAAAHcAAAIeAAAAfQAAAHYAAAIGAAAAjQAAAGQAAABjAAACZAAAAIYAAABNAAAAaQAAAlMAAACnAAAAfAAAAGgAAAK1AAAApgAAAG4AAABaAAACLAAAAJUAAAB8AAAAbwAAAggAAACPAAAAYQAAAGQAAAZIAAAAkQAAAF0AAAB3AAAEVwAAAIUAAAB+AAAAawAABzEAAACkAAAAewAAAF4AAAQjAAAAygAAAWYAAAB3AAAB6AAAAGcAAACFAAAHRAAAAJQAAABiAAAAbgAAAWAAAAB1AAAAbQAAAYIAAAB4AAAAWAAAAFkAAAG2AAADAAAAAFEAAAB4AAABIAAAAIcAAAB3AAAAWQAAEmQAAACYAAAAeAAAABRzdGNvAAAAAAAAAAEAAAAwAAAAYnVkdGEAAABabWV0YQAAAAAAAAAhaGRscgAAAAAAAAAAbWRpcmFwcGwAAAAAAAAAAAAAAAAtaWxzdAAAACWpdG9vAAAAHWRhdGEAAAABAAAAAExhdmY1OC4yOS4xMDA=\" type=\"video/mp4\">\n",
              " Your browser does not support the video tag.\n",
              " </video>"
            ]
          },
          "metadata": {},
          "execution_count": 25
        }
      ]
    },
    {
      "cell_type": "markdown",
      "source": [
        "### 3.2 Imitation Learning (BC)\n",
        "\n",
        "An alternative approach to solving this problem is to use the demonstration dataset provided. One way to utilize the dataset is to simply supervise learn the observation-action pairs in it, also known as Behavior Cloning. The tutorial here shows a basic usage of a demonstration dataset to then behavior clone through PyTorch, however due to the difficulty of PickCube, it will only make some progress to solving the environment.\n",
        "\n",
        "If you haven't downloaded and transformed a demonstration dataset yet for your desired env, you can run the following code."
      ],
      "metadata": {
        "id": "yMF-fkAvR1_W"
      }
    },
    {
      "cell_type": "code",
      "source": [
        "# download PickCube-v0 demonstrations to the demos folder\n",
        "!python -m mani_skill2.utils.download_demo PickCube-v0 -o demos "
      ],
      "metadata": {
        "id": "49zl8dBWLcJt",
        "colab": {
          "base_uri": "https://localhost:8080/"
        },
        "outputId": "8f7a6e66-ec71-496e-fb06-a48e78ccd3b8"
      },
      "execution_count": 14,
      "outputs": [
        {
          "output_type": "stream",
          "name": "stdout",
          "text": [
            "Downloading from Google Drive link https://drive.google.com/drive/folders/1WgYpQjqnZBbyXqlqtQfoNlCKAVPdeRIx?usp=share_link ...\n",
            "Retrieving folder list\n",
            "Processing file 1Oh2aBU1WAqMy32oAuvTL7uy_g5K55K-r trajectory.h5\n",
            "Processing file 1t4FXn6y_zo_Tv8FhptugnyhrTg5nO1_q trajectory.json\n",
            "Retrieving folder list completed\n",
            "Building directory structure\n",
            "Building directory structure completed\n",
            "Downloading...\n",
            "From: https://drive.google.com/uc?id=1Oh2aBU1WAqMy32oAuvTL7uy_g5K55K-r\n",
            "To: /content/demos/rigid_body/PickCube-v0/trajectory.h5\n",
            "100% 34.2M/34.2M [00:00<00:00, 77.6MB/s]\n",
            "Downloading...\n",
            "From: https://drive.google.com/uc?id=1t4FXn6y_zo_Tv8FhptugnyhrTg5nO1_q\n",
            "To: /content/demos/rigid_body/PickCube-v0/trajectory.json\n",
            "100% 325k/325k [00:00<00:00, 151MB/s]\n",
            "Download completed\n"
          ]
        }
      ]
    },
    {
      "cell_type": "code",
      "source": [
        "# recommended to run this on a separate terminal, this can be fairly slow if you only have a few CPU cores\n",
        "!python -m mani_skill2.trajectory.replay_trajectory --traj-path demos/rigid_body/PickCube-v0/trajectory.h5 --save-traj \\\n",
        "    --target-control-mode pd_ee_delta_pose --obs-mode rgbd --num-procs 2"
      ],
      "metadata": {
        "id": "lpSQ7lgFLjsB"
      },
      "execution_count": null,
      "outputs": []
    },
    {
      "cell_type": "code",
      "source": [
        "# or to skip the slow replay of trajectories you can download a \n",
        "# pre-transformed demonstration dataset with rgbd observations and a pd_ee_delta_pose controller \n",
        "!gdown \"https://drive.google.com/drive/folders/1JzbMYCNjNug61BNBt3b0n__a89SIjS6f?usp=share_link\" --folder -O demos/rigid_body/"
      ],
      "metadata": {
        "id": "1cpKB5Jy69G3",
        "colab": {
          "base_uri": "https://localhost:8080/"
        },
        "outputId": "025c5b0e-df54-4d86-85e1-05d42f8fc100"
      },
      "execution_count": 21,
      "outputs": [
        {
          "output_type": "stream",
          "name": "stdout",
          "text": [
            "Retrieving folder list\n",
            "Processing file 1pxV8OhPRtg1voUsCm2lpvIQRMvZb8o7e trajectory.rgbd.pd_ee_delta_pose.h5\n",
            "Processing file 190kSLEYAAX-ovKFZPpxAXhEujcxBEwm6 trajectory.rgbd.pd_ee_delta_pose.json\n",
            "Retrieving folder list completed\n",
            "Building directory structure\n",
            "Building directory structure completed\n",
            "Downloading...\n",
            "From: https://drive.google.com/uc?id=1pxV8OhPRtg1voUsCm2lpvIQRMvZb8o7e\n",
            "To: /content/demos/rigid_body/PickCube-v0/trajectory.rgbd.pd_ee_delta_pose.h5\n",
            "100% 825M/825M [00:09<00:00, 89.4MB/s]\n",
            "Downloading...\n",
            "From: https://drive.google.com/uc?id=190kSLEYAAX-ovKFZPpxAXhEujcxBEwm6\n",
            "To: /content/demos/rigid_body/PickCube-v0/trajectory.rgbd.pd_ee_delta_pose.json\n",
            "100% 328k/328k [00:00<00:00, 56.8MB/s]\n",
            "Download completed\n"
          ]
        }
      ]
    },
    {
      "cell_type": "markdown",
      "source": [
        "#### 3.2.1 Defining a Dataset to load demonstration data\n",
        "To leverage the dataset, in Pytorch we can create a [Dataset and DataLoader](https://pytorch.org/tutorials/beginner/basics/data_tutorial.html) to make iterating over the data easier. The Dataset loads a desired .h5 demonstration file, as well as re-using the observation wrapper code in `ManiSkillRGBDWrapper` to convert observations to ones that suit our policy.\n",
        "\n",
        "If you want to make your own dataset, be aware of a few caveats of how demonstrations are stored. \n",
        "\n",
        "- For space conservation depth data is scale by `2**10` and stored as `np.uint16`. The code below rescales it back by dividing by `2**10`.\n",
        "- When loading h5py data via `h5py.File(dataset_file, \"r\")` this simply loads a \"reference\" and does not load all the data into memory. To speed up data loading it's recommended to load into memory by using the `load_h5_data` function below. Be wary that this can be very memory intensive"
      ],
      "metadata": {
        "id": "eRjfe8-3Lc2n"
      }
    },
    {
      "cell_type": "code",
      "source": [
        "def load_h5_data(data):\n",
        "    out = dict()\n",
        "    for k in data.keys():\n",
        "        if isinstance(data[k], h5py.Dataset):\n",
        "            out[k] = data[k][:]\n",
        "        else:\n",
        "            out[k] = load_h5_data(data[k])\n",
        "    return out\n",
        "class ManiSkillRGBDDataset(Dataset):\n",
        "    def __init__(self, dataset_file: str, image_size=(128, 128), load_count = -1) -> None:\n",
        "        self.dataset_file = dataset_file\n",
        "        self.image_size = image_size\n",
        "        import h5py\n",
        "        from mani_skill2.utils.io_utils import load_json\n",
        "\n",
        "        # Load the trajectory data from the .h5 file\n",
        "        self.data = h5py.File(dataset_file, \"r\")\n",
        "\n",
        "        # Load associated json\n",
        "        json_path = dataset_file.replace(\".h5\", \".json\")\n",
        "        self.json_data = load_json(json_path)\n",
        "\n",
        "        self.episodes = self.json_data[\"episodes\"] # each episode/demonstration meta data\n",
        "        self.env_info = self.json_data[\"env_info\"]\n",
        "        self.env_id = self.env_info[\"env_id\"]\n",
        "        self.env_kwargs = self.env_info[\"env_kwargs\"]\n",
        "        \n",
        "        def load_h5_data(data):\n",
        "            out = dict()\n",
        "            for k in data.keys():\n",
        "                if isinstance(data[k], h5py.Dataset):\n",
        "                    out[k] = data[k][:]\n",
        "                else:\n",
        "                    out[k] = load_h5_data(data[k])\n",
        "            return out\n",
        "        self.trajectories = []\n",
        "        self.total_frames = 0\n",
        "        if load_count == -1:\n",
        "            load_count = len(self.episodes)\n",
        "        for eps_id in tqdm(range(load_count)):\n",
        "            eps = self.episodes[eps_id]\n",
        "            ep_len = eps[\"elapsed_steps\"]\n",
        "            self.total_frames += 200 # pad each trajectory to 200 so we can easily sample trajectories and frames later\n",
        "            trajectory = self.data[f\"traj_{eps['episode_id']}\"]\n",
        "            \n",
        "            trajectory = load_h5_data(trajectory)\n",
        "            self.trajectories.append(trajectory)\n",
        "\n",
        "    def __len__(self):\n",
        "        return self.total_frames\n",
        "\n",
        "    def __getitem__(self, idx):\n",
        "        # sample frame by uniformally sampling trajectory, then sampling a frame\n",
        "        trajectory_id = idx // 200 # divide by 200, the padded amount\n",
        "        trajectory = self.trajectories[trajectory_id]\n",
        "        frame_id = idx % len(trajectory[\"actions\"])\n",
        "        action = th.from_numpy(trajectory[\"actions\"][frame_id])\n",
        "        def select_index_dict(data, index):\n",
        "            out = dict()\n",
        "            for k in data:\n",
        "                if isinstance(data[k], dict):\n",
        "                    out[k] = select_index_dict(data[k], index)\n",
        "                else:\n",
        "                    out[k] = data[k][index]\n",
        "            return out\n",
        "        obs = select_index_dict(trajectory[\"obs\"], frame_id)\n",
        "        # we can reuse the observation wrapper code here to convert the demonstration dataset observations into ones for the model\n",
        "        obs = ManiSkillRGBDWrapper.convert_observation(obs, image_size=self.image_size)\n",
        "        # for space conservation depth data is stored in uint16 and scaled by 2**10, we transform it back to the right scale here\n",
        "        obs['rgbd'][:,:,3] = obs['rgbd'][:,:,3] / (2**10)\n",
        "        obs['rgbd'][:,:,7] = obs['rgbd'][:,:,7] / (2**10)\n",
        "        for k in obs:\n",
        "            obs[k] = th.from_numpy(obs[k]).float()\n",
        "        return obs, action"
      ],
      "metadata": {
        "id": "4S8O6bKkSFwy"
      },
      "execution_count": 8,
      "outputs": []
    },
    {
      "cell_type": "markdown",
      "source": [
        "#### 3.2.2 Defining a policy\n",
        "\n",
        "With the dataset class created, we can now build our policy that we want to train to imitate the dataset demonstrations. We can build upon our code with building a feature extractor by simply adding a MLP layer on top to predict actions in the action space"
      ],
      "metadata": {
        "id": "4Sctn62mKb4H"
      }
    },
    {
      "cell_type": "code",
      "source": [
        "class Policy(nn.Module):\n",
        "    def __init__(self, observation_space, action_space, hidden_units=[128, 128], activation=nn.ReLU):\n",
        "        super().__init__()\n",
        "        self.feature_extractor = CustomExtractor(observation_space)\n",
        "        mlp_layers = []\n",
        "        prev_units = self.feature_extractor._features_dim\n",
        "        for h in hidden_units[:-1]:\n",
        "            mlp_layers += [nn.Linear(prev_units, h), activation()]\n",
        "            prev_units = h\n",
        "        mlp_layers += [nn.Linear(prev_units, action_space.shape[0]), nn.Tanh()]\n",
        "        self.mlp = nn.Sequential(*mlp_layers)\n",
        "\n",
        "    def forward(self, observations) -> th.Tensor:\n",
        "        features = self.feature_extractor(observations)\n",
        "        return self.mlp(features)"
      ],
      "metadata": {
        "id": "MWEnCDAOK1Nd"
      },
      "execution_count": 9,
      "outputs": []
    },
    {
      "cell_type": "code",
      "source": [
        "# create an evaluation environment that records to logs/videos, as well as give us the observation space and action space\n",
        "env_id = \"PickCube-v0\"\n",
        "eval_env = make_env(env_id, 0, record_dir=\"logs/videos\")()\n",
        "eval_env.reset()\n",
        "\n",
        "policy = Policy(eval_env.observation_space, eval_env.action_space, hidden_units=[256, 128], activation=nn.Tanh)\n",
        "# move model to gpu if possible\n",
        "device = \"cuda\" if th.cuda.is_available() else \"cpu\"\n",
        "policy = policy.to(device)"
      ],
      "metadata": {
        "id": "Y-qmQQ9YLayp"
      },
      "execution_count": 20,
      "outputs": []
    },
    {
      "cell_type": "markdown",
      "source": [
        "#### 3.2.3 Training with Behavior Cloning\n",
        "\n",
        "To train with BC, we simply do a supervised learning task by repeatedly sampling batches of observation action pairs from the dataset and optimizing the policy to predict the actions from observations.\n",
        "\n",
        "We first create a Dataloader object using our Dataset class. Due to the number of demonstrations the dataset loading can take up to 2 minutes to load. Loading all 1000 demonstrations can also take around 14GB of RAM. Set `load_count` to lower than 1000 to limit how many demonstrations are loaded."
      ],
      "metadata": {
        "id": "Gb4mUiDqLUT6"
      }
    },
    {
      "cell_type": "code",
      "source": [
        "dataset = ManiSkillRGBDDataset(dataset_file=\"./demos/rigid_body/PickCube-v0/trajectory.rgbd.pd_ee_delta_pose.h5\", load_count=200)\n",
        "dataloader = DataLoader(dataset, batch_size=256, num_workers=0, pin_memory=True, drop_last=True, shuffle=True)"
      ],
      "metadata": {
        "colab": {
          "base_uri": "https://localhost:8080/",
          "height": 49,
          "referenced_widgets": [
            "4bbf9c9406074ef79806915f24bab739",
            "54241f7833df4179a4730827b80c773a",
            "ae3eb1ebb19346858b304b2100f57f1e",
            "73485cb8cbc348c49488cdbbf903e386",
            "f9c85613d1124ac09aaa23a69e385555",
            "33c584a7626240279ee50e604ab70fe1",
            "f8013782bd294bc7b84df3092f84f5f5",
            "ee5e84e4941a4c638463aa2b95683d8b",
            "a812d49d000c4a7bac3247b6fc89a2ee",
            "cee599e498a1465c8206ca994c42e44f",
            "93baa18066af4dde901d9aca8c89a889"
          ]
        },
        "id": "0MK5jIUZLSzH",
        "outputId": "6c4d7624-fbd4-4c19-fca5-4b6946c481d3"
      },
      "execution_count": 11,
      "outputs": [
        {
          "output_type": "display_data",
          "data": {
            "text/plain": [
              "  0%|          | 0/200 [00:00<?, ?it/s]"
            ],
            "application/vnd.jupyter.widget-view+json": {
              "version_major": 2,
              "version_minor": 0,
              "model_id": "4bbf9c9406074ef79806915f24bab739"
            }
          },
          "metadata": {}
        }
      ]
    },
    {
      "cell_type": "markdown",
      "source": [
        "We can now start training with the code snippet below, which simply repeatedly iterates over batches of data from the dataloader and optimizes the model with Adam."
      ],
      "metadata": {
        "id": "ruBY6vQABn0A"
      }
    },
    {
      "cell_type": "code",
      "source": [
        "iterations = 30000 # @param\n",
        "learning_rate = 1e-4 # @param\n",
        "# create a logger with Tensorboard\n",
        "from torch.utils.tensorboard import SummaryWriter\n",
        "writer = SummaryWriter(\"logs/bc_pickcube\")\n",
        "\n",
        "# create loss function and optimizer\n",
        "loss_fn = nn.MSELoss()\n",
        "optim = th.optim.Adam(policy.parameters(), lr=learning_rate)\n",
        "\n",
        "best_epoch_loss = 9999\n",
        "pbar = tqdm(dataloader, total=iterations)\n",
        "epoch = 0\n",
        "steps = 0\n",
        "\n",
        "# a short save function to save our model\n",
        "def save_model(path):\n",
        "    save_data = dict(\n",
        "        policy=policy.state_dict(),\n",
        "        step=steps,\n",
        "        best_epoch_loss=best_epoch_loss,\n",
        "    )\n",
        "    print(f\"saving model to {path}\")\n",
        "    th.save(save_data, path)\n",
        "\n",
        "while True:\n",
        "    epoch_loss = 0\n",
        "    for batch in dataloader:\n",
        "        steps += 1\n",
        "        optim.zero_grad()\n",
        "        observations, actions = batch\n",
        "        for k in observations:\n",
        "            observations[k] = observations[k].to(device)\n",
        "        actions = actions.to(device)\n",
        "        pred_actions = policy(observations)\n",
        "        \n",
        "        # compute loss and optimize\n",
        "        loss = loss_fn(actions, pred_actions)\n",
        "        loss.backward()\n",
        "        loss_val = loss.item()\n",
        "        optim.step()\n",
        "\n",
        "        # track the loss and print it\n",
        "        writer.add_scalar(\"train/mse_loss\", loss_val, steps)\n",
        "        epoch_loss += loss_val\n",
        "        pbar.set_postfix(dict(loss=loss_val))\n",
        "        pbar.update(1)\n",
        "\n",
        "        # periodically save the policy\n",
        "        if steps % 10000 == 0:\n",
        "            save_model(f\"ckpt_{steps}.pt\")\n",
        "        if steps >= iterations:\n",
        "            # stop after max iterations\n",
        "            break\n",
        "    \n",
        "    epoch_loss = epoch_loss / len(dataloader)\n",
        "\n",
        "    # save a new model if the average MSE loss in an epoch has improved\n",
        "    if epoch_loss < best_epoch_loss:\n",
        "        best_epoch_loss = epoch_loss\n",
        "        print(f\"New best loss {best_epoch_loss}\")\n",
        "        save_model(\"ckpt_best.pt\")\n",
        "    \n",
        "    writer.add_scalar(\"train/mse_loss_epoch\", epoch_loss, epoch)\n",
        "    epoch += 1\n",
        "    if steps >= iterations:\n",
        "        # stop after max iterations\n",
        "        break\n",
        "save_model(\"ckpt_latest.pt\")"
      ],
      "metadata": {
        "id": "WfZVGN-RRQAI",
        "colab": {
          "base_uri": "https://localhost:8080/",
          "height": 338,
          "referenced_widgets": [
            "d0fdaa42e8364074bf55e4ba4bf4d80f",
            "798790c7e8f242e7b4eea8705ad0f156",
            "fffd0d997b6c4fa38b40bb98c9732d1d",
            "71a7e02a1b3e4db091950061d834ca19",
            "33a50921e9c84998a739e408040efa8f",
            "bf2ab2c3f4414d1d977d8ef59eee87ed",
            "b8f3f1a3bd094262a0474512e9dbbb0f",
            "3157cbaff18f4ba4b567168e3b51e96b",
            "4159e990def2410a85f0dd611683521b",
            "bb4904bfada4485bae303dc720b341ab",
            "349bc30ee42b4297ab753929d4ed9eaa"
          ]
        },
        "outputId": "d18c8e4e-1d9e-43d3-86b4-4a865b9e95f5"
      },
      "execution_count": 25,
      "outputs": [
        {
          "output_type": "display_data",
          "data": {
            "text/plain": [
              "  0%|          | 0/30000 [00:00<?, ?it/s]"
            ],
            "application/vnd.jupyter.widget-view+json": {
              "version_major": 2,
              "version_minor": 0,
              "model_id": "d0fdaa42e8364074bf55e4ba4bf4d80f"
            }
          },
          "metadata": {}
        },
        {
          "output_type": "stream",
          "name": "stdout",
          "text": [
            "New best loss 0.06076665640545961\n",
            "saving model to ckpt_best.pt\n",
            "New best loss 0.010997763166251855\n",
            "saving model to ckpt_best.pt\n"
          ]
        },
        {
          "output_type": "error",
          "ename": "KeyboardInterrupt",
          "evalue": "ignored",
          "traceback": [
            "\u001b[0;31m---------------------------------------------------------------------------\u001b[0m",
            "\u001b[0;31mKeyboardInterrupt\u001b[0m                         Traceback (most recent call last)",
            "\u001b[0;32m<ipython-input-25-8c53ed1ce6f3>\u001b[0m in \u001b[0;36m<module>\u001b[0;34m\u001b[0m\n\u001b[1;32m     38\u001b[0m         \u001b[0mloss\u001b[0m \u001b[0;34m=\u001b[0m \u001b[0mloss_fn\u001b[0m\u001b[0;34m(\u001b[0m\u001b[0mactions\u001b[0m\u001b[0;34m,\u001b[0m \u001b[0mpred_actions\u001b[0m\u001b[0;34m)\u001b[0m\u001b[0;34m\u001b[0m\u001b[0;34m\u001b[0m\u001b[0m\n\u001b[1;32m     39\u001b[0m         \u001b[0mloss\u001b[0m\u001b[0;34m.\u001b[0m\u001b[0mbackward\u001b[0m\u001b[0;34m(\u001b[0m\u001b[0;34m)\u001b[0m\u001b[0;34m\u001b[0m\u001b[0;34m\u001b[0m\u001b[0m\n\u001b[0;32m---> 40\u001b[0;31m         \u001b[0mloss_val\u001b[0m \u001b[0;34m=\u001b[0m \u001b[0mloss\u001b[0m\u001b[0;34m.\u001b[0m\u001b[0mitem\u001b[0m\u001b[0;34m(\u001b[0m\u001b[0;34m)\u001b[0m\u001b[0;34m\u001b[0m\u001b[0;34m\u001b[0m\u001b[0m\n\u001b[0m\u001b[1;32m     41\u001b[0m         \u001b[0moptim\u001b[0m\u001b[0;34m.\u001b[0m\u001b[0mstep\u001b[0m\u001b[0;34m(\u001b[0m\u001b[0;34m)\u001b[0m\u001b[0;34m\u001b[0m\u001b[0;34m\u001b[0m\u001b[0m\n\u001b[1;32m     42\u001b[0m \u001b[0;34m\u001b[0m\u001b[0m\n",
            "\u001b[0;31mKeyboardInterrupt\u001b[0m: "
          ]
        }
      ]
    },
    {
      "cell_type": "code",
      "source": [
        "20152 % 200"
      ],
      "metadata": {
        "colab": {
          "base_uri": "https://localhost:8080/"
        },
        "id": "np4PWV2BHWb3",
        "outputId": "b72b5df6-a4eb-445c-e7bf-da6d1c275779"
      },
      "execution_count": 28,
      "outputs": [
        {
          "output_type": "execute_result",
          "data": {
            "text/plain": [
              "152"
            ]
          },
          "metadata": {},
          "execution_count": 28
        }
      ]
    },
    {
      "cell_type": "code",
      "source": [
        "len(dataset)"
      ],
      "metadata": {
        "colab": {
          "base_uri": "https://localhost:8080/"
        },
        "id": "H6SNwFmOHUTV",
        "outputId": "3e9bd131-70cf-4265-b179-fa326a0eeabf"
      },
      "execution_count": 27,
      "outputs": [
        {
          "output_type": "execute_result",
          "data": {
            "text/plain": [
              "20152"
            ]
          },
          "metadata": {},
          "execution_count": 27
        }
      ]
    },
    {
      "cell_type": "markdown",
      "source": [
        "#### 3.2.4 Evaluation\n",
        "\n",
        "We can now intract with the evaluation environment with our trained policy and save videos of the results / watch them if a GUI is available."
      ],
      "metadata": {
        "id": "CteeQl4zFb7A"
      }
    },
    {
      "cell_type": "code",
      "source": [
        "traj_id = 0\n",
        "obs=eval_env.reset(seed=traj_id)\n",
        "policy.eval()\n",
        "for i in range(10000):\n",
        "    # move the observation to GPU\n",
        "    o = dict()\n",
        "    for k in obs:\n",
        "        o[k] = th.from_numpy(obs[k]).float()[None].to(device)\n",
        "    with th.no_grad():\n",
        "        acts = policy(o)\n",
        "        acts = acts.cpu().numpy()[0]\n",
        "    obs, r, d, info = eval_env.step(acts)\n",
        "\n",
        "    if not IN_COLAB: eval_env.render()\n",
        "    info = info\n",
        "    d=d\n",
        "    if info[\"success\"]:\n",
        "        print(\"success\")\n",
        "        print(f\"Episode {traj_id} successful\")\n",
        "        traj_id += 1\n",
        "        obs=eval_env.reset(seed=traj_id)\n",
        "    elif d:\n",
        "        print(f\"Episode {traj_id} unsuccessful\")\n",
        "        traj_id += 1\n",
        "        obs = eval_env.reset(seed=traj_id)"
      ],
      "metadata": {
        "colab": {
          "base_uri": "https://localhost:8080/",
          "height": 486
        },
        "id": "P5_042GwDc9x",
        "outputId": "f21e822f-0947-479b-d700-00354217d12f"
      },
      "execution_count": 26,
      "outputs": [
        {
          "output_type": "stream",
          "name": "stdout",
          "text": [
            "Episode 0 unsuccessful\n",
            "Episode 1 unsuccessful\n",
            "Episode 2 unsuccessful\n",
            "Episode 3 unsuccessful\n",
            "Episode 4 unsuccessful\n",
            "Episode 5 unsuccessful\n"
          ]
        },
        {
          "output_type": "error",
          "ename": "KeyboardInterrupt",
          "evalue": "ignored",
          "traceback": [
            "\u001b[0;31m---------------------------------------------------------------------------\u001b[0m",
            "\u001b[0;31mKeyboardInterrupt\u001b[0m                         Traceback (most recent call last)",
            "\u001b[0;32m<ipython-input-26-cbee983068fb>\u001b[0m in \u001b[0;36m<module>\u001b[0;34m\u001b[0m\n\u001b[1;32m     10\u001b[0m         \u001b[0macts\u001b[0m \u001b[0;34m=\u001b[0m \u001b[0mpolicy\u001b[0m\u001b[0;34m(\u001b[0m\u001b[0mo\u001b[0m\u001b[0;34m)\u001b[0m\u001b[0;34m\u001b[0m\u001b[0;34m\u001b[0m\u001b[0m\n\u001b[1;32m     11\u001b[0m         \u001b[0macts\u001b[0m \u001b[0;34m=\u001b[0m \u001b[0macts\u001b[0m\u001b[0;34m.\u001b[0m\u001b[0mcpu\u001b[0m\u001b[0;34m(\u001b[0m\u001b[0;34m)\u001b[0m\u001b[0;34m.\u001b[0m\u001b[0mnumpy\u001b[0m\u001b[0;34m(\u001b[0m\u001b[0;34m)\u001b[0m\u001b[0;34m[\u001b[0m\u001b[0;36m0\u001b[0m\u001b[0;34m]\u001b[0m\u001b[0;34m\u001b[0m\u001b[0;34m\u001b[0m\u001b[0m\n\u001b[0;32m---> 12\u001b[0;31m     \u001b[0mobs\u001b[0m\u001b[0;34m,\u001b[0m \u001b[0mr\u001b[0m\u001b[0;34m,\u001b[0m \u001b[0md\u001b[0m\u001b[0;34m,\u001b[0m \u001b[0minfo\u001b[0m \u001b[0;34m=\u001b[0m \u001b[0meval_env\u001b[0m\u001b[0;34m.\u001b[0m\u001b[0mstep\u001b[0m\u001b[0;34m(\u001b[0m\u001b[0macts\u001b[0m\u001b[0;34m)\u001b[0m\u001b[0;34m\u001b[0m\u001b[0;34m\u001b[0m\u001b[0m\n\u001b[0m\u001b[1;32m     13\u001b[0m \u001b[0;34m\u001b[0m\u001b[0m\n\u001b[1;32m     14\u001b[0m     \u001b[0;32mif\u001b[0m \u001b[0;32mnot\u001b[0m \u001b[0mIN_COLAB\u001b[0m\u001b[0;34m:\u001b[0m \u001b[0meval_env\u001b[0m\u001b[0;34m.\u001b[0m\u001b[0mrender\u001b[0m\u001b[0;34m(\u001b[0m\u001b[0;34m)\u001b[0m\u001b[0;34m\u001b[0m\u001b[0;34m\u001b[0m\u001b[0m\n",
            "\u001b[0;32m/content/ManiSkill2/mani_skill2/utils/wrappers/record.py\u001b[0m in \u001b[0;36mstep\u001b[0;34m(self, action)\u001b[0m\n\u001b[1;32m    184\u001b[0m \u001b[0;34m\u001b[0m\u001b[0m\n\u001b[1;32m    185\u001b[0m         \u001b[0;32mif\u001b[0m \u001b[0mself\u001b[0m\u001b[0;34m.\u001b[0m\u001b[0msave_video\u001b[0m\u001b[0;34m:\u001b[0m\u001b[0;34m\u001b[0m\u001b[0;34m\u001b[0m\u001b[0m\n\u001b[0;32m--> 186\u001b[0;31m             \u001b[0mimage\u001b[0m \u001b[0;34m=\u001b[0m \u001b[0mself\u001b[0m\u001b[0;34m.\u001b[0m\u001b[0menv\u001b[0m\u001b[0;34m.\u001b[0m\u001b[0mrender\u001b[0m\u001b[0;34m(\u001b[0m\u001b[0mself\u001b[0m\u001b[0;34m.\u001b[0m\u001b[0mrender_mode\u001b[0m\u001b[0;34m)\u001b[0m\u001b[0;34m\u001b[0m\u001b[0;34m\u001b[0m\u001b[0m\n\u001b[0m\u001b[1;32m    187\u001b[0m \u001b[0;34m\u001b[0m\u001b[0m\n\u001b[1;32m    188\u001b[0m             \u001b[0;32mif\u001b[0m \u001b[0mself\u001b[0m\u001b[0;34m.\u001b[0m\u001b[0minfo_on_video\u001b[0m\u001b[0;34m:\u001b[0m\u001b[0;34m\u001b[0m\u001b[0;34m\u001b[0m\u001b[0m\n",
            "\u001b[0;32m/usr/local/lib/python3.8/dist-packages/gym/core.py\u001b[0m in \u001b[0;36mrender\u001b[0;34m(self, mode, **kwargs)\u001b[0m\n\u001b[1;32m    293\u001b[0m \u001b[0;34m\u001b[0m\u001b[0m\n\u001b[1;32m    294\u001b[0m     \u001b[0;32mdef\u001b[0m \u001b[0mrender\u001b[0m\u001b[0;34m(\u001b[0m\u001b[0mself\u001b[0m\u001b[0;34m,\u001b[0m \u001b[0mmode\u001b[0m\u001b[0;34m=\u001b[0m\u001b[0;34m\"human\"\u001b[0m\u001b[0;34m,\u001b[0m \u001b[0;34m**\u001b[0m\u001b[0mkwargs\u001b[0m\u001b[0;34m)\u001b[0m\u001b[0;34m:\u001b[0m\u001b[0;34m\u001b[0m\u001b[0;34m\u001b[0m\u001b[0m\n\u001b[0;32m--> 295\u001b[0;31m         \u001b[0;32mreturn\u001b[0m \u001b[0mself\u001b[0m\u001b[0;34m.\u001b[0m\u001b[0menv\u001b[0m\u001b[0;34m.\u001b[0m\u001b[0mrender\u001b[0m\u001b[0;34m(\u001b[0m\u001b[0mmode\u001b[0m\u001b[0;34m,\u001b[0m \u001b[0;34m**\u001b[0m\u001b[0mkwargs\u001b[0m\u001b[0;34m)\u001b[0m\u001b[0;34m\u001b[0m\u001b[0;34m\u001b[0m\u001b[0m\n\u001b[0m\u001b[1;32m    296\u001b[0m \u001b[0;34m\u001b[0m\u001b[0m\n\u001b[1;32m    297\u001b[0m     \u001b[0;32mdef\u001b[0m \u001b[0mclose\u001b[0m\u001b[0;34m(\u001b[0m\u001b[0mself\u001b[0m\u001b[0;34m)\u001b[0m\u001b[0;34m:\u001b[0m\u001b[0;34m\u001b[0m\u001b[0;34m\u001b[0m\u001b[0m\n",
            "\u001b[0;32m/usr/local/lib/python3.8/dist-packages/gym/core.py\u001b[0m in \u001b[0;36mrender\u001b[0;34m(self, mode, **kwargs)\u001b[0m\n\u001b[1;32m    293\u001b[0m \u001b[0;34m\u001b[0m\u001b[0m\n\u001b[1;32m    294\u001b[0m     \u001b[0;32mdef\u001b[0m \u001b[0mrender\u001b[0m\u001b[0;34m(\u001b[0m\u001b[0mself\u001b[0m\u001b[0;34m,\u001b[0m \u001b[0mmode\u001b[0m\u001b[0;34m=\u001b[0m\u001b[0;34m\"human\"\u001b[0m\u001b[0;34m,\u001b[0m \u001b[0;34m**\u001b[0m\u001b[0mkwargs\u001b[0m\u001b[0;34m)\u001b[0m\u001b[0;34m:\u001b[0m\u001b[0;34m\u001b[0m\u001b[0;34m\u001b[0m\u001b[0m\n\u001b[0;32m--> 295\u001b[0;31m         \u001b[0;32mreturn\u001b[0m \u001b[0mself\u001b[0m\u001b[0;34m.\u001b[0m\u001b[0menv\u001b[0m\u001b[0;34m.\u001b[0m\u001b[0mrender\u001b[0m\u001b[0;34m(\u001b[0m\u001b[0mmode\u001b[0m\u001b[0;34m,\u001b[0m \u001b[0;34m**\u001b[0m\u001b[0mkwargs\u001b[0m\u001b[0;34m)\u001b[0m\u001b[0;34m\u001b[0m\u001b[0;34m\u001b[0m\u001b[0m\n\u001b[0m\u001b[1;32m    296\u001b[0m \u001b[0;34m\u001b[0m\u001b[0m\n\u001b[1;32m    297\u001b[0m     \u001b[0;32mdef\u001b[0m \u001b[0mclose\u001b[0m\u001b[0;34m(\u001b[0m\u001b[0mself\u001b[0m\u001b[0;34m)\u001b[0m\u001b[0;34m:\u001b[0m\u001b[0;34m\u001b[0m\u001b[0;34m\u001b[0m\u001b[0m\n",
            "\u001b[0;32m/content/ManiSkill2/mani_skill2/envs/pick_and_place/pick_cube.py\u001b[0m in \u001b[0;36mrender\u001b[0;34m(self, mode)\u001b[0m\n\u001b[1;32m    111\u001b[0m             \u001b[0mself\u001b[0m\u001b[0;34m.\u001b[0m\u001b[0mgoal_site\u001b[0m\u001b[0;34m.\u001b[0m\u001b[0mhide_visual\u001b[0m\u001b[0;34m(\u001b[0m\u001b[0;34m)\u001b[0m\u001b[0;34m\u001b[0m\u001b[0;34m\u001b[0m\u001b[0m\n\u001b[1;32m    112\u001b[0m         \u001b[0;32melse\u001b[0m\u001b[0;34m:\u001b[0m\u001b[0;34m\u001b[0m\u001b[0;34m\u001b[0m\u001b[0m\n\u001b[0;32m--> 113\u001b[0;31m             \u001b[0mret\u001b[0m \u001b[0;34m=\u001b[0m \u001b[0msuper\u001b[0m\u001b[0;34m(\u001b[0m\u001b[0;34m)\u001b[0m\u001b[0;34m.\u001b[0m\u001b[0mrender\u001b[0m\u001b[0;34m(\u001b[0m\u001b[0mmode\u001b[0m\u001b[0;34m=\u001b[0m\u001b[0mmode\u001b[0m\u001b[0;34m)\u001b[0m\u001b[0;34m\u001b[0m\u001b[0;34m\u001b[0m\u001b[0m\n\u001b[0m\u001b[1;32m    114\u001b[0m         \u001b[0;32mreturn\u001b[0m \u001b[0mret\u001b[0m\u001b[0;34m\u001b[0m\u001b[0;34m\u001b[0m\u001b[0m\n\u001b[1;32m    115\u001b[0m \u001b[0;34m\u001b[0m\u001b[0m\n",
            "\u001b[0;32m/content/ManiSkill2/mani_skill2/envs/sapien_env.py\u001b[0m in \u001b[0;36mrender\u001b[0;34m(self, mode, **kwargs)\u001b[0m\n\u001b[1;32m    622\u001b[0m             \u001b[0;32mreturn\u001b[0m \u001b[0mget_camera_rgb\u001b[0m\u001b[0;34m(\u001b[0m\u001b[0mself\u001b[0m\u001b[0;34m.\u001b[0m\u001b[0mrender_camera\u001b[0m\u001b[0;34m)\u001b[0m\u001b[0;34m\u001b[0m\u001b[0;34m\u001b[0m\u001b[0m\n\u001b[1;32m    623\u001b[0m         \u001b[0;32melif\u001b[0m \u001b[0mmode\u001b[0m \u001b[0;34m==\u001b[0m \u001b[0;34m\"cameras\"\u001b[0m\u001b[0;34m:\u001b[0m\u001b[0;34m\u001b[0m\u001b[0;34m\u001b[0m\u001b[0m\n\u001b[0;32m--> 624\u001b[0;31m             \u001b[0mimages\u001b[0m \u001b[0;34m=\u001b[0m \u001b[0;34m[\u001b[0m\u001b[0mself\u001b[0m\u001b[0;34m.\u001b[0m\u001b[0mrender\u001b[0m\u001b[0;34m(\u001b[0m\u001b[0;34m\"rgb_array\"\u001b[0m\u001b[0;34m)\u001b[0m\u001b[0;34m]\u001b[0m\u001b[0;34m\u001b[0m\u001b[0;34m\u001b[0m\u001b[0m\n\u001b[0m\u001b[1;32m    625\u001b[0m             \u001b[0;31m# NOTE(jigu): Must update renderer again\u001b[0m\u001b[0;34m\u001b[0m\u001b[0;34m\u001b[0m\u001b[0;34m\u001b[0m\u001b[0m\n\u001b[1;32m    626\u001b[0m             \u001b[0;31m# since some visual-only sites like goals should be hidden.\u001b[0m\u001b[0;34m\u001b[0m\u001b[0;34m\u001b[0m\u001b[0;34m\u001b[0m\u001b[0m\n",
            "\u001b[0;32m/content/ManiSkill2/mani_skill2/envs/pick_and_place/pick_cube.py\u001b[0m in \u001b[0;36mrender\u001b[0;34m(self, mode)\u001b[0m\n\u001b[1;32m    108\u001b[0m         \u001b[0;32mif\u001b[0m \u001b[0mmode\u001b[0m \u001b[0;32min\u001b[0m \u001b[0;34m[\u001b[0m\u001b[0;34m\"human\"\u001b[0m\u001b[0;34m,\u001b[0m \u001b[0;34m\"rgb_array\"\u001b[0m\u001b[0;34m]\u001b[0m\u001b[0;34m:\u001b[0m\u001b[0;34m\u001b[0m\u001b[0;34m\u001b[0m\u001b[0m\n\u001b[1;32m    109\u001b[0m             \u001b[0mself\u001b[0m\u001b[0;34m.\u001b[0m\u001b[0mgoal_site\u001b[0m\u001b[0;34m.\u001b[0m\u001b[0munhide_visual\u001b[0m\u001b[0;34m(\u001b[0m\u001b[0;34m)\u001b[0m\u001b[0;34m\u001b[0m\u001b[0;34m\u001b[0m\u001b[0m\n\u001b[0;32m--> 110\u001b[0;31m             \u001b[0mret\u001b[0m \u001b[0;34m=\u001b[0m \u001b[0msuper\u001b[0m\u001b[0;34m(\u001b[0m\u001b[0;34m)\u001b[0m\u001b[0;34m.\u001b[0m\u001b[0mrender\u001b[0m\u001b[0;34m(\u001b[0m\u001b[0mmode\u001b[0m\u001b[0;34m=\u001b[0m\u001b[0mmode\u001b[0m\u001b[0;34m)\u001b[0m\u001b[0;34m\u001b[0m\u001b[0;34m\u001b[0m\u001b[0m\n\u001b[0m\u001b[1;32m    111\u001b[0m             \u001b[0mself\u001b[0m\u001b[0;34m.\u001b[0m\u001b[0mgoal_site\u001b[0m\u001b[0;34m.\u001b[0m\u001b[0mhide_visual\u001b[0m\u001b[0;34m(\u001b[0m\u001b[0;34m)\u001b[0m\u001b[0;34m\u001b[0m\u001b[0;34m\u001b[0m\u001b[0m\n\u001b[1;32m    112\u001b[0m         \u001b[0;32melse\u001b[0m\u001b[0;34m:\u001b[0m\u001b[0;34m\u001b[0m\u001b[0;34m\u001b[0m\u001b[0m\n",
            "\u001b[0;32m/content/ManiSkill2/mani_skill2/envs/sapien_env.py\u001b[0m in \u001b[0;36mrender\u001b[0;34m(self, mode, **kwargs)\u001b[0m\n\u001b[1;32m    620\u001b[0m         \u001b[0;32melif\u001b[0m \u001b[0mmode\u001b[0m \u001b[0;34m==\u001b[0m \u001b[0;34m\"rgb_array\"\u001b[0m\u001b[0;34m:\u001b[0m\u001b[0;34m\u001b[0m\u001b[0;34m\u001b[0m\u001b[0m\n\u001b[1;32m    621\u001b[0m             \u001b[0mself\u001b[0m\u001b[0;34m.\u001b[0m\u001b[0mrender_camera\u001b[0m\u001b[0;34m.\u001b[0m\u001b[0mtake_picture\u001b[0m\u001b[0;34m(\u001b[0m\u001b[0;34m)\u001b[0m\u001b[0;34m\u001b[0m\u001b[0;34m\u001b[0m\u001b[0m\n\u001b[0;32m--> 622\u001b[0;31m             \u001b[0;32mreturn\u001b[0m \u001b[0mget_camera_rgb\u001b[0m\u001b[0;34m(\u001b[0m\u001b[0mself\u001b[0m\u001b[0;34m.\u001b[0m\u001b[0mrender_camera\u001b[0m\u001b[0;34m)\u001b[0m\u001b[0;34m\u001b[0m\u001b[0;34m\u001b[0m\u001b[0m\n\u001b[0m\u001b[1;32m    623\u001b[0m         \u001b[0;32melif\u001b[0m \u001b[0mmode\u001b[0m \u001b[0;34m==\u001b[0m \u001b[0;34m\"cameras\"\u001b[0m\u001b[0;34m:\u001b[0m\u001b[0;34m\u001b[0m\u001b[0;34m\u001b[0m\u001b[0m\n\u001b[1;32m    624\u001b[0m             \u001b[0mimages\u001b[0m \u001b[0;34m=\u001b[0m \u001b[0;34m[\u001b[0m\u001b[0mself\u001b[0m\u001b[0;34m.\u001b[0m\u001b[0mrender\u001b[0m\u001b[0;34m(\u001b[0m\u001b[0;34m\"rgb_array\"\u001b[0m\u001b[0;34m)\u001b[0m\u001b[0;34m]\u001b[0m\u001b[0;34m\u001b[0m\u001b[0;34m\u001b[0m\u001b[0m\n",
            "\u001b[0;32m/content/ManiSkill2/mani_skill2/agents/camera.py\u001b[0m in \u001b[0;36mget_camera_rgb\u001b[0;34m(camera, uint8)\u001b[0m\n\u001b[1;32m     55\u001b[0m \u001b[0;34m\u001b[0m\u001b[0m\n\u001b[1;32m     56\u001b[0m \u001b[0;32mdef\u001b[0m \u001b[0mget_camera_rgb\u001b[0m\u001b[0;34m(\u001b[0m\u001b[0mcamera\u001b[0m\u001b[0;34m:\u001b[0m \u001b[0msapien\u001b[0m\u001b[0;34m.\u001b[0m\u001b[0mCameraEntity\u001b[0m\u001b[0;34m,\u001b[0m \u001b[0muint8\u001b[0m\u001b[0;34m=\u001b[0m\u001b[0;32mTrue\u001b[0m\u001b[0;34m)\u001b[0m\u001b[0;34m:\u001b[0m\u001b[0;34m\u001b[0m\u001b[0;34m\u001b[0m\u001b[0m\n\u001b[0;32m---> 57\u001b[0;31m     \u001b[0mimage\u001b[0m \u001b[0;34m=\u001b[0m \u001b[0mget_texture\u001b[0m\u001b[0;34m(\u001b[0m\u001b[0mcamera\u001b[0m\u001b[0;34m,\u001b[0m \u001b[0;34m\"Color\"\u001b[0m\u001b[0;34m)\u001b[0m\u001b[0;34m[\u001b[0m\u001b[0;34m...\u001b[0m\u001b[0;34m,\u001b[0m \u001b[0;34m:\u001b[0m\u001b[0;36m3\u001b[0m\u001b[0;34m]\u001b[0m  \u001b[0;31m# [H, W, 3]\u001b[0m\u001b[0;34m\u001b[0m\u001b[0;34m\u001b[0m\u001b[0m\n\u001b[0m\u001b[1;32m     58\u001b[0m     \u001b[0;32mif\u001b[0m \u001b[0muint8\u001b[0m\u001b[0;34m:\u001b[0m\u001b[0;34m\u001b[0m\u001b[0;34m\u001b[0m\u001b[0m\n\u001b[1;32m     59\u001b[0m         \u001b[0mimage\u001b[0m \u001b[0;34m=\u001b[0m \u001b[0mnp\u001b[0m\u001b[0;34m.\u001b[0m\u001b[0mclip\u001b[0m\u001b[0;34m(\u001b[0m\u001b[0mimage\u001b[0m \u001b[0;34m*\u001b[0m \u001b[0;36m255\u001b[0m\u001b[0;34m,\u001b[0m \u001b[0;36m0\u001b[0m\u001b[0;34m,\u001b[0m \u001b[0;36m255\u001b[0m\u001b[0;34m)\u001b[0m\u001b[0;34m.\u001b[0m\u001b[0mastype\u001b[0m\u001b[0;34m(\u001b[0m\u001b[0mnp\u001b[0m\u001b[0;34m.\u001b[0m\u001b[0muint8\u001b[0m\u001b[0;34m)\u001b[0m\u001b[0;34m\u001b[0m\u001b[0;34m\u001b[0m\u001b[0m\n",
            "\u001b[0;32m/content/ManiSkill2/mani_skill2/agents/camera.py\u001b[0m in \u001b[0;36mget_texture_naive\u001b[0;34m(camera, name, dtype)\u001b[0m\n\u001b[1;32m     35\u001b[0m     \"\"\"\n\u001b[1;32m     36\u001b[0m     \u001b[0;32mif\u001b[0m \u001b[0mdtype\u001b[0m \u001b[0;34m==\u001b[0m \u001b[0;34m\"float\"\u001b[0m\u001b[0;34m:\u001b[0m\u001b[0;34m\u001b[0m\u001b[0;34m\u001b[0m\u001b[0m\n\u001b[0;32m---> 37\u001b[0;31m         \u001b[0;32mreturn\u001b[0m \u001b[0mcamera\u001b[0m\u001b[0;34m.\u001b[0m\u001b[0mget_float_texture\u001b[0m\u001b[0;34m(\u001b[0m\u001b[0mname\u001b[0m\u001b[0;34m)\u001b[0m\u001b[0;34m\u001b[0m\u001b[0;34m\u001b[0m\u001b[0m\n\u001b[0m\u001b[1;32m     38\u001b[0m     \u001b[0;32melif\u001b[0m \u001b[0mdtype\u001b[0m \u001b[0;34m==\u001b[0m \u001b[0;34m\"uint32\"\u001b[0m\u001b[0;34m:\u001b[0m\u001b[0;34m\u001b[0m\u001b[0;34m\u001b[0m\u001b[0m\n\u001b[1;32m     39\u001b[0m         \u001b[0;32mreturn\u001b[0m \u001b[0mcamera\u001b[0m\u001b[0;34m.\u001b[0m\u001b[0mget_uint32_texture\u001b[0m\u001b[0;34m(\u001b[0m\u001b[0mname\u001b[0m\u001b[0;34m)\u001b[0m\u001b[0;34m\u001b[0m\u001b[0;34m\u001b[0m\u001b[0m\n",
            "\u001b[0;31mKeyboardInterrupt\u001b[0m: "
          ]
        }
      ]
    },
    {
      "cell_type": "code",
      "source": [],
      "metadata": {
        "id": "xNZUFJDjFBHL"
      },
      "execution_count": null,
      "outputs": []
    }
  ]
}